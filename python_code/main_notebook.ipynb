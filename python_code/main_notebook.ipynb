{
 "cells": [
  {
   "cell_type": "code",
   "execution_count": 1,
   "metadata": {},
   "outputs": [],
   "source": [
    "from call_functions import *\n",
    "import plotly.express as px\n",
    "import matplotlib.pyplot as plt\n",
    "import matplotlib.gridspec as gridspec\n",
    "import tikzplotlib"
   ]
  },
  {
   "cell_type": "markdown",
   "metadata": {},
   "source": [
    "## General Setting"
   ]
  },
  {
   "cell_type": "code",
   "execution_count": 2,
   "metadata": {},
   "outputs": [],
   "source": [
    "# ------------------------------\n",
    "# Parameters to tune\n",
    "# ------------------------------\n",
    "\n",
    "x0 = 0\n",
    "L = 2 * np.pi\n",
    "Nx = 2**6 +1\n",
    "Nf = Nx // 2\n",
    "d = 3\n",
    "dt = 1e-3\n",
    "a = 1/2 * np.pi\n",
    "g = 9.80665\n",
    "gain = 1\n",
    "T_start = 0\n",
    "T = 300\n",
    "N_ini_fq = 2**1\n",
    "\n",
    "# ------------------------------\n",
    "# Space discretization\n",
    "# ------------------------------\n",
    "\n",
    "dx = L / Nx\n",
    "Lx = L - dx\n",
    "xspan = np.arange(x0, Lx + dx, dx)\n",
    "frequences = np.fft.fftfreq(Nx, dx) * 2 * np.pi\n",
    "frequences2 = fftfreq(Nx, dx) * 2 * np.pi # same as above\n",
    "\n",
    "# ------------------------------\n",
    "# Time discretization\n",
    "# ------------------------------\n",
    "\n",
    "T_end = T_start + T\n",
    "tspan = np.arange(T_start, T_end + dt, dt)\n",
    "Nt = len(tspan)"
   ]
  },
  {
   "cell_type": "code",
   "execution_count": 3,
   "metadata": {},
   "outputs": [
    {
     "data": {
      "text/plain": [
       "array([  0.,   1.,   2.,   3.,   4.,   5.,   6.,   7.,   8.,   9.,  10.,\n",
       "        11.,  12.,  13.,  14.,  15.,  16.,  17.,  18.,  19.,  20.,  21.,\n",
       "        22.,  23.,  24.,  25.,  26.,  27.,  28.,  29.,  30.,  31.,  32.,\n",
       "       -32., -31., -30., -29., -28., -27., -26., -25., -24., -23., -22.,\n",
       "       -21., -20., -19., -18., -17., -16., -15., -14., -13., -12., -11.,\n",
       "       -10.,  -9.,  -8.,  -7.,  -6.,  -5.,  -4.,  -3.,  -2.,  -1.])"
      ]
     },
     "execution_count": 3,
     "metadata": {},
     "output_type": "execute_result"
    }
   ],
   "source": [
    "frequences"
   ]
  },
  {
   "cell_type": "code",
   "execution_count": 4,
   "metadata": {},
   "outputs": [],
   "source": [
    "# ------------------------------\n",
    "# Matrix computations\n",
    "# ------------------------------\n",
    "\n",
    "# 1) DFT and iDFT Matrices (as well as no mean matrices)\n",
    "DFT = 1 / Nx * getDFT(Nx)\n",
    "iDFT = getiDFT(Nx)\n",
    "\n",
    "# 2) True matrix A not in Fourier\n",
    "O = np.zeros((Nx, Nx))\n",
    "I = np.eye(Nx)\n",
    "G = Matrix_A_dz(Nx, dx, d)\n",
    "_, C = GetC(np.abs(xspan - np.pi) <= a)\n",
    "obs_space = np.abs(xspan - np.pi) <= a\n",
    "C = -np.dot(C.T, C)\n",
    "A = np.block([[O, -g*I], [G, C]])\n",
    "\n",
    "# True matrix A in Fourier\n",
    "fO = np.zeros((2 * Nf + 1, 2 * Nf + 1))\n",
    "fI = -np.eye(2 * Nf + 1)\n",
    "fF = np.diag(np.abs(np.concatenate((np.arange(0, Nf + 1), np.arange(-Nf, 0)))))\n",
    "frequences = fftfreq(Nx, dx) * 2 * np.pi  # Assuming the previously defined fftfreq function\n",
    "fC = np.real(-((a * np.exp((-1j * np.pi) * (frequences.reshape(-1, 1) - frequences))) / np.pi) * np.sinc(a * (frequences.reshape(-1, 1) - frequences) / np.pi))\n",
    "fA = np.block([[fO, g*fI], [fF, fC]])\n",
    "\n",
    "# Matrix that deletes the mean\n",
    "Pi_nm = np.diag(np.concatenate((np.zeros(1),np.ones(Nx-1))))\n",
    "\n",
    "# Matrix that recovers only the mean\n",
    "Pi_m = np.diag(np.concatenate((np.ones(1),np.zeros(Nx-1))))\n",
    "\n",
    "# Modified fA\n",
    "fA_mod_nm = np.block([[fO, g*fI], [fF, Pi_nm @ fC]])\n",
    "\n",
    "# vector with list of all the positive frequencices\n",
    "pos_frequences = frequences[1:int((len(frequences)-1)/2)+1]\n",
    "\n",
    "# Matrix that deletes the mean and the high frequencies\n",
    "Pi_lf = np.diag(np.concatenate((np.zeros(1),(pos_frequences <= N_ini_fq),(pos_frequences <= N_ini_fq)[::-1])))\n",
    "Pi_hf = np.diag(np.concatenate((np.zeros(1),(pos_frequences > N_ini_fq),(pos_frequences > N_ini_fq)[::-1])))\n",
    "\n",
    "# second Modified fA\n",
    "fA_mod_lf = np.block([[fO, g*fI], [fF, Pi_lf @ fC]])"
   ]
  },
  {
   "cell_type": "code",
   "execution_count": 5,
   "metadata": {},
   "outputs": [
    {
     "name": "stdout",
     "output_type": "stream",
     "text": [
      "list of frequences :\n",
      "[  0.   1.   2.   3.   4.   5.   6.   7.   8.   9.  10.  11.  12.  13.\n",
      "  14.  15.  16.  17.  18.  19.  20.  21.  22.  23.  24.  25.  26.  27.\n",
      "  28.  29.  30.  31.  32. -32. -31. -30. -29. -28. -27. -26. -25. -24.\n",
      " -23. -22. -21. -20. -19. -18. -17. -16. -15. -14. -13. -12. -11. -10.\n",
      "  -9.  -8.  -7.  -6.  -5.  -4.  -3.  -2.  -1.]\n",
      "Pi_nm diagonal :\n",
      "[0. 1. 1. 1. 1. 1. 1. 1. 1. 1. 1. 1. 1. 1. 1. 1. 1. 1. 1. 1. 1. 1. 1. 1.\n",
      " 1. 1. 1. 1. 1. 1. 1. 1. 1. 1. 1. 1. 1. 1. 1. 1. 1. 1. 1. 1. 1. 1. 1. 1.\n",
      " 1. 1. 1. 1. 1. 1. 1. 1. 1. 1. 1. 1. 1. 1. 1. 1. 1.]\n",
      "Pi_lf diagonal :\n",
      "[0. 1. 1. 0. 0. 0. 0. 0. 0. 0. 0. 0. 0. 0. 0. 0. 0. 0. 0. 0. 0. 0. 0. 0.\n",
      " 0. 0. 0. 0. 0. 0. 0. 0. 0. 0. 0. 0. 0. 0. 0. 0. 0. 0. 0. 0. 0. 0. 0. 0.\n",
      " 0. 0. 0. 0. 0. 0. 0. 0. 0. 0. 0. 0. 0. 0. 0. 1. 1.]\n",
      "Pi_hf diagonal :\n",
      "[0. 0. 0. 1. 1. 1. 1. 1. 1. 1. 1. 1. 1. 1. 1. 1. 1. 1. 1. 1. 1. 1. 1. 1.\n",
      " 1. 1. 1. 1. 1. 1. 1. 1. 1. 1. 1. 1. 1. 1. 1. 1. 1. 1. 1. 1. 1. 1. 1. 1.\n",
      " 1. 1. 1. 1. 1. 1. 1. 1. 1. 1. 1. 1. 1. 1. 1. 0. 0.]\n"
     ]
    }
   ],
   "source": [
    "# ------------------------------\n",
    "# Print of the projection matrices\n",
    "# ------------------------------\n",
    "\n",
    "print('list of frequences :')\n",
    "print(2 * np.pi * fftfreq(Nx, dx))\n",
    "print('Pi_nm diagonal :')\n",
    "print(np.diag(Pi_nm))\n",
    "print('Pi_lf diagonal :')\n",
    "print(np.diag(Pi_lf))\n",
    "print('Pi_hf diagonal :')\n",
    "print(np.diag(Pi_hf))"
   ]
  },
  {
   "cell_type": "code",
   "execution_count": 6,
   "metadata": {},
   "outputs": [
    {
     "name": "stdout",
     "output_type": "stream",
     "text": [
      "relative error between DFT @ fF @ iDFT and G :\n",
      "4.6236022669657536e-05\n",
      "relative error between DFT @ fC @ iDFT and C :\n",
      "0.13796544907606142\n",
      "relative error between DFT @ fA @ iDFT and A :\n",
      "0.004570316283055709\n"
     ]
    }
   ],
   "source": [
    "# ------------------------------\n",
    "# Test of the error between Fourier and non Fourier Matrices\n",
    "# ------------------------------\n",
    "\n",
    "# Now : DFT @ fF @ iDFT = G\n",
    "\n",
    "print('relative error between DFT @ fF @ iDFT and G :')\n",
    "print(np.linalg.norm(np.real(iDFT @ fF @ DFT) - G)/np.linalg.norm(G))\n",
    "\n",
    "# Now : DFT @ fF @ iDFT = G * np.pi * 2\n",
    "\n",
    "print('relative error between DFT @ fC @ iDFT and C :')\n",
    "print(np.linalg.norm(np.real(iDFT @ fC @ DFT) - C)/np.linalg.norm(C))\n",
    "\n",
    "print('relative error between DFT @ fA @ iDFT and A :')\n",
    "print(np.linalg.norm(np.real(np.kron(np.eye(2),DFT) @ fA @ np.kron(np.eye(2),iDFT)) - A)/np.linalg.norm(A))"
   ]
  },
  {
   "cell_type": "code",
   "execution_count": 7,
   "metadata": {},
   "outputs": [
    {
     "data": {
      "application/vnd.plotly.v1+json": {
       "config": {
        "plotlyServerURL": "https://plot.ly"
       },
       "data": [
        {
         "hovertemplate": "variable=wide_variable_0<br>x=%{x}<br>value=%{y}<extra></extra>",
         "legendgroup": "wide_variable_0",
         "marker": {
          "color": "#636efa",
          "symbol": "circle"
         },
         "mode": "markers",
         "name": "wide_variable_0",
         "orientation": "v",
         "showlegend": true,
         "type": "scatter",
         "x": [
          0,
          1,
          2,
          3,
          4,
          5,
          6,
          7.000000000000001,
          8,
          9,
          10,
          11,
          12,
          12.999999999999998,
          14.000000000000002,
          15,
          16,
          17,
          18,
          19,
          20,
          21,
          22,
          23,
          24,
          25,
          25.999999999999996,
          26.999999999999996,
          28.000000000000004,
          29.000000000000004,
          30,
          31,
          32,
          -32,
          -31,
          -30,
          -29.000000000000004,
          -28.000000000000004,
          -26.999999999999996,
          -25.999999999999996,
          -25,
          -24,
          -23,
          -22,
          -21,
          -20,
          -19,
          -18,
          -17,
          -16,
          -15,
          -14.000000000000002,
          -12.999999999999998,
          -12,
          -11,
          -10,
          -9,
          -8,
          -7.000000000000001,
          -6,
          -5,
          -4,
          -3,
          -2,
          -1
         ],
         "xaxis": "x",
         "y": [
          -0.49230769230769234,
          0.3183408704709114,
          -0.0077013010650477404,
          -0.10619629894925003,
          0.007728386624112205,
          0.06381715238891339,
          -0.007773883722808772,
          -0.0456904423525199,
          0.007838334882444729,
          0.03564815128971194,
          -0.007922521776536408,
          -0.029280897038578165,
          0.00802748883285915,
          0.024892830596152216,
          -0.008154575808546519,
          -0.02169261612963886,
          0.008305461287419063,
          0.019261366703145086,
          -0.008482219835935195,
          -0.01735662101114063,
          0.00868739662891023,
          0.015828333812841013,
          -0.008924104858759559,
          -0.014578697849969787,
          0.009196153386426828,
          0.0135412516558579,
          -0.009508215211536847,
          -0.012669273206514075,
          0.009866051964156176,
          0.011928976640142905,
          -0.010276816613659628,
          -0.01129534296897457,
          0.010749467389260645,
          0.010749467389260945,
          -0.011295342968974867,
          -0.010276816613659628,
          0.011928976640142953,
          0.009866051964155922,
          -0.012669273206514522,
          -0.009508215211536776,
          0.013541251655857596,
          0.009196153386426948,
          -0.01457869784997134,
          -0.008924104858759253,
          0.015828333812841003,
          0.00868739662891033,
          -0.0173566210111409,
          -0.00848221983593526,
          0.019261366703145218,
          0.0083054612874187,
          -0.021692616129638458,
          -0.008154575808545875,
          0.024892830596152233,
          0.008027488832858877,
          -0.02928089703857792,
          -0.007922521776536257,
          0.035648151289711834,
          0.007838334882445402,
          -0.04569044235251996,
          -0.007773883722808532,
          0.06381715238891386,
          0.007728386624111688,
          -0.10619629894924947,
          -0.007701301065045607,
          0.31834087047090953
         ],
         "yaxis": "y"
        },
        {
         "hovertemplate": "variable=wide_variable_1<br>x=%{x}<br>value=%{y}<extra></extra>",
         "legendgroup": "wide_variable_1",
         "marker": {
          "color": "#EF553B",
          "symbol": "circle"
         },
         "mode": "markers",
         "name": "wide_variable_1",
         "orientation": "v",
         "showlegend": true,
         "type": "scatter",
         "x": [
          0,
          1,
          2,
          3,
          4,
          5,
          6,
          7.000000000000001,
          8,
          9,
          10,
          11,
          12,
          12.999999999999998,
          14.000000000000002,
          15,
          16,
          17,
          18,
          19,
          20,
          21,
          22,
          23,
          24,
          25,
          25.999999999999996,
          26.999999999999996,
          28.000000000000004,
          29.000000000000004,
          30,
          31,
          32,
          -32,
          -31,
          -30,
          -29.000000000000004,
          -28.000000000000004,
          -26.999999999999996,
          -25.999999999999996,
          -25,
          -24,
          -23,
          -22,
          -21,
          -20,
          -19,
          -18,
          -17,
          -16,
          -15,
          -14.000000000000002,
          -12.999999999999998,
          -12,
          -11,
          -10,
          -9,
          -8,
          -7.000000000000001,
          -6,
          -5,
          -4,
          -3,
          -2,
          -1
         ],
         "xaxis": "x",
         "y": [
          -0.5,
          0.3183098861837907,
          -1.9490859162596877e-17,
          -0.1061032953945969,
          1.9490859162596877e-17,
          0.06366197723675814,
          -1.9490859162596877e-17,
          -0.04547284088339866,
          1.9490859162596877e-17,
          0.0353677651315323,
          -1.949085916259688e-17,
          -0.028937262380344612,
          1.9490859162596877e-17,
          0.02448537586029159,
          6.128513274758766e-17,
          -0.02122065907891938,
          1.9490859162596877e-17,
          0.018724110951987685,
          -1.9490859162596877e-17,
          -0.016753151904410037,
          1.949085916259688e-17,
          0.015157613627799556,
          -7.089376310544159e-17,
          -0.013839560268860466,
          1.9490859162596877e-17,
          0.012732395447351627,
          -6.298562403731165e-17,
          -0.011789255043844102,
          -6.128513274758766e-17,
          0.01097620297185485,
          -5.718632205401634e-17,
          -0.01026806084463841,
          1.9490859162596877e-17,
          1.9490859162596877e-17,
          -0.01026806084463841,
          -5.718632205401634e-17,
          0.01097620297185485,
          -6.128513274758766e-17,
          -0.011789255043844102,
          -6.298562403731165e-17,
          0.012732395447351627,
          1.9490859162596877e-17,
          -0.013839560268860466,
          -7.089376310544159e-17,
          0.015157613627799556,
          1.949085916259688e-17,
          -0.016753151904410037,
          -1.9490859162596877e-17,
          0.018724110951987685,
          1.9490859162596877e-17,
          -0.02122065907891938,
          6.128513274758766e-17,
          0.02448537586029159,
          1.9490859162596877e-17,
          -0.028937262380344612,
          -1.949085916259688e-17,
          0.0353677651315323,
          1.9490859162596877e-17,
          -0.04547284088339866,
          -1.9490859162596877e-17,
          0.06366197723675814,
          1.9490859162596877e-17,
          -0.1061032953945969,
          -1.9490859162596877e-17,
          0.3183098861837907
         ],
         "yaxis": "y"
        }
       ],
       "layout": {
        "legend": {
         "title": {
          "text": "variable"
         },
         "tracegroupgap": 0
        },
        "margin": {
         "t": 60
        },
        "template": {
         "data": {
          "bar": [
           {
            "error_x": {
             "color": "#2a3f5f"
            },
            "error_y": {
             "color": "#2a3f5f"
            },
            "marker": {
             "line": {
              "color": "#E5ECF6",
              "width": 0.5
             },
             "pattern": {
              "fillmode": "overlay",
              "size": 10,
              "solidity": 0.2
             }
            },
            "type": "bar"
           }
          ],
          "barpolar": [
           {
            "marker": {
             "line": {
              "color": "#E5ECF6",
              "width": 0.5
             },
             "pattern": {
              "fillmode": "overlay",
              "size": 10,
              "solidity": 0.2
             }
            },
            "type": "barpolar"
           }
          ],
          "carpet": [
           {
            "aaxis": {
             "endlinecolor": "#2a3f5f",
             "gridcolor": "white",
             "linecolor": "white",
             "minorgridcolor": "white",
             "startlinecolor": "#2a3f5f"
            },
            "baxis": {
             "endlinecolor": "#2a3f5f",
             "gridcolor": "white",
             "linecolor": "white",
             "minorgridcolor": "white",
             "startlinecolor": "#2a3f5f"
            },
            "type": "carpet"
           }
          ],
          "choropleth": [
           {
            "colorbar": {
             "outlinewidth": 0,
             "ticks": ""
            },
            "type": "choropleth"
           }
          ],
          "contour": [
           {
            "colorbar": {
             "outlinewidth": 0,
             "ticks": ""
            },
            "colorscale": [
             [
              0,
              "#0d0887"
             ],
             [
              0.1111111111111111,
              "#46039f"
             ],
             [
              0.2222222222222222,
              "#7201a8"
             ],
             [
              0.3333333333333333,
              "#9c179e"
             ],
             [
              0.4444444444444444,
              "#bd3786"
             ],
             [
              0.5555555555555556,
              "#d8576b"
             ],
             [
              0.6666666666666666,
              "#ed7953"
             ],
             [
              0.7777777777777778,
              "#fb9f3a"
             ],
             [
              0.8888888888888888,
              "#fdca26"
             ],
             [
              1,
              "#f0f921"
             ]
            ],
            "type": "contour"
           }
          ],
          "contourcarpet": [
           {
            "colorbar": {
             "outlinewidth": 0,
             "ticks": ""
            },
            "type": "contourcarpet"
           }
          ],
          "heatmap": [
           {
            "colorbar": {
             "outlinewidth": 0,
             "ticks": ""
            },
            "colorscale": [
             [
              0,
              "#0d0887"
             ],
             [
              0.1111111111111111,
              "#46039f"
             ],
             [
              0.2222222222222222,
              "#7201a8"
             ],
             [
              0.3333333333333333,
              "#9c179e"
             ],
             [
              0.4444444444444444,
              "#bd3786"
             ],
             [
              0.5555555555555556,
              "#d8576b"
             ],
             [
              0.6666666666666666,
              "#ed7953"
             ],
             [
              0.7777777777777778,
              "#fb9f3a"
             ],
             [
              0.8888888888888888,
              "#fdca26"
             ],
             [
              1,
              "#f0f921"
             ]
            ],
            "type": "heatmap"
           }
          ],
          "heatmapgl": [
           {
            "colorbar": {
             "outlinewidth": 0,
             "ticks": ""
            },
            "colorscale": [
             [
              0,
              "#0d0887"
             ],
             [
              0.1111111111111111,
              "#46039f"
             ],
             [
              0.2222222222222222,
              "#7201a8"
             ],
             [
              0.3333333333333333,
              "#9c179e"
             ],
             [
              0.4444444444444444,
              "#bd3786"
             ],
             [
              0.5555555555555556,
              "#d8576b"
             ],
             [
              0.6666666666666666,
              "#ed7953"
             ],
             [
              0.7777777777777778,
              "#fb9f3a"
             ],
             [
              0.8888888888888888,
              "#fdca26"
             ],
             [
              1,
              "#f0f921"
             ]
            ],
            "type": "heatmapgl"
           }
          ],
          "histogram": [
           {
            "marker": {
             "pattern": {
              "fillmode": "overlay",
              "size": 10,
              "solidity": 0.2
             }
            },
            "type": "histogram"
           }
          ],
          "histogram2d": [
           {
            "colorbar": {
             "outlinewidth": 0,
             "ticks": ""
            },
            "colorscale": [
             [
              0,
              "#0d0887"
             ],
             [
              0.1111111111111111,
              "#46039f"
             ],
             [
              0.2222222222222222,
              "#7201a8"
             ],
             [
              0.3333333333333333,
              "#9c179e"
             ],
             [
              0.4444444444444444,
              "#bd3786"
             ],
             [
              0.5555555555555556,
              "#d8576b"
             ],
             [
              0.6666666666666666,
              "#ed7953"
             ],
             [
              0.7777777777777778,
              "#fb9f3a"
             ],
             [
              0.8888888888888888,
              "#fdca26"
             ],
             [
              1,
              "#f0f921"
             ]
            ],
            "type": "histogram2d"
           }
          ],
          "histogram2dcontour": [
           {
            "colorbar": {
             "outlinewidth": 0,
             "ticks": ""
            },
            "colorscale": [
             [
              0,
              "#0d0887"
             ],
             [
              0.1111111111111111,
              "#46039f"
             ],
             [
              0.2222222222222222,
              "#7201a8"
             ],
             [
              0.3333333333333333,
              "#9c179e"
             ],
             [
              0.4444444444444444,
              "#bd3786"
             ],
             [
              0.5555555555555556,
              "#d8576b"
             ],
             [
              0.6666666666666666,
              "#ed7953"
             ],
             [
              0.7777777777777778,
              "#fb9f3a"
             ],
             [
              0.8888888888888888,
              "#fdca26"
             ],
             [
              1,
              "#f0f921"
             ]
            ],
            "type": "histogram2dcontour"
           }
          ],
          "mesh3d": [
           {
            "colorbar": {
             "outlinewidth": 0,
             "ticks": ""
            },
            "type": "mesh3d"
           }
          ],
          "parcoords": [
           {
            "line": {
             "colorbar": {
              "outlinewidth": 0,
              "ticks": ""
             }
            },
            "type": "parcoords"
           }
          ],
          "pie": [
           {
            "automargin": true,
            "type": "pie"
           }
          ],
          "scatter": [
           {
            "fillpattern": {
             "fillmode": "overlay",
             "size": 10,
             "solidity": 0.2
            },
            "type": "scatter"
           }
          ],
          "scatter3d": [
           {
            "line": {
             "colorbar": {
              "outlinewidth": 0,
              "ticks": ""
             }
            },
            "marker": {
             "colorbar": {
              "outlinewidth": 0,
              "ticks": ""
             }
            },
            "type": "scatter3d"
           }
          ],
          "scattercarpet": [
           {
            "marker": {
             "colorbar": {
              "outlinewidth": 0,
              "ticks": ""
             }
            },
            "type": "scattercarpet"
           }
          ],
          "scattergeo": [
           {
            "marker": {
             "colorbar": {
              "outlinewidth": 0,
              "ticks": ""
             }
            },
            "type": "scattergeo"
           }
          ],
          "scattergl": [
           {
            "marker": {
             "colorbar": {
              "outlinewidth": 0,
              "ticks": ""
             }
            },
            "type": "scattergl"
           }
          ],
          "scattermapbox": [
           {
            "marker": {
             "colorbar": {
              "outlinewidth": 0,
              "ticks": ""
             }
            },
            "type": "scattermapbox"
           }
          ],
          "scatterpolar": [
           {
            "marker": {
             "colorbar": {
              "outlinewidth": 0,
              "ticks": ""
             }
            },
            "type": "scatterpolar"
           }
          ],
          "scatterpolargl": [
           {
            "marker": {
             "colorbar": {
              "outlinewidth": 0,
              "ticks": ""
             }
            },
            "type": "scatterpolargl"
           }
          ],
          "scatterternary": [
           {
            "marker": {
             "colorbar": {
              "outlinewidth": 0,
              "ticks": ""
             }
            },
            "type": "scatterternary"
           }
          ],
          "surface": [
           {
            "colorbar": {
             "outlinewidth": 0,
             "ticks": ""
            },
            "colorscale": [
             [
              0,
              "#0d0887"
             ],
             [
              0.1111111111111111,
              "#46039f"
             ],
             [
              0.2222222222222222,
              "#7201a8"
             ],
             [
              0.3333333333333333,
              "#9c179e"
             ],
             [
              0.4444444444444444,
              "#bd3786"
             ],
             [
              0.5555555555555556,
              "#d8576b"
             ],
             [
              0.6666666666666666,
              "#ed7953"
             ],
             [
              0.7777777777777778,
              "#fb9f3a"
             ],
             [
              0.8888888888888888,
              "#fdca26"
             ],
             [
              1,
              "#f0f921"
             ]
            ],
            "type": "surface"
           }
          ],
          "table": [
           {
            "cells": {
             "fill": {
              "color": "#EBF0F8"
             },
             "line": {
              "color": "white"
             }
            },
            "header": {
             "fill": {
              "color": "#C8D4E3"
             },
             "line": {
              "color": "white"
             }
            },
            "type": "table"
           }
          ]
         },
         "layout": {
          "annotationdefaults": {
           "arrowcolor": "#2a3f5f",
           "arrowhead": 0,
           "arrowwidth": 1
          },
          "autotypenumbers": "strict",
          "coloraxis": {
           "colorbar": {
            "outlinewidth": 0,
            "ticks": ""
           }
          },
          "colorscale": {
           "diverging": [
            [
             0,
             "#8e0152"
            ],
            [
             0.1,
             "#c51b7d"
            ],
            [
             0.2,
             "#de77ae"
            ],
            [
             0.3,
             "#f1b6da"
            ],
            [
             0.4,
             "#fde0ef"
            ],
            [
             0.5,
             "#f7f7f7"
            ],
            [
             0.6,
             "#e6f5d0"
            ],
            [
             0.7,
             "#b8e186"
            ],
            [
             0.8,
             "#7fbc41"
            ],
            [
             0.9,
             "#4d9221"
            ],
            [
             1,
             "#276419"
            ]
           ],
           "sequential": [
            [
             0,
             "#0d0887"
            ],
            [
             0.1111111111111111,
             "#46039f"
            ],
            [
             0.2222222222222222,
             "#7201a8"
            ],
            [
             0.3333333333333333,
             "#9c179e"
            ],
            [
             0.4444444444444444,
             "#bd3786"
            ],
            [
             0.5555555555555556,
             "#d8576b"
            ],
            [
             0.6666666666666666,
             "#ed7953"
            ],
            [
             0.7777777777777778,
             "#fb9f3a"
            ],
            [
             0.8888888888888888,
             "#fdca26"
            ],
            [
             1,
             "#f0f921"
            ]
           ],
           "sequentialminus": [
            [
             0,
             "#0d0887"
            ],
            [
             0.1111111111111111,
             "#46039f"
            ],
            [
             0.2222222222222222,
             "#7201a8"
            ],
            [
             0.3333333333333333,
             "#9c179e"
            ],
            [
             0.4444444444444444,
             "#bd3786"
            ],
            [
             0.5555555555555556,
             "#d8576b"
            ],
            [
             0.6666666666666666,
             "#ed7953"
            ],
            [
             0.7777777777777778,
             "#fb9f3a"
            ],
            [
             0.8888888888888888,
             "#fdca26"
            ],
            [
             1,
             "#f0f921"
            ]
           ]
          },
          "colorway": [
           "#636efa",
           "#EF553B",
           "#00cc96",
           "#ab63fa",
           "#FFA15A",
           "#19d3f3",
           "#FF6692",
           "#B6E880",
           "#FF97FF",
           "#FECB52"
          ],
          "font": {
           "color": "#2a3f5f"
          },
          "geo": {
           "bgcolor": "white",
           "lakecolor": "white",
           "landcolor": "#E5ECF6",
           "showlakes": true,
           "showland": true,
           "subunitcolor": "white"
          },
          "hoverlabel": {
           "align": "left"
          },
          "hovermode": "closest",
          "mapbox": {
           "style": "light"
          },
          "paper_bgcolor": "white",
          "plot_bgcolor": "#E5ECF6",
          "polar": {
           "angularaxis": {
            "gridcolor": "white",
            "linecolor": "white",
            "ticks": ""
           },
           "bgcolor": "#E5ECF6",
           "radialaxis": {
            "gridcolor": "white",
            "linecolor": "white",
            "ticks": ""
           }
          },
          "scene": {
           "xaxis": {
            "backgroundcolor": "#E5ECF6",
            "gridcolor": "white",
            "gridwidth": 2,
            "linecolor": "white",
            "showbackground": true,
            "ticks": "",
            "zerolinecolor": "white"
           },
           "yaxis": {
            "backgroundcolor": "#E5ECF6",
            "gridcolor": "white",
            "gridwidth": 2,
            "linecolor": "white",
            "showbackground": true,
            "ticks": "",
            "zerolinecolor": "white"
           },
           "zaxis": {
            "backgroundcolor": "#E5ECF6",
            "gridcolor": "white",
            "gridwidth": 2,
            "linecolor": "white",
            "showbackground": true,
            "ticks": "",
            "zerolinecolor": "white"
           }
          },
          "shapedefaults": {
           "line": {
            "color": "#2a3f5f"
           }
          },
          "ternary": {
           "aaxis": {
            "gridcolor": "white",
            "linecolor": "white",
            "ticks": ""
           },
           "baxis": {
            "gridcolor": "white",
            "linecolor": "white",
            "ticks": ""
           },
           "bgcolor": "#E5ECF6",
           "caxis": {
            "gridcolor": "white",
            "linecolor": "white",
            "ticks": ""
           }
          },
          "title": {
           "x": 0.05
          },
          "xaxis": {
           "automargin": true,
           "gridcolor": "white",
           "linecolor": "white",
           "ticks": "",
           "title": {
            "standoff": 15
           },
           "zerolinecolor": "white",
           "zerolinewidth": 2
          },
          "yaxis": {
           "automargin": true,
           "gridcolor": "white",
           "linecolor": "white",
           "ticks": "",
           "title": {
            "standoff": 15
           },
           "zerolinecolor": "white",
           "zerolinewidth": 2
          }
         }
        },
        "xaxis": {
         "anchor": "y",
         "domain": [
          0,
          1
         ],
         "title": {
          "text": "x"
         }
        },
        "yaxis": {
         "anchor": "x",
         "domain": [
          0,
          1
         ],
         "title": {
          "text": "value"
         }
        }
       }
      }
     },
     "metadata": {},
     "output_type": "display_data"
    }
   ],
   "source": [
    "# Comparaison between the C and fC matrices (first row, sinus cardinal vs indicatrice in Fourier space)\n",
    "px.scatter(x=frequences,y=[np.real(iDFT @ C @ DFT)[0,:],fC[0,:]])"
   ]
  },
  {
   "cell_type": "code",
   "execution_count": 8,
   "metadata": {},
   "outputs": [
    {
     "name": "stdout",
     "output_type": "stream",
     "text": [
      "freqs : [  0.   1.   2.   3.   4.   5.   6.   7.   8.   9.  10.  11.  12.  13.\n",
      "  14.  15.  16.  17.  18.  19.  20.  21.  22.  23.  24.  25.  26.  27.\n",
      "  28.  29.  30.  31.  32. -32. -31. -30. -29. -28. -27. -26. -25. -24.\n",
      " -23. -22. -21. -20. -19. -18. -17. -16. -15. -14. -13. -12. -11. -10.\n",
      "  -9.  -8.  -7.  -6.  -5.  -4.  -3.  -2.  -1.]\n",
      "real DFT : [ 0.  0. -0. -0. -0.  0. -0.  0.  0.  0.  0. -0.  0. -0.  0.  0.  0.  0.\n",
      "  0. -0. -0. -0. -0. -0. -0. -0. -0. -0. -0.  0. -0.  0.  0.  0.  0. -0.\n",
      "  0.  0.  0.  0.  0.  0. -0.  0. -0.  0. -0.  0.  0.  0. -0.  0.  0. -0.\n",
      "  0. -0. -0.  0. -0. -0. -0. -0.  0. -0. -0.]\n",
      "imag DFT : [ 0.  -0.5 -0.  -0.   0.   0.   0.  -0.  -0.  -0.  -0.  -0.   0.   0.\n",
      "  0.   0.  -0.   0.   0.   0.   0.   0.   0.   0.  -0.   0.   0.  -0.\n",
      "  0.  -0.   0.  -0.   0.  -0.   0.   0.   0.   0.   0.  -0.   0.  -0.\n",
      " -0.  -0.  -0.   0.  -0.   0.   0.  -0.  -0.   0.   0.   0.   0.   0.\n",
      " -0.   0.  -0.   0.   0.   0.   0.   0.   0.5]\n",
      "freqs : [  0.   1.   2.   3.   4.   5.   6.   7.   8.   9.  10.  11.  12.  13.\n",
      "  14.  15.  16.  17.  18.  19.  20.  21.  22.  23.  24.  25.  26.  27.\n",
      "  28.  29.  30.  31.  32. -32. -31. -30. -29. -28. -27. -26. -25. -24.\n",
      " -23. -22. -21. -20. -19. -18. -17. -16. -15. -14. -13. -12. -11. -10.\n",
      "  -9.  -8.  -7.  -6.  -5.  -4.  -3.  -2.  -1.]\n",
      "real ifft : [-0. -0.  0.  0. -0.  0. -0. -0.  0.  0.  0.  0.  0. -0. -0. -0.  0. -0.\n",
      "  0.  0.  0.  0.  0. -0.  0. -0.  0. -0. -0. -0.  0. -0.  0.  0. -0.  0.\n",
      " -0. -0. -0.  0. -0.  0. -0.  0.  0.  0.  0.  0. -0.  0. -0. -0. -0.  0.\n",
      "  0.  0.  0.  0. -0. -0.  0. -0.  0.  0. -0.]\n",
      "imag ifft : [  0.  -32.5  -0.   -0.    0.   -0.   -0.   -0.   -0.    0.   -0.   -0.\n",
      "  -0.    0.    0.   -0.   -0.   -0.   -0.   -0.    0.   -0.    0.    0.\n",
      "   0.    0.    0.    0.    0.    0.   -0.    0.   -0.    0.   -0.    0.\n",
      "   0.   -0.   -0.    0.   -0.    0.   -0.   -0.   -0.   -0.   -0.    0.\n",
      "   0.    0.    0.   -0.   -0.    0.    0.    0.   -0.    0.    0.    0.\n",
      "   0.    0.    0.    0.   32.5]\n"
     ]
    }
   ],
   "source": [
    "# ------------------------------\n",
    "# Test for the frequences in a sinus function\n",
    "# ------------------------------\n",
    "\n",
    "def f(x):\n",
    "    return np.sin(x)\n",
    "\n",
    "print('freqs :',frequences)\n",
    "print('real DFT :',(np.real(DFT @ f(xspan))) * (abs(np.real(DFT @ f(xspan))) > 1e-10))\n",
    "print('imag DFT :',(np.imag(DFT @ f(xspan))) * (abs(np.imag(DFT @ f(xspan))) > 1e-10))\n",
    "print('freqs :',frequences)\n",
    "print('real ifft :',(np.real(np.fft.fft(f(xspan)))) * (abs(np.real(np.fft.fft(f(xspan)))) > 1e-10))\n",
    "print('imag ifft :',(np.imag(np.fft.fft(f(xspan)))) * (abs(np.imag(np.fft.fft(f(xspan)))) > 1e-10))"
   ]
  },
  {
   "cell_type": "code",
   "execution_count": 9,
   "metadata": {},
   "outputs": [
    {
     "name": "stdout",
     "output_type": "stream",
     "text": [
      "number of frequences in initial condition X0_sin :\n",
      "4\n",
      "number of positive frequences in initial condition X0_sin :\n",
      "2\n",
      "number of negative frequences in initial condition X0_sin :\n",
      "2\n"
     ]
    }
   ],
   "source": [
    "# ------------------------------\n",
    "# Random initial condition\n",
    "# ------------------------------\n",
    "\n",
    "# def create_Fourier_X0(nb_sin, nb_cos, Nx, dx):\n",
    "#     frequences = fftfreq(Nx, dx) * 2 * np.pi\n",
    "#     pos_frequences = frequences[1:int((len(frequences)-1)/2)+1]\n",
    "#     sin_pos = np.random.rand(pos_frequences.shape[0]) * (pos_frequences <= nb_sin)\n",
    "#     cos_pos = np.random.rand(pos_frequences.shape[0]) * (pos_frequences <= nb_cos)\n",
    "#     X0 = np.concatenate((np.zeros(1),-sin_pos,sin_pos[::-1]))*1j + np.concatenate((np.zeros(1),cos_pos,cos_pos[::-1]))\n",
    "#     return X0\n",
    "\n",
    "# initial condition with N_ini_fq sinus\n",
    "X0_sin = create_Fourier_X0(N_ini_fq,0, Nx, dx)\n",
    "# initial condition with N_ini_fq cosinus\n",
    "X0_cos = create_Fourier_X0(0,N_ini_fq, Nx, dx)\n",
    "# initial condition with N_ini_fq sinus and N_ini_fq cosinus\n",
    "X0_mix = create_Fourier_X0(N_ini_fq,N_ini_fq, Nx, dx)\n",
    "\n",
    "print('number of frequences in initial condition X0_sin :')\n",
    "print(sum(abs(X0_sin) > 0))\n",
    "print('number of positive frequences in initial condition X0_sin :')\n",
    "print(sum((abs(X0_sin) > 0) * (frequences > 0)))\n",
    "print('number of negative frequences in initial condition X0_sin :')\n",
    "print(sum((abs(X0_sin) > 0) * (frequences < 0)))"
   ]
  },
  {
   "cell_type": "code",
   "execution_count": 10,
   "metadata": {},
   "outputs": [
    {
     "name": "stdout",
     "output_type": "stream",
     "text": [
      "mean of X0 : 0j\n"
     ]
    },
    {
     "data": {
      "application/vnd.plotly.v1+json": {
       "config": {
        "plotlyServerURL": "https://plot.ly"
       },
       "data": [
        {
         "hovertemplate": "variable=wide_variable_0<br>x=%{x}<br>value=%{y}<extra></extra>",
         "legendgroup": "wide_variable_0",
         "line": {
          "color": "#636efa",
          "dash": "solid"
         },
         "marker": {
          "symbol": "circle"
         },
         "mode": "lines",
         "name": "wide_variable_0",
         "orientation": "v",
         "showlegend": true,
         "type": "scatter",
         "x": [
          0,
          0.0966643893412244,
          0.1933287786824488,
          0.2899931680236732,
          0.3866575573648976,
          0.483321946706122,
          0.5799863360473464,
          0.6766507253885707,
          0.7733151147297952,
          0.8699795040710196,
          0.966643893412244,
          1.0633082827534683,
          1.1599726720946928,
          1.2566370614359172,
          1.3533014507771415,
          1.449965840118366,
          1.5466302294595904,
          1.6432946188008148,
          1.7399590081420393,
          1.8366233974832635,
          1.933287786824488,
          2.0299521761657124,
          2.1266165655069367,
          2.2232809548481614,
          2.3199453441893856,
          2.41660973353061,
          2.5132741228718345,
          2.6099385122130587,
          2.706602901554283,
          2.8032672908955076,
          2.899931680236732,
          2.9965960695779565,
          3.0932604589191808,
          3.189924848260405,
          3.2865892376016297,
          3.383253626942854,
          3.4799180162840786,
          3.576582405625303,
          3.673246794966527,
          3.7699111843077517,
          3.866575573648976,
          3.9632399629902,
          4.059904352331425,
          4.15656874167265,
          4.253233131013873,
          4.349897520355098,
          4.446561909696323,
          4.5432262990375465,
          4.639890688378771,
          4.736555077719996,
          4.83321946706122,
          4.929883856402444,
          5.026548245743669,
          5.123212635084893,
          5.2198770244261175,
          5.316541413767342,
          5.413205803108566,
          5.509870192449791,
          5.606534581791015,
          5.70319897113224,
          5.799863360473464,
          5.896527749814688,
          5.993192139155913,
          6.089856528497137,
          6.1865209178383616
         ],
         "xaxis": "x",
         "y": [
          0,
          0.10370331422231986,
          0.20619242507353777,
          0.3062736300364325,
          0.40279369543614435,
          0.4946587763956032,
          0.5808518083464046,
          0.6604479402433597,
          0.7326276441699792,
          0.7966872122145627,
          0.8520464366002302,
          0.8982533600107862,
          0.9349860766091037,
          0.962051657055718,
          0.9793823596039393,
          0.9870293709381894,
          0.985154391976752,
          0.974019442903822,
          0.9539753062272887,
          0.9254490552223548,
          0.8889311268599092,
          0.8449623930035877,
          0.7941216616969466,
          0.7370140027759645,
          0.6742602404339564,
          0.6064878918542667,
          0.5343237581634447,
          0.4583882946371137,
          0.37929180443300603,
          0.2976324173630052,
          0.21399573557153803,
          0.12895595455067402,
          0.04307820353450075,
          -0.043078203534520555,
          -0.12895595455067987,
          -0.21399573557155735,
          -0.2976324173630108,
          -0.37929180443302424,
          -0.458388294637131,
          -0.5343237581634498,
          -0.6064878918542819,
          -0.6742602404339703,
          -0.7370140027759685,
          -0.7941216616969501,
          -0.8449623930035968,
          -0.888931126859914,
          -0.9254490552223567,
          -0.9539753062272922,
          -0.9740194429038229,
          -0.9851543919767517,
          -0.9870293709381859,
          -0.9793823596039345,
          -0.9620516570557153,
          -0.9349860766090919,
          -0.8982533600107752,
          -0.8520464366002232,
          -0.7966872122145435,
          -0.7326276441699628,
          -0.6604479402433473,
          -0.5808518083464002,
          -0.49465877639558137,
          -0.40279369543612975,
          -0.30627363003642577,
          -0.20619242507351224,
          -0.10370331422230243
         ],
         "yaxis": "y"
        },
        {
         "hovertemplate": "variable=wide_variable_1<br>x=%{x}<br>value=%{y}<extra></extra>",
         "legendgroup": "wide_variable_1",
         "line": {
          "color": "#EF553B",
          "dash": "solid"
         },
         "marker": {
          "symbol": "circle"
         },
         "mode": "lines",
         "name": "wide_variable_1",
         "orientation": "v",
         "showlegend": true,
         "type": "scatter",
         "x": [
          0,
          0.0966643893412244,
          0.1933287786824488,
          0.2899931680236732,
          0.3866575573648976,
          0.483321946706122,
          0.5799863360473464,
          0.6766507253885707,
          0.7733151147297952,
          0.8699795040710196,
          0.966643893412244,
          1.0633082827534683,
          1.1599726720946928,
          1.2566370614359172,
          1.3533014507771415,
          1.449965840118366,
          1.5466302294595904,
          1.6432946188008148,
          1.7399590081420393,
          1.8366233974832635,
          1.933287786824488,
          2.0299521761657124,
          2.1266165655069367,
          2.2232809548481614,
          2.3199453441893856,
          2.41660973353061,
          2.5132741228718345,
          2.6099385122130587,
          2.706602901554283,
          2.8032672908955076,
          2.899931680236732,
          2.9965960695779565,
          3.0932604589191808,
          3.189924848260405,
          3.2865892376016297,
          3.383253626942854,
          3.4799180162840786,
          3.576582405625303,
          3.673246794966527,
          3.7699111843077517,
          3.866575573648976,
          3.9632399629902,
          4.059904352331425,
          4.15656874167265,
          4.253233131013873,
          4.349897520355098,
          4.446561909696323,
          4.5432262990375465,
          4.639890688378771,
          4.736555077719996,
          4.83321946706122,
          4.929883856402444,
          5.026548245743669,
          5.123212635084893,
          5.2198770244261175,
          5.316541413767342,
          5.413205803108566,
          5.509870192449791,
          5.606534581791015,
          5.70319897113224,
          5.799863360473464,
          5.896527749814688,
          5.993192139155913,
          6.089856528497137,
          6.1865209178383616
         ],
         "xaxis": "x",
         "y": [
          0,
          -8.394994754627533e-16,
          -1.5299144662785346e-16,
          -3.4356460874885883e-16,
          -5.421974713047875e-16,
          -7.585428352207779e-16,
          -1.0328203637045392e-15,
          -2.378968388653282e-15,
          -1.7599591497750368e-15,
          -7.747116373454333e-16,
          -2.441656479845109e-15,
          -4.3451286290758975e-15,
          -3.174452016856627e-15,
          -1.8085328769558545e-15,
          -7.138147434249735e-15,
          -5.736175881185789e-15,
          -4.24716457036101e-15,
          -2.650478106777416e-15,
          -1.070098235508996e-15,
          -6.245488781844284e-15,
          -4.545966581675532e-15,
          -2.8901839104491652e-15,
          -7.241111758755889e-15,
          1.4274785718121452e-17,
          -3.992744068402285e-15,
          -7.08144011776012e-15,
          -1.141582352710235e-15,
          -3.686164414651574e-15,
          -5.194928503231146e-15,
          -1.0971279493375386e-15,
          -1.9997975425863214e-15,
          2.623906803689461e-16,
          1.4003954308001352e-16,
          1.1206179370772296e-15,
          1.1846645739100906e-15,
          2.9058877766245726e-15,
          9.111599422137102e-16,
          3.4166124854932085e-15,
          6.8356777928773105e-15,
          2.7742134084207304e-15,
          6.822502015977391e-15,
          1.1494950191610108e-14,
          5.733073928824187e-15,
          -9.74650034603415e-16,
          1.636911945079893e-14,
          9.204477728084003e-15,
          1.3679605177582093e-15,
          2.0670357877480565e-14,
          1.2606897506875107e-14,
          4.260703705539313e-15,
          2.3693797154012397e-14,
          1.5125330770813742e-14,
          6.732023814861648e-15,
          2.4446016869431908e-14,
          1.5935256689929214e-14,
          7.960208094403566e-15,
          2.2458116702346446e-14,
          1.4541204767397544e-14,
          7.642698174651027e-15,
          1.9461594746179588e-15,
          1.0569320098202125e-14,
          5.161128526125684e-15,
          1.2088853929098178e-15,
          4.1774536325535114e-15,
          7.045704785214822e-16
         ],
         "yaxis": "y"
        }
       ],
       "layout": {
        "legend": {
         "title": {
          "text": "variable"
         },
         "tracegroupgap": 0
        },
        "margin": {
         "t": 60
        },
        "template": {
         "data": {
          "bar": [
           {
            "error_x": {
             "color": "#2a3f5f"
            },
            "error_y": {
             "color": "#2a3f5f"
            },
            "marker": {
             "line": {
              "color": "#E5ECF6",
              "width": 0.5
             },
             "pattern": {
              "fillmode": "overlay",
              "size": 10,
              "solidity": 0.2
             }
            },
            "type": "bar"
           }
          ],
          "barpolar": [
           {
            "marker": {
             "line": {
              "color": "#E5ECF6",
              "width": 0.5
             },
             "pattern": {
              "fillmode": "overlay",
              "size": 10,
              "solidity": 0.2
             }
            },
            "type": "barpolar"
           }
          ],
          "carpet": [
           {
            "aaxis": {
             "endlinecolor": "#2a3f5f",
             "gridcolor": "white",
             "linecolor": "white",
             "minorgridcolor": "white",
             "startlinecolor": "#2a3f5f"
            },
            "baxis": {
             "endlinecolor": "#2a3f5f",
             "gridcolor": "white",
             "linecolor": "white",
             "minorgridcolor": "white",
             "startlinecolor": "#2a3f5f"
            },
            "type": "carpet"
           }
          ],
          "choropleth": [
           {
            "colorbar": {
             "outlinewidth": 0,
             "ticks": ""
            },
            "type": "choropleth"
           }
          ],
          "contour": [
           {
            "colorbar": {
             "outlinewidth": 0,
             "ticks": ""
            },
            "colorscale": [
             [
              0,
              "#0d0887"
             ],
             [
              0.1111111111111111,
              "#46039f"
             ],
             [
              0.2222222222222222,
              "#7201a8"
             ],
             [
              0.3333333333333333,
              "#9c179e"
             ],
             [
              0.4444444444444444,
              "#bd3786"
             ],
             [
              0.5555555555555556,
              "#d8576b"
             ],
             [
              0.6666666666666666,
              "#ed7953"
             ],
             [
              0.7777777777777778,
              "#fb9f3a"
             ],
             [
              0.8888888888888888,
              "#fdca26"
             ],
             [
              1,
              "#f0f921"
             ]
            ],
            "type": "contour"
           }
          ],
          "contourcarpet": [
           {
            "colorbar": {
             "outlinewidth": 0,
             "ticks": ""
            },
            "type": "contourcarpet"
           }
          ],
          "heatmap": [
           {
            "colorbar": {
             "outlinewidth": 0,
             "ticks": ""
            },
            "colorscale": [
             [
              0,
              "#0d0887"
             ],
             [
              0.1111111111111111,
              "#46039f"
             ],
             [
              0.2222222222222222,
              "#7201a8"
             ],
             [
              0.3333333333333333,
              "#9c179e"
             ],
             [
              0.4444444444444444,
              "#bd3786"
             ],
             [
              0.5555555555555556,
              "#d8576b"
             ],
             [
              0.6666666666666666,
              "#ed7953"
             ],
             [
              0.7777777777777778,
              "#fb9f3a"
             ],
             [
              0.8888888888888888,
              "#fdca26"
             ],
             [
              1,
              "#f0f921"
             ]
            ],
            "type": "heatmap"
           }
          ],
          "heatmapgl": [
           {
            "colorbar": {
             "outlinewidth": 0,
             "ticks": ""
            },
            "colorscale": [
             [
              0,
              "#0d0887"
             ],
             [
              0.1111111111111111,
              "#46039f"
             ],
             [
              0.2222222222222222,
              "#7201a8"
             ],
             [
              0.3333333333333333,
              "#9c179e"
             ],
             [
              0.4444444444444444,
              "#bd3786"
             ],
             [
              0.5555555555555556,
              "#d8576b"
             ],
             [
              0.6666666666666666,
              "#ed7953"
             ],
             [
              0.7777777777777778,
              "#fb9f3a"
             ],
             [
              0.8888888888888888,
              "#fdca26"
             ],
             [
              1,
              "#f0f921"
             ]
            ],
            "type": "heatmapgl"
           }
          ],
          "histogram": [
           {
            "marker": {
             "pattern": {
              "fillmode": "overlay",
              "size": 10,
              "solidity": 0.2
             }
            },
            "type": "histogram"
           }
          ],
          "histogram2d": [
           {
            "colorbar": {
             "outlinewidth": 0,
             "ticks": ""
            },
            "colorscale": [
             [
              0,
              "#0d0887"
             ],
             [
              0.1111111111111111,
              "#46039f"
             ],
             [
              0.2222222222222222,
              "#7201a8"
             ],
             [
              0.3333333333333333,
              "#9c179e"
             ],
             [
              0.4444444444444444,
              "#bd3786"
             ],
             [
              0.5555555555555556,
              "#d8576b"
             ],
             [
              0.6666666666666666,
              "#ed7953"
             ],
             [
              0.7777777777777778,
              "#fb9f3a"
             ],
             [
              0.8888888888888888,
              "#fdca26"
             ],
             [
              1,
              "#f0f921"
             ]
            ],
            "type": "histogram2d"
           }
          ],
          "histogram2dcontour": [
           {
            "colorbar": {
             "outlinewidth": 0,
             "ticks": ""
            },
            "colorscale": [
             [
              0,
              "#0d0887"
             ],
             [
              0.1111111111111111,
              "#46039f"
             ],
             [
              0.2222222222222222,
              "#7201a8"
             ],
             [
              0.3333333333333333,
              "#9c179e"
             ],
             [
              0.4444444444444444,
              "#bd3786"
             ],
             [
              0.5555555555555556,
              "#d8576b"
             ],
             [
              0.6666666666666666,
              "#ed7953"
             ],
             [
              0.7777777777777778,
              "#fb9f3a"
             ],
             [
              0.8888888888888888,
              "#fdca26"
             ],
             [
              1,
              "#f0f921"
             ]
            ],
            "type": "histogram2dcontour"
           }
          ],
          "mesh3d": [
           {
            "colorbar": {
             "outlinewidth": 0,
             "ticks": ""
            },
            "type": "mesh3d"
           }
          ],
          "parcoords": [
           {
            "line": {
             "colorbar": {
              "outlinewidth": 0,
              "ticks": ""
             }
            },
            "type": "parcoords"
           }
          ],
          "pie": [
           {
            "automargin": true,
            "type": "pie"
           }
          ],
          "scatter": [
           {
            "fillpattern": {
             "fillmode": "overlay",
             "size": 10,
             "solidity": 0.2
            },
            "type": "scatter"
           }
          ],
          "scatter3d": [
           {
            "line": {
             "colorbar": {
              "outlinewidth": 0,
              "ticks": ""
             }
            },
            "marker": {
             "colorbar": {
              "outlinewidth": 0,
              "ticks": ""
             }
            },
            "type": "scatter3d"
           }
          ],
          "scattercarpet": [
           {
            "marker": {
             "colorbar": {
              "outlinewidth": 0,
              "ticks": ""
             }
            },
            "type": "scattercarpet"
           }
          ],
          "scattergeo": [
           {
            "marker": {
             "colorbar": {
              "outlinewidth": 0,
              "ticks": ""
             }
            },
            "type": "scattergeo"
           }
          ],
          "scattergl": [
           {
            "marker": {
             "colorbar": {
              "outlinewidth": 0,
              "ticks": ""
             }
            },
            "type": "scattergl"
           }
          ],
          "scattermapbox": [
           {
            "marker": {
             "colorbar": {
              "outlinewidth": 0,
              "ticks": ""
             }
            },
            "type": "scattermapbox"
           }
          ],
          "scatterpolar": [
           {
            "marker": {
             "colorbar": {
              "outlinewidth": 0,
              "ticks": ""
             }
            },
            "type": "scatterpolar"
           }
          ],
          "scatterpolargl": [
           {
            "marker": {
             "colorbar": {
              "outlinewidth": 0,
              "ticks": ""
             }
            },
            "type": "scatterpolargl"
           }
          ],
          "scatterternary": [
           {
            "marker": {
             "colorbar": {
              "outlinewidth": 0,
              "ticks": ""
             }
            },
            "type": "scatterternary"
           }
          ],
          "surface": [
           {
            "colorbar": {
             "outlinewidth": 0,
             "ticks": ""
            },
            "colorscale": [
             [
              0,
              "#0d0887"
             ],
             [
              0.1111111111111111,
              "#46039f"
             ],
             [
              0.2222222222222222,
              "#7201a8"
             ],
             [
              0.3333333333333333,
              "#9c179e"
             ],
             [
              0.4444444444444444,
              "#bd3786"
             ],
             [
              0.5555555555555556,
              "#d8576b"
             ],
             [
              0.6666666666666666,
              "#ed7953"
             ],
             [
              0.7777777777777778,
              "#fb9f3a"
             ],
             [
              0.8888888888888888,
              "#fdca26"
             ],
             [
              1,
              "#f0f921"
             ]
            ],
            "type": "surface"
           }
          ],
          "table": [
           {
            "cells": {
             "fill": {
              "color": "#EBF0F8"
             },
             "line": {
              "color": "white"
             }
            },
            "header": {
             "fill": {
              "color": "#C8D4E3"
             },
             "line": {
              "color": "white"
             }
            },
            "type": "table"
           }
          ]
         },
         "layout": {
          "annotationdefaults": {
           "arrowcolor": "#2a3f5f",
           "arrowhead": 0,
           "arrowwidth": 1
          },
          "autotypenumbers": "strict",
          "coloraxis": {
           "colorbar": {
            "outlinewidth": 0,
            "ticks": ""
           }
          },
          "colorscale": {
           "diverging": [
            [
             0,
             "#8e0152"
            ],
            [
             0.1,
             "#c51b7d"
            ],
            [
             0.2,
             "#de77ae"
            ],
            [
             0.3,
             "#f1b6da"
            ],
            [
             0.4,
             "#fde0ef"
            ],
            [
             0.5,
             "#f7f7f7"
            ],
            [
             0.6,
             "#e6f5d0"
            ],
            [
             0.7,
             "#b8e186"
            ],
            [
             0.8,
             "#7fbc41"
            ],
            [
             0.9,
             "#4d9221"
            ],
            [
             1,
             "#276419"
            ]
           ],
           "sequential": [
            [
             0,
             "#0d0887"
            ],
            [
             0.1111111111111111,
             "#46039f"
            ],
            [
             0.2222222222222222,
             "#7201a8"
            ],
            [
             0.3333333333333333,
             "#9c179e"
            ],
            [
             0.4444444444444444,
             "#bd3786"
            ],
            [
             0.5555555555555556,
             "#d8576b"
            ],
            [
             0.6666666666666666,
             "#ed7953"
            ],
            [
             0.7777777777777778,
             "#fb9f3a"
            ],
            [
             0.8888888888888888,
             "#fdca26"
            ],
            [
             1,
             "#f0f921"
            ]
           ],
           "sequentialminus": [
            [
             0,
             "#0d0887"
            ],
            [
             0.1111111111111111,
             "#46039f"
            ],
            [
             0.2222222222222222,
             "#7201a8"
            ],
            [
             0.3333333333333333,
             "#9c179e"
            ],
            [
             0.4444444444444444,
             "#bd3786"
            ],
            [
             0.5555555555555556,
             "#d8576b"
            ],
            [
             0.6666666666666666,
             "#ed7953"
            ],
            [
             0.7777777777777778,
             "#fb9f3a"
            ],
            [
             0.8888888888888888,
             "#fdca26"
            ],
            [
             1,
             "#f0f921"
            ]
           ]
          },
          "colorway": [
           "#636efa",
           "#EF553B",
           "#00cc96",
           "#ab63fa",
           "#FFA15A",
           "#19d3f3",
           "#FF6692",
           "#B6E880",
           "#FF97FF",
           "#FECB52"
          ],
          "font": {
           "color": "#2a3f5f"
          },
          "geo": {
           "bgcolor": "white",
           "lakecolor": "white",
           "landcolor": "#E5ECF6",
           "showlakes": true,
           "showland": true,
           "subunitcolor": "white"
          },
          "hoverlabel": {
           "align": "left"
          },
          "hovermode": "closest",
          "mapbox": {
           "style": "light"
          },
          "paper_bgcolor": "white",
          "plot_bgcolor": "#E5ECF6",
          "polar": {
           "angularaxis": {
            "gridcolor": "white",
            "linecolor": "white",
            "ticks": ""
           },
           "bgcolor": "#E5ECF6",
           "radialaxis": {
            "gridcolor": "white",
            "linecolor": "white",
            "ticks": ""
           }
          },
          "scene": {
           "xaxis": {
            "backgroundcolor": "#E5ECF6",
            "gridcolor": "white",
            "gridwidth": 2,
            "linecolor": "white",
            "showbackground": true,
            "ticks": "",
            "zerolinecolor": "white"
           },
           "yaxis": {
            "backgroundcolor": "#E5ECF6",
            "gridcolor": "white",
            "gridwidth": 2,
            "linecolor": "white",
            "showbackground": true,
            "ticks": "",
            "zerolinecolor": "white"
           },
           "zaxis": {
            "backgroundcolor": "#E5ECF6",
            "gridcolor": "white",
            "gridwidth": 2,
            "linecolor": "white",
            "showbackground": true,
            "ticks": "",
            "zerolinecolor": "white"
           }
          },
          "shapedefaults": {
           "line": {
            "color": "#2a3f5f"
           }
          },
          "ternary": {
           "aaxis": {
            "gridcolor": "white",
            "linecolor": "white",
            "ticks": ""
           },
           "baxis": {
            "gridcolor": "white",
            "linecolor": "white",
            "ticks": ""
           },
           "bgcolor": "#E5ECF6",
           "caxis": {
            "gridcolor": "white",
            "linecolor": "white",
            "ticks": ""
           }
          },
          "title": {
           "x": 0.05
          },
          "xaxis": {
           "automargin": true,
           "gridcolor": "white",
           "linecolor": "white",
           "ticks": "",
           "title": {
            "standoff": 15
           },
           "zerolinecolor": "white",
           "zerolinewidth": 2
          },
          "yaxis": {
           "automargin": true,
           "gridcolor": "white",
           "linecolor": "white",
           "ticks": "",
           "title": {
            "standoff": 15
           },
           "zerolinecolor": "white",
           "zerolinewidth": 2
          }
         }
        },
        "xaxis": {
         "anchor": "y",
         "domain": [
          0,
          1
         ],
         "title": {
          "text": "x"
         }
        },
        "yaxis": {
         "anchor": "x",
         "domain": [
          0,
          1
         ],
         "title": {
          "text": "value"
         }
        }
       }
      }
     },
     "metadata": {},
     "output_type": "display_data"
    }
   ],
   "source": [
    "# plotting the initial condition X0_sin in space\n",
    "\n",
    "X0_sin_space = iDFT @ (X0_sin)\n",
    "print('mean of X0 :',np.mean(X0_sin))\n",
    "px.line(x=xspan,y=[np.real(X0_sin_space),np.imag(X0_sin_space)])"
   ]
  },
  {
   "cell_type": "code",
   "execution_count": 11,
   "metadata": {},
   "outputs": [
    {
     "name": "stdout",
     "output_type": "stream",
     "text": [
      "mean of X0 : (0.01517624406326634+0j)\n"
     ]
    },
    {
     "data": {
      "application/vnd.plotly.v1+json": {
       "config": {
        "plotlyServerURL": "https://plot.ly"
       },
       "data": [
        {
         "hovertemplate": "variable=wide_variable_0<br>x=%{x}<br>value=%{y}<extra></extra>",
         "legendgroup": "wide_variable_0",
         "line": {
          "color": "#636efa",
          "dash": "solid"
         },
         "marker": {
          "symbol": "circle"
         },
         "mode": "lines",
         "name": "wide_variable_0",
         "orientation": "v",
         "showlegend": true,
         "type": "scatter",
         "x": [
          0,
          0.0966643893412244,
          0.1933287786824488,
          0.2899931680236732,
          0.3866575573648976,
          0.483321946706122,
          0.5799863360473464,
          0.6766507253885707,
          0.7733151147297952,
          0.8699795040710196,
          0.966643893412244,
          1.0633082827534683,
          1.1599726720946928,
          1.2566370614359172,
          1.3533014507771415,
          1.449965840118366,
          1.5466302294595904,
          1.6432946188008148,
          1.7399590081420393,
          1.8366233974832635,
          1.933287786824488,
          2.0299521761657124,
          2.1266165655069367,
          2.2232809548481614,
          2.3199453441893856,
          2.41660973353061,
          2.5132741228718345,
          2.6099385122130587,
          2.706602901554283,
          2.8032672908955076,
          2.899931680236732,
          2.9965960695779565,
          3.0932604589191808,
          3.189924848260405,
          3.2865892376016297,
          3.383253626942854,
          3.4799180162840786,
          3.576582405625303,
          3.673246794966527,
          3.7699111843077517,
          3.866575573648976,
          3.9632399629902,
          4.059904352331425,
          4.15656874167265,
          4.253233131013873,
          4.349897520355098,
          4.446561909696323,
          4.5432262990375465,
          4.639890688378771,
          4.736555077719996,
          4.83321946706122,
          4.929883856402444,
          5.026548245743669,
          5.123212635084893,
          5.2198770244261175,
          5.316541413767342,
          5.413205803108566,
          5.509870192449791,
          5.606534581791015,
          5.70319897113224,
          5.799863360473464,
          5.896527749814688,
          5.993192139155913,
          6.089856528497137,
          6.1865209178383616
         ],
         "xaxis": "x",
         "y": [
          0.986455864112312,
          1.2278017763046019,
          1.435857645270176,
          1.6041736261878679,
          1.7276521008423353,
          1.8027266542059002,
          1.8274853006054357,
          1.8017334582684275,
          1.7269944030057827,
          1.606447247583314,
          1.4448048068011181,
          1.2481359333748672,
          1.0236389636273227,
          0.7793747183648657,
          0.523968995970245,
          0.26629561625329634,
          0.015151783320742627,
          -0.22106219264982974,
          -0.4346469513029783,
          -0.6188806700669711,
          -0.7682579746449593,
          -0.8786823780643376,
          -0.9476051965351068,
          -0.9741058942306899,
          -0.9589109998543172,
          -0.9043510337853365,
          -0.8142572001010483,
          -0.693801846510669,
          -0.549288793391099,
          -0.38790150247501787,
          -0.21741862664380837,
          -0.04590769619010004,
          0.11859149137906248,
          0.26838183164505475,
          0.39641034456410695,
          0.4965447088022531,
          0.5638144672132152,
          0.5946077974711019,
          0.586816408183236,
          0.5399230653303877,
          0.45502840405194195,
          0.3348159563787992,
          0.18345664160483185,
          0.006456236150816426,
          -0.1895485207090216,
          -0.3970375998755589,
          -0.6078899023343743,
          -0.8136894915920508,
          -1.0060443944883657,
          -1.1769060431606888,
          -1.3188773927252493,
          -1.4254981574461871,
          -1.491496447706526,
          -1.5129973298161206,
          -1.4876804245111777,
          -1.4148805486384244,
          -1.2956275176995005,
          -1.1326234860037807,
          -0.930158522041958,
          -0.6939674129341441,
          -0.43103287791347134,
          -0.1493423653620761,
          0.1423926633770657,
          0.43504466173363193,
          0.7193938194209857
         ],
         "yaxis": "y"
        },
        {
         "hovertemplate": "variable=wide_variable_1<br>x=%{x}<br>value=%{y}<extra></extra>",
         "legendgroup": "wide_variable_1",
         "line": {
          "color": "#EF553B",
          "dash": "solid"
         },
         "marker": {
          "symbol": "circle"
         },
         "mode": "lines",
         "name": "wide_variable_1",
         "orientation": "v",
         "showlegend": true,
         "type": "scatter",
         "x": [
          0,
          0.0966643893412244,
          0.1933287786824488,
          0.2899931680236732,
          0.3866575573648976,
          0.483321946706122,
          0.5799863360473464,
          0.6766507253885707,
          0.7733151147297952,
          0.8699795040710196,
          0.966643893412244,
          1.0633082827534683,
          1.1599726720946928,
          1.2566370614359172,
          1.3533014507771415,
          1.449965840118366,
          1.5466302294595904,
          1.6432946188008148,
          1.7399590081420393,
          1.8366233974832635,
          1.933287786824488,
          2.0299521761657124,
          2.1266165655069367,
          2.2232809548481614,
          2.3199453441893856,
          2.41660973353061,
          2.5132741228718345,
          2.6099385122130587,
          2.706602901554283,
          2.8032672908955076,
          2.899931680236732,
          2.9965960695779565,
          3.0932604589191808,
          3.189924848260405,
          3.2865892376016297,
          3.383253626942854,
          3.4799180162840786,
          3.576582405625303,
          3.673246794966527,
          3.7699111843077517,
          3.866575573648976,
          3.9632399629902,
          4.059904352331425,
          4.15656874167265,
          4.253233131013873,
          4.349897520355098,
          4.446561909696323,
          4.5432262990375465,
          4.639890688378771,
          4.736555077719996,
          4.83321946706122,
          4.929883856402444,
          5.026548245743669,
          5.123212635084893,
          5.2198770244261175,
          5.316541413767342,
          5.413205803108566,
          5.509870192449791,
          5.606534581791015,
          5.70319897113224,
          5.799863360473464,
          5.896527749814688,
          5.993192139155913,
          6.089856528497137,
          6.1865209178383616
         ],
         "xaxis": "x",
         "y": [
          0,
          -1.8107433656294965e-15,
          -1.1367393479869766e-15,
          -1.7815777093060206e-15,
          -2.5612972506350517e-15,
          -3.3255725486365585e-15,
          -3.961658915311779e-15,
          -5.623029153902789e-15,
          -4.962623202379999e-15,
          -3.890293038317851e-15,
          -4.91563114329547e-15,
          -5.7106671244166e-15,
          -3.701575162024112e-15,
          -1.7214194039273345e-15,
          -3.753107735386305e-15,
          -1.1494303951590615e-15,
          1.3889664416174104e-15,
          4.118007051208772e-15,
          6.376721182548574e-15,
          5.507844118010677e-15,
          7.707697356007558e-15,
          9.464461977606245e-15,
          8.915856936610184e-15,
          1.1151395193577566e-14,
          1.0315933628641852e-14,
          9.388315365338255e-15,
          8.980228618916228e-15,
          7.680478987578037e-15,
          6.8925970841724776e-15,
          3.769638097072816e-15,
          2.5844729658499095e-15,
          -2.4491497334218767e-15,
          -3.124735518942123e-15,
          -3.371126072164692e-15,
          -9.404600294426494e-15,
          -8.775054828857398e-15,
          -1.5208582011826665e-14,
          -1.3205316171729693e-14,
          -1.0294270338746144e-14,
          -1.5648102808192878e-14,
          -1.1195868928702312e-14,
          -5.937846203601957e-15,
          -9.550665606070068e-15,
          -1.2424079449319054e-14,
          4.114993243237909e-15,
          2.1848446848002267e-15,
          8.972207631594645e-16,
          1.696890723660123e-14,
          1.6142268530992306e-14,
          1.5297312972207676e-14,
          2.9397564671582106e-14,
          2.7327348278729637e-14,
          2.554091322871184e-14,
          3.431420626783608e-14,
          3.064565687588673e-14,
          2.7244123065826964e-14,
          2.9412128162568625e-14,
          2.4225213023825964e-14,
          1.9176306716024415e-14,
          1.4490115871834117e-14,
          8.134675085598192e-15,
          2.6008617698368583e-15,
          -2.037474500899504e-15,
          -1.3912901597117692e-14,
          -1.8053952812282524e-14
         ],
         "yaxis": "y"
        }
       ],
       "layout": {
        "legend": {
         "title": {
          "text": "variable"
         },
         "tracegroupgap": 0
        },
        "margin": {
         "t": 60
        },
        "template": {
         "data": {
          "bar": [
           {
            "error_x": {
             "color": "#2a3f5f"
            },
            "error_y": {
             "color": "#2a3f5f"
            },
            "marker": {
             "line": {
              "color": "#E5ECF6",
              "width": 0.5
             },
             "pattern": {
              "fillmode": "overlay",
              "size": 10,
              "solidity": 0.2
             }
            },
            "type": "bar"
           }
          ],
          "barpolar": [
           {
            "marker": {
             "line": {
              "color": "#E5ECF6",
              "width": 0.5
             },
             "pattern": {
              "fillmode": "overlay",
              "size": 10,
              "solidity": 0.2
             }
            },
            "type": "barpolar"
           }
          ],
          "carpet": [
           {
            "aaxis": {
             "endlinecolor": "#2a3f5f",
             "gridcolor": "white",
             "linecolor": "white",
             "minorgridcolor": "white",
             "startlinecolor": "#2a3f5f"
            },
            "baxis": {
             "endlinecolor": "#2a3f5f",
             "gridcolor": "white",
             "linecolor": "white",
             "minorgridcolor": "white",
             "startlinecolor": "#2a3f5f"
            },
            "type": "carpet"
           }
          ],
          "choropleth": [
           {
            "colorbar": {
             "outlinewidth": 0,
             "ticks": ""
            },
            "type": "choropleth"
           }
          ],
          "contour": [
           {
            "colorbar": {
             "outlinewidth": 0,
             "ticks": ""
            },
            "colorscale": [
             [
              0,
              "#0d0887"
             ],
             [
              0.1111111111111111,
              "#46039f"
             ],
             [
              0.2222222222222222,
              "#7201a8"
             ],
             [
              0.3333333333333333,
              "#9c179e"
             ],
             [
              0.4444444444444444,
              "#bd3786"
             ],
             [
              0.5555555555555556,
              "#d8576b"
             ],
             [
              0.6666666666666666,
              "#ed7953"
             ],
             [
              0.7777777777777778,
              "#fb9f3a"
             ],
             [
              0.8888888888888888,
              "#fdca26"
             ],
             [
              1,
              "#f0f921"
             ]
            ],
            "type": "contour"
           }
          ],
          "contourcarpet": [
           {
            "colorbar": {
             "outlinewidth": 0,
             "ticks": ""
            },
            "type": "contourcarpet"
           }
          ],
          "heatmap": [
           {
            "colorbar": {
             "outlinewidth": 0,
             "ticks": ""
            },
            "colorscale": [
             [
              0,
              "#0d0887"
             ],
             [
              0.1111111111111111,
              "#46039f"
             ],
             [
              0.2222222222222222,
              "#7201a8"
             ],
             [
              0.3333333333333333,
              "#9c179e"
             ],
             [
              0.4444444444444444,
              "#bd3786"
             ],
             [
              0.5555555555555556,
              "#d8576b"
             ],
             [
              0.6666666666666666,
              "#ed7953"
             ],
             [
              0.7777777777777778,
              "#fb9f3a"
             ],
             [
              0.8888888888888888,
              "#fdca26"
             ],
             [
              1,
              "#f0f921"
             ]
            ],
            "type": "heatmap"
           }
          ],
          "heatmapgl": [
           {
            "colorbar": {
             "outlinewidth": 0,
             "ticks": ""
            },
            "colorscale": [
             [
              0,
              "#0d0887"
             ],
             [
              0.1111111111111111,
              "#46039f"
             ],
             [
              0.2222222222222222,
              "#7201a8"
             ],
             [
              0.3333333333333333,
              "#9c179e"
             ],
             [
              0.4444444444444444,
              "#bd3786"
             ],
             [
              0.5555555555555556,
              "#d8576b"
             ],
             [
              0.6666666666666666,
              "#ed7953"
             ],
             [
              0.7777777777777778,
              "#fb9f3a"
             ],
             [
              0.8888888888888888,
              "#fdca26"
             ],
             [
              1,
              "#f0f921"
             ]
            ],
            "type": "heatmapgl"
           }
          ],
          "histogram": [
           {
            "marker": {
             "pattern": {
              "fillmode": "overlay",
              "size": 10,
              "solidity": 0.2
             }
            },
            "type": "histogram"
           }
          ],
          "histogram2d": [
           {
            "colorbar": {
             "outlinewidth": 0,
             "ticks": ""
            },
            "colorscale": [
             [
              0,
              "#0d0887"
             ],
             [
              0.1111111111111111,
              "#46039f"
             ],
             [
              0.2222222222222222,
              "#7201a8"
             ],
             [
              0.3333333333333333,
              "#9c179e"
             ],
             [
              0.4444444444444444,
              "#bd3786"
             ],
             [
              0.5555555555555556,
              "#d8576b"
             ],
             [
              0.6666666666666666,
              "#ed7953"
             ],
             [
              0.7777777777777778,
              "#fb9f3a"
             ],
             [
              0.8888888888888888,
              "#fdca26"
             ],
             [
              1,
              "#f0f921"
             ]
            ],
            "type": "histogram2d"
           }
          ],
          "histogram2dcontour": [
           {
            "colorbar": {
             "outlinewidth": 0,
             "ticks": ""
            },
            "colorscale": [
             [
              0,
              "#0d0887"
             ],
             [
              0.1111111111111111,
              "#46039f"
             ],
             [
              0.2222222222222222,
              "#7201a8"
             ],
             [
              0.3333333333333333,
              "#9c179e"
             ],
             [
              0.4444444444444444,
              "#bd3786"
             ],
             [
              0.5555555555555556,
              "#d8576b"
             ],
             [
              0.6666666666666666,
              "#ed7953"
             ],
             [
              0.7777777777777778,
              "#fb9f3a"
             ],
             [
              0.8888888888888888,
              "#fdca26"
             ],
             [
              1,
              "#f0f921"
             ]
            ],
            "type": "histogram2dcontour"
           }
          ],
          "mesh3d": [
           {
            "colorbar": {
             "outlinewidth": 0,
             "ticks": ""
            },
            "type": "mesh3d"
           }
          ],
          "parcoords": [
           {
            "line": {
             "colorbar": {
              "outlinewidth": 0,
              "ticks": ""
             }
            },
            "type": "parcoords"
           }
          ],
          "pie": [
           {
            "automargin": true,
            "type": "pie"
           }
          ],
          "scatter": [
           {
            "fillpattern": {
             "fillmode": "overlay",
             "size": 10,
             "solidity": 0.2
            },
            "type": "scatter"
           }
          ],
          "scatter3d": [
           {
            "line": {
             "colorbar": {
              "outlinewidth": 0,
              "ticks": ""
             }
            },
            "marker": {
             "colorbar": {
              "outlinewidth": 0,
              "ticks": ""
             }
            },
            "type": "scatter3d"
           }
          ],
          "scattercarpet": [
           {
            "marker": {
             "colorbar": {
              "outlinewidth": 0,
              "ticks": ""
             }
            },
            "type": "scattercarpet"
           }
          ],
          "scattergeo": [
           {
            "marker": {
             "colorbar": {
              "outlinewidth": 0,
              "ticks": ""
             }
            },
            "type": "scattergeo"
           }
          ],
          "scattergl": [
           {
            "marker": {
             "colorbar": {
              "outlinewidth": 0,
              "ticks": ""
             }
            },
            "type": "scattergl"
           }
          ],
          "scattermapbox": [
           {
            "marker": {
             "colorbar": {
              "outlinewidth": 0,
              "ticks": ""
             }
            },
            "type": "scattermapbox"
           }
          ],
          "scatterpolar": [
           {
            "marker": {
             "colorbar": {
              "outlinewidth": 0,
              "ticks": ""
             }
            },
            "type": "scatterpolar"
           }
          ],
          "scatterpolargl": [
           {
            "marker": {
             "colorbar": {
              "outlinewidth": 0,
              "ticks": ""
             }
            },
            "type": "scatterpolargl"
           }
          ],
          "scatterternary": [
           {
            "marker": {
             "colorbar": {
              "outlinewidth": 0,
              "ticks": ""
             }
            },
            "type": "scatterternary"
           }
          ],
          "surface": [
           {
            "colorbar": {
             "outlinewidth": 0,
             "ticks": ""
            },
            "colorscale": [
             [
              0,
              "#0d0887"
             ],
             [
              0.1111111111111111,
              "#46039f"
             ],
             [
              0.2222222222222222,
              "#7201a8"
             ],
             [
              0.3333333333333333,
              "#9c179e"
             ],
             [
              0.4444444444444444,
              "#bd3786"
             ],
             [
              0.5555555555555556,
              "#d8576b"
             ],
             [
              0.6666666666666666,
              "#ed7953"
             ],
             [
              0.7777777777777778,
              "#fb9f3a"
             ],
             [
              0.8888888888888888,
              "#fdca26"
             ],
             [
              1,
              "#f0f921"
             ]
            ],
            "type": "surface"
           }
          ],
          "table": [
           {
            "cells": {
             "fill": {
              "color": "#EBF0F8"
             },
             "line": {
              "color": "white"
             }
            },
            "header": {
             "fill": {
              "color": "#C8D4E3"
             },
             "line": {
              "color": "white"
             }
            },
            "type": "table"
           }
          ]
         },
         "layout": {
          "annotationdefaults": {
           "arrowcolor": "#2a3f5f",
           "arrowhead": 0,
           "arrowwidth": 1
          },
          "autotypenumbers": "strict",
          "coloraxis": {
           "colorbar": {
            "outlinewidth": 0,
            "ticks": ""
           }
          },
          "colorscale": {
           "diverging": [
            [
             0,
             "#8e0152"
            ],
            [
             0.1,
             "#c51b7d"
            ],
            [
             0.2,
             "#de77ae"
            ],
            [
             0.3,
             "#f1b6da"
            ],
            [
             0.4,
             "#fde0ef"
            ],
            [
             0.5,
             "#f7f7f7"
            ],
            [
             0.6,
             "#e6f5d0"
            ],
            [
             0.7,
             "#b8e186"
            ],
            [
             0.8,
             "#7fbc41"
            ],
            [
             0.9,
             "#4d9221"
            ],
            [
             1,
             "#276419"
            ]
           ],
           "sequential": [
            [
             0,
             "#0d0887"
            ],
            [
             0.1111111111111111,
             "#46039f"
            ],
            [
             0.2222222222222222,
             "#7201a8"
            ],
            [
             0.3333333333333333,
             "#9c179e"
            ],
            [
             0.4444444444444444,
             "#bd3786"
            ],
            [
             0.5555555555555556,
             "#d8576b"
            ],
            [
             0.6666666666666666,
             "#ed7953"
            ],
            [
             0.7777777777777778,
             "#fb9f3a"
            ],
            [
             0.8888888888888888,
             "#fdca26"
            ],
            [
             1,
             "#f0f921"
            ]
           ],
           "sequentialminus": [
            [
             0,
             "#0d0887"
            ],
            [
             0.1111111111111111,
             "#46039f"
            ],
            [
             0.2222222222222222,
             "#7201a8"
            ],
            [
             0.3333333333333333,
             "#9c179e"
            ],
            [
             0.4444444444444444,
             "#bd3786"
            ],
            [
             0.5555555555555556,
             "#d8576b"
            ],
            [
             0.6666666666666666,
             "#ed7953"
            ],
            [
             0.7777777777777778,
             "#fb9f3a"
            ],
            [
             0.8888888888888888,
             "#fdca26"
            ],
            [
             1,
             "#f0f921"
            ]
           ]
          },
          "colorway": [
           "#636efa",
           "#EF553B",
           "#00cc96",
           "#ab63fa",
           "#FFA15A",
           "#19d3f3",
           "#FF6692",
           "#B6E880",
           "#FF97FF",
           "#FECB52"
          ],
          "font": {
           "color": "#2a3f5f"
          },
          "geo": {
           "bgcolor": "white",
           "lakecolor": "white",
           "landcolor": "#E5ECF6",
           "showlakes": true,
           "showland": true,
           "subunitcolor": "white"
          },
          "hoverlabel": {
           "align": "left"
          },
          "hovermode": "closest",
          "mapbox": {
           "style": "light"
          },
          "paper_bgcolor": "white",
          "plot_bgcolor": "#E5ECF6",
          "polar": {
           "angularaxis": {
            "gridcolor": "white",
            "linecolor": "white",
            "ticks": ""
           },
           "bgcolor": "#E5ECF6",
           "radialaxis": {
            "gridcolor": "white",
            "linecolor": "white",
            "ticks": ""
           }
          },
          "scene": {
           "xaxis": {
            "backgroundcolor": "#E5ECF6",
            "gridcolor": "white",
            "gridwidth": 2,
            "linecolor": "white",
            "showbackground": true,
            "ticks": "",
            "zerolinecolor": "white"
           },
           "yaxis": {
            "backgroundcolor": "#E5ECF6",
            "gridcolor": "white",
            "gridwidth": 2,
            "linecolor": "white",
            "showbackground": true,
            "ticks": "",
            "zerolinecolor": "white"
           },
           "zaxis": {
            "backgroundcolor": "#E5ECF6",
            "gridcolor": "white",
            "gridwidth": 2,
            "linecolor": "white",
            "showbackground": true,
            "ticks": "",
            "zerolinecolor": "white"
           }
          },
          "shapedefaults": {
           "line": {
            "color": "#2a3f5f"
           }
          },
          "ternary": {
           "aaxis": {
            "gridcolor": "white",
            "linecolor": "white",
            "ticks": ""
           },
           "baxis": {
            "gridcolor": "white",
            "linecolor": "white",
            "ticks": ""
           },
           "bgcolor": "#E5ECF6",
           "caxis": {
            "gridcolor": "white",
            "linecolor": "white",
            "ticks": ""
           }
          },
          "title": {
           "x": 0.05
          },
          "xaxis": {
           "automargin": true,
           "gridcolor": "white",
           "linecolor": "white",
           "ticks": "",
           "title": {
            "standoff": 15
           },
           "zerolinecolor": "white",
           "zerolinewidth": 2
          },
          "yaxis": {
           "automargin": true,
           "gridcolor": "white",
           "linecolor": "white",
           "ticks": "",
           "title": {
            "standoff": 15
           },
           "zerolinecolor": "white",
           "zerolinewidth": 2
          }
         }
        },
        "xaxis": {
         "anchor": "y",
         "domain": [
          0,
          1
         ],
         "title": {
          "text": "x"
         }
        },
        "yaxis": {
         "anchor": "x",
         "domain": [
          0,
          1
         ],
         "title": {
          "text": "value"
         }
        }
       }
      }
     },
     "metadata": {},
     "output_type": "display_data"
    }
   ],
   "source": [
    "# plotting the initial condition X0_mix in space\n",
    "\n",
    "X0_mix_space = iDFT @ (X0_mix)\n",
    "print('mean of X0 :',np.mean(X0_mix))\n",
    "px.line(x=xspan,y=[np.real(X0_mix_space),np.imag(X0_mix_space)])"
   ]
  },
  {
   "cell_type": "code",
   "execution_count": 12,
   "metadata": {},
   "outputs": [],
   "source": [
    "# Creating fX0_sin, fX0_cos and fX0_mix\n",
    "\n",
    "fX0_sin = np.concatenate((X0_sin,(1j/g*X0_sin)*np.sqrt(g*np.abs(frequences)*np.tanh(d*np.abs(frequences)))))\n",
    "fX0_cos = np.concatenate((X0_cos,(1j/g*X0_cos)*np.sqrt(g*np.abs(frequences)*np.tanh(d*np.abs(frequences)))))\n",
    "fX0_mix = np.concatenate((X0_mix,(1j/g*X0_mix)*np.sqrt(g*np.abs(frequences)*np.tanh(d*np.abs(frequences)))))"
   ]
  },
  {
   "cell_type": "code",
   "execution_count": 13,
   "metadata": {},
   "outputs": [],
   "source": [
    "# ------------------------------\n",
    "# Time integration scheme\n",
    "# ------------------------------\n",
    "\n",
    "def Euler_Explicit(mat, X0, tspan):\n",
    "    X = np.zeros((X0.shape[0],tspan.shape[0])) + np.zeros((X0.shape[0],tspan.shape[0]))*1j\n",
    "    dt = tspan[1] - tspan[0]\n",
    "    X[:,0] = X0\n",
    "    for i in range(1,len(tspan)):\n",
    "        X[:,i] = X[:,i-1] + dt * mat @ X[:,i-1]\n",
    "    return X"
   ]
  },
  {
   "cell_type": "code",
   "execution_count": 14,
   "metadata": {},
   "outputs": [
    {
     "name": "stdout",
     "output_type": "stream",
     "text": [
      "1st edo : done\n",
      "2nd edo : done\n",
      "3rd edo : done\n"
     ]
    }
   ],
   "source": [
    "# ------------------------------\n",
    "# Time integration with fX0_sin\n",
    "# ------------------------------\n",
    "\n",
    "fX_sol_EE_fA_sin = Euler_Explicit(fA,fX0_sin,tspan)\n",
    "print('1st edo : done')\n",
    "fX_sol_EE_fA_mod_nm_sin = Euler_Explicit(fA_mod_nm,fX0_sin,tspan)\n",
    "print('2nd edo : done')\n",
    "fX_sol_EE_fA_mod_lf_sin = Euler_Explicit(fA_mod_lf,fX0_sin,tspan)\n",
    "print('3rd edo : done')"
   ]
  },
  {
   "cell_type": "code",
   "execution_count": 15,
   "metadata": {},
   "outputs": [
    {
     "name": "stdout",
     "output_type": "stream",
     "text": [
      "1st edo : done\n",
      "2nd edo : done\n",
      "3rd edo : done\n"
     ]
    }
   ],
   "source": [
    "# ------------------------------\n",
    "# Time integration with fX0_cos\n",
    "# ------------------------------\n",
    "\n",
    "fX_sol_EE_fA_cos = Euler_Explicit(fA,fX0_cos,tspan)\n",
    "print('1st edo : done')\n",
    "fX_sol_EE_fA_mod_nm_cos = Euler_Explicit(fA_mod_nm,fX0_cos,tspan)\n",
    "print('2nd edo : done')\n",
    "fX_sol_EE_fA_mod_lf_cos = Euler_Explicit(fA_mod_lf,fX0_cos,tspan)\n",
    "print('3rd edo : done')"
   ]
  },
  {
   "cell_type": "code",
   "execution_count": 16,
   "metadata": {},
   "outputs": [
    {
     "name": "stdout",
     "output_type": "stream",
     "text": [
      "1st edo : done\n",
      "2nd edo : done\n",
      "3rd edo : done\n"
     ]
    }
   ],
   "source": [
    "# ------------------------------\n",
    "# Time integration with fX0_mix\n",
    "# ------------------------------\n",
    "\n",
    "fX_sol_EE_fA_mix = Euler_Explicit(fA,fX0_mix,tspan)\n",
    "print('1st edo : done')\n",
    "fX_sol_EE_fA_mod_nm_mix = Euler_Explicit(fA_mod_nm,fX0_mix,tspan)\n",
    "print('2nd edo : done')\n",
    "fX_sol_EE_fA_mod_lf_mix = Euler_Explicit(fA_mod_lf,fX0_mix,tspan)\n",
    "print('3rd edo : done')"
   ]
  },
  {
   "cell_type": "code",
   "execution_count": 34,
   "metadata": {},
   "outputs": [],
   "source": [
    "# ------------------------------\n",
    "# Eigenvalues computations\n",
    "# ------------------------------\n",
    "\n",
    "eigval_fA, eigvect_fA = np.linalg.eig(fA)\n",
    "eigval_fA_mod_nm, eigvect_fA_mod_nm = np.linalg.eig(fA_mod_nm)\n",
    "eigval_fA_mod_lf, eigvect_fA_mod_lf = np.linalg.eig(fA_mod_lf)\n",
    "\n",
    "# ------------------------------\n",
    "# Convergence factor computations\n",
    "# ------------------------------\n",
    "\n",
    "conv_fact_fA = np.max(np.real(eigval_fA)[np.real(eigval_fA) < -1e-10])\n",
    "conv_fact_fA_mod_nm = np.max(np.real(eigval_fA_mod_nm)[np.real(eigval_fA_mod_nm) < -1e-10])\n",
    "conv_fact_fA_mod_lf = np.max(np.real(eigval_fA_mod_lf)[np.real(eigval_fA_mod_lf) < -1e-10])"
   ]
  },
  {
   "cell_type": "code",
   "execution_count": 52,
   "metadata": {},
   "outputs": [
    {
     "data": {
      "text/plain": [
       "[<matplotlib.lines.Line2D at 0x174fa0f50>]"
      ]
     },
     "execution_count": 52,
     "metadata": {},
     "output_type": "execute_result"
    },
    {
     "data": {
      "image/png": "[encoded data removed]",
      "text/plain": [
       "<Figure size 640x480 with 1 Axes>"
      ]
     },
     "metadata": {},
     "output_type": "display_data"
    }
   ],
   "source": [
    "plt.plot(np.real(eigval_fA_mod_lf),np.imag(eigval_fA_mod_lf),'s')\n",
    "plt.plot(np.real(eigval_fA_mod_nm),np.imag(eigval_fA_mod_nm),'x')\n",
    "#plt.plot(conv_fact_fA_mod_nm,0,'x')\n",
    "#plt.plot(conv_fact_fA_mod_lf,0,'x')\n",
    "plt.plot(conv_fact_fA,0,'x')"
   ]
  },
  {
   "cell_type": "markdown",
   "metadata": {},
   "source": [
    "### final graphs"
   ]
  },
  {
   "cell_type": "code",
   "execution_count": 73,
   "metadata": {},
   "outputs": [
    {
     "data": {
      "image/png": "[encoded data removed]",
      "text/plain": [
       "<Figure size 640x480 with 1 Axes>"
      ]
     },
     "metadata": {},
     "output_type": "display_data"
    }
   ],
   "source": [
    "steps = tspan.shape[0]//30\n",
    "plt.semilogy(tspan[::steps],np.linalg.norm(fX_sol_EE_fA_mix[0:,::steps],2,axis=0),'-s',label=r\"solution w\\ proj\")\n",
    "plt.semilogy(tspan[::steps],np.linalg.norm(fX_sol_EE_fA_mod_nm_mix[0:,::steps],2,axis=0),'-d',label=r\"solution w/ proj $\\Pi_{\\perp 0}$\")\n",
    "plt.semilogy(tspan[::steps],np.linalg.norm(fX_sol_EE_fA_mod_lf_mix[0:,::steps],2,axis=0),'-o',label=r\"solution w/ proj $\\Pi_{\\perp 0}\\cdot\\Pi_{LF}$\")\n",
    "#plt.semilogy(tspan[::steps],np.exp(conv_fact_fA_mod_lf*tspan[::steps]),'-',label=r\"theoritical convergence rate\")\n",
    "plt.semilogy(tspan[::steps],10*np.exp(conv_fact_fA*tspan[::steps]),'-',label=r\"rate given by $\\exp(t\\cdot\\max(\\mathcal{R}e(\\sigma(A-\\widetilde{B}'))))$\")\n",
    "plt.ylim([1e-20,1e1])\n",
    "#plt.title(r'convergence, condition initiale : cosinus + sin')\n",
    "plt.grid()\n",
    "plt.legend(loc='center left', bbox_to_anchor=(1.1, 0.5))\n",
    "plt.xlabel(r'time $t$')\n",
    "plt.ylabel(r'L2 norm of solution')\n",
    "plt.savefig(\"figures_png/lww_obs_conv_ini_sinus&cosinus.png\")\n",
    "tikzplotlib.save(\"figures_tex/lww_obs_conv_ini_sinus&cosinus.tex\")\n",
    "plt.show()"
   ]
  },
  {
   "cell_type": "code",
   "execution_count": 74,
   "metadata": {},
   "outputs": [
    {
     "data": {
      "image/png": "[encoded data removed]",
      "text/plain": [
       "<Figure size 640x480 with 1 Axes>"
      ]
     },
     "metadata": {},
     "output_type": "display_data"
    }
   ],
   "source": [
    "steps = tspan.shape[0]//30\n",
    "plt.semilogy(tspan[::steps],np.linalg.norm(np.kron(np.eye(2),Pi_lf) @ fX_sol_EE_fA_mix[0:,::steps],2,axis=0),'-s',label=r\"solution w\\ proj\")\n",
    "plt.semilogy(tspan[::steps],np.linalg.norm(np.kron(np.eye(2),Pi_lf) @ fX_sol_EE_fA_mod_nm_mix[0:,::steps],2,axis=0),'-d',label=r\"solution w/ proj $\\Pi_{\\perp 0}$\")\n",
    "plt.semilogy(tspan[::steps],np.linalg.norm(np.kron(np.eye(2),Pi_lf) @ fX_sol_EE_fA_mod_lf_mix[0:,::steps],2,axis=0),'-o',label=r\"solution w/ proj $\\Pi_{\\perp 0}\\cdot\\Pi_{LF}$\")\n",
    "plt.semilogy(tspan[::steps],10*np.exp(conv_fact_fA*tspan[::steps]),'-',label=r\"theoritical convergence rate\")\n",
    "plt.ylim([1e-20,1e1])\n",
    "#plt.title(r'convergence, condition initiale : cosinus + sin')\n",
    "plt.grid()\n",
    "#plt.legend(loc='center left', bbox_to_anchor=(1.05, 0.5))\n",
    "plt.xlabel(r'time $t$')\n",
    "plt.ylabel(r'L2 norm of solution')\n",
    "plt.savefig('figures_png/lww_obs_conv_lf_ini_sinus&cosinus.png')\n",
    "tikzplotlib.save(\"figures_tex/lww_obs_conv_lf_ini_sinus&cosinus.tex\")\n",
    "plt.show()"
   ]
  },
  {
   "cell_type": "code",
   "execution_count": 75,
   "metadata": {},
   "outputs": [
    {
     "data": {
      "image/png": "[encoded data removed]",
      "text/plain": [
       "<Figure size 640x480 with 1 Axes>"
      ]
     },
     "metadata": {},
     "output_type": "display_data"
    }
   ],
   "source": [
    "steps = tspan.shape[0]//30\n",
    "plt.semilogy(tspan[::steps],np.linalg.norm(np.kron(np.eye(2),Pi_hf) @ fX_sol_EE_fA_mix[0:,::steps],2,axis=0),'-s',label=r\"solution w\\ proj\")\n",
    "plt.semilogy(tspan[::steps],np.linalg.norm(np.kron(np.eye(2),Pi_hf) @ fX_sol_EE_fA_mod_nm_mix[0:,::steps],2,axis=0),'-d',label=r\"solution w/ proj $\\Pi_{\\perp 0}$\")\n",
    "plt.semilogy(tspan[::steps],np.linalg.norm(np.kron(np.eye(2),Pi_hf) @ fX_sol_EE_fA_mod_lf_mix[0:,::steps],2,axis=0),'-o',label=r\"solution w/ proj $\\Pi_{\\perp 0}\\cdot\\Pi_{LF}$\")\n",
    "plt.semilogy(tspan[::steps],10*np.exp(conv_fact_fA*tspan[::steps]),'-',label=r\"theoritical convergence rate\")\n",
    "plt.ylim([1e-20,1e1])\n",
    "#plt.title(r'convergence, condition initiale : cosinus + sin')\n",
    "plt.grid()\n",
    "#plt.legend(loc='center left', bbox_to_anchor=(1.05, 0.5))\n",
    "plt.xlabel(r'time $t$')\n",
    "plt.ylabel(r'L2 norm of solution')\n",
    "plt.savefig('figures_png/lww_obs_conv_hf_ini_sinus&cosinus.png')\n",
    "tikzplotlib.save(\"figures_tex/lww_obs_conv_hf_ini_sinus&cosinus.tex\")\n",
    "plt.show()"
   ]
  },
  {
   "cell_type": "markdown",
   "metadata": {},
   "source": [
    "### other graphs "
   ]
  },
  {
   "cell_type": "code",
   "execution_count": null,
   "metadata": {},
   "outputs": [
    {
     "data": {
      "image/png": "[encoded data removed]",
      "text/plain": [
       "<Figure size 640x480 with 1 Axes>"
      ]
     },
     "metadata": {},
     "output_type": "display_data"
    }
   ],
   "source": [
    "steps = tspan.shape[0]//30\n",
    "plt.semilogy(tspan[::steps],np.linalg.norm(fX_sol_EE_fA_sin[0:,::steps],2,axis=0),'-s',label=r\"solution w\\ proj\")\n",
    "plt.semilogy(tspan[::steps],np.linalg.norm(fX_sol_EE_fA_mod_nm_sin[0:,::steps],2,axis=0),'-x',label=r\"solution w/ proj $\\Pi_{\\perp 0}$\")\n",
    "plt.semilogy(tspan[::steps],np.linalg.norm(fX_sol_EE_fA_mod_lf_sin[0:,::steps],2,axis=0),'-o',label=r\"solution w/ proj $\\Pi_{\\perp 0}\\cdot\\Pi_{LF}$\")\n",
    "plt.ylim([1e-20,1e1])\n",
    "plt.title(r'convergence, condition initiale : sinus')\n",
    "plt.grid()\n",
    "plt.legend()\n",
    "plt.xlabel(r'time $T$')\n",
    "plt.ylabel(r'L2 norm of solution')\n",
    "plt.savefig('lww_obs_conv_ini_sinus.png')\n",
    "plt.show()\n"
   ]
  },
  {
   "cell_type": "code",
   "execution_count": null,
   "metadata": {},
   "outputs": [
    {
     "data": {
      "image/png": "[encoded data removed]",
      "text/plain": [
       "<Figure size 640x480 with 1 Axes>"
      ]
     },
     "metadata": {},
     "output_type": "display_data"
    }
   ],
   "source": [
    "steps = tspan.shape[0]//30\n",
    "plt.semilogy(tspan[::steps],np.linalg.norm(fX_sol_EE_fA_cos[0:,::steps],2,axis=0),'-s',label=r\"solution w\\ proj\")\n",
    "plt.semilogy(tspan[::steps],np.linalg.norm(fX_sol_EE_fA_mod_nm_cos[0:,::steps],2,axis=0),'-x',label=r\"solution w/ proj $\\Pi_{\\perp 0}$\")\n",
    "plt.semilogy(tspan[::steps],np.linalg.norm(fX_sol_EE_fA_mod_lf_cos[0:,::steps],2,axis=0),'-o',label=r\"solution w/ proj $\\Pi_{\\perp 0}\\cdot\\Pi_{LF}$\")\n",
    "plt.ylim([1e-20,1e1])\n",
    "plt.title(r'convergence, condition initiale : cosinus')\n",
    "plt.grid()\n",
    "plt.legend()\n",
    "plt.xlabel(r'time $T$')\n",
    "plt.ylabel(r'L2 norm of solution fX_sol')\n",
    "plt.savefig('lww_obs_conv_ini_cosinus.png')\n",
    "plt.show()"
   ]
  },
  {
   "cell_type": "code",
   "execution_count": null,
   "metadata": {},
   "outputs": [
    {
     "data": {
      "image/png": "[encoded data removed]",
      "text/plain": [
       "<Figure size 1500x500 with 2 Axes>"
      ]
     },
     "metadata": {},
     "output_type": "display_data"
    }
   ],
   "source": [
    "steps = tspan.shape[0]//30\n",
    "plt.figure(figsize=(15, 5))\n",
    "plt.subplot(1, 2, 1)\n",
    "plt.semilogy(tspan[::steps],np.linalg.norm(fX_sol_EE_fA_sin[0:,::steps],2,axis=0),'-s',label=r\"solution w\\ proj\")\n",
    "plt.semilogy(tspan[::steps],np.linalg.norm(fX_sol_EE_fA_mod_nm_sin[0:,::steps],2,axis=0),'-x',label=r\"solution w/ proj $\\Pi_{\\perp 0}$\")\n",
    "plt.semilogy(tspan[::steps],np.linalg.norm(fX_sol_EE_fA_mod_lf_sin[0:,::steps],2,axis=0),'-o',label=r\"solution w/ proj $\\Pi_{\\perp 0}\\cdot\\Pi_{LF}$\")\n",
    "plt.ylim([1e-20,1e1])\n",
    "plt.title(r'convergence, condition initiale : sinus')\n",
    "plt.grid()\n",
    "plt.legend()\n",
    "plt.xlabel(r'time $T$')\n",
    "plt.ylabel(r'L2 norm of solution')\n",
    "plt.subplot(1, 2, 2)\n",
    "plt.semilogy(tspan[::steps],np.linalg.norm(fX_sol_EE_fA_cos[0:,::steps],2,axis=0),'-s',label=r\"solution w\\ proj\")\n",
    "plt.semilogy(tspan[::steps],np.linalg.norm(fX_sol_EE_fA_mod_nm_cos[0:,::steps],2,axis=0),'-x',label=r\"solution w/ proj $\\Pi_{\\perp 0}$\")\n",
    "plt.semilogy(tspan[::steps],np.linalg.norm(fX_sol_EE_fA_mod_lf_cos[0:,::steps],2,axis=0),'-o',label=r\"solution w/ proj $\\Pi_{\\perp 0}\\cdot\\Pi_{LF}$\")\n",
    "plt.ylim([1e-20,1e1])\n",
    "plt.title(r'convergence, condition initiale : cosinus')\n",
    "plt.grid()\n",
    "plt.legend()\n",
    "plt.xlabel(r'time $T$')\n",
    "plt.ylabel(r'L2 norm of solution')\n",
    "plt.savefig(\"lww_obs_conv_ini_sinus_ini_cosinus.png\")\n",
    "tikzplotlib.save(\"lww_obs_conv_ini_sinus_ini_cosinus.tex\")\n",
    "plt.show()"
   ]
  },
  {
   "cell_type": "code",
   "execution_count": 20,
   "metadata": {},
   "outputs": [
    {
     "data": {
      "image/png": "[encoded data removed]",
      "text/plain": [
       "<Figure size 1500x500 with 2 Axes>"
      ]
     },
     "metadata": {},
     "output_type": "display_data"
    }
   ],
   "source": [
    "steps = tspan.shape[0]//30\n",
    "plt.figure(figsize=(15, 5))\n",
    "plt.subplot(1, 2, 1)\n",
    "plt.semilogy(tspan[::steps],np.linalg.norm(np.kron(np.eye(2),Pi_lf) @ fX_sol_EE_fA_cos[0:,::steps],2,axis=0),'-s',label=r\"solution w\\ proj\")\n",
    "plt.semilogy(tspan[::steps],np.linalg.norm(np.kron(np.eye(2),Pi_lf) @ fX_sol_EE_fA_mod_nm_cos[0:,::steps],2,axis=0),'-x',label=r\"solution w/ proj $\\Pi_{\\perp 0}$\")\n",
    "plt.semilogy(tspan[::steps],np.linalg.norm(np.kron(np.eye(2),Pi_lf) @ fX_sol_EE_fA_mod_lf_cos[0:,::steps],2,axis=0),'-o',label=r\"solution w/ proj $\\Pi_{\\perp 0}\\cdot\\Pi_{LF}$\")\n",
    "plt.ylim([1e-20,1e1])\n",
    "plt.title(r'convergence des basse frequences, condition initiale : cosinus')\n",
    "plt.grid()\n",
    "plt.legend()\n",
    "plt.xlabel(r'time $T$')\n",
    "plt.ylabel(r'L2 norm of solution')\n",
    "plt.subplot(1, 2, 2)\n",
    "plt.semilogy(tspan[::steps],np.linalg.norm(np.kron(np.eye(2),Pi_hf) @ fX_sol_EE_fA_cos[0:,::steps],2,axis=0),'-s',label=r\"solution w\\ proj\")\n",
    "plt.semilogy(tspan[::steps],np.linalg.norm(np.kron(np.eye(2),Pi_hf) @ fX_sol_EE_fA_mod_nm_cos[0:,::steps],2,axis=0),'-x',label=r\"solution w/ proj $\\Pi_{\\perp 0}$\")\n",
    "plt.semilogy(tspan[::steps],np.linalg.norm(np.kron(np.eye(2),Pi_hf) @ fX_sol_EE_fA_mod_lf_cos[0:,::steps],2,axis=0),'-o',label=r\"solution w/ proj $\\Pi_{\\perp 0}\\cdot\\Pi_{LF}$\")\n",
    "plt.ylim([1e-20,1e1])\n",
    "plt.title(r'convergence des hautes frequences, condition initiale : cosinus')\n",
    "plt.grid()\n",
    "plt.legend()\n",
    "plt.xlabel(r'time $T$')\n",
    "plt.ylabel(r'L2 norm of solution')\n",
    "# plt.subplot(1, 3, 3)\n",
    "# plt.semilogy(tspan[::steps],np.linalg.norm(np.kron(np.eye(2),Pi_m) @ fX_sol_EE_fA_cos[0:,::steps],2,axis=0),'-s',label=r\"solution w\\ proj\")\n",
    "# plt.semilogy(tspan[::steps],np.linalg.norm(np.kron(np.eye(2),Pi_m) @ fX_sol_EE_fA_mod_nm_cos[0:,::steps],2,axis=0),'-x',label=r\"solution w/ proj $\\Pi_{\\perp 0}$\")\n",
    "# plt.semilogy(tspan[::steps],np.linalg.norm(np.kron(np.eye(2),Pi_m) @ fX_sol_EE_fA_mod_lf_cos[0:,::steps],2,axis=0),'-o',label=r\"solution w/ proj $\\Pi_{\\perp 0}\\cdot\\Pi_{LF}$\")\n",
    "# plt.ylim([1e-3,1e1])\n",
    "# plt.title(r'convergence mode 0, condition initiale : cosinus + sinus')\n",
    "# plt.grid()\n",
    "# plt.legend()\n",
    "# plt.xlabel(r'time $T$')\n",
    "# plt.ylabel(r'L2 norm of solution')\n",
    "plt.savefig('lww_obs_conv_lf_hf_ini_cosinus.png')\n",
    "tikzplotlib.save(\"lww_obs_conv_lf_hf_ini_cosinus.tex\")\n",
    "plt.show()"
   ]
  },
  {
   "cell_type": "code",
   "execution_count": 41,
   "metadata": {},
   "outputs": [
    {
     "data": {
      "image/png": "[encoded data removed]",
      "text/plain": [
       "<Figure size 640x480 with 1 Axes>"
      ]
     },
     "metadata": {},
     "output_type": "display_data"
    }
   ],
   "source": [
    "steps = tspan.shape[0]//30\n",
    "plt.semilogy(tspan[::steps],np.linalg.norm(fX_sol_EE_fA_mix[0:,::steps],2,axis=0),'-s',label=r\"solution w\\ proj\")\n",
    "plt.semilogy(tspan[::steps],np.linalg.norm(fX_sol_EE_fA_mod_nm_mix[0:,::steps],2,axis=0),'-d',label=r\"solution w/ proj $\\Pi_{\\perp 0}$\")\n",
    "plt.semilogy(tspan[::steps],np.linalg.norm(fX_sol_EE_fA_mod_lf_mix[0:,::steps],2,axis=0),'-o',label=r\"solution w/ proj $\\Pi_{\\perp 0}\\cdot\\Pi_{LF}$\")\n",
    "plt.ylim([1e-20,1e1])\n",
    "#plt.title(r'convergence, condition initiale : cosinus + sin')\n",
    "plt.grid()\n",
    "plt.legend(loc='center left', bbox_to_anchor=(1.1, 0.5))\n",
    "plt.xlabel(r'time $T$')\n",
    "plt.ylabel(r'L2 norm of solution')\n",
    "plt.savefig('lww_obs_conv_ini_sinus&cosinus.png')\n",
    "tikzplotlib.save(\"lww_obs_conv_ini_sinus&cosinus.tex\")\n",
    "plt.show()"
   ]
  },
  {
   "cell_type": "code",
   "execution_count": 39,
   "metadata": {},
   "outputs": [
    {
     "data": {
      "image/png": "[encoded data removed]",
      "text/plain": [
       "<Figure size 640x480 with 1 Axes>"
      ]
     },
     "metadata": {},
     "output_type": "display_data"
    }
   ],
   "source": [
    "steps = tspan.shape[0]//30\n",
    "plt.semilogy(tspan[::steps],np.linalg.norm(np.kron(np.eye(2),Pi_lf) @ fX_sol_EE_fA_mix[0:,::steps],2,axis=0),'-s',label=r\"solution w\\ proj\")\n",
    "plt.semilogy(tspan[::steps],np.linalg.norm(np.kron(np.eye(2),Pi_lf) @ fX_sol_EE_fA_mod_nm_mix[0:,::steps],2,axis=0),'-d',label=r\"solution w/ proj $\\Pi_{\\perp 0}$\")\n",
    "plt.semilogy(tspan[::steps],np.linalg.norm(np.kron(np.eye(2),Pi_lf) @ fX_sol_EE_fA_mod_lf_mix[0:,::steps],2,axis=0),'-o',label=r\"solution w/ proj $\\Pi_{\\perp 0}\\cdot\\Pi_{LF}$\")\n",
    "plt.ylim([1e-20,1e1])\n",
    "#plt.title(r'convergence, condition initiale : cosinus + sin')\n",
    "plt.grid()\n",
    "#plt.legend(loc='center left', bbox_to_anchor=(1.05, 0.5))\n",
    "plt.xlabel(r'time $T$')\n",
    "plt.ylabel(r'L2 norm of solution')\n",
    "plt.savefig('lww_obs_conv_lf_ini_sinus&cosinus.png')\n",
    "tikzplotlib.save(\"lww_obs_conv_lf_ini_sinus&cosinus.tex\")\n",
    "plt.show()"
   ]
  },
  {
   "cell_type": "code",
   "execution_count": 40,
   "metadata": {},
   "outputs": [
    {
     "data": {
      "image/png": "[encoded data removed]",
      "text/plain": [
       "<Figure size 640x480 with 1 Axes>"
      ]
     },
     "metadata": {},
     "output_type": "display_data"
    }
   ],
   "source": [
    "steps = tspan.shape[0]//30\n",
    "plt.semilogy(tspan[::steps],np.linalg.norm(np.kron(np.eye(2),Pi_hf) @ fX_sol_EE_fA_mix[0:,::steps],2,axis=0),'-s',label=r\"solution w\\ proj\")\n",
    "plt.semilogy(tspan[::steps],np.linalg.norm(np.kron(np.eye(2),Pi_hf) @ fX_sol_EE_fA_mod_nm_mix[0:,::steps],2,axis=0),'-d',label=r\"solution w/ proj $\\Pi_{\\perp 0}$\")\n",
    "plt.semilogy(tspan[::steps],np.linalg.norm(np.kron(np.eye(2),Pi_hf) @ fX_sol_EE_fA_mod_lf_mix[0:,::steps],2,axis=0),'-o',label=r\"solution w/ proj $\\Pi_{\\perp 0}\\cdot\\Pi_{LF}$\")\n",
    "plt.ylim([1e-20,1e1])\n",
    "#plt.title(r'convergence, condition initiale : cosinus + sin')\n",
    "plt.grid()\n",
    "#plt.legend(loc='center left', bbox_to_anchor=(1.05, 0.5))\n",
    "plt.xlabel(r'time $T$')\n",
    "plt.ylabel(r'L2 norm of solution')\n",
    "plt.savefig('lww_obs_conv_hf_ini_sinus&cosinus.png')\n",
    "tikzplotlib.save(\"lww_obs_conv_hf_ini_sinus&cosinus.tex\")\n",
    "plt.show()"
   ]
  },
  {
   "cell_type": "code",
   "execution_count": 30,
   "metadata": {},
   "outputs": [
    {
     "data": {
      "image/png": "[encoded data removed]",
      "text/plain": [
       "<Figure size 1500x500 with 2 Axes>"
      ]
     },
     "metadata": {},
     "output_type": "display_data"
    }
   ],
   "source": [
    "steps = tspan.shape[0]//30\n",
    "\n",
    "gs = gridspec.GridSpec(1, 2)\n",
    "fig = plt.figure(figsize=(15,5))\n",
    "\n",
    "ax1 = fig.add_subplot(gs[0, 0]) # row 0, col 0\n",
    "ax1.semilogy(tspan[::steps],np.linalg.norm(np.kron(np.eye(2),Pi_lf) @ fX_sol_EE_fA_mix[0:,::steps],2,axis=0),'-s',label=r\"solution w\\ proj\")\n",
    "ax1.semilogy(tspan[::steps],np.linalg.norm(np.kron(np.eye(2),Pi_lf) @ fX_sol_EE_fA_mod_nm_mix[0:,::steps],2,axis=0),'-x',label=r\"solution w/ proj $\\Pi_{\\perp 0}$\")\n",
    "ax1.semilogy(tspan[::steps],np.linalg.norm(np.kron(np.eye(2),Pi_lf) @ fX_sol_EE_fA_mod_lf_mix[0:,::steps],2,axis=0),'-o',label=r\"solution w/ proj $\\Pi_{\\perp 0}\\cdot\\Pi_{LF}$\")\n",
    "ax1.set_ylim([1e-20,1e1])\n",
    "#ax1.set_title(r'convergence des basse frequences, condition initiale : cosinus + sinus')\n",
    "ax1.grid()\n",
    "#ax1.legend()\n",
    "ax1.set_xlabel(r'time $T$')\n",
    "ax1.set_ylabel(r'L2 norm of solution')\n",
    "\n",
    "ax2 = fig.add_subplot(gs[0, 1]) # row 0, col 0\n",
    "ax2.semilogy(tspan[::steps],np.linalg.norm(np.kron(np.eye(2),Pi_hf) @ fX_sol_EE_fA_mix[0:,::steps],2,axis=0),'-s',label=r\"solution w\\ proj\")\n",
    "ax2.semilogy(tspan[::steps],np.linalg.norm(np.kron(np.eye(2),Pi_hf) @ fX_sol_EE_fA_mod_nm_mix[0:,::steps],2,axis=0),'-x',label=r\"solution w/ proj $\\Pi_{\\perp 0}$\")\n",
    "ax2.semilogy(tspan[::steps],np.linalg.norm(np.kron(np.eye(2),Pi_hf) @ fX_sol_EE_fA_mod_lf_mix[0:,::steps],2,axis=0),'-o',label=r\"solution w/ proj $\\Pi_{\\perp 0}\\cdot\\Pi_{LF}$\")\n",
    "ax2.set_ylim([1e-20,1e1])\n",
    "#ax2.set_title(r'convergence des hautes frequences, condition initiale : cosinus + sinus')\n",
    "ax2.grid()\n",
    "#ax2.legend()\n",
    "ax2.set_xlabel(r'time $T$')\n",
    "ax2.set_ylabel(r'L2 norm of solution')\n",
    "\n",
    "tikzplotlib.save(\"lww_obs_conv_lf_hf_ini_sinus&cosinus.tex\")\n"
   ]
  },
  {
   "cell_type": "markdown",
   "metadata": {},
   "source": [
    "## Valeurs propres et convergences"
   ]
  },
  {
   "cell_type": "code",
   "execution_count": 70,
   "metadata": {},
   "outputs": [],
   "source": [
    "Nff = 2"
   ]
  },
  {
   "cell_type": "code",
   "execution_count": 79,
   "metadata": {},
   "outputs": [],
   "source": [
    "ffC = -((a * np.exp((-1j * np.pi) * (frequences.reshape(-1, 1) - frequences))) / np.pi) * np.sinc(a * (frequences.reshape(-1, 1) - frequences) / np.pi)"
   ]
  },
  {
   "cell_type": "code",
   "execution_count": 83,
   "metadata": {},
   "outputs": [
    {
     "data": {
      "text/plain": [
       "2.145794731967043e-14"
      ]
     },
     "execution_count": 83,
     "metadata": {},
     "output_type": "execute_result"
    }
   ],
   "source": [
    "np.linalg.norm(np.imag(ffC))"
   ]
  },
  {
   "cell_type": "code",
   "execution_count": 84,
   "metadata": {},
   "outputs": [
    {
     "data": {
      "text/plain": [
       "(-1-1.2246467991473532e-16j)"
      ]
     },
     "execution_count": 84,
     "metadata": {},
     "output_type": "execute_result"
    }
   ],
   "source": [
    "fffC = -((a * np.exp((-1j * np.pi) * (frequences.reshape(-1, 1) - frequences))) / np.pi) * np.sinc(a * (frequences.reshape(-1, 1) - frequences) / np.pi)"
   ]
  },
  {
   "cell_type": "code",
   "execution_count": 119,
   "metadata": {},
   "outputs": [
    {
     "name": "stdout",
     "output_type": "stream",
     "text": [
      "3.608756581090733e-16\n",
      "0.0\n"
     ]
    }
   ],
   "source": [
    "eigenval_fC, _ = np.linalg.eig(fC)\n",
    "eigenval_Pi_lf_fC, _ = np.linalg.eig(Pi_lf @ fC)\n",
    "print(np.linalg.norm(np.imag(eigenval_fC)))\n",
    "print(np.linalg.norm(np.imag(eigenval_Pi_lf_fC)))"
   ]
  },
  {
   "cell_type": "code",
   "execution_count": 121,
   "metadata": {},
   "outputs": [
    {
     "data": {
      "text/plain": [
       "array([5.69775306e-01, 5.44731541e-02, 9.71721323e-01, 2.28138028e-01,\n",
       "       8.60355808e-01, 1.21803648e-03, 9.09575239e-03, 9.99486417e-01,\n",
       "       9.95782511e-01, 1.39688712e-05, 1.39309779e-04, 9.99995237e-01,\n",
       "       9.99946796e-01, 1.24459920e-06, 9.93855968e-08, 9.99999629e-01,\n",
       "       9.99999975e-01, 1.00000000e+00, 9.99999999e-01, 1.00000000e+00,\n",
       "       1.00000000e+00, 1.00000000e+00, 1.00000000e+00, 1.00000000e+00,\n",
       "       1.00000000e+00, 1.00000000e+00, 1.00000000e+00, 7.15718592e-09,\n",
       "       4.67033171e-10, 2.77179096e-11, 1.50064872e-12, 7.41991965e-14,\n",
       "       3.39075154e-15, 4.10203269e-16, 3.32562869e-16, 1.73008590e-16,\n",
       "       1.14638243e-16, 1.14638243e-16, 1.07194623e-17, 1.00000000e+00,\n",
       "       1.00000000e+00, 2.58852926e-16, 3.24643844e-16, 2.15018365e-16,\n",
       "       2.15018365e-16, 2.13325351e-16, 2.13325351e-16, 1.16456442e-16,\n",
       "       1.16456442e-16, 1.90813187e-16, 1.64691190e-16, 1.64691190e-16,\n",
       "       1.40799118e-16, 1.40799118e-16, 1.21824513e-16, 1.04902251e-16,\n",
       "       1.21892455e-16, 1.21892455e-16, 2.41083137e-17, 2.41083137e-17,\n",
       "       6.36824963e-17, 6.36824963e-17, 3.90777515e-17, 7.44874766e-17,\n",
       "       1.58347540e-17])"
      ]
     },
     "execution_count": 121,
     "metadata": {},
     "output_type": "execute_result"
    }
   ],
   "source": [
    "np.real(eigenval_fC)"
   ]
  },
  {
   "cell_type": "code",
   "execution_count": 135,
   "metadata": {},
   "outputs": [
    {
     "data": {
      "text/plain": [
       "array([-0.66137059, -0.54891111, -0.00321392, -0.05974393,  0.        ,\n",
       "        0.        ,  0.        ,  0.        ,  0.        ,  0.        ,\n",
       "        0.        ,  0.        ,  0.        ,  0.        ,  0.        ,\n",
       "        0.        ,  0.        ,  0.        ,  0.        ,  0.        ,\n",
       "        0.        ,  0.        ,  0.        ,  0.        ,  0.        ,\n",
       "        0.        ,  0.        ,  0.        ,  0.        ,  0.        ,\n",
       "        0.        ,  0.        ,  0.        ,  0.        ,  0.        ,\n",
       "        0.        ,  0.        ,  0.        ,  0.        ,  0.        ,\n",
       "        0.        ,  0.        ,  0.        ,  0.        ,  0.        ,\n",
       "        0.        ,  0.        ,  0.        ,  0.        ,  0.        ,\n",
       "        0.        ,  0.        ,  0.        ,  0.        ,  0.        ,\n",
       "        0.        ,  0.        ,  0.        ,  0.        ,  0.        ,\n",
       "        0.        ,  0.        ,  0.        ,  0.        ,  0.        ])"
      ]
     },
     "execution_count": 135,
     "metadata": {},
     "output_type": "execute_result"
    }
   ],
   "source": [
    "np.real(eigenval_Pi_lf_fC)"
   ]
  },
  {
   "cell_type": "code",
   "execution_count": 124,
   "metadata": {},
   "outputs": [
    {
     "data": {
      "text/plain": [
       "[<matplotlib.lines.Line2D at 0x164485050>]"
      ]
     },
     "execution_count": 124,
     "metadata": {},
     "output_type": "execute_result"
    },
    {
     "data": {
      "image/png": "[encoded data removed]",
      "text/plain": [
       "<Figure size 640x480 with 1 Axes>"
      ]
     },
     "metadata": {},
     "output_type": "display_data"
    }
   ],
   "source": [
    "plt.plot(np.real(eigenval_fC),np.imag(eigenval_fC),'o')\n",
    "plt.plot(np.real(eigenval_Pi_lf_fC),np.imag(eigenval_Pi_lf_fC),'x')"
   ]
  },
  {
   "cell_type": "code",
   "execution_count": 141,
   "metadata": {},
   "outputs": [],
   "source": [
    "frequences_lf = np.array([0,1,2,-2,-1])\n",
    "ffC = np.real(-((a * np.exp((-1j * np.pi) * (frequences_lf.reshape(-1, 1) - frequences_lf))) / np.pi) * np.sinc(a * (frequences_lf.reshape(-1, 1) - frequences_lf) / np.pi))\n",
    "frequences_lf_nm = np.array([1,2,-2,-1])\n",
    "fffC = np.real(-((a * np.exp((-1j * np.pi) * (frequences_lf_nm.reshape(-1, 1) - frequences_lf_nm))) / np.pi) * np.sinc(a * (frequences_lf_nm.reshape(-1, 1) - frequences_lf_nm) / np.pi))"
   ]
  },
  {
   "cell_type": "code",
   "execution_count": 142,
   "metadata": {},
   "outputs": [],
   "source": [
    "PiPi_nm = np.diag(np.concatenate((np.zeros(1),np.ones(5-1))))\n",
    "eigenval_ffC,_ = np.linalg.eig(PiPi_nm @ ffC)\n",
    "eigenval_fffC,_ = np.linalg.eig(fffC)"
   ]
  },
  {
   "cell_type": "code",
   "execution_count": 143,
   "metadata": {},
   "outputs": [
    {
     "data": {
      "text/plain": [
       "array([0., 0., 0., 0.])"
      ]
     },
     "execution_count": 143,
     "metadata": {},
     "output_type": "execute_result"
    }
   ],
   "source": [
    "eigenval_ffC[0:4] - np.real(eigenval_Pi_lf_fC)[0:4]"
   ]
  },
  {
   "cell_type": "code",
   "execution_count": 146,
   "metadata": {},
   "outputs": [
    {
     "data": {
      "text/plain": [
       "array([ 4.44089210e-16,  2.22044605e-16, -4.72712147e-17, -6.93889390e-18])"
      ]
     },
     "execution_count": 146,
     "metadata": {},
     "output_type": "execute_result"
    }
   ],
   "source": [
    "np.real(eigenval_Pi_lf_fC)[0:4] - eigenval_fffC"
   ]
  },
  {
   "cell_type": "code",
   "execution_count": 57,
   "metadata": {},
   "outputs": [
    {
     "data": {
      "text/plain": [
       "array([0.78817831])"
      ]
     },
     "execution_count": 57,
     "metadata": {},
     "output_type": "execute_result"
    }
   ],
   "source": [
    "np.random.rand(1)"
   ]
  },
  {
   "cell_type": "code",
   "execution_count": null,
   "metadata": {},
   "outputs": [],
   "source": []
  }
 ],
 "metadata": {
  "kernelspec": {
   "display_name": "base",
   "language": "python",
   "name": "python3"
  },
  "language_info": {
   "codemirror_mode": {
    "name": "ipython",
    "version": 3
   },
   "file_extension": ".py",
   "mimetype": "text/x-python",
   "name": "python",
   "nbconvert_exporter": "python",
   "pygments_lexer": "ipython3",
   "version": "3.11.0"
  },
  "orig_nbformat": 4
 },
 "nbformat": 4,
 "nbformat_minor": 2
}
