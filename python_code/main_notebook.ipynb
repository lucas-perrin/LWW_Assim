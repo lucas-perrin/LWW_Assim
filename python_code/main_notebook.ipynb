{
 "cells": [
  {
   "cell_type": "code",
   "execution_count": 43,
   "metadata": {},
   "outputs": [],
   "source": [
    "from call_functions import *\n",
    "import matplotlib.pyplot as plt\n",
    "import plotly.express as px"
   ]
  },
  {
   "cell_type": "code",
   "execution_count": 44,
   "metadata": {},
   "outputs": [],
   "source": [
    "# ------------------------------\n",
    "# Parameters to tune\n",
    "# ------------------------------\n",
    "\n",
    "x0 = 0\n",
    "L = 2 * np.pi\n",
    "Nx = 2**6 +1\n",
    "Nf = Nx // 2\n",
    "dt = 1e-3\n",
    "a = 1\n",
    "g = 1\n",
    "gain = 1\n",
    "T_start = 0\n",
    "T = 500\n",
    "N_ini_fq = 2**1\n",
    "\n",
    "# ------------------------------\n",
    "# Space discretization\n",
    "# ------------------------------\n",
    "\n",
    "dx = L / Nx\n",
    "Lx = L - dx\n",
    "xspan = np.arange(x0, Lx + dx, dx)\n",
    "frequences = np.fft.fftfreq(Nx, dx) * 2 * np.pi\n",
    "frequences2 = fftfreq(Nx, dx) * 2 * np.pi # same as above\n",
    "\n",
    "# ------------------------------\n",
    "# Time discretization\n",
    "# ------------------------------\n",
    "\n",
    "T_end = T_start + T\n",
    "tspan = np.arange(T_start, T_end + dt, dt)\n",
    "Nt = len(tspan)"
   ]
  },
  {
   "cell_type": "code",
   "execution_count": 45,
   "metadata": {},
   "outputs": [
    {
     "data": {
      "text/plain": [
       "array([  0.,   1.,   2.,   3.,   4.,   5.,   6.,   7.,   8.,   9.,  10.,\n",
       "        11.,  12.,  13.,  14.,  15.,  16.,  17.,  18.,  19.,  20.,  21.,\n",
       "        22.,  23.,  24.,  25.,  26.,  27.,  28.,  29.,  30.,  31.,  32.,\n",
       "       -32., -31., -30., -29., -28., -27., -26., -25., -24., -23., -22.,\n",
       "       -21., -20., -19., -18., -17., -16., -15., -14., -13., -12., -11.,\n",
       "       -10.,  -9.,  -8.,  -7.,  -6.,  -5.,  -4.,  -3.,  -2.,  -1.])"
      ]
     },
     "execution_count": 45,
     "metadata": {},
     "output_type": "execute_result"
    }
   ],
   "source": [
    "frequences"
   ]
  },
  {
   "cell_type": "code",
   "execution_count": 46,
   "metadata": {},
   "outputs": [],
   "source": [
    "# ------------------------------\n",
    "# Matrix computations\n",
    "# ------------------------------\n",
    "\n",
    "# 1) DFT and iDFT Matrices (as well as no mean matrices)\n",
    "DFT = 1 / Nx * getDFT(Nx)\n",
    "iDFT = getiDFT(Nx)\n",
    "\n",
    "# 2) True matrix A not in Fourier\n",
    "O = np.zeros((Nx, Nx))\n",
    "I = np.eye(Nx)\n",
    "G = Matrix_A_dz(Nx, dx)\n",
    "_, C = GetC(np.abs(xspan - np.pi) <= a)\n",
    "obs_space = np.abs(xspan - np.pi) <= a\n",
    "C = -np.dot(C.T, C)\n",
    "A = np.block([[O, -I], [G, C]])\n",
    "\n",
    "# True matrix A in Fourier\n",
    "fO = np.zeros((2 * Nf + 1, 2 * Nf + 1))\n",
    "fI = -np.eye(2 * Nf + 1)\n",
    "fF = np.diag(np.abs(np.concatenate((np.arange(0, Nf + 1), np.arange(-Nf, 0)))))# * 2 * np.pi)\n",
    "frequences = fftfreq(Nx, dx) * 2 * np.pi  # Assuming the previously defined fftfreq function\n",
    "fC = np.real(-((a * np.exp((-1j * np.pi) * (frequences.reshape(-1, 1) - frequences))) / np.pi) * np.sinc(a * (frequences.reshape(-1, 1) - frequences) / np.pi))\n",
    "fA = np.block([[fO, fI], [fF, fC]])\n",
    "\n",
    "# Matrix that deletes the mean\n",
    "Pi_nm = np.diag(np.concatenate((np.zeros(1),np.ones(Nx-1))))\n",
    "\n",
    "# Modified fA\n",
    "fA_mod_nm = np.block([[fO, fI], [fF, Pi_nm @ fC]])\n",
    "\n",
    "# vector with list of all the positive frequencices\n",
    "pos_frequences = frequences[1:int((len(frequences)-1)/2)+1]\n",
    "\n",
    "# Matrix that deletes the mean and the high frequencies\n",
    "Pi_bf = np.diag(np.concatenate((np.zeros(1),(pos_frequences <= N_ini_fq),(pos_frequences <= N_ini_fq)[::-1])))\n",
    "Pi_hf = np.diag(np.concatenate((np.zeros(1),(pos_frequences > N_ini_fq),(pos_frequences > N_ini_fq)[::-1])))\n",
    "\n",
    "# second Modified fA\n",
    "fA_mod_bf = np.block([[fO, fI], [fF, Pi_bf @ fC]])"
   ]
  },
  {
   "cell_type": "code",
   "execution_count": 47,
   "metadata": {},
   "outputs": [
    {
     "name": "stdout",
     "output_type": "stream",
     "text": [
      "list of frequences :\n",
      "[  0.   1.   2.   3.   4.   5.   6.   7.   8.   9.  10.  11.  12.  13.\n",
      "  14.  15.  16.  17.  18.  19.  20.  21.  22.  23.  24.  25.  26.  27.\n",
      "  28.  29.  30.  31.  32. -32. -31. -30. -29. -28. -27. -26. -25. -24.\n",
      " -23. -22. -21. -20. -19. -18. -17. -16. -15. -14. -13. -12. -11. -10.\n",
      "  -9.  -8.  -7.  -6.  -5.  -4.  -3.  -2.  -1.]\n",
      "Pi_nm diagonal :\n",
      "[0. 1. 1. 1. 1. 1. 1. 1. 1. 1. 1. 1. 1. 1. 1. 1. 1. 1. 1. 1. 1. 1. 1. 1.\n",
      " 1. 1. 1. 1. 1. 1. 1. 1. 1. 1. 1. 1. 1. 1. 1. 1. 1. 1. 1. 1. 1. 1. 1. 1.\n",
      " 1. 1. 1. 1. 1. 1. 1. 1. 1. 1. 1. 1. 1. 1. 1. 1. 1.]\n",
      "Pi_bf diagonal :\n",
      "[0. 1. 1. 0. 0. 0. 0. 0. 0. 0. 0. 0. 0. 0. 0. 0. 0. 0. 0. 0. 0. 0. 0. 0.\n",
      " 0. 0. 0. 0. 0. 0. 0. 0. 0. 0. 0. 0. 0. 0. 0. 0. 0. 0. 0. 0. 0. 0. 0. 0.\n",
      " 0. 0. 0. 0. 0. 0. 0. 0. 0. 0. 0. 0. 0. 0. 0. 1. 1.]\n",
      "Pi_hf diagonal :\n",
      "[0. 0. 0. 1. 1. 1. 1. 1. 1. 1. 1. 1. 1. 1. 1. 1. 1. 1. 1. 1. 1. 1. 1. 1.\n",
      " 1. 1. 1. 1. 1. 1. 1. 1. 1. 1. 1. 1. 1. 1. 1. 1. 1. 1. 1. 1. 1. 1. 1. 1.\n",
      " 1. 1. 1. 1. 1. 1. 1. 1. 1. 1. 1. 1. 1. 1. 1. 0. 0.]\n"
     ]
    }
   ],
   "source": [
    "# ------------------------------\n",
    "# Print of the projection matrices\n",
    "# ------------------------------\n",
    "\n",
    "print('list of frequences :')\n",
    "print(2 * np.pi * fftfreq(Nx, dx))\n",
    "print('Pi_nm diagonal :')\n",
    "print(np.diag(Pi_nm))\n",
    "print('Pi_bf diagonal :')\n",
    "print(np.diag(Pi_bf))\n",
    "print('Pi_hf diagonal :')\n",
    "print(np.diag(Pi_hf))"
   ]
  },
  {
   "cell_type": "code",
   "execution_count": 48,
   "metadata": {},
   "outputs": [
    {
     "name": "stdout",
     "output_type": "stream",
     "text": [
      "relative error between DFT @ fF @ iDFT and G :\n",
      "5.930223855214203e-15\n",
      "relative error between DFT @ fC @ iDFT and C :\n",
      "0.1934359125475558\n",
      "relative error between DFT @ fA @ iDFT and A :\n",
      "0.005708458913611578\n"
     ]
    }
   ],
   "source": [
    "# ------------------------------\n",
    "# Test of the error between Fourier and non Fourier Matrices\n",
    "# ------------------------------\n",
    "\n",
    "# Now : DFT @ fF @ iDFT = G\n",
    "\n",
    "print('relative error between DFT @ fF @ iDFT and G :')\n",
    "print(np.linalg.norm(np.real(iDFT @ fF @ DFT) - G)/np.linalg.norm(G))\n",
    "\n",
    "# Now : DFT @ fF @ iDFT = G * np.pi * 2\n",
    "\n",
    "print('relative error between DFT @ fC @ iDFT and C :')\n",
    "print(np.linalg.norm(np.real(iDFT @ fC @ DFT) - C)/np.linalg.norm(C))\n",
    "\n",
    "print('relative error between DFT @ fA @ iDFT and A :')\n",
    "print(np.linalg.norm(np.real(np.kron(np.eye(2),DFT) @ fA @ np.kron(np.eye(2),iDFT)) - A)/np.linalg.norm(A))"
   ]
  },
  {
   "cell_type": "code",
   "execution_count": 49,
   "metadata": {},
   "outputs": [
    {
     "data": {
      "application/vnd.plotly.v1+json": {
       "config": {
        "plotlyServerURL": "https://plot.ly"
       },
       "data": [
        {
         "hovertemplate": "variable=wide_variable_0<br>x=%{x}<br>value=%{y}<extra></extra>",
         "legendgroup": "wide_variable_0",
         "marker": {
          "color": "#636efa",
          "symbol": "circle"
         },
         "mode": "markers",
         "name": "wide_variable_0",
         "orientation": "v",
         "showlegend": true,
         "type": "scatter",
         "x": [
          0,
          1,
          2,
          3,
          4,
          5,
          6,
          7.000000000000001,
          8,
          9,
          10,
          11,
          12,
          12.999999999999998,
          14.000000000000002,
          15,
          16,
          17,
          18,
          19,
          20,
          21,
          22,
          23,
          24,
          25,
          25.999999999999996,
          26.999999999999996,
          28.000000000000004,
          29.000000000000004,
          30,
          31,
          32,
          -32,
          -31,
          -30,
          -29.000000000000004,
          -28.000000000000004,
          -26.999999999999996,
          -25.999999999999996,
          -25,
          -24,
          -23,
          -22,
          -21,
          -20,
          -19,
          -18,
          -17,
          -16,
          -15,
          -14.000000000000002,
          -12.999999999999998,
          -12,
          -11,
          -10,
          -9,
          -8,
          -7.000000000000001,
          -6,
          -5,
          -4,
          -3,
          -2,
          -1
         ],
         "xaxis": "x",
         "y": [
          -0.3076923076923077,
          0.26206591981074834,
          -0.14904446048590583,
          0.025481373581974658,
          0.05309978325958975,
          -0.06381715238891349,
          0.0250033058805082,
          0.021540880081084488,
          -0.040500273481641126,
          0.024209445257000528,
          0.007922521776536282,
          -0.028374762151033288,
          0.0231040169240581,
          -6.938893903907228e-18,
          -0.02021972140876597,
          0.021692616129638933,
          -0.005270894123914209,
          -0.013931890732479218,
          0.019981852795054485,
          -0.008997971431550374,
          -0.008687396628909754,
          0.01797883543974922,
          -0.011673066598555992,
          -0.004107171814453392,
          0.0156904316436901,
          -0.013541251655857726,
          2.168404344971009e-17,
          0.01312220026784105,
          -0.0147319337377021,
          0.003735093878309808,
          0.01027681661365986,
          -0.01531266830435259,
          0.00715167545074645,
          0.007151675450746628,
          -0.015312668304352527,
          0.010276816613659536,
          0.003735093878309287,
          -0.014731933737702662,
          0.01312220026784063,
          -2.168404344971009e-17,
          -0.013541251655858002,
          0.015690431643690078,
          -0.004107171814454608,
          -0.011673066598555305,
          0.01797883543974903,
          -0.00868739662890972,
          -0.008997971431550266,
          0.019981852795053937,
          -0.013931890732479099,
          -0.0052708941239142885,
          0.021692616129639852,
          -0.020219721408765736,
          5.377642775528102e-17,
          0.023104016924058026,
          -0.028374762151033087,
          0.007922521776536299,
          0.024209445257000205,
          -0.040500273481640675,
          0.021540880081084512,
          0.0250033058805076,
          -0.063817152388913,
          0.05309978325959022,
          0.025481373581974234,
          -0.14904446048590472,
          0.2620659198107476
         ],
         "yaxis": "y"
        },
        {
         "hovertemplate": "variable=wide_variable_1<br>x=%{x}<br>value=%{y}<extra></extra>",
         "legendgroup": "wide_variable_1",
         "marker": {
          "color": "#EF553B",
          "symbol": "circle"
         },
         "mode": "markers",
         "name": "wide_variable_1",
         "orientation": "v",
         "showlegend": true,
         "type": "scatter",
         "x": [
          0,
          1,
          2,
          3,
          4,
          5,
          6,
          7.000000000000001,
          8,
          9,
          10,
          11,
          12,
          12.999999999999998,
          14.000000000000002,
          15,
          16,
          17,
          18,
          19,
          20,
          21,
          22,
          23,
          24,
          25,
          25.999999999999996,
          26.999999999999996,
          28.000000000000004,
          29.000000000000004,
          30,
          31,
          32,
          -32,
          -31,
          -30,
          -29.000000000000004,
          -28.000000000000004,
          -26.999999999999996,
          -25.999999999999996,
          -25,
          -24,
          -23,
          -22,
          -21,
          -20,
          -19,
          -18,
          -17,
          -16,
          -15,
          -14.000000000000002,
          -12.999999999999998,
          -12,
          -11,
          -10,
          -9,
          -8,
          -7.000000000000001,
          -6,
          -5,
          -4,
          -3,
          -2,
          -1
         ],
         "xaxis": "x",
         "y": [
          -0.3183098861837907,
          0.2678485334011638,
          -0.14471918022004823,
          0.014973297901263985,
          0.060224429036268866,
          -0.061047015345379534,
          0.014823452571614545,
          0.029875047066064815,
          -0.03936531385971042,
          0.014575709792393306,
          0.017316729788877466,
          -0.028936978984732707,
          0.014233038704835242,
          0.010287947820805244,
          -0.022522865331718576,
          0.013799536559140995,
          0.005727654497474549,
          -0.018001313306915505,
          0.013280370280298364,
          0.0025109156604925524,
          -0.01452997494255717,
          0.012681702908449461,
          0.0001280663296729994,
          -0.011711318284321736,
          0.012010606055868003,
          -0.0016851548203939057,
          -0.009335765137717287,
          0.011274959737753883,
          -0.003079713951528814,
          -0.007284180212121981,
          0.010483341127032824,
          -0.0041486831257016655,
          -0.005485142629523374,
          -0.005485142629523374,
          -0.0041486831257016655,
          0.010483341127032824,
          -0.007284180212121981,
          -0.003079713951528814,
          0.011274959737753883,
          -0.009335765137717287,
          -0.0016851548203939057,
          0.012010606055868003,
          -0.011711318284321736,
          0.0001280663296729994,
          0.012681702908449461,
          -0.01452997494255717,
          0.0025109156604925524,
          0.013280370280298364,
          -0.018001313306915505,
          0.005727654497474549,
          0.013799536559140995,
          -0.022522865331718576,
          0.010287947820805244,
          0.014233038704835242,
          -0.028936978984732707,
          0.017316729788877466,
          0.014575709792393306,
          -0.03936531385971042,
          0.029875047066064815,
          0.014823452571614545,
          -0.061047015345379534,
          0.060224429036268866,
          0.014973297901263985,
          -0.14471918022004823,
          0.2678485334011638
         ],
         "yaxis": "y"
        }
       ],
       "layout": {
        "legend": {
         "title": {
          "text": "variable"
         },
         "tracegroupgap": 0
        },
        "margin": {
         "t": 60
        },
        "template": {
         "data": {
          "bar": [
           {
            "error_x": {
             "color": "#2a3f5f"
            },
            "error_y": {
             "color": "#2a3f5f"
            },
            "marker": {
             "line": {
              "color": "#E5ECF6",
              "width": 0.5
             },
             "pattern": {
              "fillmode": "overlay",
              "size": 10,
              "solidity": 0.2
             }
            },
            "type": "bar"
           }
          ],
          "barpolar": [
           {
            "marker": {
             "line": {
              "color": "#E5ECF6",
              "width": 0.5
             },
             "pattern": {
              "fillmode": "overlay",
              "size": 10,
              "solidity": 0.2
             }
            },
            "type": "barpolar"
           }
          ],
          "carpet": [
           {
            "aaxis": {
             "endlinecolor": "#2a3f5f",
             "gridcolor": "white",
             "linecolor": "white",
             "minorgridcolor": "white",
             "startlinecolor": "#2a3f5f"
            },
            "baxis": {
             "endlinecolor": "#2a3f5f",
             "gridcolor": "white",
             "linecolor": "white",
             "minorgridcolor": "white",
             "startlinecolor": "#2a3f5f"
            },
            "type": "carpet"
           }
          ],
          "choropleth": [
           {
            "colorbar": {
             "outlinewidth": 0,
             "ticks": ""
            },
            "type": "choropleth"
           }
          ],
          "contour": [
           {
            "colorbar": {
             "outlinewidth": 0,
             "ticks": ""
            },
            "colorscale": [
             [
              0,
              "#0d0887"
             ],
             [
              0.1111111111111111,
              "#46039f"
             ],
             [
              0.2222222222222222,
              "#7201a8"
             ],
             [
              0.3333333333333333,
              "#9c179e"
             ],
             [
              0.4444444444444444,
              "#bd3786"
             ],
             [
              0.5555555555555556,
              "#d8576b"
             ],
             [
              0.6666666666666666,
              "#ed7953"
             ],
             [
              0.7777777777777778,
              "#fb9f3a"
             ],
             [
              0.8888888888888888,
              "#fdca26"
             ],
             [
              1,
              "#f0f921"
             ]
            ],
            "type": "contour"
           }
          ],
          "contourcarpet": [
           {
            "colorbar": {
             "outlinewidth": 0,
             "ticks": ""
            },
            "type": "contourcarpet"
           }
          ],
          "heatmap": [
           {
            "colorbar": {
             "outlinewidth": 0,
             "ticks": ""
            },
            "colorscale": [
             [
              0,
              "#0d0887"
             ],
             [
              0.1111111111111111,
              "#46039f"
             ],
             [
              0.2222222222222222,
              "#7201a8"
             ],
             [
              0.3333333333333333,
              "#9c179e"
             ],
             [
              0.4444444444444444,
              "#bd3786"
             ],
             [
              0.5555555555555556,
              "#d8576b"
             ],
             [
              0.6666666666666666,
              "#ed7953"
             ],
             [
              0.7777777777777778,
              "#fb9f3a"
             ],
             [
              0.8888888888888888,
              "#fdca26"
             ],
             [
              1,
              "#f0f921"
             ]
            ],
            "type": "heatmap"
           }
          ],
          "heatmapgl": [
           {
            "colorbar": {
             "outlinewidth": 0,
             "ticks": ""
            },
            "colorscale": [
             [
              0,
              "#0d0887"
             ],
             [
              0.1111111111111111,
              "#46039f"
             ],
             [
              0.2222222222222222,
              "#7201a8"
             ],
             [
              0.3333333333333333,
              "#9c179e"
             ],
             [
              0.4444444444444444,
              "#bd3786"
             ],
             [
              0.5555555555555556,
              "#d8576b"
             ],
             [
              0.6666666666666666,
              "#ed7953"
             ],
             [
              0.7777777777777778,
              "#fb9f3a"
             ],
             [
              0.8888888888888888,
              "#fdca26"
             ],
             [
              1,
              "#f0f921"
             ]
            ],
            "type": "heatmapgl"
           }
          ],
          "histogram": [
           {
            "marker": {
             "pattern": {
              "fillmode": "overlay",
              "size": 10,
              "solidity": 0.2
             }
            },
            "type": "histogram"
           }
          ],
          "histogram2d": [
           {
            "colorbar": {
             "outlinewidth": 0,
             "ticks": ""
            },
            "colorscale": [
             [
              0,
              "#0d0887"
             ],
             [
              0.1111111111111111,
              "#46039f"
             ],
             [
              0.2222222222222222,
              "#7201a8"
             ],
             [
              0.3333333333333333,
              "#9c179e"
             ],
             [
              0.4444444444444444,
              "#bd3786"
             ],
             [
              0.5555555555555556,
              "#d8576b"
             ],
             [
              0.6666666666666666,
              "#ed7953"
             ],
             [
              0.7777777777777778,
              "#fb9f3a"
             ],
             [
              0.8888888888888888,
              "#fdca26"
             ],
             [
              1,
              "#f0f921"
             ]
            ],
            "type": "histogram2d"
           }
          ],
          "histogram2dcontour": [
           {
            "colorbar": {
             "outlinewidth": 0,
             "ticks": ""
            },
            "colorscale": [
             [
              0,
              "#0d0887"
             ],
             [
              0.1111111111111111,
              "#46039f"
             ],
             [
              0.2222222222222222,
              "#7201a8"
             ],
             [
              0.3333333333333333,
              "#9c179e"
             ],
             [
              0.4444444444444444,
              "#bd3786"
             ],
             [
              0.5555555555555556,
              "#d8576b"
             ],
             [
              0.6666666666666666,
              "#ed7953"
             ],
             [
              0.7777777777777778,
              "#fb9f3a"
             ],
             [
              0.8888888888888888,
              "#fdca26"
             ],
             [
              1,
              "#f0f921"
             ]
            ],
            "type": "histogram2dcontour"
           }
          ],
          "mesh3d": [
           {
            "colorbar": {
             "outlinewidth": 0,
             "ticks": ""
            },
            "type": "mesh3d"
           }
          ],
          "parcoords": [
           {
            "line": {
             "colorbar": {
              "outlinewidth": 0,
              "ticks": ""
             }
            },
            "type": "parcoords"
           }
          ],
          "pie": [
           {
            "automargin": true,
            "type": "pie"
           }
          ],
          "scatter": [
           {
            "fillpattern": {
             "fillmode": "overlay",
             "size": 10,
             "solidity": 0.2
            },
            "type": "scatter"
           }
          ],
          "scatter3d": [
           {
            "line": {
             "colorbar": {
              "outlinewidth": 0,
              "ticks": ""
             }
            },
            "marker": {
             "colorbar": {
              "outlinewidth": 0,
              "ticks": ""
             }
            },
            "type": "scatter3d"
           }
          ],
          "scattercarpet": [
           {
            "marker": {
             "colorbar": {
              "outlinewidth": 0,
              "ticks": ""
             }
            },
            "type": "scattercarpet"
           }
          ],
          "scattergeo": [
           {
            "marker": {
             "colorbar": {
              "outlinewidth": 0,
              "ticks": ""
             }
            },
            "type": "scattergeo"
           }
          ],
          "scattergl": [
           {
            "marker": {
             "colorbar": {
              "outlinewidth": 0,
              "ticks": ""
             }
            },
            "type": "scattergl"
           }
          ],
          "scattermapbox": [
           {
            "marker": {
             "colorbar": {
              "outlinewidth": 0,
              "ticks": ""
             }
            },
            "type": "scattermapbox"
           }
          ],
          "scatterpolar": [
           {
            "marker": {
             "colorbar": {
              "outlinewidth": 0,
              "ticks": ""
             }
            },
            "type": "scatterpolar"
           }
          ],
          "scatterpolargl": [
           {
            "marker": {
             "colorbar": {
              "outlinewidth": 0,
              "ticks": ""
             }
            },
            "type": "scatterpolargl"
           }
          ],
          "scatterternary": [
           {
            "marker": {
             "colorbar": {
              "outlinewidth": 0,
              "ticks": ""
             }
            },
            "type": "scatterternary"
           }
          ],
          "surface": [
           {
            "colorbar": {
             "outlinewidth": 0,
             "ticks": ""
            },
            "colorscale": [
             [
              0,
              "#0d0887"
             ],
             [
              0.1111111111111111,
              "#46039f"
             ],
             [
              0.2222222222222222,
              "#7201a8"
             ],
             [
              0.3333333333333333,
              "#9c179e"
             ],
             [
              0.4444444444444444,
              "#bd3786"
             ],
             [
              0.5555555555555556,
              "#d8576b"
             ],
             [
              0.6666666666666666,
              "#ed7953"
             ],
             [
              0.7777777777777778,
              "#fb9f3a"
             ],
             [
              0.8888888888888888,
              "#fdca26"
             ],
             [
              1,
              "#f0f921"
             ]
            ],
            "type": "surface"
           }
          ],
          "table": [
           {
            "cells": {
             "fill": {
              "color": "#EBF0F8"
             },
             "line": {
              "color": "white"
             }
            },
            "header": {
             "fill": {
              "color": "#C8D4E3"
             },
             "line": {
              "color": "white"
             }
            },
            "type": "table"
           }
          ]
         },
         "layout": {
          "annotationdefaults": {
           "arrowcolor": "#2a3f5f",
           "arrowhead": 0,
           "arrowwidth": 1
          },
          "autotypenumbers": "strict",
          "coloraxis": {
           "colorbar": {
            "outlinewidth": 0,
            "ticks": ""
           }
          },
          "colorscale": {
           "diverging": [
            [
             0,
             "#8e0152"
            ],
            [
             0.1,
             "#c51b7d"
            ],
            [
             0.2,
             "#de77ae"
            ],
            [
             0.3,
             "#f1b6da"
            ],
            [
             0.4,
             "#fde0ef"
            ],
            [
             0.5,
             "#f7f7f7"
            ],
            [
             0.6,
             "#e6f5d0"
            ],
            [
             0.7,
             "#b8e186"
            ],
            [
             0.8,
             "#7fbc41"
            ],
            [
             0.9,
             "#4d9221"
            ],
            [
             1,
             "#276419"
            ]
           ],
           "sequential": [
            [
             0,
             "#0d0887"
            ],
            [
             0.1111111111111111,
             "#46039f"
            ],
            [
             0.2222222222222222,
             "#7201a8"
            ],
            [
             0.3333333333333333,
             "#9c179e"
            ],
            [
             0.4444444444444444,
             "#bd3786"
            ],
            [
             0.5555555555555556,
             "#d8576b"
            ],
            [
             0.6666666666666666,
             "#ed7953"
            ],
            [
             0.7777777777777778,
             "#fb9f3a"
            ],
            [
             0.8888888888888888,
             "#fdca26"
            ],
            [
             1,
             "#f0f921"
            ]
           ],
           "sequentialminus": [
            [
             0,
             "#0d0887"
            ],
            [
             0.1111111111111111,
             "#46039f"
            ],
            [
             0.2222222222222222,
             "#7201a8"
            ],
            [
             0.3333333333333333,
             "#9c179e"
            ],
            [
             0.4444444444444444,
             "#bd3786"
            ],
            [
             0.5555555555555556,
             "#d8576b"
            ],
            [
             0.6666666666666666,
             "#ed7953"
            ],
            [
             0.7777777777777778,
             "#fb9f3a"
            ],
            [
             0.8888888888888888,
             "#fdca26"
            ],
            [
             1,
             "#f0f921"
            ]
           ]
          },
          "colorway": [
           "#636efa",
           "#EF553B",
           "#00cc96",
           "#ab63fa",
           "#FFA15A",
           "#19d3f3",
           "#FF6692",
           "#B6E880",
           "#FF97FF",
           "#FECB52"
          ],
          "font": {
           "color": "#2a3f5f"
          },
          "geo": {
           "bgcolor": "white",
           "lakecolor": "white",
           "landcolor": "#E5ECF6",
           "showlakes": true,
           "showland": true,
           "subunitcolor": "white"
          },
          "hoverlabel": {
           "align": "left"
          },
          "hovermode": "closest",
          "mapbox": {
           "style": "light"
          },
          "paper_bgcolor": "white",
          "plot_bgcolor": "#E5ECF6",
          "polar": {
           "angularaxis": {
            "gridcolor": "white",
            "linecolor": "white",
            "ticks": ""
           },
           "bgcolor": "#E5ECF6",
           "radialaxis": {
            "gridcolor": "white",
            "linecolor": "white",
            "ticks": ""
           }
          },
          "scene": {
           "xaxis": {
            "backgroundcolor": "#E5ECF6",
            "gridcolor": "white",
            "gridwidth": 2,
            "linecolor": "white",
            "showbackground": true,
            "ticks": "",
            "zerolinecolor": "white"
           },
           "yaxis": {
            "backgroundcolor": "#E5ECF6",
            "gridcolor": "white",
            "gridwidth": 2,
            "linecolor": "white",
            "showbackground": true,
            "ticks": "",
            "zerolinecolor": "white"
           },
           "zaxis": {
            "backgroundcolor": "#E5ECF6",
            "gridcolor": "white",
            "gridwidth": 2,
            "linecolor": "white",
            "showbackground": true,
            "ticks": "",
            "zerolinecolor": "white"
           }
          },
          "shapedefaults": {
           "line": {
            "color": "#2a3f5f"
           }
          },
          "ternary": {
           "aaxis": {
            "gridcolor": "white",
            "linecolor": "white",
            "ticks": ""
           },
           "baxis": {
            "gridcolor": "white",
            "linecolor": "white",
            "ticks": ""
           },
           "bgcolor": "#E5ECF6",
           "caxis": {
            "gridcolor": "white",
            "linecolor": "white",
            "ticks": ""
           }
          },
          "title": {
           "x": 0.05
          },
          "xaxis": {
           "automargin": true,
           "gridcolor": "white",
           "linecolor": "white",
           "ticks": "",
           "title": {
            "standoff": 15
           },
           "zerolinecolor": "white",
           "zerolinewidth": 2
          },
          "yaxis": {
           "automargin": true,
           "gridcolor": "white",
           "linecolor": "white",
           "ticks": "",
           "title": {
            "standoff": 15
           },
           "zerolinecolor": "white",
           "zerolinewidth": 2
          }
         }
        },
        "xaxis": {
         "anchor": "y",
         "domain": [
          0,
          1
         ],
         "title": {
          "text": "x"
         }
        },
        "yaxis": {
         "anchor": "x",
         "domain": [
          0,
          1
         ],
         "title": {
          "text": "value"
         }
        }
       }
      }
     },
     "metadata": {},
     "output_type": "display_data"
    }
   ],
   "source": [
    "# Comparaison between the C and fC matrices (first row, sinus cardinal vs indicatrice in Fourier space)\n",
    "px.scatter(x=frequences,y=[np.real(iDFT @ C @ DFT)[0,:],fC[0,:]])"
   ]
  },
  {
   "cell_type": "code",
   "execution_count": 50,
   "metadata": {},
   "outputs": [
    {
     "name": "stdout",
     "output_type": "stream",
     "text": [
      "freqs : [  0.   1.   2.   3.   4.   5.   6.   7.   8.   9.  10.  11.  12.  13.\n",
      "  14.  15.  16.  17.  18.  19.  20.  21.  22.  23.  24.  25.  26.  27.\n",
      "  28.  29.  30.  31.  32. -32. -31. -30. -29. -28. -27. -26. -25. -24.\n",
      " -23. -22. -21. -20. -19. -18. -17. -16. -15. -14. -13. -12. -11. -10.\n",
      "  -9.  -8.  -7.  -6.  -5.  -4.  -3.  -2.  -1.]\n",
      "real DFT : [ 0.  0. -0. -0. -0.  0. -0.  0.  0.  0.  0. -0.  0. -0.  0.  0.  0.  0.\n",
      "  0. -0. -0. -0. -0. -0. -0. -0. -0. -0. -0.  0. -0.  0.  0.  0.  0. -0.\n",
      "  0.  0.  0.  0.  0.  0. -0.  0. -0.  0. -0.  0.  0.  0. -0.  0.  0. -0.\n",
      "  0. -0. -0.  0. -0. -0. -0. -0.  0. -0. -0.]\n",
      "imag DFT : [ 0.  -0.5 -0.  -0.   0.   0.   0.  -0.  -0.  -0.  -0.  -0.   0.   0.\n",
      "  0.   0.  -0.   0.   0.   0.   0.   0.   0.   0.  -0.   0.   0.  -0.\n",
      "  0.  -0.   0.  -0.   0.  -0.   0.   0.   0.   0.   0.  -0.   0.  -0.\n",
      " -0.  -0.  -0.   0.  -0.   0.   0.  -0.  -0.   0.   0.   0.   0.   0.\n",
      " -0.   0.  -0.   0.   0.   0.   0.   0.   0.5]\n",
      "freqs : [  0.   1.   2.   3.   4.   5.   6.   7.   8.   9.  10.  11.  12.  13.\n",
      "  14.  15.  16.  17.  18.  19.  20.  21.  22.  23.  24.  25.  26.  27.\n",
      "  28.  29.  30.  31.  32. -32. -31. -30. -29. -28. -27. -26. -25. -24.\n",
      " -23. -22. -21. -20. -19. -18. -17. -16. -15. -14. -13. -12. -11. -10.\n",
      "  -9.  -8.  -7.  -6.  -5.  -4.  -3.  -2.  -1.]\n",
      "real ifft : [-0. -0.  0.  0. -0.  0. -0. -0.  0.  0.  0.  0.  0. -0. -0. -0.  0. -0.\n",
      "  0.  0.  0.  0.  0. -0.  0. -0.  0. -0. -0. -0.  0. -0.  0.  0. -0.  0.\n",
      " -0. -0. -0.  0. -0.  0. -0.  0.  0.  0.  0.  0. -0.  0. -0. -0. -0.  0.\n",
      "  0.  0.  0.  0. -0. -0.  0. -0.  0.  0. -0.]\n",
      "imag ifft : [  0.  -32.5  -0.   -0.    0.   -0.   -0.   -0.   -0.    0.   -0.   -0.\n",
      "  -0.    0.    0.   -0.   -0.   -0.   -0.   -0.    0.   -0.    0.    0.\n",
      "   0.    0.    0.    0.    0.    0.   -0.    0.   -0.    0.   -0.    0.\n",
      "   0.   -0.   -0.    0.   -0.    0.   -0.   -0.   -0.   -0.   -0.    0.\n",
      "   0.    0.    0.   -0.   -0.    0.    0.    0.   -0.    0.    0.    0.\n",
      "   0.    0.    0.    0.   32.5]\n"
     ]
    }
   ],
   "source": [
    "# ------------------------------\n",
    "# Test for the frequences in a sinus function\n",
    "# ------------------------------\n",
    "\n",
    "def f(x):\n",
    "    return np.sin(x)\n",
    "\n",
    "print('freqs :',frequences)\n",
    "print('real DFT :',(np.real(DFT @ f(xspan))) * (abs(np.real(DFT @ f(xspan))) > 1e-10))\n",
    "print('imag DFT :',(np.imag(DFT @ f(xspan))) * (abs(np.imag(DFT @ f(xspan))) > 1e-10))\n",
    "print('freqs :',frequences)\n",
    "print('real ifft :',(np.real(np.fft.fft(f(xspan)))) * (abs(np.real(np.fft.fft(f(xspan)))) > 1e-10))\n",
    "print('imag ifft :',(np.imag(np.fft.fft(f(xspan)))) * (abs(np.imag(np.fft.fft(f(xspan)))) > 1e-10))"
   ]
  },
  {
   "cell_type": "code",
   "execution_count": 51,
   "metadata": {},
   "outputs": [
    {
     "name": "stdout",
     "output_type": "stream",
     "text": [
      "number of frequences in initial condition X0_sin :\n",
      "4\n",
      "number of positive frequences in initial condition X0_sin :\n",
      "2\n",
      "number of negative frequences in initial condition X0_sin :\n",
      "2\n"
     ]
    }
   ],
   "source": [
    "# ------------------------------\n",
    "# Random initial condition\n",
    "# ------------------------------\n",
    "\n",
    "def create_Fourier_X0(nb_sin,nb_cos):\n",
    "    sin_pos = np.random.rand(pos_frequences.shape[0]) * (pos_frequences <= nb_sin)\n",
    "    cos_pos = np.random.rand(pos_frequences.shape[0]) * (pos_frequences <= nb_cos)\n",
    "    X0 = np.concatenate((np.zeros(1),-sin_pos,sin_pos[::-1]))*1j + np.concatenate((np.zeros(1),cos_pos,cos_pos[::-1]))\n",
    "    return X0\n",
    "\n",
    "# initial condition with N_ini_fq sinus\n",
    "X0_sin = create_Fourier_X0(N_ini_fq,0)\n",
    "# initial condition with N_ini_fq cosinus\n",
    "X0_cos = create_Fourier_X0(0,N_ini_fq)\n",
    "# initial condition with N_ini_fq sinus and N_ini_fq cosinus\n",
    "X0_mix = create_Fourier_X0(N_ini_fq,N_ini_fq)\n",
    "\n",
    "print('number of frequences in initial condition X0_sin :')\n",
    "print(sum(abs(X0_sin) > 0))\n",
    "print('number of positive frequences in initial condition X0_sin :')\n",
    "print(sum((abs(X0_sin) > 0) * (frequences > 0)))\n",
    "print('number of negative frequences in initial condition X0_sin :')\n",
    "print(sum((abs(X0_sin) > 0) * (frequences < 0)))"
   ]
  },
  {
   "cell_type": "code",
   "execution_count": 52,
   "metadata": {},
   "outputs": [
    {
     "name": "stdout",
     "output_type": "stream",
     "text": [
      "mean of X0 : 0j\n"
     ]
    },
    {
     "data": {
      "application/vnd.plotly.v1+json": {
       "config": {
        "plotlyServerURL": "https://plot.ly"
       },
       "data": [
        {
         "hovertemplate": "variable=wide_variable_0<br>x=%{x}<br>value=%{y}<extra></extra>",
         "legendgroup": "wide_variable_0",
         "line": {
          "color": "#636efa",
          "dash": "solid"
         },
         "marker": {
          "symbol": "circle"
         },
         "mode": "lines",
         "name": "wide_variable_0",
         "orientation": "v",
         "showlegend": true,
         "type": "scatter",
         "x": [
          0,
          0.0966643893412244,
          0.1933287786824488,
          0.2899931680236732,
          0.3866575573648976,
          0.483321946706122,
          0.5799863360473464,
          0.6766507253885707,
          0.7733151147297952,
          0.8699795040710196,
          0.966643893412244,
          1.0633082827534683,
          1.1599726720946928,
          1.2566370614359172,
          1.3533014507771415,
          1.449965840118366,
          1.5466302294595904,
          1.6432946188008148,
          1.7399590081420393,
          1.8366233974832635,
          1.933287786824488,
          2.0299521761657124,
          2.1266165655069367,
          2.2232809548481614,
          2.3199453441893856,
          2.41660973353061,
          2.5132741228718345,
          2.6099385122130587,
          2.706602901554283,
          2.8032672908955076,
          2.899931680236732,
          2.9965960695779565,
          3.0932604589191808,
          3.189924848260405,
          3.2865892376016297,
          3.383253626942854,
          3.4799180162840786,
          3.576582405625303,
          3.673246794966527,
          3.7699111843077517,
          3.866575573648976,
          3.9632399629902,
          4.059904352331425,
          4.15656874167265,
          4.253233131013873,
          4.349897520355098,
          4.446561909696323,
          4.5432262990375465,
          4.639890688378771,
          4.736555077719996,
          4.83321946706122,
          4.929883856402444,
          5.026548245743669,
          5.123212635084893,
          5.2198770244261175,
          5.316541413767342,
          5.413205803108566,
          5.509870192449791,
          5.606534581791015,
          5.70319897113224,
          5.799863360473464,
          5.896527749814688,
          5.993192139155913,
          6.089856528497137,
          6.1865209178383616
         ],
         "xaxis": "x",
         "y": [
          0,
          0.3648387749447622,
          0.7176790072663444,
          1.0469543225177618,
          1.3419467191930807,
          1.5931714401638766,
          1.7927163057574038,
          1.934522996347462,
          2.014599930202304,
          2.0311589248254265,
          1.9846706624603272,
          1.877836997342548,
          1.7154812313406014,
          1.5043605308220243,
          1.252907547507349,
          0.9709109321586735,
          0.6691466944533034,
          0.3589741810569026,
          0.051911749091327,
          -0.24079204461833606,
          -0.5085757645013241,
          -0.7419553949119031,
          -0.9328731041265068,
          -1.0749915218327182,
          -1.163922621008064,
          -1.197382743770202,
          -1.1752680740653074,
          -1.0996478348817065,
          -0.974675563090532,
          -0.806421876343448,
          -0.6026350795510526,
          -0.3724386539647864,
          -0.12597702929291685,
          0.1259770292929424,
          0.372438653964819,
          0.6026350795510742,
          0.8064218763434736,
          0.9746755630905449,
          1.0996478348817136,
          1.1752680740653152,
          1.197382743770196,
          1.1639226210080516,
          1.0749915218327042,
          0.9328731041264865,
          0.7419553949118735,
          0.5085757645012915,
          0.24079204461830148,
          -0.05191174909136551,
          -0.3589741810569409,
          -0.6691466944533409,
          -0.9709109321587084,
          -1.252907547507381,
          -1.5043605308220538,
          -1.7154812313406191,
          -1.8778369973425604,
          -1.9846706624603354,
          -2.0311589248254194,
          -2.0145999302022912,
          -1.934522996347444,
          -1.7927163057573832,
          -1.5931714401638393,
          -1.341946719193042,
          -1.0469543225177231,
          -0.7176790072662921,
          -0.3648387749447123
         ],
         "yaxis": "y"
        },
        {
         "hovertemplate": "variable=wide_variable_1<br>x=%{x}<br>value=%{y}<extra></extra>",
         "legendgroup": "wide_variable_1",
         "line": {
          "color": "#EF553B",
          "dash": "solid"
         },
         "marker": {
          "symbol": "circle"
         },
         "mode": "lines",
         "name": "wide_variable_1",
         "orientation": "v",
         "showlegend": true,
         "type": "scatter",
         "x": [
          0,
          0.0966643893412244,
          0.1933287786824488,
          0.2899931680236732,
          0.3866575573648976,
          0.483321946706122,
          0.5799863360473464,
          0.6766507253885707,
          0.7733151147297952,
          0.8699795040710196,
          0.966643893412244,
          1.0633082827534683,
          1.1599726720946928,
          1.2566370614359172,
          1.3533014507771415,
          1.449965840118366,
          1.5466302294595904,
          1.6432946188008148,
          1.7399590081420393,
          1.8366233974832635,
          1.933287786824488,
          2.0299521761657124,
          2.1266165655069367,
          2.2232809548481614,
          2.3199453441893856,
          2.41660973353061,
          2.5132741228718345,
          2.6099385122130587,
          2.706602901554283,
          2.8032672908955076,
          2.899931680236732,
          2.9965960695779565,
          3.0932604589191808,
          3.189924848260405,
          3.2865892376016297,
          3.383253626942854,
          3.4799180162840786,
          3.576582405625303,
          3.673246794966527,
          3.7699111843077517,
          3.866575573648976,
          3.9632399629902,
          4.059904352331425,
          4.15656874167265,
          4.253233131013873,
          4.349897520355098,
          4.446561909696323,
          4.5432262990375465,
          4.639890688378771,
          4.736555077719996,
          4.83321946706122,
          4.929883856402444,
          5.026548245743669,
          5.123212635084893,
          5.2198770244261175,
          5.316541413767342,
          5.413205803108566,
          5.509870192449791,
          5.606534581791015,
          5.70319897113224,
          5.799863360473464,
          5.896527749814688,
          5.993192139155913,
          6.089856528497137,
          6.1865209178383616
         ],
         "xaxis": "x",
         "y": [
          0,
          -1.5893625819031198e-15,
          -5.233640370649515e-16,
          -1.2971504326730184e-15,
          -2.1692640679057034e-15,
          -3.1782545415243553e-15,
          -4.252741651415395e-15,
          -5.903149828571126e-15,
          -6.281309800522873e-15,
          -6.2164967215929545e-15,
          -7.493601435865875e-15,
          -8.5672805517834e-15,
          -7.588587226862968e-15,
          -5.9654779375909565e-15,
          -7.95172904842605e-15,
          -5.675742802504638e-15,
          -2.870412267259555e-15,
          2.8132341707637255e-16,
          3.431022982836715e-15,
          2.7199111145862537e-15,
          6.103914642152994e-15,
          9.26374170444707e-15,
          8.615865622112101e-15,
          1.454236940171934e-14,
          1.3295240655666712e-14,
          1.1898195480755891e-14,
          1.5391881645958614e-14,
          1.2949487117095132e-14,
          1.0778843253411127e-14,
          1.0958518353042132e-14,
          7.54411514212443e-15,
          5.5465625578777286e-15,
          1.8426880330644922e-15,
          -1.6079502804470547e-15,
          -5.910125803757231e-15,
          -9.14152064229844e-15,
          -1.4520815597687933e-14,
          -1.6575832774462922e-14,
          -1.7751515124708116e-14,
          -2.263331831829611e-14,
          -2.191785696846069e-14,
          -1.97672836186015e-14,
          -2.296379126333433e-14,
          -2.5602062549797404e-14,
          -1.2791348557143801e-14,
          -1.3739269301257625e-14,
          -1.388504051254351e-14,
          2.4998166637724463e-15,
          3.4788865851537323e-15,
          4.53009794542412e-15,
          2.3936099103474426e-14,
          2.4531036306343654e-14,
          2.488587067006261e-14,
          4.1149550864705456e-14,
          3.97152193326852e-14,
          3.771150739839423e-14,
          4.934957434226329e-14,
          4.483406883440735e-14,
          3.9589091998696497e-14,
          3.368018327797577e-14,
          3.637842173732507e-14,
          2.821729579242273e-14,
          1.958524996680882e-14,
          1.5126591605980253e-14,
          5.599961802222436e-15
         ],
         "yaxis": "y"
        }
       ],
       "layout": {
        "legend": {
         "title": {
          "text": "variable"
         },
         "tracegroupgap": 0
        },
        "margin": {
         "t": 60
        },
        "template": {
         "data": {
          "bar": [
           {
            "error_x": {
             "color": "#2a3f5f"
            },
            "error_y": {
             "color": "#2a3f5f"
            },
            "marker": {
             "line": {
              "color": "#E5ECF6",
              "width": 0.5
             },
             "pattern": {
              "fillmode": "overlay",
              "size": 10,
              "solidity": 0.2
             }
            },
            "type": "bar"
           }
          ],
          "barpolar": [
           {
            "marker": {
             "line": {
              "color": "#E5ECF6",
              "width": 0.5
             },
             "pattern": {
              "fillmode": "overlay",
              "size": 10,
              "solidity": 0.2
             }
            },
            "type": "barpolar"
           }
          ],
          "carpet": [
           {
            "aaxis": {
             "endlinecolor": "#2a3f5f",
             "gridcolor": "white",
             "linecolor": "white",
             "minorgridcolor": "white",
             "startlinecolor": "#2a3f5f"
            },
            "baxis": {
             "endlinecolor": "#2a3f5f",
             "gridcolor": "white",
             "linecolor": "white",
             "minorgridcolor": "white",
             "startlinecolor": "#2a3f5f"
            },
            "type": "carpet"
           }
          ],
          "choropleth": [
           {
            "colorbar": {
             "outlinewidth": 0,
             "ticks": ""
            },
            "type": "choropleth"
           }
          ],
          "contour": [
           {
            "colorbar": {
             "outlinewidth": 0,
             "ticks": ""
            },
            "colorscale": [
             [
              0,
              "#0d0887"
             ],
             [
              0.1111111111111111,
              "#46039f"
             ],
             [
              0.2222222222222222,
              "#7201a8"
             ],
             [
              0.3333333333333333,
              "#9c179e"
             ],
             [
              0.4444444444444444,
              "#bd3786"
             ],
             [
              0.5555555555555556,
              "#d8576b"
             ],
             [
              0.6666666666666666,
              "#ed7953"
             ],
             [
              0.7777777777777778,
              "#fb9f3a"
             ],
             [
              0.8888888888888888,
              "#fdca26"
             ],
             [
              1,
              "#f0f921"
             ]
            ],
            "type": "contour"
           }
          ],
          "contourcarpet": [
           {
            "colorbar": {
             "outlinewidth": 0,
             "ticks": ""
            },
            "type": "contourcarpet"
           }
          ],
          "heatmap": [
           {
            "colorbar": {
             "outlinewidth": 0,
             "ticks": ""
            },
            "colorscale": [
             [
              0,
              "#0d0887"
             ],
             [
              0.1111111111111111,
              "#46039f"
             ],
             [
              0.2222222222222222,
              "#7201a8"
             ],
             [
              0.3333333333333333,
              "#9c179e"
             ],
             [
              0.4444444444444444,
              "#bd3786"
             ],
             [
              0.5555555555555556,
              "#d8576b"
             ],
             [
              0.6666666666666666,
              "#ed7953"
             ],
             [
              0.7777777777777778,
              "#fb9f3a"
             ],
             [
              0.8888888888888888,
              "#fdca26"
             ],
             [
              1,
              "#f0f921"
             ]
            ],
            "type": "heatmap"
           }
          ],
          "heatmapgl": [
           {
            "colorbar": {
             "outlinewidth": 0,
             "ticks": ""
            },
            "colorscale": [
             [
              0,
              "#0d0887"
             ],
             [
              0.1111111111111111,
              "#46039f"
             ],
             [
              0.2222222222222222,
              "#7201a8"
             ],
             [
              0.3333333333333333,
              "#9c179e"
             ],
             [
              0.4444444444444444,
              "#bd3786"
             ],
             [
              0.5555555555555556,
              "#d8576b"
             ],
             [
              0.6666666666666666,
              "#ed7953"
             ],
             [
              0.7777777777777778,
              "#fb9f3a"
             ],
             [
              0.8888888888888888,
              "#fdca26"
             ],
             [
              1,
              "#f0f921"
             ]
            ],
            "type": "heatmapgl"
           }
          ],
          "histogram": [
           {
            "marker": {
             "pattern": {
              "fillmode": "overlay",
              "size": 10,
              "solidity": 0.2
             }
            },
            "type": "histogram"
           }
          ],
          "histogram2d": [
           {
            "colorbar": {
             "outlinewidth": 0,
             "ticks": ""
            },
            "colorscale": [
             [
              0,
              "#0d0887"
             ],
             [
              0.1111111111111111,
              "#46039f"
             ],
             [
              0.2222222222222222,
              "#7201a8"
             ],
             [
              0.3333333333333333,
              "#9c179e"
             ],
             [
              0.4444444444444444,
              "#bd3786"
             ],
             [
              0.5555555555555556,
              "#d8576b"
             ],
             [
              0.6666666666666666,
              "#ed7953"
             ],
             [
              0.7777777777777778,
              "#fb9f3a"
             ],
             [
              0.8888888888888888,
              "#fdca26"
             ],
             [
              1,
              "#f0f921"
             ]
            ],
            "type": "histogram2d"
           }
          ],
          "histogram2dcontour": [
           {
            "colorbar": {
             "outlinewidth": 0,
             "ticks": ""
            },
            "colorscale": [
             [
              0,
              "#0d0887"
             ],
             [
              0.1111111111111111,
              "#46039f"
             ],
             [
              0.2222222222222222,
              "#7201a8"
             ],
             [
              0.3333333333333333,
              "#9c179e"
             ],
             [
              0.4444444444444444,
              "#bd3786"
             ],
             [
              0.5555555555555556,
              "#d8576b"
             ],
             [
              0.6666666666666666,
              "#ed7953"
             ],
             [
              0.7777777777777778,
              "#fb9f3a"
             ],
             [
              0.8888888888888888,
              "#fdca26"
             ],
             [
              1,
              "#f0f921"
             ]
            ],
            "type": "histogram2dcontour"
           }
          ],
          "mesh3d": [
           {
            "colorbar": {
             "outlinewidth": 0,
             "ticks": ""
            },
            "type": "mesh3d"
           }
          ],
          "parcoords": [
           {
            "line": {
             "colorbar": {
              "outlinewidth": 0,
              "ticks": ""
             }
            },
            "type": "parcoords"
           }
          ],
          "pie": [
           {
            "automargin": true,
            "type": "pie"
           }
          ],
          "scatter": [
           {
            "fillpattern": {
             "fillmode": "overlay",
             "size": 10,
             "solidity": 0.2
            },
            "type": "scatter"
           }
          ],
          "scatter3d": [
           {
            "line": {
             "colorbar": {
              "outlinewidth": 0,
              "ticks": ""
             }
            },
            "marker": {
             "colorbar": {
              "outlinewidth": 0,
              "ticks": ""
             }
            },
            "type": "scatter3d"
           }
          ],
          "scattercarpet": [
           {
            "marker": {
             "colorbar": {
              "outlinewidth": 0,
              "ticks": ""
             }
            },
            "type": "scattercarpet"
           }
          ],
          "scattergeo": [
           {
            "marker": {
             "colorbar": {
              "outlinewidth": 0,
              "ticks": ""
             }
            },
            "type": "scattergeo"
           }
          ],
          "scattergl": [
           {
            "marker": {
             "colorbar": {
              "outlinewidth": 0,
              "ticks": ""
             }
            },
            "type": "scattergl"
           }
          ],
          "scattermapbox": [
           {
            "marker": {
             "colorbar": {
              "outlinewidth": 0,
              "ticks": ""
             }
            },
            "type": "scattermapbox"
           }
          ],
          "scatterpolar": [
           {
            "marker": {
             "colorbar": {
              "outlinewidth": 0,
              "ticks": ""
             }
            },
            "type": "scatterpolar"
           }
          ],
          "scatterpolargl": [
           {
            "marker": {
             "colorbar": {
              "outlinewidth": 0,
              "ticks": ""
             }
            },
            "type": "scatterpolargl"
           }
          ],
          "scatterternary": [
           {
            "marker": {
             "colorbar": {
              "outlinewidth": 0,
              "ticks": ""
             }
            },
            "type": "scatterternary"
           }
          ],
          "surface": [
           {
            "colorbar": {
             "outlinewidth": 0,
             "ticks": ""
            },
            "colorscale": [
             [
              0,
              "#0d0887"
             ],
             [
              0.1111111111111111,
              "#46039f"
             ],
             [
              0.2222222222222222,
              "#7201a8"
             ],
             [
              0.3333333333333333,
              "#9c179e"
             ],
             [
              0.4444444444444444,
              "#bd3786"
             ],
             [
              0.5555555555555556,
              "#d8576b"
             ],
             [
              0.6666666666666666,
              "#ed7953"
             ],
             [
              0.7777777777777778,
              "#fb9f3a"
             ],
             [
              0.8888888888888888,
              "#fdca26"
             ],
             [
              1,
              "#f0f921"
             ]
            ],
            "type": "surface"
           }
          ],
          "table": [
           {
            "cells": {
             "fill": {
              "color": "#EBF0F8"
             },
             "line": {
              "color": "white"
             }
            },
            "header": {
             "fill": {
              "color": "#C8D4E3"
             },
             "line": {
              "color": "white"
             }
            },
            "type": "table"
           }
          ]
         },
         "layout": {
          "annotationdefaults": {
           "arrowcolor": "#2a3f5f",
           "arrowhead": 0,
           "arrowwidth": 1
          },
          "autotypenumbers": "strict",
          "coloraxis": {
           "colorbar": {
            "outlinewidth": 0,
            "ticks": ""
           }
          },
          "colorscale": {
           "diverging": [
            [
             0,
             "#8e0152"
            ],
            [
             0.1,
             "#c51b7d"
            ],
            [
             0.2,
             "#de77ae"
            ],
            [
             0.3,
             "#f1b6da"
            ],
            [
             0.4,
             "#fde0ef"
            ],
            [
             0.5,
             "#f7f7f7"
            ],
            [
             0.6,
             "#e6f5d0"
            ],
            [
             0.7,
             "#b8e186"
            ],
            [
             0.8,
             "#7fbc41"
            ],
            [
             0.9,
             "#4d9221"
            ],
            [
             1,
             "#276419"
            ]
           ],
           "sequential": [
            [
             0,
             "#0d0887"
            ],
            [
             0.1111111111111111,
             "#46039f"
            ],
            [
             0.2222222222222222,
             "#7201a8"
            ],
            [
             0.3333333333333333,
             "#9c179e"
            ],
            [
             0.4444444444444444,
             "#bd3786"
            ],
            [
             0.5555555555555556,
             "#d8576b"
            ],
            [
             0.6666666666666666,
             "#ed7953"
            ],
            [
             0.7777777777777778,
             "#fb9f3a"
            ],
            [
             0.8888888888888888,
             "#fdca26"
            ],
            [
             1,
             "#f0f921"
            ]
           ],
           "sequentialminus": [
            [
             0,
             "#0d0887"
            ],
            [
             0.1111111111111111,
             "#46039f"
            ],
            [
             0.2222222222222222,
             "#7201a8"
            ],
            [
             0.3333333333333333,
             "#9c179e"
            ],
            [
             0.4444444444444444,
             "#bd3786"
            ],
            [
             0.5555555555555556,
             "#d8576b"
            ],
            [
             0.6666666666666666,
             "#ed7953"
            ],
            [
             0.7777777777777778,
             "#fb9f3a"
            ],
            [
             0.8888888888888888,
             "#fdca26"
            ],
            [
             1,
             "#f0f921"
            ]
           ]
          },
          "colorway": [
           "#636efa",
           "#EF553B",
           "#00cc96",
           "#ab63fa",
           "#FFA15A",
           "#19d3f3",
           "#FF6692",
           "#B6E880",
           "#FF97FF",
           "#FECB52"
          ],
          "font": {
           "color": "#2a3f5f"
          },
          "geo": {
           "bgcolor": "white",
           "lakecolor": "white",
           "landcolor": "#E5ECF6",
           "showlakes": true,
           "showland": true,
           "subunitcolor": "white"
          },
          "hoverlabel": {
           "align": "left"
          },
          "hovermode": "closest",
          "mapbox": {
           "style": "light"
          },
          "paper_bgcolor": "white",
          "plot_bgcolor": "#E5ECF6",
          "polar": {
           "angularaxis": {
            "gridcolor": "white",
            "linecolor": "white",
            "ticks": ""
           },
           "bgcolor": "#E5ECF6",
           "radialaxis": {
            "gridcolor": "white",
            "linecolor": "white",
            "ticks": ""
           }
          },
          "scene": {
           "xaxis": {
            "backgroundcolor": "#E5ECF6",
            "gridcolor": "white",
            "gridwidth": 2,
            "linecolor": "white",
            "showbackground": true,
            "ticks": "",
            "zerolinecolor": "white"
           },
           "yaxis": {
            "backgroundcolor": "#E5ECF6",
            "gridcolor": "white",
            "gridwidth": 2,
            "linecolor": "white",
            "showbackground": true,
            "ticks": "",
            "zerolinecolor": "white"
           },
           "zaxis": {
            "backgroundcolor": "#E5ECF6",
            "gridcolor": "white",
            "gridwidth": 2,
            "linecolor": "white",
            "showbackground": true,
            "ticks": "",
            "zerolinecolor": "white"
           }
          },
          "shapedefaults": {
           "line": {
            "color": "#2a3f5f"
           }
          },
          "ternary": {
           "aaxis": {
            "gridcolor": "white",
            "linecolor": "white",
            "ticks": ""
           },
           "baxis": {
            "gridcolor": "white",
            "linecolor": "white",
            "ticks": ""
           },
           "bgcolor": "#E5ECF6",
           "caxis": {
            "gridcolor": "white",
            "linecolor": "white",
            "ticks": ""
           }
          },
          "title": {
           "x": 0.05
          },
          "xaxis": {
           "automargin": true,
           "gridcolor": "white",
           "linecolor": "white",
           "ticks": "",
           "title": {
            "standoff": 15
           },
           "zerolinecolor": "white",
           "zerolinewidth": 2
          },
          "yaxis": {
           "automargin": true,
           "gridcolor": "white",
           "linecolor": "white",
           "ticks": "",
           "title": {
            "standoff": 15
           },
           "zerolinecolor": "white",
           "zerolinewidth": 2
          }
         }
        },
        "xaxis": {
         "anchor": "y",
         "domain": [
          0,
          1
         ],
         "title": {
          "text": "x"
         }
        },
        "yaxis": {
         "anchor": "x",
         "domain": [
          0,
          1
         ],
         "title": {
          "text": "value"
         }
        }
       }
      }
     },
     "metadata": {},
     "output_type": "display_data"
    }
   ],
   "source": [
    "# plotting the initial condition X0_sin in space\n",
    "\n",
    "X0_sin_space = iDFT @ (X0_sin)\n",
    "print('mean of X0 :',np.mean(X0_sin))\n",
    "px.line(x=xspan,y=[np.real(X0_sin_space),np.imag(X0_sin_space)])"
   ]
  },
  {
   "cell_type": "code",
   "execution_count": 53,
   "metadata": {},
   "outputs": [
    {
     "name": "stdout",
     "output_type": "stream",
     "text": [
      "mean of X0 : (0.0277416335672906+0j)\n"
     ]
    },
    {
     "data": {
      "application/vnd.plotly.v1+json": {
       "config": {
        "plotlyServerURL": "https://plot.ly"
       },
       "data": [
        {
         "hovertemplate": "variable=wide_variable_0<br>x=%{x}<br>value=%{y}<extra></extra>",
         "legendgroup": "wide_variable_0",
         "line": {
          "color": "#636efa",
          "dash": "solid"
         },
         "marker": {
          "symbol": "circle"
         },
         "mode": "lines",
         "name": "wide_variable_0",
         "orientation": "v",
         "showlegend": true,
         "type": "scatter",
         "x": [
          0,
          0.0966643893412244,
          0.1933287786824488,
          0.2899931680236732,
          0.3866575573648976,
          0.483321946706122,
          0.5799863360473464,
          0.6766507253885707,
          0.7733151147297952,
          0.8699795040710196,
          0.966643893412244,
          1.0633082827534683,
          1.1599726720946928,
          1.2566370614359172,
          1.3533014507771415,
          1.449965840118366,
          1.5466302294595904,
          1.6432946188008148,
          1.7399590081420393,
          1.8366233974832635,
          1.933287786824488,
          2.0299521761657124,
          2.1266165655069367,
          2.2232809548481614,
          2.3199453441893856,
          2.41660973353061,
          2.5132741228718345,
          2.6099385122130587,
          2.706602901554283,
          2.8032672908955076,
          2.899931680236732,
          2.9965960695779565,
          3.0932604589191808,
          3.189924848260405,
          3.2865892376016297,
          3.383253626942854,
          3.4799180162840786,
          3.576582405625303,
          3.673246794966527,
          3.7699111843077517,
          3.866575573648976,
          3.9632399629902,
          4.059904352331425,
          4.15656874167265,
          4.253233131013873,
          4.349897520355098,
          4.446561909696323,
          4.5432262990375465,
          4.639890688378771,
          4.736555077719996,
          4.83321946706122,
          4.929883856402444,
          5.026548245743669,
          5.123212635084893,
          5.2198770244261175,
          5.316541413767342,
          5.413205803108566,
          5.509870192449791,
          5.606534581791015,
          5.70319897113224,
          5.799863360473464,
          5.896527749814688,
          5.993192139155913,
          6.089856528497137,
          6.1865209178383616
         ],
         "xaxis": "x",
         "y": [
          1.8032061818738891,
          2.209775940429834,
          2.5659302678193048,
          2.861883916477054,
          3.08976413179355,
          3.2438745371483795,
          3.320881289067557,
          3.3199148100095877,
          3.2425835181822444,
          3.09289921714131,
          2.8771170622098423,
          2.6034961650761175,
          2.2819898154830014,
          1.923876881372425,
          1.5413481003476115,
          1.1470626160737647,
          0.7536911824937997,
          0.3734629170176694,
          0.017732314434970097,
          -0.3034175571393759,
          -0.5815211386644294,
          -0.8100131224370164,
          -0.9844376244604973,
          -1.1025763241898348,
          -1.1644911509240508,
          -1.1724802995288002,
          -1.1309496034577429,
          -1.0462044591309925,
          -0.9261704645416277,
          -0.7800535957998672,
          -0.6179529990004493,
          -0.4504412373344529,
          -0.2881280391188753,
          -0.1412241965207815,
          -0.019122244803111726,
          0.06999009121120772,
          0.11946893893842385,
          0.12449285832241713,
          0.0822702910510803,
          -0.007832110399766409,
          -0.14424528243712578,
          -0.3232395179842766,
          -0.5390508017049375,
          -0.7840871235477402,
          -1.049207162336449,
          -1.324060994872669,
          -1.5974801348280627,
          -1.8579023275624056,
          -2.093815192265233,
          -2.2942020615853895,
          -2.448973249167885,
          -2.5493664820743405,
          -2.5883013493888165,
          -2.5606742992093205,
          -2.463582901367174,
          -2.296470701466047,
          -2.0611869262629976,
          -1.7619584519124039,
          -1.4052746979366204,
          -0.9996893399963166,
          -0.5555458233796484,
          -0.08463649162675756,
          0.4001923846269912,
          0.8854753766934732,
          1.3575866750690937
         ],
         "yaxis": "y"
        },
        {
         "hovertemplate": "variable=wide_variable_1<br>x=%{x}<br>value=%{y}<extra></extra>",
         "legendgroup": "wide_variable_1",
         "line": {
          "color": "#EF553B",
          "dash": "solid"
         },
         "marker": {
          "symbol": "circle"
         },
         "mode": "lines",
         "name": "wide_variable_1",
         "orientation": "v",
         "showlegend": true,
         "type": "scatter",
         "x": [
          0,
          0.0966643893412244,
          0.1933287786824488,
          0.2899931680236732,
          0.3866575573648976,
          0.483321946706122,
          0.5799863360473464,
          0.6766507253885707,
          0.7733151147297952,
          0.8699795040710196,
          0.966643893412244,
          1.0633082827534683,
          1.1599726720946928,
          1.2566370614359172,
          1.3533014507771415,
          1.449965840118366,
          1.5466302294595904,
          1.6432946188008148,
          1.7399590081420393,
          1.8366233974832635,
          1.933287786824488,
          2.0299521761657124,
          2.1266165655069367,
          2.2232809548481614,
          2.3199453441893856,
          2.41660973353061,
          2.5132741228718345,
          2.6099385122130587,
          2.706602901554283,
          2.8032672908955076,
          2.899931680236732,
          2.9965960695779565,
          3.0932604589191808,
          3.189924848260405,
          3.2865892376016297,
          3.383253626942854,
          3.4799180162840786,
          3.576582405625303,
          3.673246794966527,
          3.7699111843077517,
          3.866575573648976,
          3.9632399629902,
          4.059904352331425,
          4.15656874167265,
          4.253233131013873,
          4.349897520355098,
          4.446561909696323,
          4.5432262990375465,
          4.639890688378771,
          4.736555077719996,
          4.83321946706122,
          4.929883856402444,
          5.026548245743669,
          5.123212635084893,
          5.2198770244261175,
          5.316541413767342,
          5.413205803108566,
          5.509870192449791,
          5.606534581791015,
          5.70319897113224,
          5.799863360473464,
          5.896527749814688,
          5.993192139155913,
          6.089856528497137,
          6.1865209178383616
         ],
         "xaxis": "x",
         "y": [
          0,
          -3.391297423340936e-15,
          -1.8979759889982583e-15,
          -2.9944932506759537e-15,
          -4.3558919461239614e-15,
          -5.695252928434069e-15,
          -6.815205450873523e-15,
          -1.0714973802572488e-14,
          -8.787786612344306e-15,
          -6.0529113172995884e-15,
          -9.223414867621707e-15,
          -1.1943096330188194e-14,
          -8.090145117465028e-15,
          -3.964531034371048e-15,
          -1.1019794735005116e-14,
          -5.862363843199098e-15,
          -1.3218686703875352e-15,
          3.932272154544674e-15,
          8.141814383185675e-15,
          4.093398957265117e-15,
          8.379696015427564e-15,
          1.1931355299229258e-14,
          9.529666014220751e-15,
          1.5951094440042907e-14,
          1.3539349019890562e-14,
          1.2204289511552447e-14,
          1.3066934319988687e-14,
          1.2027273061443441e-14,
          1.2402145436213414e-14,
          7.257002392307375e-15,
          7.732986244395676e-15,
          -1.5533595285311934e-15,
          -7.675375217616862e-17,
          3.0559607884915567e-15,
          -9.406188901590365e-15,
          -4.973969274859959e-15,
          -1.9107923601767934e-14,
          -1.2388445880862475e-14,
          -3.999878616309052e-15,
          -1.784912795445273e-14,
          -7.194941134594795e-15,
          4.725238892019235e-15,
          -7.369155810184877e-15,
          -1.877276973425572e-14,
          2.0557858846499135e-14,
          1.064089453361804e-14,
          1.6348974850173643e-15,
          3.9231345177240137e-14,
          3.076432693808405e-14,
          2.3295766265595294e-14,
          5.534423757199972e-14,
          4.644797708069013e-14,
          3.8299101025553075e-14,
          5.906286980258183e-14,
          4.926731836093037e-14,
          4.047377977393281e-14,
          4.759016028778217e-14,
          3.6914762288880925e-14,
          2.7549618224321285e-14,
          2.021568270859359e-14,
          9.524671372007454e-15,
          1.4695965837466512e-15,
          -4.325595912511242e-15,
          -2.7537911253311475e-14,
          -3.183798091032598e-14
         ],
         "yaxis": "y"
        }
       ],
       "layout": {
        "legend": {
         "title": {
          "text": "variable"
         },
         "tracegroupgap": 0
        },
        "margin": {
         "t": 60
        },
        "template": {
         "data": {
          "bar": [
           {
            "error_x": {
             "color": "#2a3f5f"
            },
            "error_y": {
             "color": "#2a3f5f"
            },
            "marker": {
             "line": {
              "color": "#E5ECF6",
              "width": 0.5
             },
             "pattern": {
              "fillmode": "overlay",
              "size": 10,
              "solidity": 0.2
             }
            },
            "type": "bar"
           }
          ],
          "barpolar": [
           {
            "marker": {
             "line": {
              "color": "#E5ECF6",
              "width": 0.5
             },
             "pattern": {
              "fillmode": "overlay",
              "size": 10,
              "solidity": 0.2
             }
            },
            "type": "barpolar"
           }
          ],
          "carpet": [
           {
            "aaxis": {
             "endlinecolor": "#2a3f5f",
             "gridcolor": "white",
             "linecolor": "white",
             "minorgridcolor": "white",
             "startlinecolor": "#2a3f5f"
            },
            "baxis": {
             "endlinecolor": "#2a3f5f",
             "gridcolor": "white",
             "linecolor": "white",
             "minorgridcolor": "white",
             "startlinecolor": "#2a3f5f"
            },
            "type": "carpet"
           }
          ],
          "choropleth": [
           {
            "colorbar": {
             "outlinewidth": 0,
             "ticks": ""
            },
            "type": "choropleth"
           }
          ],
          "contour": [
           {
            "colorbar": {
             "outlinewidth": 0,
             "ticks": ""
            },
            "colorscale": [
             [
              0,
              "#0d0887"
             ],
             [
              0.1111111111111111,
              "#46039f"
             ],
             [
              0.2222222222222222,
              "#7201a8"
             ],
             [
              0.3333333333333333,
              "#9c179e"
             ],
             [
              0.4444444444444444,
              "#bd3786"
             ],
             [
              0.5555555555555556,
              "#d8576b"
             ],
             [
              0.6666666666666666,
              "#ed7953"
             ],
             [
              0.7777777777777778,
              "#fb9f3a"
             ],
             [
              0.8888888888888888,
              "#fdca26"
             ],
             [
              1,
              "#f0f921"
             ]
            ],
            "type": "contour"
           }
          ],
          "contourcarpet": [
           {
            "colorbar": {
             "outlinewidth": 0,
             "ticks": ""
            },
            "type": "contourcarpet"
           }
          ],
          "heatmap": [
           {
            "colorbar": {
             "outlinewidth": 0,
             "ticks": ""
            },
            "colorscale": [
             [
              0,
              "#0d0887"
             ],
             [
              0.1111111111111111,
              "#46039f"
             ],
             [
              0.2222222222222222,
              "#7201a8"
             ],
             [
              0.3333333333333333,
              "#9c179e"
             ],
             [
              0.4444444444444444,
              "#bd3786"
             ],
             [
              0.5555555555555556,
              "#d8576b"
             ],
             [
              0.6666666666666666,
              "#ed7953"
             ],
             [
              0.7777777777777778,
              "#fb9f3a"
             ],
             [
              0.8888888888888888,
              "#fdca26"
             ],
             [
              1,
              "#f0f921"
             ]
            ],
            "type": "heatmap"
           }
          ],
          "heatmapgl": [
           {
            "colorbar": {
             "outlinewidth": 0,
             "ticks": ""
            },
            "colorscale": [
             [
              0,
              "#0d0887"
             ],
             [
              0.1111111111111111,
              "#46039f"
             ],
             [
              0.2222222222222222,
              "#7201a8"
             ],
             [
              0.3333333333333333,
              "#9c179e"
             ],
             [
              0.4444444444444444,
              "#bd3786"
             ],
             [
              0.5555555555555556,
              "#d8576b"
             ],
             [
              0.6666666666666666,
              "#ed7953"
             ],
             [
              0.7777777777777778,
              "#fb9f3a"
             ],
             [
              0.8888888888888888,
              "#fdca26"
             ],
             [
              1,
              "#f0f921"
             ]
            ],
            "type": "heatmapgl"
           }
          ],
          "histogram": [
           {
            "marker": {
             "pattern": {
              "fillmode": "overlay",
              "size": 10,
              "solidity": 0.2
             }
            },
            "type": "histogram"
           }
          ],
          "histogram2d": [
           {
            "colorbar": {
             "outlinewidth": 0,
             "ticks": ""
            },
            "colorscale": [
             [
              0,
              "#0d0887"
             ],
             [
              0.1111111111111111,
              "#46039f"
             ],
             [
              0.2222222222222222,
              "#7201a8"
             ],
             [
              0.3333333333333333,
              "#9c179e"
             ],
             [
              0.4444444444444444,
              "#bd3786"
             ],
             [
              0.5555555555555556,
              "#d8576b"
             ],
             [
              0.6666666666666666,
              "#ed7953"
             ],
             [
              0.7777777777777778,
              "#fb9f3a"
             ],
             [
              0.8888888888888888,
              "#fdca26"
             ],
             [
              1,
              "#f0f921"
             ]
            ],
            "type": "histogram2d"
           }
          ],
          "histogram2dcontour": [
           {
            "colorbar": {
             "outlinewidth": 0,
             "ticks": ""
            },
            "colorscale": [
             [
              0,
              "#0d0887"
             ],
             [
              0.1111111111111111,
              "#46039f"
             ],
             [
              0.2222222222222222,
              "#7201a8"
             ],
             [
              0.3333333333333333,
              "#9c179e"
             ],
             [
              0.4444444444444444,
              "#bd3786"
             ],
             [
              0.5555555555555556,
              "#d8576b"
             ],
             [
              0.6666666666666666,
              "#ed7953"
             ],
             [
              0.7777777777777778,
              "#fb9f3a"
             ],
             [
              0.8888888888888888,
              "#fdca26"
             ],
             [
              1,
              "#f0f921"
             ]
            ],
            "type": "histogram2dcontour"
           }
          ],
          "mesh3d": [
           {
            "colorbar": {
             "outlinewidth": 0,
             "ticks": ""
            },
            "type": "mesh3d"
           }
          ],
          "parcoords": [
           {
            "line": {
             "colorbar": {
              "outlinewidth": 0,
              "ticks": ""
             }
            },
            "type": "parcoords"
           }
          ],
          "pie": [
           {
            "automargin": true,
            "type": "pie"
           }
          ],
          "scatter": [
           {
            "fillpattern": {
             "fillmode": "overlay",
             "size": 10,
             "solidity": 0.2
            },
            "type": "scatter"
           }
          ],
          "scatter3d": [
           {
            "line": {
             "colorbar": {
              "outlinewidth": 0,
              "ticks": ""
             }
            },
            "marker": {
             "colorbar": {
              "outlinewidth": 0,
              "ticks": ""
             }
            },
            "type": "scatter3d"
           }
          ],
          "scattercarpet": [
           {
            "marker": {
             "colorbar": {
              "outlinewidth": 0,
              "ticks": ""
             }
            },
            "type": "scattercarpet"
           }
          ],
          "scattergeo": [
           {
            "marker": {
             "colorbar": {
              "outlinewidth": 0,
              "ticks": ""
             }
            },
            "type": "scattergeo"
           }
          ],
          "scattergl": [
           {
            "marker": {
             "colorbar": {
              "outlinewidth": 0,
              "ticks": ""
             }
            },
            "type": "scattergl"
           }
          ],
          "scattermapbox": [
           {
            "marker": {
             "colorbar": {
              "outlinewidth": 0,
              "ticks": ""
             }
            },
            "type": "scattermapbox"
           }
          ],
          "scatterpolar": [
           {
            "marker": {
             "colorbar": {
              "outlinewidth": 0,
              "ticks": ""
             }
            },
            "type": "scatterpolar"
           }
          ],
          "scatterpolargl": [
           {
            "marker": {
             "colorbar": {
              "outlinewidth": 0,
              "ticks": ""
             }
            },
            "type": "scatterpolargl"
           }
          ],
          "scatterternary": [
           {
            "marker": {
             "colorbar": {
              "outlinewidth": 0,
              "ticks": ""
             }
            },
            "type": "scatterternary"
           }
          ],
          "surface": [
           {
            "colorbar": {
             "outlinewidth": 0,
             "ticks": ""
            },
            "colorscale": [
             [
              0,
              "#0d0887"
             ],
             [
              0.1111111111111111,
              "#46039f"
             ],
             [
              0.2222222222222222,
              "#7201a8"
             ],
             [
              0.3333333333333333,
              "#9c179e"
             ],
             [
              0.4444444444444444,
              "#bd3786"
             ],
             [
              0.5555555555555556,
              "#d8576b"
             ],
             [
              0.6666666666666666,
              "#ed7953"
             ],
             [
              0.7777777777777778,
              "#fb9f3a"
             ],
             [
              0.8888888888888888,
              "#fdca26"
             ],
             [
              1,
              "#f0f921"
             ]
            ],
            "type": "surface"
           }
          ],
          "table": [
           {
            "cells": {
             "fill": {
              "color": "#EBF0F8"
             },
             "line": {
              "color": "white"
             }
            },
            "header": {
             "fill": {
              "color": "#C8D4E3"
             },
             "line": {
              "color": "white"
             }
            },
            "type": "table"
           }
          ]
         },
         "layout": {
          "annotationdefaults": {
           "arrowcolor": "#2a3f5f",
           "arrowhead": 0,
           "arrowwidth": 1
          },
          "autotypenumbers": "strict",
          "coloraxis": {
           "colorbar": {
            "outlinewidth": 0,
            "ticks": ""
           }
          },
          "colorscale": {
           "diverging": [
            [
             0,
             "#8e0152"
            ],
            [
             0.1,
             "#c51b7d"
            ],
            [
             0.2,
             "#de77ae"
            ],
            [
             0.3,
             "#f1b6da"
            ],
            [
             0.4,
             "#fde0ef"
            ],
            [
             0.5,
             "#f7f7f7"
            ],
            [
             0.6,
             "#e6f5d0"
            ],
            [
             0.7,
             "#b8e186"
            ],
            [
             0.8,
             "#7fbc41"
            ],
            [
             0.9,
             "#4d9221"
            ],
            [
             1,
             "#276419"
            ]
           ],
           "sequential": [
            [
             0,
             "#0d0887"
            ],
            [
             0.1111111111111111,
             "#46039f"
            ],
            [
             0.2222222222222222,
             "#7201a8"
            ],
            [
             0.3333333333333333,
             "#9c179e"
            ],
            [
             0.4444444444444444,
             "#bd3786"
            ],
            [
             0.5555555555555556,
             "#d8576b"
            ],
            [
             0.6666666666666666,
             "#ed7953"
            ],
            [
             0.7777777777777778,
             "#fb9f3a"
            ],
            [
             0.8888888888888888,
             "#fdca26"
            ],
            [
             1,
             "#f0f921"
            ]
           ],
           "sequentialminus": [
            [
             0,
             "#0d0887"
            ],
            [
             0.1111111111111111,
             "#46039f"
            ],
            [
             0.2222222222222222,
             "#7201a8"
            ],
            [
             0.3333333333333333,
             "#9c179e"
            ],
            [
             0.4444444444444444,
             "#bd3786"
            ],
            [
             0.5555555555555556,
             "#d8576b"
            ],
            [
             0.6666666666666666,
             "#ed7953"
            ],
            [
             0.7777777777777778,
             "#fb9f3a"
            ],
            [
             0.8888888888888888,
             "#fdca26"
            ],
            [
             1,
             "#f0f921"
            ]
           ]
          },
          "colorway": [
           "#636efa",
           "#EF553B",
           "#00cc96",
           "#ab63fa",
           "#FFA15A",
           "#19d3f3",
           "#FF6692",
           "#B6E880",
           "#FF97FF",
           "#FECB52"
          ],
          "font": {
           "color": "#2a3f5f"
          },
          "geo": {
           "bgcolor": "white",
           "lakecolor": "white",
           "landcolor": "#E5ECF6",
           "showlakes": true,
           "showland": true,
           "subunitcolor": "white"
          },
          "hoverlabel": {
           "align": "left"
          },
          "hovermode": "closest",
          "mapbox": {
           "style": "light"
          },
          "paper_bgcolor": "white",
          "plot_bgcolor": "#E5ECF6",
          "polar": {
           "angularaxis": {
            "gridcolor": "white",
            "linecolor": "white",
            "ticks": ""
           },
           "bgcolor": "#E5ECF6",
           "radialaxis": {
            "gridcolor": "white",
            "linecolor": "white",
            "ticks": ""
           }
          },
          "scene": {
           "xaxis": {
            "backgroundcolor": "#E5ECF6",
            "gridcolor": "white",
            "gridwidth": 2,
            "linecolor": "white",
            "showbackground": true,
            "ticks": "",
            "zerolinecolor": "white"
           },
           "yaxis": {
            "backgroundcolor": "#E5ECF6",
            "gridcolor": "white",
            "gridwidth": 2,
            "linecolor": "white",
            "showbackground": true,
            "ticks": "",
            "zerolinecolor": "white"
           },
           "zaxis": {
            "backgroundcolor": "#E5ECF6",
            "gridcolor": "white",
            "gridwidth": 2,
            "linecolor": "white",
            "showbackground": true,
            "ticks": "",
            "zerolinecolor": "white"
           }
          },
          "shapedefaults": {
           "line": {
            "color": "#2a3f5f"
           }
          },
          "ternary": {
           "aaxis": {
            "gridcolor": "white",
            "linecolor": "white",
            "ticks": ""
           },
           "baxis": {
            "gridcolor": "white",
            "linecolor": "white",
            "ticks": ""
           },
           "bgcolor": "#E5ECF6",
           "caxis": {
            "gridcolor": "white",
            "linecolor": "white",
            "ticks": ""
           }
          },
          "title": {
           "x": 0.05
          },
          "xaxis": {
           "automargin": true,
           "gridcolor": "white",
           "linecolor": "white",
           "ticks": "",
           "title": {
            "standoff": 15
           },
           "zerolinecolor": "white",
           "zerolinewidth": 2
          },
          "yaxis": {
           "automargin": true,
           "gridcolor": "white",
           "linecolor": "white",
           "ticks": "",
           "title": {
            "standoff": 15
           },
           "zerolinecolor": "white",
           "zerolinewidth": 2
          }
         }
        },
        "xaxis": {
         "anchor": "y",
         "domain": [
          0,
          1
         ],
         "title": {
          "text": "x"
         }
        },
        "yaxis": {
         "anchor": "x",
         "domain": [
          0,
          1
         ],
         "title": {
          "text": "value"
         }
        }
       }
      }
     },
     "metadata": {},
     "output_type": "display_data"
    }
   ],
   "source": [
    "# plotting the initial condition X0_mix in space\n",
    "\n",
    "X0_mix_space = iDFT @ (X0_mix)\n",
    "print('mean of X0 :',np.mean(X0_mix))\n",
    "px.line(x=xspan,y=[np.real(X0_mix_space),np.imag(X0_mix_space)])"
   ]
  },
  {
   "cell_type": "code",
   "execution_count": 54,
   "metadata": {},
   "outputs": [],
   "source": [
    "# Creating fX0_sin, fX0_cos and fX0_mix\n",
    "\n",
    "fX0_sin = np.concatenate((X0_sin,X0_sin))\n",
    "fX0_cos = np.concatenate((X0_cos,X0_cos))\n",
    "fX0_mix = np.concatenate((X0_mix,X0_mix))"
   ]
  },
  {
   "cell_type": "code",
   "execution_count": 55,
   "metadata": {},
   "outputs": [],
   "source": [
    "# ------------------------------\n",
    "# Time integration scheme\n",
    "# ------------------------------\n",
    "\n",
    "def Euler_Explicit(mat, X0, tspan):\n",
    "    X = np.zeros((X0.shape[0],tspan.shape[0])) + np.zeros((X0.shape[0],tspan.shape[0]))*1j\n",
    "    dt = tspan[1] - tspan[0]\n",
    "    X[:,0] = X0\n",
    "    for i in range(1,len(tspan)):\n",
    "        X[:,i] = X[:,i-1] + dt * mat @ X[:,i-1]\n",
    "    return X"
   ]
  },
  {
   "cell_type": "code",
   "execution_count": 56,
   "metadata": {},
   "outputs": [
    {
     "name": "stdout",
     "output_type": "stream",
     "text": [
      "1st edo : done\n",
      "2nd edo : done\n",
      "3rd edo : done\n"
     ]
    }
   ],
   "source": [
    "# ------------------------------\n",
    "# Time integration with fX0_sin\n",
    "# ------------------------------\n",
    "\n",
    "fX_sol_EE_fA_sin = Euler_Explicit(fA,fX0_sin,tspan)\n",
    "print('1st edo : done')\n",
    "fX_sol_EE_fA_mod_nm_sin = Euler_Explicit(fA_mod_nm,fX0_sin,tspan)\n",
    "print('2nd edo : done')\n",
    "fX_sol_EE_fA_mod_bf_sin = Euler_Explicit(fA_mod_bf,fX0_sin,tspan)\n",
    "print('3rd edo : done')"
   ]
  },
  {
   "cell_type": "code",
   "execution_count": 57,
   "metadata": {},
   "outputs": [
    {
     "name": "stdout",
     "output_type": "stream",
     "text": [
      "1st edo : done\n",
      "2nd edo : done\n",
      "3rd edo : done\n"
     ]
    }
   ],
   "source": [
    "# ------------------------------\n",
    "# Time integration with fX0_cos\n",
    "# ------------------------------\n",
    "\n",
    "fX_sol_EE_fA_cos = Euler_Explicit(fA,fX0_cos,tspan)\n",
    "print('1st edo : done')\n",
    "fX_sol_EE_fA_mod_nm_cos = Euler_Explicit(fA_mod_nm,fX0_cos,tspan)\n",
    "print('2nd edo : done')\n",
    "fX_sol_EE_fA_mod_bf_cos = Euler_Explicit(fA_mod_bf,fX0_cos,tspan)\n",
    "print('3rd edo : done')"
   ]
  },
  {
   "cell_type": "code",
   "execution_count": 58,
   "metadata": {},
   "outputs": [
    {
     "name": "stdout",
     "output_type": "stream",
     "text": [
      "1st edo : done\n",
      "2nd edo : done\n",
      "3rd edo : done\n"
     ]
    }
   ],
   "source": [
    "# ------------------------------\n",
    "# Time integration with fX0_mix\n",
    "# ------------------------------\n",
    "\n",
    "fX_sol_EE_fA_mix = Euler_Explicit(fA,fX0_mix,tspan)\n",
    "print('1st edo : done')\n",
    "fX_sol_EE_fA_mod_nm_mix = Euler_Explicit(fA_mod_nm,fX0_mix,tspan)\n",
    "print('2nd edo : done')\n",
    "fX_sol_EE_fA_mod_bf_mix = Euler_Explicit(fA_mod_bf,fX0_mix,tspan)\n",
    "print('3rd edo : done')"
   ]
  },
  {
   "cell_type": "code",
   "execution_count": 59,
   "metadata": {},
   "outputs": [
    {
     "data": {
      "image/png": "[encoded data removed]",
      "text/plain": [
       "<Figure size 640x480 with 1 Axes>"
      ]
     },
     "metadata": {},
     "output_type": "display_data"
    }
   ],
   "source": [
    "steps = tspan.shape[0]//200\n",
    "plt.semilogy(tspan[::steps],np.linalg.norm(fX_sol_EE_fA_sin[0:,::steps],2,axis=0),'-s',label='fX_sol_EE_fA_sin')\n",
    "plt.semilogy(tspan[::steps],np.linalg.norm(fX_sol_EE_fA_mod_nm_sin[0:,::steps],2,axis=0),'-x',label='fX_sol_EE_fA_mod_nm_sin')\n",
    "plt.semilogy(tspan[::steps],np.linalg.norm(fX_sol_EE_fA_mod_bf_sin[0:,::steps],2,axis=0),'-o',label='fX_sol_EE_fA_mod_bf_sin')\n",
    "plt.title(r'convergence, condition initiale : sinus')\n",
    "plt.grid()\n",
    "plt.legend()\n",
    "plt.xlabel(r'time $T$')\n",
    "plt.ylabel(r'L2 norm of solution fX_sol')\n",
    "plt.show()"
   ]
  },
  {
   "cell_type": "code",
   "execution_count": 60,
   "metadata": {},
   "outputs": [
    {
     "data": {
      "image/png": "[encoded data removed]",
      "text/plain": [
       "<Figure size 640x480 with 1 Axes>"
      ]
     },
     "metadata": {},
     "output_type": "display_data"
    }
   ],
   "source": [
    "steps = tspan.shape[0]//30\n",
    "plt.semilogy(tspan[::steps],np.linalg.norm(fX_sol_EE_fA_cos[0:,::steps],2,axis=0),'-s',label='fX_sol_EE_fA_cos')\n",
    "plt.semilogy(tspan[::steps],np.linalg.norm(fX_sol_EE_fA_mod_nm_cos[0:,::steps],2,axis=0),'-x',label='fX_sol_EE_fA_mod_nm_cos')\n",
    "plt.semilogy(tspan[::steps],np.linalg.norm(fX_sol_EE_fA_mod_bf_cos[0:,::steps],2,axis=0),'-o',label='fX_sol_EE_fA_mod_bf_cos')\n",
    "plt.title(r'convergence, condition initiale : cosinus')\n",
    "plt.grid()\n",
    "plt.legend()\n",
    "plt.xlabel(r'time $T$')\n",
    "plt.ylabel(r'L2 norm of solution fX_sol')\n",
    "plt.show()"
   ]
  },
  {
   "cell_type": "code",
   "execution_count": 61,
   "metadata": {},
   "outputs": [
    {
     "data": {
      "image/png": "[encoded data removed]",
      "text/plain": [
       "<Figure size 1500x500 with 2 Axes>"
      ]
     },
     "metadata": {},
     "output_type": "display_data"
    }
   ],
   "source": [
    "steps = tspan.shape[0]//30\n",
    "plt.figure(figsize=(15, 5))\n",
    "plt.subplot(1, 2, 1)\n",
    "plt.semilogy(tspan[::steps],np.linalg.norm(np.kron(np.eye(2),Pi_bf) @ fX_sol_EE_fA_cos[0:,::steps],2,axis=0),'-s',label='Pi_bf @ fX_sol_EE_fA_cos')\n",
    "plt.semilogy(tspan[::steps],np.linalg.norm(np.kron(np.eye(2),Pi_bf) @ fX_sol_EE_fA_mod_nm_cos[0:,::steps],2,axis=0),'-x',label='Pi_bf @ fX_sol_EE_fA_mod_nm_cos')\n",
    "plt.semilogy(tspan[::steps],np.linalg.norm(np.kron(np.eye(2),Pi_bf) @ fX_sol_EE_fA_mod_bf_cos[0:,::steps],2,axis=0),'-o',label='Pi_bf @ fX_sol_EE_fA_mod_bf_cos')\n",
    "plt.title(r'convergence des basse frequences, condition initiale : cosinus')\n",
    "plt.grid()\n",
    "plt.legend()\n",
    "plt.xlabel(r'time $T$')\n",
    "plt.ylabel(r'L2 norm of solution fX_sol')\n",
    "plt.subplot(1, 2, 2)\n",
    "plt.semilogy(tspan[::steps],np.linalg.norm(np.kron(np.eye(2),Pi_hf) @ fX_sol_EE_fA_cos[0:,::steps],2,axis=0),'-s',label='Pi_hf @ fX_sol_EE_fA_cos')\n",
    "plt.semilogy(tspan[::steps],np.linalg.norm(np.kron(np.eye(2),Pi_hf) @ fX_sol_EE_fA_mod_nm_cos[0:,::steps],2,axis=0),'-x',label='Pi_hf @ fX_sol_EE_fA_mod_nm_cos')\n",
    "plt.semilogy(tspan[::steps],np.linalg.norm(np.kron(np.eye(2),Pi_hf) @ fX_sol_EE_fA_mod_bf_cos[0:,::steps],2,axis=0),'-o',label='Pi_hf @ fX_sol_EE_fA_mod_bf_cos')\n",
    "plt.title(r'convergence des hautes frequences, condition initiale : cosinus')\n",
    "plt.grid()\n",
    "plt.legend()\n",
    "plt.xlabel(r'time $T$')\n",
    "plt.ylabel(r'L2 norm of solution fX_sol')\n",
    "plt.show()"
   ]
  },
  {
   "cell_type": "code",
   "execution_count": 62,
   "metadata": {},
   "outputs": [
    {
     "data": {
      "image/png": "[encoded data removed]",
      "text/plain": [
       "<Figure size 640x480 with 1 Axes>"
      ]
     },
     "metadata": {},
     "output_type": "display_data"
    }
   ],
   "source": [
    "steps = tspan.shape[0]//30\n",
    "plt.semilogy(tspan[::steps],np.linalg.norm(fX_sol_EE_fA_mix[0:,::steps],2,axis=0),'-s',label='fX_sol_EE_fA_mix')\n",
    "plt.semilogy(tspan[::steps],np.linalg.norm(fX_sol_EE_fA_mod_nm_mix[0:,::steps],2,axis=0),'-x',label='fX_sol_EE_fA_mod_nm_mix')\n",
    "plt.semilogy(tspan[::steps],np.linalg.norm(fX_sol_EE_fA_mod_bf_mix[0:,::steps],2,axis=0),'-o',label='fX_sol_EE_fA_mod_bf_mix')\n",
    "plt.title(r'convergence, condition initiale : cosinus + sin')\n",
    "plt.grid()\n",
    "plt.legend()\n",
    "plt.xlabel(r'time $T$')\n",
    "plt.ylabel(r'L2 norm of solution fX_sol')\n",
    "plt.show()"
   ]
  },
  {
   "cell_type": "code",
   "execution_count": 63,
   "metadata": {},
   "outputs": [
    {
     "data": {
      "image/png": "[encoded data removed]",
      "text/plain": [
       "<Figure size 1500x500 with 2 Axes>"
      ]
     },
     "metadata": {},
     "output_type": "display_data"
    }
   ],
   "source": [
    "steps = tspan.shape[0]//30\n",
    "plt.figure(figsize=(15, 5))\n",
    "plt.subplot(1, 2, 1)\n",
    "plt.semilogy(tspan[::steps],np.linalg.norm(np.kron(np.eye(2),Pi_bf) @ fX_sol_EE_fA_mix[0:,::steps],2,axis=0),'-s',label='Pi_bf @ fX_sol_EE_fA_mix')\n",
    "plt.semilogy(tspan[::steps],np.linalg.norm(np.kron(np.eye(2),Pi_bf) @ fX_sol_EE_fA_mod_nm_mix[0:,::steps],2,axis=0),'-x',label='Pi_bf @ fX_sol_EE_fA_mod_nm_mix')\n",
    "plt.semilogy(tspan[::steps],np.linalg.norm(np.kron(np.eye(2),Pi_bf) @ fX_sol_EE_fA_mod_bf_mix[0:,::steps],2,axis=0),'-o',label='Pi_bf @ fX_sol_EE_fA_mod_bf_mix')\n",
    "plt.title(r'convergence des basse frequences, condition initiale : cosinus + sinus')\n",
    "plt.grid()\n",
    "plt.legend()\n",
    "plt.xlabel(r'time $T$')\n",
    "plt.ylabel(r'L2 norm of solution fX_sol')\n",
    "plt.subplot(1, 2, 2)\n",
    "plt.semilogy(tspan[::steps],np.linalg.norm(np.kron(np.eye(2),Pi_hf) @ fX_sol_EE_fA_mix[0:,::steps],2,axis=0),'-s',label='Pi_hf @ fX_sol_EE_fA_mix')\n",
    "plt.semilogy(tspan[::steps],np.linalg.norm(np.kron(np.eye(2),Pi_hf) @ fX_sol_EE_fA_mod_nm_mix[0:,::steps],2,axis=0),'-x',label='Pi_hf @ fX_sol_EE_fA_mod_nm_mix')\n",
    "plt.semilogy(tspan[::steps],np.linalg.norm(np.kron(np.eye(2),Pi_hf) @ fX_sol_EE_fA_mod_bf_mix[0:,::steps],2,axis=0),'-o',label='Pi_hf @ fX_sol_EE_fA_mod_bf_mix')\n",
    "plt.title(r'convergence des hautes frequences, condition initiale : cosinus + sinus')\n",
    "plt.grid()\n",
    "plt.legend()\n",
    "plt.xlabel(r'time $T$')\n",
    "plt.ylabel(r'L2 norm of solution fX_sol')\n",
    "plt.show()"
   ]
  }
 ],
 "metadata": {
  "kernelspec": {
   "display_name": "base",
   "language": "python",
   "name": "python3"
  },
  "language_info": {
   "codemirror_mode": {
    "name": "ipython",
    "version": 3
   },
   "file_extension": ".py",
   "mimetype": "text/x-python",
   "name": "python",
   "nbconvert_exporter": "python",
   "pygments_lexer": "ipython3",
   "version": "3.11.3"
  },
  "orig_nbformat": 4
 },
 "nbformat": 4,
 "nbformat_minor": 2
}
