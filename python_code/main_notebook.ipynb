{
 "cells": [
  {
   "cell_type": "code",
   "execution_count": 14,
   "metadata": {},
   "outputs": [],
   "source": [
    "from call_functions import *\n",
    "import matplotlib.pyplot as plt\n",
    "import plotly.express as px"
   ]
  },
  {
   "cell_type": "code",
   "execution_count": 15,
   "metadata": {},
   "outputs": [],
   "source": [
    "# ------------------------------\n",
    "# Parameters to tune\n",
    "# ------------------------------\n",
    "\n",
    "x0 = 0\n",
    "L = 2 * np.pi\n",
    "Nx = 2**6 +1\n",
    "Nf = Nx // 2\n",
    "dt = 1e-3\n",
    "a = 1\n",
    "g = 1\n",
    "gain = 1\n",
    "T_start = 0\n",
    "T = 500\n",
    "N_ini_fq = 2**1\n",
    "\n",
    "# ------------------------------\n",
    "# Space discretization\n",
    "# ------------------------------\n",
    "\n",
    "dx = L / Nx\n",
    "Lx = L - dx\n",
    "xspan = np.arange(x0, Lx + dx, dx)\n",
    "frequences = np.fft.fftfreq(Nx, dx) * 2 * np.pi\n",
    "frequences2 = fftfreq(Nx, dx) * 2 * np.pi # same as above\n",
    "\n",
    "# ------------------------------\n",
    "# Time discretization\n",
    "# ------------------------------\n",
    "\n",
    "T_end = T_start + T\n",
    "tspan = np.arange(T_start, T_end + dt, dt)\n",
    "Nt = len(tspan)"
   ]
  },
  {
   "cell_type": "code",
   "execution_count": 16,
   "metadata": {},
   "outputs": [
    {
     "data": {
      "text/plain": [
       "array([  0.,   1.,   2.,   3.,   4.,   5.,   6.,   7.,   8.,   9.,  10.,\n",
       "        11.,  12.,  13.,  14.,  15.,  16.,  17.,  18.,  19.,  20.,  21.,\n",
       "        22.,  23.,  24.,  25.,  26.,  27.,  28.,  29.,  30.,  31.,  32.,\n",
       "       -32., -31., -30., -29., -28., -27., -26., -25., -24., -23., -22.,\n",
       "       -21., -20., -19., -18., -17., -16., -15., -14., -13., -12., -11.,\n",
       "       -10.,  -9.,  -8.,  -7.,  -6.,  -5.,  -4.,  -3.,  -2.,  -1.])"
      ]
     },
     "execution_count": 16,
     "metadata": {},
     "output_type": "execute_result"
    }
   ],
   "source": [
    "frequences"
   ]
  },
  {
   "cell_type": "code",
   "execution_count": 17,
   "metadata": {},
   "outputs": [],
   "source": [
    "# 1) DFT and iDFT Matrices (as well as no mean matrices)\n",
    "DFT = 1 / Nx * getDFT(Nx)\n",
    "iDFT = getiDFT(Nx)\n",
    "\n",
    "DFT_n_m = 1 / Nx * getDFT_no_mean(Nx)\n",
    "iDFT_n_m = getiDFT_no_mean(Nx)\n",
    "\n",
    "# 2) True matrix A not in Fourier\n",
    "O = np.zeros((Nx, Nx))\n",
    "I = np.eye(Nx)\n",
    "G = Matrix_A_dz(Nx, dx)\n",
    "_, C = GetC(np.abs(xspan - np.pi) <= a)\n",
    "obs_space = np.abs(xspan - np.pi) <= a\n",
    "C = -np.dot(C.T, C)\n",
    "A = np.block([[O, -I], [G, C]])\n",
    "\n",
    "# True matrix A in Fourier\n",
    "fO = np.zeros((2 * Nf + 1, 2 * Nf + 1))\n",
    "fI = -np.eye(2 * Nf + 1)\n",
    "fF = np.diag(np.abs(np.concatenate((np.arange(0, Nf + 1), np.arange(-Nf, 0)))))# * 2 * np.pi)\n",
    "frequences = fftfreq(Nx, dx) * 2 * np.pi  # Assuming the previously defined fftfreq function\n",
    "fC = np.real(-((a * np.exp((-1j * np.pi) * (frequences.reshape(-1, 1) - frequences))) / np.pi) * np.sinc(a * (frequences.reshape(-1, 1) - frequences) / np.pi))\n",
    "fA = np.block([[fO, fI], [fF, fC]])\n",
    "\n",
    "# Matrix that deletes the mean\n",
    "Pi_nm = np.diag(np.concatenate((np.zeros(1),np.ones(Nx-1))))\n",
    "\n",
    "# Modified fA\n",
    "fA_mod_nm = np.block([[fO, fI], [fF, Pi_nm @ fC]])\n",
    "\n",
    "# vector with list of all the positive frequencices\n",
    "pos_frequences = frequences[1:int((len(frequences)-1)/2)+1]\n",
    "\n",
    "# Matrix that deletes the mean and the high frequencies\n",
    "Pi_bf = np.diag(np.concatenate((np.zeros(1),(pos_frequences <= N_ini_fq),(pos_frequences <= N_ini_fq)[::-1])))\n",
    "Pi_hf = np.diag(np.concatenate((np.zeros(1),(pos_frequences > N_ini_fq),(pos_frequences > N_ini_fq)[::-1])))\n",
    "\n",
    "# second Modified fA\n",
    "fA_mod_bf = np.block([[fO, fI], [fF, Pi_bf @ fC]])"
   ]
  },
  {
   "cell_type": "code",
   "execution_count": 18,
   "metadata": {},
   "outputs": [
    {
     "data": {
      "text/plain": [
       "array([[0., 0., 0., ..., 0., 0., 0.],\n",
       "       [0., 1., 0., ..., 0., 0., 0.],\n",
       "       [0., 0., 1., ..., 0., 0., 0.],\n",
       "       ...,\n",
       "       [0., 0., 0., ..., 0., 0., 0.],\n",
       "       [0., 0., 0., ..., 0., 1., 0.],\n",
       "       [0., 0., 0., ..., 0., 0., 1.]])"
      ]
     },
     "execution_count": 18,
     "metadata": {},
     "output_type": "execute_result"
    }
   ],
   "source": [
    "Pi_bf"
   ]
  },
  {
   "cell_type": "code",
   "execution_count": 19,
   "metadata": {},
   "outputs": [
    {
     "name": "stdout",
     "output_type": "stream",
     "text": [
      "list of frequences :\n",
      "[  0.   1.   2.   3.   4.   5.   6.   7.   8.   9.  10.  11.  12.  13.\n",
      "  14.  15.  16.  17.  18.  19.  20.  21.  22.  23.  24.  25.  26.  27.\n",
      "  28.  29.  30.  31.  32. -32. -31. -30. -29. -28. -27. -26. -25. -24.\n",
      " -23. -22. -21. -20. -19. -18. -17. -16. -15. -14. -13. -12. -11. -10.\n",
      "  -9.  -8.  -7.  -6.  -5.  -4.  -3.  -2.  -1.]\n"
     ]
    }
   ],
   "source": [
    "print('list of frequences :')\n",
    "print(2 * np.pi * fftfreq(Nx, dx))"
   ]
  },
  {
   "cell_type": "code",
   "execution_count": 20,
   "metadata": {},
   "outputs": [
    {
     "name": "stdout",
     "output_type": "stream",
     "text": [
      "relative error between DFT @ fF @ iDFT and G :\n",
      "5.930223855214203e-15\n",
      "relative error between DFT @ fC @ iDFT and C :\n",
      "0.1934359125475558\n",
      "relative error between DFT @ fA @ iDFT and A :\n",
      "0.005708458913611578\n"
     ]
    }
   ],
   "source": [
    "# Now : DFT @ fF @ iDFT = G\n",
    "\n",
    "print('relative error between DFT @ fF @ iDFT and G :')\n",
    "print(np.linalg.norm(np.real(iDFT @ fF @ DFT) - G)/np.linalg.norm(G))\n",
    "\n",
    "# Now : DFT @ fF @ iDFT = G * np.pi * 2\n",
    "\n",
    "print('relative error between DFT @ fC @ iDFT and C :')\n",
    "print(np.linalg.norm(np.real(iDFT @ fC @ DFT) - C)/np.linalg.norm(C))\n",
    "\n",
    "print('relative error between DFT @ fA @ iDFT and A :')\n",
    "print(np.linalg.norm(np.real(np.kron(np.eye(2),DFT) @ fA @ np.kron(np.eye(2),iDFT)) - A)/np.linalg.norm(A))"
   ]
  },
  {
   "cell_type": "code",
   "execution_count": 21,
   "metadata": {},
   "outputs": [
    {
     "data": {
      "application/vnd.plotly.v1+json": {
       "config": {
        "plotlyServerURL": "https://plot.ly"
       },
       "data": [
        {
         "hovertemplate": "variable=wide_variable_0<br>x=%{x}<br>value=%{y}<extra></extra>",
         "legendgroup": "wide_variable_0",
         "marker": {
          "color": "#636efa",
          "symbol": "circle"
         },
         "mode": "markers",
         "name": "wide_variable_0",
         "orientation": "v",
         "showlegend": true,
         "type": "scatter",
         "x": [
          0,
          1,
          2,
          3,
          4,
          5,
          6,
          7.000000000000001,
          8,
          9,
          10,
          11,
          12,
          12.999999999999998,
          14.000000000000002,
          15,
          16,
          17,
          18,
          19,
          20,
          21,
          22,
          23,
          24,
          25,
          25.999999999999996,
          26.999999999999996,
          28.000000000000004,
          29.000000000000004,
          30,
          31,
          32,
          -32,
          -31,
          -30,
          -29.000000000000004,
          -28.000000000000004,
          -26.999999999999996,
          -25.999999999999996,
          -25,
          -24,
          -23,
          -22,
          -21,
          -20,
          -19,
          -18,
          -17,
          -16,
          -15,
          -14.000000000000002,
          -12.999999999999998,
          -12,
          -11,
          -10,
          -9,
          -8,
          -7.000000000000001,
          -6,
          -5,
          -4,
          -3,
          -2,
          -1
         ],
         "xaxis": "x",
         "y": [
          -0.3076923076923077,
          0.26206591981074834,
          -0.14904446048590583,
          0.025481373581974658,
          0.05309978325958975,
          -0.06381715238891349,
          0.0250033058805082,
          0.021540880081084488,
          -0.040500273481641126,
          0.024209445257000528,
          0.007922521776536282,
          -0.028374762151033288,
          0.0231040169240581,
          -6.938893903907228e-18,
          -0.02021972140876597,
          0.021692616129638933,
          -0.005270894123914209,
          -0.013931890732479218,
          0.019981852795054485,
          -0.008997971431550374,
          -0.008687396628909754,
          0.01797883543974922,
          -0.011673066598555992,
          -0.004107171814453392,
          0.0156904316436901,
          -0.013541251655857726,
          2.168404344971009e-17,
          0.01312220026784105,
          -0.0147319337377021,
          0.003735093878309808,
          0.01027681661365986,
          -0.01531266830435259,
          0.00715167545074645,
          0.007151675450746628,
          -0.015312668304352527,
          0.010276816613659536,
          0.003735093878309287,
          -0.014731933737702662,
          0.01312220026784063,
          -2.168404344971009e-17,
          -0.013541251655858002,
          0.015690431643690078,
          -0.004107171814454608,
          -0.011673066598555305,
          0.01797883543974903,
          -0.00868739662890972,
          -0.008997971431550266,
          0.019981852795053937,
          -0.013931890732479099,
          -0.0052708941239142885,
          0.021692616129639852,
          -0.020219721408765736,
          5.377642775528102e-17,
          0.023104016924058026,
          -0.028374762151033087,
          0.007922521776536299,
          0.024209445257000205,
          -0.040500273481640675,
          0.021540880081084512,
          0.0250033058805076,
          -0.063817152388913,
          0.05309978325959022,
          0.025481373581974234,
          -0.14904446048590472,
          0.2620659198107476
         ],
         "yaxis": "y"
        },
        {
         "hovertemplate": "variable=wide_variable_1<br>x=%{x}<br>value=%{y}<extra></extra>",
         "legendgroup": "wide_variable_1",
         "marker": {
          "color": "#EF553B",
          "symbol": "circle"
         },
         "mode": "markers",
         "name": "wide_variable_1",
         "orientation": "v",
         "showlegend": true,
         "type": "scatter",
         "x": [
          0,
          1,
          2,
          3,
          4,
          5,
          6,
          7.000000000000001,
          8,
          9,
          10,
          11,
          12,
          12.999999999999998,
          14.000000000000002,
          15,
          16,
          17,
          18,
          19,
          20,
          21,
          22,
          23,
          24,
          25,
          25.999999999999996,
          26.999999999999996,
          28.000000000000004,
          29.000000000000004,
          30,
          31,
          32,
          -32,
          -31,
          -30,
          -29.000000000000004,
          -28.000000000000004,
          -26.999999999999996,
          -25.999999999999996,
          -25,
          -24,
          -23,
          -22,
          -21,
          -20,
          -19,
          -18,
          -17,
          -16,
          -15,
          -14.000000000000002,
          -12.999999999999998,
          -12,
          -11,
          -10,
          -9,
          -8,
          -7.000000000000001,
          -6,
          -5,
          -4,
          -3,
          -2,
          -1
         ],
         "xaxis": "x",
         "y": [
          -0.3183098861837907,
          0.2678485334011638,
          -0.14471918022004823,
          0.014973297901263985,
          0.060224429036268866,
          -0.061047015345379534,
          0.014823452571614545,
          0.029875047066064815,
          -0.03936531385971042,
          0.014575709792393306,
          0.017316729788877466,
          -0.028936978984732707,
          0.014233038704835242,
          0.010287947820805244,
          -0.022522865331718576,
          0.013799536559140995,
          0.005727654497474549,
          -0.018001313306915505,
          0.013280370280298364,
          0.0025109156604925524,
          -0.01452997494255717,
          0.012681702908449461,
          0.0001280663296729994,
          -0.011711318284321736,
          0.012010606055868003,
          -0.0016851548203939057,
          -0.009335765137717287,
          0.011274959737753883,
          -0.003079713951528814,
          -0.007284180212121981,
          0.010483341127032824,
          -0.0041486831257016655,
          -0.005485142629523374,
          -0.005485142629523374,
          -0.0041486831257016655,
          0.010483341127032824,
          -0.007284180212121981,
          -0.003079713951528814,
          0.011274959737753883,
          -0.009335765137717287,
          -0.0016851548203939057,
          0.012010606055868003,
          -0.011711318284321736,
          0.0001280663296729994,
          0.012681702908449461,
          -0.01452997494255717,
          0.0025109156604925524,
          0.013280370280298364,
          -0.018001313306915505,
          0.005727654497474549,
          0.013799536559140995,
          -0.022522865331718576,
          0.010287947820805244,
          0.014233038704835242,
          -0.028936978984732707,
          0.017316729788877466,
          0.014575709792393306,
          -0.03936531385971042,
          0.029875047066064815,
          0.014823452571614545,
          -0.061047015345379534,
          0.060224429036268866,
          0.014973297901263985,
          -0.14471918022004823,
          0.2678485334011638
         ],
         "yaxis": "y"
        }
       ],
       "layout": {
        "legend": {
         "title": {
          "text": "variable"
         },
         "tracegroupgap": 0
        },
        "margin": {
         "t": 60
        },
        "template": {
         "data": {
          "bar": [
           {
            "error_x": {
             "color": "#2a3f5f"
            },
            "error_y": {
             "color": "#2a3f5f"
            },
            "marker": {
             "line": {
              "color": "#E5ECF6",
              "width": 0.5
             },
             "pattern": {
              "fillmode": "overlay",
              "size": 10,
              "solidity": 0.2
             }
            },
            "type": "bar"
           }
          ],
          "barpolar": [
           {
            "marker": {
             "line": {
              "color": "#E5ECF6",
              "width": 0.5
             },
             "pattern": {
              "fillmode": "overlay",
              "size": 10,
              "solidity": 0.2
             }
            },
            "type": "barpolar"
           }
          ],
          "carpet": [
           {
            "aaxis": {
             "endlinecolor": "#2a3f5f",
             "gridcolor": "white",
             "linecolor": "white",
             "minorgridcolor": "white",
             "startlinecolor": "#2a3f5f"
            },
            "baxis": {
             "endlinecolor": "#2a3f5f",
             "gridcolor": "white",
             "linecolor": "white",
             "minorgridcolor": "white",
             "startlinecolor": "#2a3f5f"
            },
            "type": "carpet"
           }
          ],
          "choropleth": [
           {
            "colorbar": {
             "outlinewidth": 0,
             "ticks": ""
            },
            "type": "choropleth"
           }
          ],
          "contour": [
           {
            "colorbar": {
             "outlinewidth": 0,
             "ticks": ""
            },
            "colorscale": [
             [
              0,
              "#0d0887"
             ],
             [
              0.1111111111111111,
              "#46039f"
             ],
             [
              0.2222222222222222,
              "#7201a8"
             ],
             [
              0.3333333333333333,
              "#9c179e"
             ],
             [
              0.4444444444444444,
              "#bd3786"
             ],
             [
              0.5555555555555556,
              "#d8576b"
             ],
             [
              0.6666666666666666,
              "#ed7953"
             ],
             [
              0.7777777777777778,
              "#fb9f3a"
             ],
             [
              0.8888888888888888,
              "#fdca26"
             ],
             [
              1,
              "#f0f921"
             ]
            ],
            "type": "contour"
           }
          ],
          "contourcarpet": [
           {
            "colorbar": {
             "outlinewidth": 0,
             "ticks": ""
            },
            "type": "contourcarpet"
           }
          ],
          "heatmap": [
           {
            "colorbar": {
             "outlinewidth": 0,
             "ticks": ""
            },
            "colorscale": [
             [
              0,
              "#0d0887"
             ],
             [
              0.1111111111111111,
              "#46039f"
             ],
             [
              0.2222222222222222,
              "#7201a8"
             ],
             [
              0.3333333333333333,
              "#9c179e"
             ],
             [
              0.4444444444444444,
              "#bd3786"
             ],
             [
              0.5555555555555556,
              "#d8576b"
             ],
             [
              0.6666666666666666,
              "#ed7953"
             ],
             [
              0.7777777777777778,
              "#fb9f3a"
             ],
             [
              0.8888888888888888,
              "#fdca26"
             ],
             [
              1,
              "#f0f921"
             ]
            ],
            "type": "heatmap"
           }
          ],
          "heatmapgl": [
           {
            "colorbar": {
             "outlinewidth": 0,
             "ticks": ""
            },
            "colorscale": [
             [
              0,
              "#0d0887"
             ],
             [
              0.1111111111111111,
              "#46039f"
             ],
             [
              0.2222222222222222,
              "#7201a8"
             ],
             [
              0.3333333333333333,
              "#9c179e"
             ],
             [
              0.4444444444444444,
              "#bd3786"
             ],
             [
              0.5555555555555556,
              "#d8576b"
             ],
             [
              0.6666666666666666,
              "#ed7953"
             ],
             [
              0.7777777777777778,
              "#fb9f3a"
             ],
             [
              0.8888888888888888,
              "#fdca26"
             ],
             [
              1,
              "#f0f921"
             ]
            ],
            "type": "heatmapgl"
           }
          ],
          "histogram": [
           {
            "marker": {
             "pattern": {
              "fillmode": "overlay",
              "size": 10,
              "solidity": 0.2
             }
            },
            "type": "histogram"
           }
          ],
          "histogram2d": [
           {
            "colorbar": {
             "outlinewidth": 0,
             "ticks": ""
            },
            "colorscale": [
             [
              0,
              "#0d0887"
             ],
             [
              0.1111111111111111,
              "#46039f"
             ],
             [
              0.2222222222222222,
              "#7201a8"
             ],
             [
              0.3333333333333333,
              "#9c179e"
             ],
             [
              0.4444444444444444,
              "#bd3786"
             ],
             [
              0.5555555555555556,
              "#d8576b"
             ],
             [
              0.6666666666666666,
              "#ed7953"
             ],
             [
              0.7777777777777778,
              "#fb9f3a"
             ],
             [
              0.8888888888888888,
              "#fdca26"
             ],
             [
              1,
              "#f0f921"
             ]
            ],
            "type": "histogram2d"
           }
          ],
          "histogram2dcontour": [
           {
            "colorbar": {
             "outlinewidth": 0,
             "ticks": ""
            },
            "colorscale": [
             [
              0,
              "#0d0887"
             ],
             [
              0.1111111111111111,
              "#46039f"
             ],
             [
              0.2222222222222222,
              "#7201a8"
             ],
             [
              0.3333333333333333,
              "#9c179e"
             ],
             [
              0.4444444444444444,
              "#bd3786"
             ],
             [
              0.5555555555555556,
              "#d8576b"
             ],
             [
              0.6666666666666666,
              "#ed7953"
             ],
             [
              0.7777777777777778,
              "#fb9f3a"
             ],
             [
              0.8888888888888888,
              "#fdca26"
             ],
             [
              1,
              "#f0f921"
             ]
            ],
            "type": "histogram2dcontour"
           }
          ],
          "mesh3d": [
           {
            "colorbar": {
             "outlinewidth": 0,
             "ticks": ""
            },
            "type": "mesh3d"
           }
          ],
          "parcoords": [
           {
            "line": {
             "colorbar": {
              "outlinewidth": 0,
              "ticks": ""
             }
            },
            "type": "parcoords"
           }
          ],
          "pie": [
           {
            "automargin": true,
            "type": "pie"
           }
          ],
          "scatter": [
           {
            "fillpattern": {
             "fillmode": "overlay",
             "size": 10,
             "solidity": 0.2
            },
            "type": "scatter"
           }
          ],
          "scatter3d": [
           {
            "line": {
             "colorbar": {
              "outlinewidth": 0,
              "ticks": ""
             }
            },
            "marker": {
             "colorbar": {
              "outlinewidth": 0,
              "ticks": ""
             }
            },
            "type": "scatter3d"
           }
          ],
          "scattercarpet": [
           {
            "marker": {
             "colorbar": {
              "outlinewidth": 0,
              "ticks": ""
             }
            },
            "type": "scattercarpet"
           }
          ],
          "scattergeo": [
           {
            "marker": {
             "colorbar": {
              "outlinewidth": 0,
              "ticks": ""
             }
            },
            "type": "scattergeo"
           }
          ],
          "scattergl": [
           {
            "marker": {
             "colorbar": {
              "outlinewidth": 0,
              "ticks": ""
             }
            },
            "type": "scattergl"
           }
          ],
          "scattermapbox": [
           {
            "marker": {
             "colorbar": {
              "outlinewidth": 0,
              "ticks": ""
             }
            },
            "type": "scattermapbox"
           }
          ],
          "scatterpolar": [
           {
            "marker": {
             "colorbar": {
              "outlinewidth": 0,
              "ticks": ""
             }
            },
            "type": "scatterpolar"
           }
          ],
          "scatterpolargl": [
           {
            "marker": {
             "colorbar": {
              "outlinewidth": 0,
              "ticks": ""
             }
            },
            "type": "scatterpolargl"
           }
          ],
          "scatterternary": [
           {
            "marker": {
             "colorbar": {
              "outlinewidth": 0,
              "ticks": ""
             }
            },
            "type": "scatterternary"
           }
          ],
          "surface": [
           {
            "colorbar": {
             "outlinewidth": 0,
             "ticks": ""
            },
            "colorscale": [
             [
              0,
              "#0d0887"
             ],
             [
              0.1111111111111111,
              "#46039f"
             ],
             [
              0.2222222222222222,
              "#7201a8"
             ],
             [
              0.3333333333333333,
              "#9c179e"
             ],
             [
              0.4444444444444444,
              "#bd3786"
             ],
             [
              0.5555555555555556,
              "#d8576b"
             ],
             [
              0.6666666666666666,
              "#ed7953"
             ],
             [
              0.7777777777777778,
              "#fb9f3a"
             ],
             [
              0.8888888888888888,
              "#fdca26"
             ],
             [
              1,
              "#f0f921"
             ]
            ],
            "type": "surface"
           }
          ],
          "table": [
           {
            "cells": {
             "fill": {
              "color": "#EBF0F8"
             },
             "line": {
              "color": "white"
             }
            },
            "header": {
             "fill": {
              "color": "#C8D4E3"
             },
             "line": {
              "color": "white"
             }
            },
            "type": "table"
           }
          ]
         },
         "layout": {
          "annotationdefaults": {
           "arrowcolor": "#2a3f5f",
           "arrowhead": 0,
           "arrowwidth": 1
          },
          "autotypenumbers": "strict",
          "coloraxis": {
           "colorbar": {
            "outlinewidth": 0,
            "ticks": ""
           }
          },
          "colorscale": {
           "diverging": [
            [
             0,
             "#8e0152"
            ],
            [
             0.1,
             "#c51b7d"
            ],
            [
             0.2,
             "#de77ae"
            ],
            [
             0.3,
             "#f1b6da"
            ],
            [
             0.4,
             "#fde0ef"
            ],
            [
             0.5,
             "#f7f7f7"
            ],
            [
             0.6,
             "#e6f5d0"
            ],
            [
             0.7,
             "#b8e186"
            ],
            [
             0.8,
             "#7fbc41"
            ],
            [
             0.9,
             "#4d9221"
            ],
            [
             1,
             "#276419"
            ]
           ],
           "sequential": [
            [
             0,
             "#0d0887"
            ],
            [
             0.1111111111111111,
             "#46039f"
            ],
            [
             0.2222222222222222,
             "#7201a8"
            ],
            [
             0.3333333333333333,
             "#9c179e"
            ],
            [
             0.4444444444444444,
             "#bd3786"
            ],
            [
             0.5555555555555556,
             "#d8576b"
            ],
            [
             0.6666666666666666,
             "#ed7953"
            ],
            [
             0.7777777777777778,
             "#fb9f3a"
            ],
            [
             0.8888888888888888,
             "#fdca26"
            ],
            [
             1,
             "#f0f921"
            ]
           ],
           "sequentialminus": [
            [
             0,
             "#0d0887"
            ],
            [
             0.1111111111111111,
             "#46039f"
            ],
            [
             0.2222222222222222,
             "#7201a8"
            ],
            [
             0.3333333333333333,
             "#9c179e"
            ],
            [
             0.4444444444444444,
             "#bd3786"
            ],
            [
             0.5555555555555556,
             "#d8576b"
            ],
            [
             0.6666666666666666,
             "#ed7953"
            ],
            [
             0.7777777777777778,
             "#fb9f3a"
            ],
            [
             0.8888888888888888,
             "#fdca26"
            ],
            [
             1,
             "#f0f921"
            ]
           ]
          },
          "colorway": [
           "#636efa",
           "#EF553B",
           "#00cc96",
           "#ab63fa",
           "#FFA15A",
           "#19d3f3",
           "#FF6692",
           "#B6E880",
           "#FF97FF",
           "#FECB52"
          ],
          "font": {
           "color": "#2a3f5f"
          },
          "geo": {
           "bgcolor": "white",
           "lakecolor": "white",
           "landcolor": "#E5ECF6",
           "showlakes": true,
           "showland": true,
           "subunitcolor": "white"
          },
          "hoverlabel": {
           "align": "left"
          },
          "hovermode": "closest",
          "mapbox": {
           "style": "light"
          },
          "paper_bgcolor": "white",
          "plot_bgcolor": "#E5ECF6",
          "polar": {
           "angularaxis": {
            "gridcolor": "white",
            "linecolor": "white",
            "ticks": ""
           },
           "bgcolor": "#E5ECF6",
           "radialaxis": {
            "gridcolor": "white",
            "linecolor": "white",
            "ticks": ""
           }
          },
          "scene": {
           "xaxis": {
            "backgroundcolor": "#E5ECF6",
            "gridcolor": "white",
            "gridwidth": 2,
            "linecolor": "white",
            "showbackground": true,
            "ticks": "",
            "zerolinecolor": "white"
           },
           "yaxis": {
            "backgroundcolor": "#E5ECF6",
            "gridcolor": "white",
            "gridwidth": 2,
            "linecolor": "white",
            "showbackground": true,
            "ticks": "",
            "zerolinecolor": "white"
           },
           "zaxis": {
            "backgroundcolor": "#E5ECF6",
            "gridcolor": "white",
            "gridwidth": 2,
            "linecolor": "white",
            "showbackground": true,
            "ticks": "",
            "zerolinecolor": "white"
           }
          },
          "shapedefaults": {
           "line": {
            "color": "#2a3f5f"
           }
          },
          "ternary": {
           "aaxis": {
            "gridcolor": "white",
            "linecolor": "white",
            "ticks": ""
           },
           "baxis": {
            "gridcolor": "white",
            "linecolor": "white",
            "ticks": ""
           },
           "bgcolor": "#E5ECF6",
           "caxis": {
            "gridcolor": "white",
            "linecolor": "white",
            "ticks": ""
           }
          },
          "title": {
           "x": 0.05
          },
          "xaxis": {
           "automargin": true,
           "gridcolor": "white",
           "linecolor": "white",
           "ticks": "",
           "title": {
            "standoff": 15
           },
           "zerolinecolor": "white",
           "zerolinewidth": 2
          },
          "yaxis": {
           "automargin": true,
           "gridcolor": "white",
           "linecolor": "white",
           "ticks": "",
           "title": {
            "standoff": 15
           },
           "zerolinecolor": "white",
           "zerolinewidth": 2
          }
         }
        },
        "xaxis": {
         "anchor": "y",
         "domain": [
          0,
          1
         ],
         "title": {
          "text": "x"
         }
        },
        "yaxis": {
         "anchor": "x",
         "domain": [
          0,
          1
         ],
         "title": {
          "text": "value"
         }
        }
       }
      }
     },
     "metadata": {},
     "output_type": "display_data"
    }
   ],
   "source": [
    "px.scatter(x=frequences,y=[np.real(iDFT @ C @ DFT)[0,:],fC[0,:]])"
   ]
  },
  {
   "cell_type": "code",
   "execution_count": 22,
   "metadata": {},
   "outputs": [
    {
     "name": "stdout",
     "output_type": "stream",
     "text": [
      "freqs : [  0.   1.   2.   3.   4.   5.   6.   7.   8.   9.  10.  11.  12.  13.\n",
      "  14.  15.  16.  17.  18.  19.  20.  21.  22.  23.  24.  25.  26.  27.\n",
      "  28.  29.  30.  31.  32. -32. -31. -30. -29. -28. -27. -26. -25. -24.\n",
      " -23. -22. -21. -20. -19. -18. -17. -16. -15. -14. -13. -12. -11. -10.\n",
      "  -9.  -8.  -7.  -6.  -5.  -4.  -3.  -2.  -1.]\n",
      "real DFT : [ 0.  0. -0. -0. -0.  0. -0.  0.  0.  0.  0. -0.  0. -0.  0.  0.  0.  0.\n",
      "  0. -0. -0. -0. -0. -0. -0. -0. -0. -0. -0.  0. -0.  0.  0.  0.  0. -0.\n",
      "  0.  0.  0.  0.  0.  0. -0.  0. -0.  0. -0.  0.  0.  0. -0.  0.  0. -0.\n",
      "  0. -0. -0.  0. -0. -0. -0. -0.  0. -0. -0.]\n",
      "imag DFT : [ 0.  -0.5 -0.  -0.   0.   0.   0.  -0.  -0.  -0.  -0.  -0.   0.   0.\n",
      "  0.   0.  -0.   0.   0.   0.   0.   0.   0.   0.  -0.   0.   0.  -0.\n",
      "  0.  -0.   0.  -0.   0.  -0.   0.   0.   0.   0.   0.  -0.   0.  -0.\n",
      " -0.  -0.  -0.   0.  -0.   0.   0.  -0.  -0.   0.   0.   0.   0.   0.\n",
      " -0.   0.  -0.   0.   0.   0.   0.   0.   0.5]\n",
      "freqs : [  0.   1.   2.   3.   4.   5.   6.   7.   8.   9.  10.  11.  12.  13.\n",
      "  14.  15.  16.  17.  18.  19.  20.  21.  22.  23.  24.  25.  26.  27.\n",
      "  28.  29.  30.  31.  32. -32. -31. -30. -29. -28. -27. -26. -25. -24.\n",
      " -23. -22. -21. -20. -19. -18. -17. -16. -15. -14. -13. -12. -11. -10.\n",
      "  -9.  -8.  -7.  -6.  -5.  -4.  -3.  -2.  -1.]\n",
      "real ifft : [-0. -0.  0.  0. -0.  0. -0. -0.  0.  0.  0.  0.  0. -0. -0. -0.  0. -0.\n",
      "  0.  0.  0.  0.  0. -0.  0. -0.  0. -0. -0. -0.  0. -0.  0.  0. -0.  0.\n",
      " -0. -0. -0.  0. -0.  0. -0.  0.  0.  0.  0.  0. -0.  0. -0. -0. -0.  0.\n",
      "  0.  0.  0.  0. -0. -0.  0. -0.  0.  0. -0.]\n",
      "imag ifft : [  0.  -32.5  -0.   -0.    0.   -0.   -0.   -0.   -0.    0.   -0.   -0.\n",
      "  -0.    0.    0.   -0.   -0.   -0.   -0.   -0.    0.   -0.    0.    0.\n",
      "   0.    0.    0.    0.    0.    0.   -0.    0.   -0.    0.   -0.    0.\n",
      "   0.   -0.   -0.    0.   -0.    0.   -0.   -0.   -0.   -0.   -0.    0.\n",
      "   0.    0.    0.   -0.   -0.    0.    0.    0.   -0.    0.    0.    0.\n",
      "   0.    0.    0.    0.   32.5]\n"
     ]
    }
   ],
   "source": [
    "def f(x):\n",
    "    return np.sin(x)\n",
    "\n",
    "print('freqs :',frequences)\n",
    "print('real DFT :',(np.real(DFT @ f(xspan))) * (abs(np.real(DFT @ f(xspan))) > 1e-10))\n",
    "print('imag DFT :',(np.imag(DFT @ f(xspan))) * (abs(np.imag(DFT @ f(xspan))) > 1e-10))\n",
    "print('freqs :',frequences)\n",
    "print('real ifft :',(np.real(np.fft.fft(f(xspan)))) * (abs(np.real(np.fft.fft(f(xspan)))) > 1e-10))\n",
    "print('imag ifft :',(np.imag(np.fft.fft(f(xspan)))) * (abs(np.imag(np.fft.fft(f(xspan)))) > 1e-10))"
   ]
  },
  {
   "cell_type": "code",
   "execution_count": 23,
   "metadata": {},
   "outputs": [
    {
     "name": "stdout",
     "output_type": "stream",
     "text": [
      "number of frequences in initial condition :\n",
      "4\n",
      "number of positive frequences in initial condition :\n",
      "2\n",
      "number of negative frequences in initial condition :\n",
      "2\n"
     ]
    }
   ],
   "source": [
    "# initial condition in Fourier :\n",
    "def create_Fourier_X0(nb_sin,nb_cos):\n",
    "    sin_pos = np.random.rand(pos_frequences.shape[0]) * (pos_frequences <= nb_sin)\n",
    "    cos_pos = np.random.rand(pos_frequences.shape[0]) * (pos_frequences <= nb_cos)\n",
    "    X0 = np.concatenate((np.zeros(1),-sin_pos,sin_pos[::-1]))*1j + np.concatenate((np.zeros(1),cos_pos,cos_pos[::-1]))\n",
    "    return X0\n",
    "\n",
    "X0_sin = create_Fourier_X0(N_ini_fq,0)\n",
    "X0_cos = create_Fourier_X0(0,N_ini_fq)\n",
    "X0_mix = create_Fourier_X0(N_ini_fq,N_ini_fq)\n",
    "\n",
    "print('number of frequences in initial condition :')\n",
    "print(sum(abs(X0_sin) > 0))\n",
    "print('number of positive frequences in initial condition :')\n",
    "print(sum((abs(X0_sin) > 0) * (frequences > 0)))\n",
    "print('number of negative frequences in initial condition :')\n",
    "print(sum((abs(X0_sin) > 0) * (frequences < 0)))"
   ]
  },
  {
   "cell_type": "code",
   "execution_count": 24,
   "metadata": {},
   "outputs": [
    {
     "name": "stdout",
     "output_type": "stream",
     "text": [
      "mean of X0 : 0j\n"
     ]
    },
    {
     "data": {
      "application/vnd.plotly.v1+json": {
       "config": {
        "plotlyServerURL": "https://plot.ly"
       },
       "data": [
        {
         "hovertemplate": "variable=wide_variable_0<br>x=%{x}<br>value=%{y}<extra></extra>",
         "legendgroup": "wide_variable_0",
         "line": {
          "color": "#636efa",
          "dash": "solid"
         },
         "marker": {
          "symbol": "circle"
         },
         "mode": "lines",
         "name": "wide_variable_0",
         "orientation": "v",
         "showlegend": true,
         "type": "scatter",
         "x": [
          0,
          0.0966643893412244,
          0.1933287786824488,
          0.2899931680236732,
          0.3866575573648976,
          0.483321946706122,
          0.5799863360473464,
          0.6766507253885707,
          0.7733151147297952,
          0.8699795040710196,
          0.966643893412244,
          1.0633082827534683,
          1.1599726720946928,
          1.2566370614359172,
          1.3533014507771415,
          1.449965840118366,
          1.5466302294595904,
          1.6432946188008148,
          1.7399590081420393,
          1.8366233974832635,
          1.933287786824488,
          2.0299521761657124,
          2.1266165655069367,
          2.2232809548481614,
          2.3199453441893856,
          2.41660973353061,
          2.5132741228718345,
          2.6099385122130587,
          2.706602901554283,
          2.8032672908955076,
          2.899931680236732,
          2.9965960695779565,
          3.0932604589191808,
          3.189924848260405,
          3.2865892376016297,
          3.383253626942854,
          3.4799180162840786,
          3.576582405625303,
          3.673246794966527,
          3.7699111843077517,
          3.866575573648976,
          3.9632399629902,
          4.059904352331425,
          4.15656874167265,
          4.253233131013873,
          4.349897520355098,
          4.446561909696323,
          4.5432262990375465,
          4.639890688378771,
          4.736555077719996,
          4.83321946706122,
          4.929883856402444,
          5.026548245743669,
          5.123212635084893,
          5.2198770244261175,
          5.316541413767342,
          5.413205803108566,
          5.509870192449791,
          5.606534581791015,
          5.70319897113224,
          5.799863360473464,
          5.896527749814688,
          5.993192139155913,
          6.089856528497137,
          6.1865209178383616
         ],
         "xaxis": "x",
         "y": [
          0,
          0.2253581948340374,
          0.4473485116482223,
          0.662681605116685,
          0.868222707586175,
          1.0610627872225316,
          1.238582594142159,
          1.3985076222106296,
          1.5389523366778532,
          1.6584523980626338,
          1.7559840367147896,
          1.830970184689135,
          1.883273435360905,
          1.913176359592563,
          1.9213501434508942,
          1.9088129105443747,
          1.8768794375181135,
          1.8271042515979987,
          1.7612203042481054,
          1.681075537737422,
          1.5885696975240406,
          1.4855936919071704,
          1.3739736636822013,
          1.2554217220455717,
          1.1314949951827507,
          1.0035643159290335,
          0.8727934579404406,
          0.7401294130050118,
          0.6063037576792717,
          0.4718447161255545,
          0.33709910256065334,
          0.20226293711438664,
          0.0674191878550744,
          -0.06741918785510846,
          -0.20226293711439436,
          -0.33709910256068687,
          -0.4718447161255624,
          -0.6063037576793039,
          -0.7401294130050429,
          -0.8727934579404493,
          -1.003564315929062,
          -1.1314949951827775,
          -1.2554217220455801,
          -1.3739736636822097,
          -1.4855936919071902,
          -1.5885696975240526,
          -1.6810755377374287,
          -1.7612203042481156,
          -1.827104251598004,
          -1.8768794375181164,
          -1.9088129105443714,
          -1.9213501434508884,
          -1.9131763595925608,
          -1.8832734353608849,
          -1.8309701846891162,
          -1.7559840367147777,
          -1.6584523980625978,
          -1.5389523366778222,
          -1.3985076222106052,
          -1.2385825941421489,
          -1.061062787222488,
          -0.8682227075861445,
          -0.662681605116669,
          -0.4473485116481704,
          -0.2253581948340006
         ],
         "yaxis": "y"
        },
        {
         "hovertemplate": "variable=wide_variable_1<br>x=%{x}<br>value=%{y}<extra></extra>",
         "legendgroup": "wide_variable_1",
         "line": {
          "color": "#EF553B",
          "dash": "solid"
         },
         "marker": {
          "symbol": "circle"
         },
         "mode": "lines",
         "name": "wide_variable_1",
         "orientation": "v",
         "showlegend": true,
         "type": "scatter",
         "x": [
          0,
          0.0966643893412244,
          0.1933287786824488,
          0.2899931680236732,
          0.3866575573648976,
          0.483321946706122,
          0.5799863360473464,
          0.6766507253885707,
          0.7733151147297952,
          0.8699795040710196,
          0.966643893412244,
          1.0633082827534683,
          1.1599726720946928,
          1.2566370614359172,
          1.3533014507771415,
          1.449965840118366,
          1.5466302294595904,
          1.6432946188008148,
          1.7399590081420393,
          1.8366233974832635,
          1.933287786824488,
          2.0299521761657124,
          2.1266165655069367,
          2.2232809548481614,
          2.3199453441893856,
          2.41660973353061,
          2.5132741228718345,
          2.6099385122130587,
          2.706602901554283,
          2.8032672908955076,
          2.899931680236732,
          2.9965960695779565,
          3.0932604589191808,
          3.189924848260405,
          3.2865892376016297,
          3.383253626942854,
          3.4799180162840786,
          3.576582405625303,
          3.673246794966527,
          3.7699111843077517,
          3.866575573648976,
          3.9632399629902,
          4.059904352331425,
          4.15656874167265,
          4.253233131013873,
          4.349897520355098,
          4.446561909696323,
          4.5432262990375465,
          4.639890688378771,
          4.736555077719996,
          4.83321946706122,
          4.929883856402444,
          5.026548245743669,
          5.123212635084893,
          5.2198770244261175,
          5.316541413767342,
          5.413205803108566,
          5.509870192449791,
          5.606534581791015,
          5.70319897113224,
          5.799863360473464,
          5.896527749814688,
          5.993192139155913,
          6.089856528497137,
          6.1865209178383616
         ],
         "xaxis": "x",
         "y": [
          0,
          -1.6703341595610065e-15,
          -3.7876971341175497e-16,
          -7.892135492176457e-16,
          -1.1896993575734926e-15,
          -1.7708640159013846e-15,
          -2.462437473857554e-15,
          -5.057806149660508e-15,
          -3.753569034657172e-15,
          -1.9814331028113636e-15,
          -5.2171770502399374e-15,
          -8.883237658785773e-15,
          -6.600449007905678e-15,
          -3.8755902539435e-15,
          -1.3947396205734533e-14,
          -1.1098178226338861e-14,
          -8.094501392528855e-15,
          -4.866601357886177e-15,
          -1.6373682748312283e-15,
          -1.1253195335391173e-14,
          -7.761312356476569e-15,
          -4.424971149569559e-15,
          -1.2582404176003777e-14,
          1.4727325868237063e-15,
          -5.987999217921421e-15,
          -1.1968716062178445e-14,
          -6.301500731592903e-16,
          -5.589817832402024e-15,
          -8.406326752726228e-15,
          -8.644839091146301e-16,
          -2.8649858241497523e-15,
          9.618801768641218e-16,
          4.0128331737065825e-16,
          1.9178959008778446e-15,
          1.7900506525816324e-15,
          4.407318479013215e-15,
          2.1443723699322993e-16,
          4.7549998655696185e-15,
          1.0863959046190865e-14,
          2.9417569229934195e-15,
          1.033742180580008e-14,
          1.932957468666729e-14,
          8.366834233959566e-15,
          -4.304501378227431e-15,
          2.891733474009537e-14,
          1.5648131601065982e-14,
          1.22271631540627e-15,
          3.831517356873364e-14,
          2.354855168215753e-14,
          8.289369346818619e-15,
          4.587992029497017e-14,
          3.0133679678845316e-14,
          1.4768025628735002e-14,
          4.8835119401057665e-14,
          3.301600036207999e-14,
          1.8269742859680262e-14,
          4.5885425421348707e-14,
          3.106886378350991e-14,
          1.7829904824528342e-14,
          6.714713979563212e-15,
          2.2796015365347463e-14,
          1.2130381124876409e-14,
          3.9698732613274724e-15,
          9.063485443132021e-15,
          1.9116047473152082e-15
         ],
         "yaxis": "y"
        }
       ],
       "layout": {
        "legend": {
         "title": {
          "text": "variable"
         },
         "tracegroupgap": 0
        },
        "margin": {
         "t": 60
        },
        "template": {
         "data": {
          "bar": [
           {
            "error_x": {
             "color": "#2a3f5f"
            },
            "error_y": {
             "color": "#2a3f5f"
            },
            "marker": {
             "line": {
              "color": "#E5ECF6",
              "width": 0.5
             },
             "pattern": {
              "fillmode": "overlay",
              "size": 10,
              "solidity": 0.2
             }
            },
            "type": "bar"
           }
          ],
          "barpolar": [
           {
            "marker": {
             "line": {
              "color": "#E5ECF6",
              "width": 0.5
             },
             "pattern": {
              "fillmode": "overlay",
              "size": 10,
              "solidity": 0.2
             }
            },
            "type": "barpolar"
           }
          ],
          "carpet": [
           {
            "aaxis": {
             "endlinecolor": "#2a3f5f",
             "gridcolor": "white",
             "linecolor": "white",
             "minorgridcolor": "white",
             "startlinecolor": "#2a3f5f"
            },
            "baxis": {
             "endlinecolor": "#2a3f5f",
             "gridcolor": "white",
             "linecolor": "white",
             "minorgridcolor": "white",
             "startlinecolor": "#2a3f5f"
            },
            "type": "carpet"
           }
          ],
          "choropleth": [
           {
            "colorbar": {
             "outlinewidth": 0,
             "ticks": ""
            },
            "type": "choropleth"
           }
          ],
          "contour": [
           {
            "colorbar": {
             "outlinewidth": 0,
             "ticks": ""
            },
            "colorscale": [
             [
              0,
              "#0d0887"
             ],
             [
              0.1111111111111111,
              "#46039f"
             ],
             [
              0.2222222222222222,
              "#7201a8"
             ],
             [
              0.3333333333333333,
              "#9c179e"
             ],
             [
              0.4444444444444444,
              "#bd3786"
             ],
             [
              0.5555555555555556,
              "#d8576b"
             ],
             [
              0.6666666666666666,
              "#ed7953"
             ],
             [
              0.7777777777777778,
              "#fb9f3a"
             ],
             [
              0.8888888888888888,
              "#fdca26"
             ],
             [
              1,
              "#f0f921"
             ]
            ],
            "type": "contour"
           }
          ],
          "contourcarpet": [
           {
            "colorbar": {
             "outlinewidth": 0,
             "ticks": ""
            },
            "type": "contourcarpet"
           }
          ],
          "heatmap": [
           {
            "colorbar": {
             "outlinewidth": 0,
             "ticks": ""
            },
            "colorscale": [
             [
              0,
              "#0d0887"
             ],
             [
              0.1111111111111111,
              "#46039f"
             ],
             [
              0.2222222222222222,
              "#7201a8"
             ],
             [
              0.3333333333333333,
              "#9c179e"
             ],
             [
              0.4444444444444444,
              "#bd3786"
             ],
             [
              0.5555555555555556,
              "#d8576b"
             ],
             [
              0.6666666666666666,
              "#ed7953"
             ],
             [
              0.7777777777777778,
              "#fb9f3a"
             ],
             [
              0.8888888888888888,
              "#fdca26"
             ],
             [
              1,
              "#f0f921"
             ]
            ],
            "type": "heatmap"
           }
          ],
          "heatmapgl": [
           {
            "colorbar": {
             "outlinewidth": 0,
             "ticks": ""
            },
            "colorscale": [
             [
              0,
              "#0d0887"
             ],
             [
              0.1111111111111111,
              "#46039f"
             ],
             [
              0.2222222222222222,
              "#7201a8"
             ],
             [
              0.3333333333333333,
              "#9c179e"
             ],
             [
              0.4444444444444444,
              "#bd3786"
             ],
             [
              0.5555555555555556,
              "#d8576b"
             ],
             [
              0.6666666666666666,
              "#ed7953"
             ],
             [
              0.7777777777777778,
              "#fb9f3a"
             ],
             [
              0.8888888888888888,
              "#fdca26"
             ],
             [
              1,
              "#f0f921"
             ]
            ],
            "type": "heatmapgl"
           }
          ],
          "histogram": [
           {
            "marker": {
             "pattern": {
              "fillmode": "overlay",
              "size": 10,
              "solidity": 0.2
             }
            },
            "type": "histogram"
           }
          ],
          "histogram2d": [
           {
            "colorbar": {
             "outlinewidth": 0,
             "ticks": ""
            },
            "colorscale": [
             [
              0,
              "#0d0887"
             ],
             [
              0.1111111111111111,
              "#46039f"
             ],
             [
              0.2222222222222222,
              "#7201a8"
             ],
             [
              0.3333333333333333,
              "#9c179e"
             ],
             [
              0.4444444444444444,
              "#bd3786"
             ],
             [
              0.5555555555555556,
              "#d8576b"
             ],
             [
              0.6666666666666666,
              "#ed7953"
             ],
             [
              0.7777777777777778,
              "#fb9f3a"
             ],
             [
              0.8888888888888888,
              "#fdca26"
             ],
             [
              1,
              "#f0f921"
             ]
            ],
            "type": "histogram2d"
           }
          ],
          "histogram2dcontour": [
           {
            "colorbar": {
             "outlinewidth": 0,
             "ticks": ""
            },
            "colorscale": [
             [
              0,
              "#0d0887"
             ],
             [
              0.1111111111111111,
              "#46039f"
             ],
             [
              0.2222222222222222,
              "#7201a8"
             ],
             [
              0.3333333333333333,
              "#9c179e"
             ],
             [
              0.4444444444444444,
              "#bd3786"
             ],
             [
              0.5555555555555556,
              "#d8576b"
             ],
             [
              0.6666666666666666,
              "#ed7953"
             ],
             [
              0.7777777777777778,
              "#fb9f3a"
             ],
             [
              0.8888888888888888,
              "#fdca26"
             ],
             [
              1,
              "#f0f921"
             ]
            ],
            "type": "histogram2dcontour"
           }
          ],
          "mesh3d": [
           {
            "colorbar": {
             "outlinewidth": 0,
             "ticks": ""
            },
            "type": "mesh3d"
           }
          ],
          "parcoords": [
           {
            "line": {
             "colorbar": {
              "outlinewidth": 0,
              "ticks": ""
             }
            },
            "type": "parcoords"
           }
          ],
          "pie": [
           {
            "automargin": true,
            "type": "pie"
           }
          ],
          "scatter": [
           {
            "fillpattern": {
             "fillmode": "overlay",
             "size": 10,
             "solidity": 0.2
            },
            "type": "scatter"
           }
          ],
          "scatter3d": [
           {
            "line": {
             "colorbar": {
              "outlinewidth": 0,
              "ticks": ""
             }
            },
            "marker": {
             "colorbar": {
              "outlinewidth": 0,
              "ticks": ""
             }
            },
            "type": "scatter3d"
           }
          ],
          "scattercarpet": [
           {
            "marker": {
             "colorbar": {
              "outlinewidth": 0,
              "ticks": ""
             }
            },
            "type": "scattercarpet"
           }
          ],
          "scattergeo": [
           {
            "marker": {
             "colorbar": {
              "outlinewidth": 0,
              "ticks": ""
             }
            },
            "type": "scattergeo"
           }
          ],
          "scattergl": [
           {
            "marker": {
             "colorbar": {
              "outlinewidth": 0,
              "ticks": ""
             }
            },
            "type": "scattergl"
           }
          ],
          "scattermapbox": [
           {
            "marker": {
             "colorbar": {
              "outlinewidth": 0,
              "ticks": ""
             }
            },
            "type": "scattermapbox"
           }
          ],
          "scatterpolar": [
           {
            "marker": {
             "colorbar": {
              "outlinewidth": 0,
              "ticks": ""
             }
            },
            "type": "scatterpolar"
           }
          ],
          "scatterpolargl": [
           {
            "marker": {
             "colorbar": {
              "outlinewidth": 0,
              "ticks": ""
             }
            },
            "type": "scatterpolargl"
           }
          ],
          "scatterternary": [
           {
            "marker": {
             "colorbar": {
              "outlinewidth": 0,
              "ticks": ""
             }
            },
            "type": "scatterternary"
           }
          ],
          "surface": [
           {
            "colorbar": {
             "outlinewidth": 0,
             "ticks": ""
            },
            "colorscale": [
             [
              0,
              "#0d0887"
             ],
             [
              0.1111111111111111,
              "#46039f"
             ],
             [
              0.2222222222222222,
              "#7201a8"
             ],
             [
              0.3333333333333333,
              "#9c179e"
             ],
             [
              0.4444444444444444,
              "#bd3786"
             ],
             [
              0.5555555555555556,
              "#d8576b"
             ],
             [
              0.6666666666666666,
              "#ed7953"
             ],
             [
              0.7777777777777778,
              "#fb9f3a"
             ],
             [
              0.8888888888888888,
              "#fdca26"
             ],
             [
              1,
              "#f0f921"
             ]
            ],
            "type": "surface"
           }
          ],
          "table": [
           {
            "cells": {
             "fill": {
              "color": "#EBF0F8"
             },
             "line": {
              "color": "white"
             }
            },
            "header": {
             "fill": {
              "color": "#C8D4E3"
             },
             "line": {
              "color": "white"
             }
            },
            "type": "table"
           }
          ]
         },
         "layout": {
          "annotationdefaults": {
           "arrowcolor": "#2a3f5f",
           "arrowhead": 0,
           "arrowwidth": 1
          },
          "autotypenumbers": "strict",
          "coloraxis": {
           "colorbar": {
            "outlinewidth": 0,
            "ticks": ""
           }
          },
          "colorscale": {
           "diverging": [
            [
             0,
             "#8e0152"
            ],
            [
             0.1,
             "#c51b7d"
            ],
            [
             0.2,
             "#de77ae"
            ],
            [
             0.3,
             "#f1b6da"
            ],
            [
             0.4,
             "#fde0ef"
            ],
            [
             0.5,
             "#f7f7f7"
            ],
            [
             0.6,
             "#e6f5d0"
            ],
            [
             0.7,
             "#b8e186"
            ],
            [
             0.8,
             "#7fbc41"
            ],
            [
             0.9,
             "#4d9221"
            ],
            [
             1,
             "#276419"
            ]
           ],
           "sequential": [
            [
             0,
             "#0d0887"
            ],
            [
             0.1111111111111111,
             "#46039f"
            ],
            [
             0.2222222222222222,
             "#7201a8"
            ],
            [
             0.3333333333333333,
             "#9c179e"
            ],
            [
             0.4444444444444444,
             "#bd3786"
            ],
            [
             0.5555555555555556,
             "#d8576b"
            ],
            [
             0.6666666666666666,
             "#ed7953"
            ],
            [
             0.7777777777777778,
             "#fb9f3a"
            ],
            [
             0.8888888888888888,
             "#fdca26"
            ],
            [
             1,
             "#f0f921"
            ]
           ],
           "sequentialminus": [
            [
             0,
             "#0d0887"
            ],
            [
             0.1111111111111111,
             "#46039f"
            ],
            [
             0.2222222222222222,
             "#7201a8"
            ],
            [
             0.3333333333333333,
             "#9c179e"
            ],
            [
             0.4444444444444444,
             "#bd3786"
            ],
            [
             0.5555555555555556,
             "#d8576b"
            ],
            [
             0.6666666666666666,
             "#ed7953"
            ],
            [
             0.7777777777777778,
             "#fb9f3a"
            ],
            [
             0.8888888888888888,
             "#fdca26"
            ],
            [
             1,
             "#f0f921"
            ]
           ]
          },
          "colorway": [
           "#636efa",
           "#EF553B",
           "#00cc96",
           "#ab63fa",
           "#FFA15A",
           "#19d3f3",
           "#FF6692",
           "#B6E880",
           "#FF97FF",
           "#FECB52"
          ],
          "font": {
           "color": "#2a3f5f"
          },
          "geo": {
           "bgcolor": "white",
           "lakecolor": "white",
           "landcolor": "#E5ECF6",
           "showlakes": true,
           "showland": true,
           "subunitcolor": "white"
          },
          "hoverlabel": {
           "align": "left"
          },
          "hovermode": "closest",
          "mapbox": {
           "style": "light"
          },
          "paper_bgcolor": "white",
          "plot_bgcolor": "#E5ECF6",
          "polar": {
           "angularaxis": {
            "gridcolor": "white",
            "linecolor": "white",
            "ticks": ""
           },
           "bgcolor": "#E5ECF6",
           "radialaxis": {
            "gridcolor": "white",
            "linecolor": "white",
            "ticks": ""
           }
          },
          "scene": {
           "xaxis": {
            "backgroundcolor": "#E5ECF6",
            "gridcolor": "white",
            "gridwidth": 2,
            "linecolor": "white",
            "showbackground": true,
            "ticks": "",
            "zerolinecolor": "white"
           },
           "yaxis": {
            "backgroundcolor": "#E5ECF6",
            "gridcolor": "white",
            "gridwidth": 2,
            "linecolor": "white",
            "showbackground": true,
            "ticks": "",
            "zerolinecolor": "white"
           },
           "zaxis": {
            "backgroundcolor": "#E5ECF6",
            "gridcolor": "white",
            "gridwidth": 2,
            "linecolor": "white",
            "showbackground": true,
            "ticks": "",
            "zerolinecolor": "white"
           }
          },
          "shapedefaults": {
           "line": {
            "color": "#2a3f5f"
           }
          },
          "ternary": {
           "aaxis": {
            "gridcolor": "white",
            "linecolor": "white",
            "ticks": ""
           },
           "baxis": {
            "gridcolor": "white",
            "linecolor": "white",
            "ticks": ""
           },
           "bgcolor": "#E5ECF6",
           "caxis": {
            "gridcolor": "white",
            "linecolor": "white",
            "ticks": ""
           }
          },
          "title": {
           "x": 0.05
          },
          "xaxis": {
           "automargin": true,
           "gridcolor": "white",
           "linecolor": "white",
           "ticks": "",
           "title": {
            "standoff": 15
           },
           "zerolinecolor": "white",
           "zerolinewidth": 2
          },
          "yaxis": {
           "automargin": true,
           "gridcolor": "white",
           "linecolor": "white",
           "ticks": "",
           "title": {
            "standoff": 15
           },
           "zerolinecolor": "white",
           "zerolinewidth": 2
          }
         }
        },
        "xaxis": {
         "anchor": "y",
         "domain": [
          0,
          1
         ],
         "title": {
          "text": "x"
         }
        },
        "yaxis": {
         "anchor": "x",
         "domain": [
          0,
          1
         ],
         "title": {
          "text": "value"
         }
        }
       }
      }
     },
     "metadata": {},
     "output_type": "display_data"
    }
   ],
   "source": [
    "X0_sin_space = iDFT @ (X0_sin)\n",
    "print('mean of X0 :',np.mean(X0_sin))\n",
    "px.line(x=xspan,y=[np.real(X0_sin_space),np.imag(X0_sin_space)])"
   ]
  },
  {
   "cell_type": "code",
   "execution_count": 25,
   "metadata": {},
   "outputs": [
    {
     "name": "stdout",
     "output_type": "stream",
     "text": [
      "mean of X0 : (0.033818305858595514+0j)\n"
     ]
    },
    {
     "data": {
      "application/vnd.plotly.v1+json": {
       "config": {
        "plotlyServerURL": "https://plot.ly"
       },
       "data": [
        {
         "hovertemplate": "variable=wide_variable_0<br>x=%{x}<br>value=%{y}<extra></extra>",
         "legendgroup": "wide_variable_0",
         "line": {
          "color": "#636efa",
          "dash": "solid"
         },
         "marker": {
          "symbol": "circle"
         },
         "mode": "lines",
         "name": "wide_variable_0",
         "orientation": "v",
         "showlegend": true,
         "type": "scatter",
         "x": [
          0,
          0.0966643893412244,
          0.1933287786824488,
          0.2899931680236732,
          0.3866575573648976,
          0.483321946706122,
          0.5799863360473464,
          0.6766507253885707,
          0.7733151147297952,
          0.8699795040710196,
          0.966643893412244,
          1.0633082827534683,
          1.1599726720946928,
          1.2566370614359172,
          1.3533014507771415,
          1.449965840118366,
          1.5466302294595904,
          1.6432946188008148,
          1.7399590081420393,
          1.8366233974832635,
          1.933287786824488,
          2.0299521761657124,
          2.1266165655069367,
          2.2232809548481614,
          2.3199453441893856,
          2.41660973353061,
          2.5132741228718345,
          2.6099385122130587,
          2.706602901554283,
          2.8032672908955076,
          2.899931680236732,
          2.9965960695779565,
          3.0932604589191808,
          3.189924848260405,
          3.2865892376016297,
          3.383253626942854,
          3.4799180162840786,
          3.576582405625303,
          3.673246794966527,
          3.7699111843077517,
          3.866575573648976,
          3.9632399629902,
          4.059904352331425,
          4.15656874167265,
          4.253233131013873,
          4.349897520355098,
          4.446561909696323,
          4.5432262990375465,
          4.639890688378771,
          4.736555077719996,
          4.83321946706122,
          4.929883856402444,
          5.026548245743669,
          5.123212635084893,
          5.2198770244261175,
          5.316541413767342,
          5.413205803108566,
          5.509870192449791,
          5.606534581791015,
          5.70319897113224,
          5.799863360473464,
          5.896527749814688,
          5.993192139155913,
          6.089856528497137,
          6.1865209178383616
         ],
         "xaxis": "x",
         "y": [
          2.1981898808087084,
          2.3336980604560535,
          2.433717637351014,
          2.4968370503136468,
          2.5225175038763665,
          2.511096116007158,
          2.4637612757748064,
          2.382501241924134,
          2.270027964064795,
          2.129678984454107,
          1.965301047960874,
          1.7811196824976943,
          1.5815994887924427,
          1.3713001795090431,
          1.1547335226233657,
          0.9362262687370582,
          0.7197938798607003,
          0.5090294382522177,
          0.3070115148514135,
          0.11623404034051299,
          -0.06143962439386658,
          -0.22479714584194943,
          -0.3732718984775983,
          -0.5069125380074705,
          -0.6263290821622904,
          -0.7326179945483541,
          -0.8272695501730353,
          -0.9120614176418932,
          -0.9889428982788183,
          -1.0599145977961764,
          -1.1269084592599026,
          -1.191673051411506,
          -1.25566878541525,
          -1.3199773342609307,
          -1.3852289675056135,
          -1.4515508110022324,
          -1.5185382232685702,
          -1.5852505780322361,
          -1.6502317902382482,
          -1.7115549563088606,
          -1.7668895351255944,
          -1.8135886096757365,
          -1.8487929740363682,
          -1.8695481164296666,
          -1.872929642023769,
          -1.8561723190465311,
          -1.8167977524681762,
          -1.7527356980898694,
          -1.662434226423312,
          -1.544954323317363,
          -1.4000450591681695,
          -1.2281961507602634,
          -1.0306655538358476,
          -0.8094806303118987,
          -0.5674123981335012,
          -0.30792335834178863,
          -0.035090366438972335,
          0.2464950625767652,
          0.5318457883464801,
          0.8157134691988285,
          1.092733847372705,
          1.3575779514490602,
          1.6051040366325469,
          1.8305050368650673,
          2.0294464467544486
         ],
         "yaxis": "y"
        },
        {
         "hovertemplate": "variable=wide_variable_1<br>x=%{x}<br>value=%{y}<extra></extra>",
         "legendgroup": "wide_variable_1",
         "line": {
          "color": "#EF553B",
          "dash": "solid"
         },
         "marker": {
          "symbol": "circle"
         },
         "mode": "lines",
         "name": "wide_variable_1",
         "orientation": "v",
         "showlegend": true,
         "type": "scatter",
         "x": [
          0,
          0.0966643893412244,
          0.1933287786824488,
          0.2899931680236732,
          0.3866575573648976,
          0.483321946706122,
          0.5799863360473464,
          0.6766507253885707,
          0.7733151147297952,
          0.8699795040710196,
          0.966643893412244,
          1.0633082827534683,
          1.1599726720946928,
          1.2566370614359172,
          1.3533014507771415,
          1.449965840118366,
          1.5466302294595904,
          1.6432946188008148,
          1.7399590081420393,
          1.8366233974832635,
          1.933287786824488,
          2.0299521761657124,
          2.1266165655069367,
          2.2232809548481614,
          2.3199453441893856,
          2.41660973353061,
          2.5132741228718345,
          2.6099385122130587,
          2.706602901554283,
          2.8032672908955076,
          2.899931680236732,
          2.9965960695779565,
          3.0932604589191808,
          3.189924848260405,
          3.2865892376016297,
          3.383253626942854,
          3.4799180162840786,
          3.576582405625303,
          3.673246794966527,
          3.7699111843077517,
          3.866575573648976,
          3.9632399629902,
          4.059904352331425,
          4.15656874167265,
          4.253233131013873,
          4.349897520355098,
          4.446561909696323,
          4.5432262990375465,
          4.639890688378771,
          4.736555077719996,
          4.83321946706122,
          4.929883856402444,
          5.026548245743669,
          5.123212635084893,
          5.2198770244261175,
          5.316541413767342,
          5.413205803108566,
          5.509870192449791,
          5.606534581791015,
          5.70319897113224,
          5.799863360473464,
          5.896527749814688,
          5.993192139155913,
          6.089856528497137,
          6.1865209178383616
         ],
         "xaxis": "x",
         "y": [
          0,
          -2.5146347916347915e-15,
          -1.523199642048667e-15,
          -2.1844455795094408e-15,
          -3.0410543400177572e-15,
          -3.7253203530240765e-15,
          -4.182560405423716e-15,
          -8.337552413067504e-15,
          -5.0560622316283745e-15,
          -1.6676066077799708e-15,
          -5.1467128833977184e-15,
          -8.096503530438166e-15,
          -4.604525445997157e-15,
          -9.843376600663266e-16,
          -8.433752891976287e-15,
          -4.524629507135025e-15,
          -1.5867327816344767e-15,
          1.3119195056184146e-15,
          3.4418214164011658e-15,
          4.62884905231242e-16,
          2.366728588832542e-15,
          3.982627818654979e-15,
          4.313971301356168e-15,
          4.370248153872721e-15,
          5.694960837663913e-15,
          9.29185982746567e-15,
          4.242920840645597e-15,
          9.045523508885155e-15,
          1.551520453638652e-14,
          6.042864251532329e-15,
          1.3477151334783775e-14,
          6.7730437245815e-16,
          9.443685979009313e-15,
          1.9507381689629538e-14,
          3.993578190468383e-15,
          1.49503571480797e-14,
          -1.986612913492556e-15,
          9.741272611003e-15,
          2.201890174031717e-14,
          4.720394524723433e-15,
          1.729491630039506e-14,
          2.928493903434442e-14,
          1.2946511147261125e-14,
          -2.3405753615512767e-15,
          3.472705328902885e-14,
          1.997144563268135e-14,
          6.951963796746215e-15,
          3.556220092675027e-14,
          2.3263689146980332e-14,
          1.2641266096817406e-14,
          3.042408286155166e-14,
          1.9992169295291658e-14,
          1.2097304912022337e-14,
          1.686481817431246e-14,
          9.45609074248089e-15,
          4.8667826731160014e-15,
          -3.355837337832334e-15,
          -7.30246499414936e-15,
          -7.866669785469037e-15,
          -4.918548513483971e-15,
          -2.813718669340835e-14,
          -2.4224358354878265e-14,
          -1.6742340009854108e-14,
          -4.946843477733504e-14,
          -4.024978553568709e-14
         ],
         "yaxis": "y"
        }
       ],
       "layout": {
        "legend": {
         "title": {
          "text": "variable"
         },
         "tracegroupgap": 0
        },
        "margin": {
         "t": 60
        },
        "template": {
         "data": {
          "bar": [
           {
            "error_x": {
             "color": "#2a3f5f"
            },
            "error_y": {
             "color": "#2a3f5f"
            },
            "marker": {
             "line": {
              "color": "#E5ECF6",
              "width": 0.5
             },
             "pattern": {
              "fillmode": "overlay",
              "size": 10,
              "solidity": 0.2
             }
            },
            "type": "bar"
           }
          ],
          "barpolar": [
           {
            "marker": {
             "line": {
              "color": "#E5ECF6",
              "width": 0.5
             },
             "pattern": {
              "fillmode": "overlay",
              "size": 10,
              "solidity": 0.2
             }
            },
            "type": "barpolar"
           }
          ],
          "carpet": [
           {
            "aaxis": {
             "endlinecolor": "#2a3f5f",
             "gridcolor": "white",
             "linecolor": "white",
             "minorgridcolor": "white",
             "startlinecolor": "#2a3f5f"
            },
            "baxis": {
             "endlinecolor": "#2a3f5f",
             "gridcolor": "white",
             "linecolor": "white",
             "minorgridcolor": "white",
             "startlinecolor": "#2a3f5f"
            },
            "type": "carpet"
           }
          ],
          "choropleth": [
           {
            "colorbar": {
             "outlinewidth": 0,
             "ticks": ""
            },
            "type": "choropleth"
           }
          ],
          "contour": [
           {
            "colorbar": {
             "outlinewidth": 0,
             "ticks": ""
            },
            "colorscale": [
             [
              0,
              "#0d0887"
             ],
             [
              0.1111111111111111,
              "#46039f"
             ],
             [
              0.2222222222222222,
              "#7201a8"
             ],
             [
              0.3333333333333333,
              "#9c179e"
             ],
             [
              0.4444444444444444,
              "#bd3786"
             ],
             [
              0.5555555555555556,
              "#d8576b"
             ],
             [
              0.6666666666666666,
              "#ed7953"
             ],
             [
              0.7777777777777778,
              "#fb9f3a"
             ],
             [
              0.8888888888888888,
              "#fdca26"
             ],
             [
              1,
              "#f0f921"
             ]
            ],
            "type": "contour"
           }
          ],
          "contourcarpet": [
           {
            "colorbar": {
             "outlinewidth": 0,
             "ticks": ""
            },
            "type": "contourcarpet"
           }
          ],
          "heatmap": [
           {
            "colorbar": {
             "outlinewidth": 0,
             "ticks": ""
            },
            "colorscale": [
             [
              0,
              "#0d0887"
             ],
             [
              0.1111111111111111,
              "#46039f"
             ],
             [
              0.2222222222222222,
              "#7201a8"
             ],
             [
              0.3333333333333333,
              "#9c179e"
             ],
             [
              0.4444444444444444,
              "#bd3786"
             ],
             [
              0.5555555555555556,
              "#d8576b"
             ],
             [
              0.6666666666666666,
              "#ed7953"
             ],
             [
              0.7777777777777778,
              "#fb9f3a"
             ],
             [
              0.8888888888888888,
              "#fdca26"
             ],
             [
              1,
              "#f0f921"
             ]
            ],
            "type": "heatmap"
           }
          ],
          "heatmapgl": [
           {
            "colorbar": {
             "outlinewidth": 0,
             "ticks": ""
            },
            "colorscale": [
             [
              0,
              "#0d0887"
             ],
             [
              0.1111111111111111,
              "#46039f"
             ],
             [
              0.2222222222222222,
              "#7201a8"
             ],
             [
              0.3333333333333333,
              "#9c179e"
             ],
             [
              0.4444444444444444,
              "#bd3786"
             ],
             [
              0.5555555555555556,
              "#d8576b"
             ],
             [
              0.6666666666666666,
              "#ed7953"
             ],
             [
              0.7777777777777778,
              "#fb9f3a"
             ],
             [
              0.8888888888888888,
              "#fdca26"
             ],
             [
              1,
              "#f0f921"
             ]
            ],
            "type": "heatmapgl"
           }
          ],
          "histogram": [
           {
            "marker": {
             "pattern": {
              "fillmode": "overlay",
              "size": 10,
              "solidity": 0.2
             }
            },
            "type": "histogram"
           }
          ],
          "histogram2d": [
           {
            "colorbar": {
             "outlinewidth": 0,
             "ticks": ""
            },
            "colorscale": [
             [
              0,
              "#0d0887"
             ],
             [
              0.1111111111111111,
              "#46039f"
             ],
             [
              0.2222222222222222,
              "#7201a8"
             ],
             [
              0.3333333333333333,
              "#9c179e"
             ],
             [
              0.4444444444444444,
              "#bd3786"
             ],
             [
              0.5555555555555556,
              "#d8576b"
             ],
             [
              0.6666666666666666,
              "#ed7953"
             ],
             [
              0.7777777777777778,
              "#fb9f3a"
             ],
             [
              0.8888888888888888,
              "#fdca26"
             ],
             [
              1,
              "#f0f921"
             ]
            ],
            "type": "histogram2d"
           }
          ],
          "histogram2dcontour": [
           {
            "colorbar": {
             "outlinewidth": 0,
             "ticks": ""
            },
            "colorscale": [
             [
              0,
              "#0d0887"
             ],
             [
              0.1111111111111111,
              "#46039f"
             ],
             [
              0.2222222222222222,
              "#7201a8"
             ],
             [
              0.3333333333333333,
              "#9c179e"
             ],
             [
              0.4444444444444444,
              "#bd3786"
             ],
             [
              0.5555555555555556,
              "#d8576b"
             ],
             [
              0.6666666666666666,
              "#ed7953"
             ],
             [
              0.7777777777777778,
              "#fb9f3a"
             ],
             [
              0.8888888888888888,
              "#fdca26"
             ],
             [
              1,
              "#f0f921"
             ]
            ],
            "type": "histogram2dcontour"
           }
          ],
          "mesh3d": [
           {
            "colorbar": {
             "outlinewidth": 0,
             "ticks": ""
            },
            "type": "mesh3d"
           }
          ],
          "parcoords": [
           {
            "line": {
             "colorbar": {
              "outlinewidth": 0,
              "ticks": ""
             }
            },
            "type": "parcoords"
           }
          ],
          "pie": [
           {
            "automargin": true,
            "type": "pie"
           }
          ],
          "scatter": [
           {
            "fillpattern": {
             "fillmode": "overlay",
             "size": 10,
             "solidity": 0.2
            },
            "type": "scatter"
           }
          ],
          "scatter3d": [
           {
            "line": {
             "colorbar": {
              "outlinewidth": 0,
              "ticks": ""
             }
            },
            "marker": {
             "colorbar": {
              "outlinewidth": 0,
              "ticks": ""
             }
            },
            "type": "scatter3d"
           }
          ],
          "scattercarpet": [
           {
            "marker": {
             "colorbar": {
              "outlinewidth": 0,
              "ticks": ""
             }
            },
            "type": "scattercarpet"
           }
          ],
          "scattergeo": [
           {
            "marker": {
             "colorbar": {
              "outlinewidth": 0,
              "ticks": ""
             }
            },
            "type": "scattergeo"
           }
          ],
          "scattergl": [
           {
            "marker": {
             "colorbar": {
              "outlinewidth": 0,
              "ticks": ""
             }
            },
            "type": "scattergl"
           }
          ],
          "scattermapbox": [
           {
            "marker": {
             "colorbar": {
              "outlinewidth": 0,
              "ticks": ""
             }
            },
            "type": "scattermapbox"
           }
          ],
          "scatterpolar": [
           {
            "marker": {
             "colorbar": {
              "outlinewidth": 0,
              "ticks": ""
             }
            },
            "type": "scatterpolar"
           }
          ],
          "scatterpolargl": [
           {
            "marker": {
             "colorbar": {
              "outlinewidth": 0,
              "ticks": ""
             }
            },
            "type": "scatterpolargl"
           }
          ],
          "scatterternary": [
           {
            "marker": {
             "colorbar": {
              "outlinewidth": 0,
              "ticks": ""
             }
            },
            "type": "scatterternary"
           }
          ],
          "surface": [
           {
            "colorbar": {
             "outlinewidth": 0,
             "ticks": ""
            },
            "colorscale": [
             [
              0,
              "#0d0887"
             ],
             [
              0.1111111111111111,
              "#46039f"
             ],
             [
              0.2222222222222222,
              "#7201a8"
             ],
             [
              0.3333333333333333,
              "#9c179e"
             ],
             [
              0.4444444444444444,
              "#bd3786"
             ],
             [
              0.5555555555555556,
              "#d8576b"
             ],
             [
              0.6666666666666666,
              "#ed7953"
             ],
             [
              0.7777777777777778,
              "#fb9f3a"
             ],
             [
              0.8888888888888888,
              "#fdca26"
             ],
             [
              1,
              "#f0f921"
             ]
            ],
            "type": "surface"
           }
          ],
          "table": [
           {
            "cells": {
             "fill": {
              "color": "#EBF0F8"
             },
             "line": {
              "color": "white"
             }
            },
            "header": {
             "fill": {
              "color": "#C8D4E3"
             },
             "line": {
              "color": "white"
             }
            },
            "type": "table"
           }
          ]
         },
         "layout": {
          "annotationdefaults": {
           "arrowcolor": "#2a3f5f",
           "arrowhead": 0,
           "arrowwidth": 1
          },
          "autotypenumbers": "strict",
          "coloraxis": {
           "colorbar": {
            "outlinewidth": 0,
            "ticks": ""
           }
          },
          "colorscale": {
           "diverging": [
            [
             0,
             "#8e0152"
            ],
            [
             0.1,
             "#c51b7d"
            ],
            [
             0.2,
             "#de77ae"
            ],
            [
             0.3,
             "#f1b6da"
            ],
            [
             0.4,
             "#fde0ef"
            ],
            [
             0.5,
             "#f7f7f7"
            ],
            [
             0.6,
             "#e6f5d0"
            ],
            [
             0.7,
             "#b8e186"
            ],
            [
             0.8,
             "#7fbc41"
            ],
            [
             0.9,
             "#4d9221"
            ],
            [
             1,
             "#276419"
            ]
           ],
           "sequential": [
            [
             0,
             "#0d0887"
            ],
            [
             0.1111111111111111,
             "#46039f"
            ],
            [
             0.2222222222222222,
             "#7201a8"
            ],
            [
             0.3333333333333333,
             "#9c179e"
            ],
            [
             0.4444444444444444,
             "#bd3786"
            ],
            [
             0.5555555555555556,
             "#d8576b"
            ],
            [
             0.6666666666666666,
             "#ed7953"
            ],
            [
             0.7777777777777778,
             "#fb9f3a"
            ],
            [
             0.8888888888888888,
             "#fdca26"
            ],
            [
             1,
             "#f0f921"
            ]
           ],
           "sequentialminus": [
            [
             0,
             "#0d0887"
            ],
            [
             0.1111111111111111,
             "#46039f"
            ],
            [
             0.2222222222222222,
             "#7201a8"
            ],
            [
             0.3333333333333333,
             "#9c179e"
            ],
            [
             0.4444444444444444,
             "#bd3786"
            ],
            [
             0.5555555555555556,
             "#d8576b"
            ],
            [
             0.6666666666666666,
             "#ed7953"
            ],
            [
             0.7777777777777778,
             "#fb9f3a"
            ],
            [
             0.8888888888888888,
             "#fdca26"
            ],
            [
             1,
             "#f0f921"
            ]
           ]
          },
          "colorway": [
           "#636efa",
           "#EF553B",
           "#00cc96",
           "#ab63fa",
           "#FFA15A",
           "#19d3f3",
           "#FF6692",
           "#B6E880",
           "#FF97FF",
           "#FECB52"
          ],
          "font": {
           "color": "#2a3f5f"
          },
          "geo": {
           "bgcolor": "white",
           "lakecolor": "white",
           "landcolor": "#E5ECF6",
           "showlakes": true,
           "showland": true,
           "subunitcolor": "white"
          },
          "hoverlabel": {
           "align": "left"
          },
          "hovermode": "closest",
          "mapbox": {
           "style": "light"
          },
          "paper_bgcolor": "white",
          "plot_bgcolor": "#E5ECF6",
          "polar": {
           "angularaxis": {
            "gridcolor": "white",
            "linecolor": "white",
            "ticks": ""
           },
           "bgcolor": "#E5ECF6",
           "radialaxis": {
            "gridcolor": "white",
            "linecolor": "white",
            "ticks": ""
           }
          },
          "scene": {
           "xaxis": {
            "backgroundcolor": "#E5ECF6",
            "gridcolor": "white",
            "gridwidth": 2,
            "linecolor": "white",
            "showbackground": true,
            "ticks": "",
            "zerolinecolor": "white"
           },
           "yaxis": {
            "backgroundcolor": "#E5ECF6",
            "gridcolor": "white",
            "gridwidth": 2,
            "linecolor": "white",
            "showbackground": true,
            "ticks": "",
            "zerolinecolor": "white"
           },
           "zaxis": {
            "backgroundcolor": "#E5ECF6",
            "gridcolor": "white",
            "gridwidth": 2,
            "linecolor": "white",
            "showbackground": true,
            "ticks": "",
            "zerolinecolor": "white"
           }
          },
          "shapedefaults": {
           "line": {
            "color": "#2a3f5f"
           }
          },
          "ternary": {
           "aaxis": {
            "gridcolor": "white",
            "linecolor": "white",
            "ticks": ""
           },
           "baxis": {
            "gridcolor": "white",
            "linecolor": "white",
            "ticks": ""
           },
           "bgcolor": "#E5ECF6",
           "caxis": {
            "gridcolor": "white",
            "linecolor": "white",
            "ticks": ""
           }
          },
          "title": {
           "x": 0.05
          },
          "xaxis": {
           "automargin": true,
           "gridcolor": "white",
           "linecolor": "white",
           "ticks": "",
           "title": {
            "standoff": 15
           },
           "zerolinecolor": "white",
           "zerolinewidth": 2
          },
          "yaxis": {
           "automargin": true,
           "gridcolor": "white",
           "linecolor": "white",
           "ticks": "",
           "title": {
            "standoff": 15
           },
           "zerolinecolor": "white",
           "zerolinewidth": 2
          }
         }
        },
        "xaxis": {
         "anchor": "y",
         "domain": [
          0,
          1
         ],
         "title": {
          "text": "x"
         }
        },
        "yaxis": {
         "anchor": "x",
         "domain": [
          0,
          1
         ],
         "title": {
          "text": "value"
         }
        }
       }
      }
     },
     "metadata": {},
     "output_type": "display_data"
    }
   ],
   "source": [
    "X0_mix_space = iDFT @ (X0_mix)\n",
    "print('mean of X0 :',np.mean(X0_mix))\n",
    "px.line(x=xspan,y=[np.real(X0_mix_space),np.imag(X0_mix_space)])"
   ]
  },
  {
   "cell_type": "code",
   "execution_count": 26,
   "metadata": {},
   "outputs": [],
   "source": [
    "fX0_sin = np.concatenate((X0_sin,X0_sin))\n",
    "fX0_cos = np.concatenate((X0_cos,X0_cos))\n",
    "fX0_mix = np.concatenate((X0_mix,X0_mix))"
   ]
  },
  {
   "cell_type": "code",
   "execution_count": 27,
   "metadata": {},
   "outputs": [],
   "source": [
    "def Euler_Explicit(mat, X0, tspan):\n",
    "    X = np.zeros((X0.shape[0],tspan.shape[0])) + np.zeros((X0.shape[0],tspan.shape[0]))*1j\n",
    "    dt = tspan[1] - tspan[0]\n",
    "    X[:,0] = X0\n",
    "    for i in range(1,len(tspan)):\n",
    "        X[:,i] = X[:,i-1] + dt * mat @ X[:,i-1]\n",
    "    return X"
   ]
  },
  {
   "cell_type": "code",
   "execution_count": 28,
   "metadata": {},
   "outputs": [
    {
     "name": "stdout",
     "output_type": "stream",
     "text": [
      "1st edo : done\n",
      "2nd edo : done\n",
      "3rd edo : done\n"
     ]
    }
   ],
   "source": [
    "X_sol_EE_fA_sin = Euler_Explicit(fA,fX0_sin,tspan)\n",
    "print('1st edo : done')\n",
    "X_sol_EE_fA_mod_nm_sin = Euler_Explicit(fA_mod_nm,fX0_sin,tspan)\n",
    "print('2nd edo : done')\n",
    "X_sol_EE_fA_mod_bf_sin = Euler_Explicit(fA_mod_bf,fX0_sin,tspan)\n",
    "print('3rd edo : done')"
   ]
  },
  {
   "cell_type": "code",
   "execution_count": 29,
   "metadata": {},
   "outputs": [
    {
     "name": "stdout",
     "output_type": "stream",
     "text": [
      "1st edo : done\n",
      "2nd edo : done\n",
      "3rd edo : done\n"
     ]
    }
   ],
   "source": [
    "X_sol_EE_fA_cos = Euler_Explicit(fA,fX0_cos,tspan)\n",
    "print('1st edo : done')\n",
    "X_sol_EE_fA_mod_nm_cos = Euler_Explicit(fA_mod_nm,fX0_cos,tspan)\n",
    "print('2nd edo : done')\n",
    "X_sol_EE_fA_mod_bf_cos = Euler_Explicit(fA_mod_bf,fX0_cos,tspan)\n",
    "print('3rd edo : done')"
   ]
  },
  {
   "cell_type": "code",
   "execution_count": 30,
   "metadata": {},
   "outputs": [
    {
     "name": "stdout",
     "output_type": "stream",
     "text": [
      "1st edo : done\n",
      "2nd edo : done\n",
      "3rd edo : done\n"
     ]
    }
   ],
   "source": [
    "X_sol_EE_fA_mix = Euler_Explicit(fA,fX0_mix,tspan)\n",
    "print('1st edo : done')\n",
    "X_sol_EE_fA_mod_nm_mix = Euler_Explicit(fA_mod_nm,fX0_mix,tspan)\n",
    "print('2nd edo : done')\n",
    "X_sol_EE_fA_mod_bf_mix = Euler_Explicit(fA_mod_bf,fX0_mix,tspan)\n",
    "print('3rd edo : done')"
   ]
  },
  {
   "cell_type": "code",
   "execution_count": 31,
   "metadata": {},
   "outputs": [
    {
     "data": {
      "image/png": "[encoded data removed]",
      "text/plain": [
       "<Figure size 640x480 with 1 Axes>"
      ]
     },
     "metadata": {},
     "output_type": "display_data"
    }
   ],
   "source": [
    "steps = tspan.shape[0]//200\n",
    "plt.semilogy(tspan[::steps],np.linalg.norm(X_sol_EE_fA_sin[0:,::steps],2,axis=0),'-s',label='X_sol_EE_fA_sin')\n",
    "plt.semilogy(tspan[::steps],np.linalg.norm(X_sol_EE_fA_mod_nm_sin[0:,::steps],2,axis=0),'-x',label='X_sol_EE_fA_mod_nm_sin')\n",
    "plt.semilogy(tspan[::steps],np.linalg.norm(X_sol_EE_fA_mod_bf_sin[0:,::steps],2,axis=0),'-o',label='X_sol_EE_fA_mod_bf_sin')\n",
    "plt.title(r'convergence, condition initiale : sinus')\n",
    "plt.grid()\n",
    "plt.legend()\n",
    "plt.show()"
   ]
  },
  {
   "cell_type": "code",
   "execution_count": 32,
   "metadata": {},
   "outputs": [
    {
     "data": {
      "image/png": "[encoded data removed]",
      "text/plain": [
       "<Figure size 640x480 with 1 Axes>"
      ]
     },
     "metadata": {},
     "output_type": "display_data"
    }
   ],
   "source": [
    "steps = tspan.shape[0]//30\n",
    "plt.semilogy(tspan[::steps],np.linalg.norm(X_sol_EE_fA_cos[0:,::steps],2,axis=0),'-s',label='X_sol_EE_fA_cos')\n",
    "plt.semilogy(tspan[::steps],np.linalg.norm(X_sol_EE_fA_mod_nm_cos[0:,::steps],2,axis=0),'-x',label='X_sol_EE_fA_mod_nm_cos')\n",
    "plt.semilogy(tspan[::steps],np.linalg.norm(X_sol_EE_fA_mod_bf_cos[0:,::steps],2,axis=0),'-o',label='X_sol_EE_fA_mod_bf_cos')\n",
    "plt.title(r'convergence, condition initiale : cosinus')\n",
    "plt.grid()\n",
    "plt.legend()\n",
    "plt.show()"
   ]
  },
  {
   "cell_type": "code",
   "execution_count": 33,
   "metadata": {},
   "outputs": [
    {
     "data": {
      "image/png": "[encoded data removed]",
      "text/plain": [
       "<Figure size 1500x500 with 2 Axes>"
      ]
     },
     "metadata": {},
     "output_type": "display_data"
    }
   ],
   "source": [
    "steps = tspan.shape[0]//30\n",
    "plt.figure(figsize=(15, 5))\n",
    "plt.subplot(1, 2, 1)\n",
    "plt.semilogy(tspan[::steps],np.linalg.norm(np.kron(np.eye(2),Pi_bf) @ X_sol_EE_fA_cos[0:,::steps],2,axis=0),'-s',label='Pi_bf @ X_sol_EE_fA_cos')\n",
    "plt.semilogy(tspan[::steps],np.linalg.norm(np.kron(np.eye(2),Pi_bf) @ X_sol_EE_fA_mod_nm_cos[0:,::steps],2,axis=0),'-x',label='Pi_bf @ X_sol_EE_fA_mod_nm_cos')\n",
    "plt.semilogy(tspan[::steps],np.linalg.norm(np.kron(np.eye(2),Pi_bf) @ X_sol_EE_fA_mod_bf_cos[0:,::steps],2,axis=0),'-o',label='Pi_bf @ X_sol_EE_fA_mod_bf_cos')\n",
    "plt.title(r'convergence des basse frequences, condition initiale : cosinus')\n",
    "plt.grid()\n",
    "plt.legend()\n",
    "plt.subplot(1, 2, 2)\n",
    "plt.semilogy(tspan[::steps],np.linalg.norm(np.kron(np.eye(2),Pi_hf) @ X_sol_EE_fA_cos[0:,::steps],2,axis=0),'-s',label='Pi_hf @ X_sol_EE_fA_cos')\n",
    "plt.semilogy(tspan[::steps],np.linalg.norm(np.kron(np.eye(2),Pi_hf) @ X_sol_EE_fA_mod_nm_cos[0:,::steps],2,axis=0),'-x',label='Pi_hf @ X_sol_EE_fA_mod_nm_cos')\n",
    "plt.semilogy(tspan[::steps],np.linalg.norm(np.kron(np.eye(2),Pi_hf) @ X_sol_EE_fA_mod_bf_cos[0:,::steps],2,axis=0),'-o',label='Pi_hf @ X_sol_EE_fA_mod_bf_cos')\n",
    "plt.title(r'convergence des hautes frequences, condition initiale : cosinus')\n",
    "plt.grid()\n",
    "plt.legend()\n",
    "plt.show()"
   ]
  },
  {
   "cell_type": "code",
   "execution_count": 38,
   "metadata": {},
   "outputs": [
    {
     "data": {
      "image/png": "[encoded data removed]",
      "text/plain": [
       "<Figure size 640x480 with 1 Axes>"
      ]
     },
     "metadata": {},
     "output_type": "display_data"
    }
   ],
   "source": [
    "steps = tspan.shape[0]//30\n",
    "plt.semilogy(tspan[::steps],np.linalg.norm(X_sol_EE_fA_mix[0:,::steps],2,axis=0),'-s',label='X_sol_EE_fA_mix')\n",
    "plt.semilogy(tspan[::steps],np.linalg.norm(X_sol_EE_fA_mod_nm_mix[0:,::steps],2,axis=0),'-x',label='X_sol_EE_fA_mod_nm_mix')\n",
    "plt.semilogy(tspan[::steps],np.linalg.norm(X_sol_EE_fA_mod_bf_mix[0:,::steps],2,axis=0),'-o',label='X_sol_EE_fA_mod_bf_mix')\n",
    "plt.title(r'convergence, condition initiale : cosinus + sin')\n",
    "plt.grid()\n",
    "plt.legend()\n",
    "plt.show()"
   ]
  },
  {
   "cell_type": "code",
   "execution_count": 37,
   "metadata": {},
   "outputs": [
    {
     "data": {
      "image/png": "[encoded data removed]",
      "text/plain": [
       "<Figure size 1500x500 with 2 Axes>"
      ]
     },
     "metadata": {},
     "output_type": "display_data"
    }
   ],
   "source": [
    "steps = tspan.shape[0]//30\n",
    "plt.figure(figsize=(15, 5))\n",
    "plt.subplot(1, 2, 1)\n",
    "plt.semilogy(tspan[::steps],np.linalg.norm(np.kron(np.eye(2),Pi_bf) @ X_sol_EE_fA_mix[0:,::steps],2,axis=0),'-s',label='Pi_bf @ X_sol_EE_fA_mix')\n",
    "plt.semilogy(tspan[::steps],np.linalg.norm(np.kron(np.eye(2),Pi_bf) @ X_sol_EE_fA_mod_nm_mix[0:,::steps],2,axis=0),'-x',label='Pi_bf @ X_sol_EE_fA_mod_nm_mix')\n",
    "plt.semilogy(tspan[::steps],np.linalg.norm(np.kron(np.eye(2),Pi_bf) @ X_sol_EE_fA_mod_bf_mix[0:,::steps],2,axis=0),'-o',label='Pi_bf @ X_sol_EE_fA_mod_bf_mix')\n",
    "plt.title(r'convergence des basse frequences, condition initiale : cosinus + sinus')\n",
    "plt.grid()\n",
    "plt.legend()\n",
    "plt.subplot(1, 2, 2)\n",
    "plt.semilogy(tspan[::steps],np.linalg.norm(np.kron(np.eye(2),Pi_hf) @ X_sol_EE_fA_mix[0:,::steps],2,axis=0),'-s',label='Pi_hf @ X_sol_EE_fA_mix')\n",
    "plt.semilogy(tspan[::steps],np.linalg.norm(np.kron(np.eye(2),Pi_hf) @ X_sol_EE_fA_mod_nm_mix[0:,::steps],2,axis=0),'-x',label='Pi_hf @ X_sol_EE_fA_mod_nm_mix')\n",
    "plt.semilogy(tspan[::steps],np.linalg.norm(np.kron(np.eye(2),Pi_hf) @ X_sol_EE_fA_mod_bf_mix[0:,::steps],2,axis=0),'-o',label='Pi_hf @ X_sol_EE_fA_mod_bf_mix')\n",
    "plt.title(r'convergence des hautes frequences, condition initiale : cosinus + sinus')\n",
    "plt.grid()\n",
    "plt.legend()\n",
    "plt.show()"
   ]
  },
  {
   "cell_type": "code",
   "execution_count": null,
   "metadata": {},
   "outputs": [],
   "source": []
  }
 ],
 "metadata": {
  "kernelspec": {
   "display_name": "base",
   "language": "python",
   "name": "python3"
  },
  "language_info": {
   "codemirror_mode": {
    "name": "ipython",
    "version": 3
   },
   "file_extension": ".py",
   "mimetype": "text/x-python",
   "name": "python",
   "nbconvert_exporter": "python",
   "pygments_lexer": "ipython3",
   "version": "3.11.3"
  },
  "orig_nbformat": 4
 },
 "nbformat": 4,
 "nbformat_minor": 2
}
