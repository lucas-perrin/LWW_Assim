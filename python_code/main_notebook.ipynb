{
 "cells": [
  {
   "cell_type": "code",
   "execution_count": 51,
   "metadata": {},
   "outputs": [],
   "source": [
    "from call_functions import *\n",
    "import plotly.express as px\n",
    "import matplotlib.pyplot as plt\n",
    "import matplotlib.gridspec as gridspec\n",
    "import matplotlib2tikz"
   ]
  },
  {
   "cell_type": "markdown",
   "metadata": {},
   "source": [
    "## General Setting"
   ]
  },
  {
   "cell_type": "code",
   "execution_count": 52,
   "metadata": {},
   "outputs": [],
   "source": [
    "# ------------------------------\n",
    "# Parameters to tune\n",
    "# ------------------------------\n",
    "\n",
    "x0 = 0\n",
    "L = 2 * np.pi\n",
    "Nx = 2**6 +1\n",
    "Nf = Nx // 2\n",
    "dt = 1e-3\n",
    "a = 1\n",
    "g = 1\n",
    "gain = 1\n",
    "T_start = 0\n",
    "T = 500\n",
    "N_ini_fq = 2**1\n",
    "\n",
    "# ------------------------------\n",
    "# Space discretization\n",
    "# ------------------------------\n",
    "\n",
    "dx = L / Nx\n",
    "Lx = L - dx\n",
    "xspan = np.arange(x0, Lx + dx, dx)\n",
    "frequences = np.fft.fftfreq(Nx, dx) * 2 * np.pi\n",
    "frequences2 = fftfreq(Nx, dx) * 2 * np.pi # same as above\n",
    "\n",
    "# ------------------------------\n",
    "# Time discretization\n",
    "# ------------------------------\n",
    "\n",
    "T_end = T_start + T\n",
    "tspan = np.arange(T_start, T_end + dt, dt)\n",
    "Nt = len(tspan)"
   ]
  },
  {
   "cell_type": "code",
   "execution_count": 53,
   "metadata": {},
   "outputs": [
    {
     "data": {
      "text/plain": [
       "array([  0.,   1.,   2.,   3.,   4.,   5.,   6.,   7.,   8.,   9.,  10.,\n",
       "        11.,  12.,  13.,  14.,  15.,  16.,  17.,  18.,  19.,  20.,  21.,\n",
       "        22.,  23.,  24.,  25.,  26.,  27.,  28.,  29.,  30.,  31.,  32.,\n",
       "       -32., -31., -30., -29., -28., -27., -26., -25., -24., -23., -22.,\n",
       "       -21., -20., -19., -18., -17., -16., -15., -14., -13., -12., -11.,\n",
       "       -10.,  -9.,  -8.,  -7.,  -6.,  -5.,  -4.,  -3.,  -2.,  -1.])"
      ]
     },
     "execution_count": 53,
     "metadata": {},
     "output_type": "execute_result"
    }
   ],
   "source": [
    "frequences"
   ]
  },
  {
   "cell_type": "code",
   "execution_count": 54,
   "metadata": {},
   "outputs": [],
   "source": [
    "# ------------------------------\n",
    "# Matrix computations\n",
    "# ------------------------------\n",
    "\n",
    "# 1) DFT and iDFT Matrices (as well as no mean matrices)\n",
    "DFT = 1 / Nx * getDFT(Nx)\n",
    "iDFT = getiDFT(Nx)\n",
    "\n",
    "# 2) True matrix A not in Fourier\n",
    "O = np.zeros((Nx, Nx))\n",
    "I = np.eye(Nx)\n",
    "G = Matrix_A_dz(Nx, dx)\n",
    "_, C = GetC(np.abs(xspan - np.pi) <= a)\n",
    "obs_space = np.abs(xspan - np.pi) <= a\n",
    "C = -np.dot(C.T, C)\n",
    "A = np.block([[O, -I], [G, C]])\n",
    "\n",
    "# True matrix A in Fourier\n",
    "fO = np.zeros((2 * Nf + 1, 2 * Nf + 1))\n",
    "fI = -np.eye(2 * Nf + 1)\n",
    "fF = np.diag(np.abs(np.concatenate((np.arange(0, Nf + 1), np.arange(-Nf, 0)))))\n",
    "frequences = fftfreq(Nx, dx) * 2 * np.pi  # Assuming the previously defined fftfreq function\n",
    "fC = np.real(-((a * np.exp((-1j * np.pi) * (frequences.reshape(-1, 1) - frequences))) / np.pi) * np.sinc(a * (frequences.reshape(-1, 1) - frequences) / np.pi))\n",
    "fA = np.block([[fO, fI], [fF, fC]])\n",
    "\n",
    "# Matrix that deletes the mean\n",
    "Pi_nm = np.diag(np.concatenate((np.zeros(1),np.ones(Nx-1))))\n",
    "\n",
    "# Modified fA\n",
    "fA_mod_nm = np.block([[fO, fI], [fF, Pi_nm @ fC]])\n",
    "\n",
    "# vector with list of all the positive frequencices\n",
    "pos_frequences = frequences[1:int((len(frequences)-1)/2)+1]\n",
    "\n",
    "# Matrix that deletes the mean and the high frequencies\n",
    "Pi_bf = np.diag(np.concatenate((np.zeros(1),(pos_frequences <= N_ini_fq),(pos_frequences <= N_ini_fq)[::-1])))\n",
    "Pi_hf = np.diag(np.concatenate((np.zeros(1),(pos_frequences > N_ini_fq),(pos_frequences > N_ini_fq)[::-1])))\n",
    "\n",
    "# second Modified fA\n",
    "fA_mod_bf = np.block([[fO, fI], [fF, Pi_bf @ fC]])"
   ]
  },
  {
   "cell_type": "code",
   "execution_count": 55,
   "metadata": {},
   "outputs": [
    {
     "name": "stdout",
     "output_type": "stream",
     "text": [
      "list of frequences :\n",
      "[  0.   1.   2.   3.   4.   5.   6.   7.   8.   9.  10.  11.  12.  13.\n",
      "  14.  15.  16.  17.  18.  19.  20.  21.  22.  23.  24.  25.  26.  27.\n",
      "  28.  29.  30.  31.  32. -32. -31. -30. -29. -28. -27. -26. -25. -24.\n",
      " -23. -22. -21. -20. -19. -18. -17. -16. -15. -14. -13. -12. -11. -10.\n",
      "  -9.  -8.  -7.  -6.  -5.  -4.  -3.  -2.  -1.]\n",
      "Pi_nm diagonal :\n",
      "[0. 1. 1. 1. 1. 1. 1. 1. 1. 1. 1. 1. 1. 1. 1. 1. 1. 1. 1. 1. 1. 1. 1. 1.\n",
      " 1. 1. 1. 1. 1. 1. 1. 1. 1. 1. 1. 1. 1. 1. 1. 1. 1. 1. 1. 1. 1. 1. 1. 1.\n",
      " 1. 1. 1. 1. 1. 1. 1. 1. 1. 1. 1. 1. 1. 1. 1. 1. 1.]\n",
      "Pi_bf diagonal :\n",
      "[0. 1. 1. 0. 0. 0. 0. 0. 0. 0. 0. 0. 0. 0. 0. 0. 0. 0. 0. 0. 0. 0. 0. 0.\n",
      " 0. 0. 0. 0. 0. 0. 0. 0. 0. 0. 0. 0. 0. 0. 0. 0. 0. 0. 0. 0. 0. 0. 0. 0.\n",
      " 0. 0. 0. 0. 0. 0. 0. 0. 0. 0. 0. 0. 0. 0. 0. 1. 1.]\n",
      "Pi_hf diagonal :\n",
      "[0. 0. 0. 1. 1. 1. 1. 1. 1. 1. 1. 1. 1. 1. 1. 1. 1. 1. 1. 1. 1. 1. 1. 1.\n",
      " 1. 1. 1. 1. 1. 1. 1. 1. 1. 1. 1. 1. 1. 1. 1. 1. 1. 1. 1. 1. 1. 1. 1. 1.\n",
      " 1. 1. 1. 1. 1. 1. 1. 1. 1. 1. 1. 1. 1. 1. 1. 0. 0.]\n"
     ]
    }
   ],
   "source": [
    "# ------------------------------\n",
    "# Print of the projection matrices\n",
    "# ------------------------------\n",
    "\n",
    "print('list of frequences :')\n",
    "print(2 * np.pi * fftfreq(Nx, dx))\n",
    "print('Pi_nm diagonal :')\n",
    "print(np.diag(Pi_nm))\n",
    "print('Pi_bf diagonal :')\n",
    "print(np.diag(Pi_bf))\n",
    "print('Pi_hf diagonal :')\n",
    "print(np.diag(Pi_hf))"
   ]
  },
  {
   "cell_type": "code",
   "execution_count": 56,
   "metadata": {},
   "outputs": [
    {
     "name": "stdout",
     "output_type": "stream",
     "text": [
      "relative error between DFT @ fF @ iDFT and G :\n"
     ]
    },
    {
     "name": "stdout",
     "output_type": "stream",
     "text": [
      "5.930223855214203e-15\n",
      "relative error between DFT @ fC @ iDFT and C :\n",
      "0.1934359125475558\n",
      "relative error between DFT @ fA @ iDFT and A :\n",
      "0.005708458913611578\n"
     ]
    }
   ],
   "source": [
    "# ------------------------------\n",
    "# Test of the error between Fourier and non Fourier Matrices\n",
    "# ------------------------------\n",
    "\n",
    "# Now : DFT @ fF @ iDFT = G\n",
    "\n",
    "print('relative error between DFT @ fF @ iDFT and G :')\n",
    "print(np.linalg.norm(np.real(iDFT @ fF @ DFT) - G)/np.linalg.norm(G))\n",
    "\n",
    "# Now : DFT @ fF @ iDFT = G * np.pi * 2\n",
    "\n",
    "print('relative error between DFT @ fC @ iDFT and C :')\n",
    "print(np.linalg.norm(np.real(iDFT @ fC @ DFT) - C)/np.linalg.norm(C))\n",
    "\n",
    "print('relative error between DFT @ fA @ iDFT and A :')\n",
    "print(np.linalg.norm(np.real(np.kron(np.eye(2),DFT) @ fA @ np.kron(np.eye(2),iDFT)) - A)/np.linalg.norm(A))"
   ]
  },
  {
   "cell_type": "code",
   "execution_count": 57,
   "metadata": {},
   "outputs": [
    {
     "data": {
      "application/vnd.plotly.v1+json": {
       "config": {
        "plotlyServerURL": "https://plot.ly"
       },
       "data": [
        {
         "hovertemplate": "variable=wide_variable_0<br>x=%{x}<br>value=%{y}<extra></extra>",
         "legendgroup": "wide_variable_0",
         "marker": {
          "color": "#636efa",
          "symbol": "circle"
         },
         "mode": "markers",
         "name": "wide_variable_0",
         "orientation": "v",
         "showlegend": true,
         "type": "scatter",
         "x": [
          0,
          1,
          2,
          3,
          4,
          5,
          6,
          7.000000000000001,
          8,
          9,
          10,
          11,
          12,
          12.999999999999998,
          14.000000000000002,
          15,
          16,
          17,
          18,
          19,
          20,
          21,
          22,
          23,
          24,
          25,
          25.999999999999996,
          26.999999999999996,
          28.000000000000004,
          29.000000000000004,
          30,
          31,
          32,
          -32,
          -31,
          -30,
          -29.000000000000004,
          -28.000000000000004,
          -26.999999999999996,
          -25.999999999999996,
          -25,
          -24,
          -23,
          -22,
          -21,
          -20,
          -19,
          -18,
          -17,
          -16,
          -15,
          -14.000000000000002,
          -12.999999999999998,
          -12,
          -11,
          -10,
          -9,
          -8,
          -7.000000000000001,
          -6,
          -5,
          -4,
          -3,
          -2,
          -1
         ],
         "xaxis": "x",
         "y": [
          -0.3076923076923077,
          0.26206591981074834,
          -0.14904446048590583,
          0.025481373581974658,
          0.05309978325958975,
          -0.06381715238891349,
          0.0250033058805082,
          0.021540880081084488,
          -0.040500273481641126,
          0.024209445257000528,
          0.007922521776536282,
          -0.028374762151033288,
          0.0231040169240581,
          -6.938893903907228e-18,
          -0.02021972140876597,
          0.021692616129638933,
          -0.005270894123914209,
          -0.013931890732479218,
          0.019981852795054485,
          -0.008997971431550374,
          -0.008687396628909754,
          0.01797883543974922,
          -0.011673066598555992,
          -0.004107171814453392,
          0.0156904316436901,
          -0.013541251655857726,
          2.168404344971009e-17,
          0.01312220026784105,
          -0.0147319337377021,
          0.003735093878309808,
          0.01027681661365986,
          -0.01531266830435259,
          0.00715167545074645,
          0.007151675450746628,
          -0.015312668304352527,
          0.010276816613659536,
          0.003735093878309287,
          -0.014731933737702662,
          0.01312220026784063,
          -2.168404344971009e-17,
          -0.013541251655858002,
          0.015690431643690078,
          -0.004107171814454608,
          -0.011673066598555305,
          0.01797883543974903,
          -0.00868739662890972,
          -0.008997971431550266,
          0.019981852795053937,
          -0.013931890732479099,
          -0.0052708941239142885,
          0.021692616129639852,
          -0.020219721408765736,
          5.377642775528102e-17,
          0.023104016924058026,
          -0.028374762151033087,
          0.007922521776536299,
          0.024209445257000205,
          -0.040500273481640675,
          0.021540880081084512,
          0.0250033058805076,
          -0.063817152388913,
          0.05309978325959022,
          0.025481373581974234,
          -0.14904446048590472,
          0.2620659198107476
         ],
         "yaxis": "y"
        },
        {
         "hovertemplate": "variable=wide_variable_1<br>x=%{x}<br>value=%{y}<extra></extra>",
         "legendgroup": "wide_variable_1",
         "marker": {
          "color": "#EF553B",
          "symbol": "circle"
         },
         "mode": "markers",
         "name": "wide_variable_1",
         "orientation": "v",
         "showlegend": true,
         "type": "scatter",
         "x": [
          0,
          1,
          2,
          3,
          4,
          5,
          6,
          7.000000000000001,
          8,
          9,
          10,
          11,
          12,
          12.999999999999998,
          14.000000000000002,
          15,
          16,
          17,
          18,
          19,
          20,
          21,
          22,
          23,
          24,
          25,
          25.999999999999996,
          26.999999999999996,
          28.000000000000004,
          29.000000000000004,
          30,
          31,
          32,
          -32,
          -31,
          -30,
          -29.000000000000004,
          -28.000000000000004,
          -26.999999999999996,
          -25.999999999999996,
          -25,
          -24,
          -23,
          -22,
          -21,
          -20,
          -19,
          -18,
          -17,
          -16,
          -15,
          -14.000000000000002,
          -12.999999999999998,
          -12,
          -11,
          -10,
          -9,
          -8,
          -7.000000000000001,
          -6,
          -5,
          -4,
          -3,
          -2,
          -1
         ],
         "xaxis": "x",
         "y": [
          -0.3183098861837907,
          0.2678485334011638,
          -0.14471918022004823,
          0.014973297901263985,
          0.060224429036268866,
          -0.061047015345379534,
          0.014823452571614545,
          0.029875047066064815,
          -0.03936531385971042,
          0.014575709792393306,
          0.017316729788877466,
          -0.028936978984732707,
          0.014233038704835242,
          0.010287947820805244,
          -0.022522865331718576,
          0.013799536559140995,
          0.005727654497474549,
          -0.018001313306915505,
          0.013280370280298364,
          0.0025109156604925524,
          -0.01452997494255717,
          0.012681702908449461,
          0.0001280663296729994,
          -0.011711318284321736,
          0.012010606055868003,
          -0.0016851548203939057,
          -0.009335765137717287,
          0.011274959737753883,
          -0.003079713951528814,
          -0.007284180212121981,
          0.010483341127032824,
          -0.0041486831257016655,
          -0.005485142629523374,
          -0.005485142629523374,
          -0.0041486831257016655,
          0.010483341127032824,
          -0.007284180212121981,
          -0.003079713951528814,
          0.011274959737753883,
          -0.009335765137717287,
          -0.0016851548203939057,
          0.012010606055868003,
          -0.011711318284321736,
          0.0001280663296729994,
          0.012681702908449461,
          -0.01452997494255717,
          0.0025109156604925524,
          0.013280370280298364,
          -0.018001313306915505,
          0.005727654497474549,
          0.013799536559140995,
          -0.022522865331718576,
          0.010287947820805244,
          0.014233038704835242,
          -0.028936978984732707,
          0.017316729788877466,
          0.014575709792393306,
          -0.03936531385971042,
          0.029875047066064815,
          0.014823452571614545,
          -0.061047015345379534,
          0.060224429036268866,
          0.014973297901263985,
          -0.14471918022004823,
          0.2678485334011638
         ],
         "yaxis": "y"
        }
       ],
       "layout": {
        "legend": {
         "title": {
          "text": "variable"
         },
         "tracegroupgap": 0
        },
        "margin": {
         "t": 60
        },
        "template": {
         "data": {
          "bar": [
           {
            "error_x": {
             "color": "#2a3f5f"
            },
            "error_y": {
             "color": "#2a3f5f"
            },
            "marker": {
             "line": {
              "color": "#E5ECF6",
              "width": 0.5
             },
             "pattern": {
              "fillmode": "overlay",
              "size": 10,
              "solidity": 0.2
             }
            },
            "type": "bar"
           }
          ],
          "barpolar": [
           {
            "marker": {
             "line": {
              "color": "#E5ECF6",
              "width": 0.5
             },
             "pattern": {
              "fillmode": "overlay",
              "size": 10,
              "solidity": 0.2
             }
            },
            "type": "barpolar"
           }
          ],
          "carpet": [
           {
            "aaxis": {
             "endlinecolor": "#2a3f5f",
             "gridcolor": "white",
             "linecolor": "white",
             "minorgridcolor": "white",
             "startlinecolor": "#2a3f5f"
            },
            "baxis": {
             "endlinecolor": "#2a3f5f",
             "gridcolor": "white",
             "linecolor": "white",
             "minorgridcolor": "white",
             "startlinecolor": "#2a3f5f"
            },
            "type": "carpet"
           }
          ],
          "choropleth": [
           {
            "colorbar": {
             "outlinewidth": 0,
             "ticks": ""
            },
            "type": "choropleth"
           }
          ],
          "contour": [
           {
            "colorbar": {
             "outlinewidth": 0,
             "ticks": ""
            },
            "colorscale": [
             [
              0,
              "#0d0887"
             ],
             [
              0.1111111111111111,
              "#46039f"
             ],
             [
              0.2222222222222222,
              "#7201a8"
             ],
             [
              0.3333333333333333,
              "#9c179e"
             ],
             [
              0.4444444444444444,
              "#bd3786"
             ],
             [
              0.5555555555555556,
              "#d8576b"
             ],
             [
              0.6666666666666666,
              "#ed7953"
             ],
             [
              0.7777777777777778,
              "#fb9f3a"
             ],
             [
              0.8888888888888888,
              "#fdca26"
             ],
             [
              1,
              "#f0f921"
             ]
            ],
            "type": "contour"
           }
          ],
          "contourcarpet": [
           {
            "colorbar": {
             "outlinewidth": 0,
             "ticks": ""
            },
            "type": "contourcarpet"
           }
          ],
          "heatmap": [
           {
            "colorbar": {
             "outlinewidth": 0,
             "ticks": ""
            },
            "colorscale": [
             [
              0,
              "#0d0887"
             ],
             [
              0.1111111111111111,
              "#46039f"
             ],
             [
              0.2222222222222222,
              "#7201a8"
             ],
             [
              0.3333333333333333,
              "#9c179e"
             ],
             [
              0.4444444444444444,
              "#bd3786"
             ],
             [
              0.5555555555555556,
              "#d8576b"
             ],
             [
              0.6666666666666666,
              "#ed7953"
             ],
             [
              0.7777777777777778,
              "#fb9f3a"
             ],
             [
              0.8888888888888888,
              "#fdca26"
             ],
             [
              1,
              "#f0f921"
             ]
            ],
            "type": "heatmap"
           }
          ],
          "heatmapgl": [
           {
            "colorbar": {
             "outlinewidth": 0,
             "ticks": ""
            },
            "colorscale": [
             [
              0,
              "#0d0887"
             ],
             [
              0.1111111111111111,
              "#46039f"
             ],
             [
              0.2222222222222222,
              "#7201a8"
             ],
             [
              0.3333333333333333,
              "#9c179e"
             ],
             [
              0.4444444444444444,
              "#bd3786"
             ],
             [
              0.5555555555555556,
              "#d8576b"
             ],
             [
              0.6666666666666666,
              "#ed7953"
             ],
             [
              0.7777777777777778,
              "#fb9f3a"
             ],
             [
              0.8888888888888888,
              "#fdca26"
             ],
             [
              1,
              "#f0f921"
             ]
            ],
            "type": "heatmapgl"
           }
          ],
          "histogram": [
           {
            "marker": {
             "pattern": {
              "fillmode": "overlay",
              "size": 10,
              "solidity": 0.2
             }
            },
            "type": "histogram"
           }
          ],
          "histogram2d": [
           {
            "colorbar": {
             "outlinewidth": 0,
             "ticks": ""
            },
            "colorscale": [
             [
              0,
              "#0d0887"
             ],
             [
              0.1111111111111111,
              "#46039f"
             ],
             [
              0.2222222222222222,
              "#7201a8"
             ],
             [
              0.3333333333333333,
              "#9c179e"
             ],
             [
              0.4444444444444444,
              "#bd3786"
             ],
             [
              0.5555555555555556,
              "#d8576b"
             ],
             [
              0.6666666666666666,
              "#ed7953"
             ],
             [
              0.7777777777777778,
              "#fb9f3a"
             ],
             [
              0.8888888888888888,
              "#fdca26"
             ],
             [
              1,
              "#f0f921"
             ]
            ],
            "type": "histogram2d"
           }
          ],
          "histogram2dcontour": [
           {
            "colorbar": {
             "outlinewidth": 0,
             "ticks": ""
            },
            "colorscale": [
             [
              0,
              "#0d0887"
             ],
             [
              0.1111111111111111,
              "#46039f"
             ],
             [
              0.2222222222222222,
              "#7201a8"
             ],
             [
              0.3333333333333333,
              "#9c179e"
             ],
             [
              0.4444444444444444,
              "#bd3786"
             ],
             [
              0.5555555555555556,
              "#d8576b"
             ],
             [
              0.6666666666666666,
              "#ed7953"
             ],
             [
              0.7777777777777778,
              "#fb9f3a"
             ],
             [
              0.8888888888888888,
              "#fdca26"
             ],
             [
              1,
              "#f0f921"
             ]
            ],
            "type": "histogram2dcontour"
           }
          ],
          "mesh3d": [
           {
            "colorbar": {
             "outlinewidth": 0,
             "ticks": ""
            },
            "type": "mesh3d"
           }
          ],
          "parcoords": [
           {
            "line": {
             "colorbar": {
              "outlinewidth": 0,
              "ticks": ""
             }
            },
            "type": "parcoords"
           }
          ],
          "pie": [
           {
            "automargin": true,
            "type": "pie"
           }
          ],
          "scatter": [
           {
            "fillpattern": {
             "fillmode": "overlay",
             "size": 10,
             "solidity": 0.2
            },
            "type": "scatter"
           }
          ],
          "scatter3d": [
           {
            "line": {
             "colorbar": {
              "outlinewidth": 0,
              "ticks": ""
             }
            },
            "marker": {
             "colorbar": {
              "outlinewidth": 0,
              "ticks": ""
             }
            },
            "type": "scatter3d"
           }
          ],
          "scattercarpet": [
           {
            "marker": {
             "colorbar": {
              "outlinewidth": 0,
              "ticks": ""
             }
            },
            "type": "scattercarpet"
           }
          ],
          "scattergeo": [
           {
            "marker": {
             "colorbar": {
              "outlinewidth": 0,
              "ticks": ""
             }
            },
            "type": "scattergeo"
           }
          ],
          "scattergl": [
           {
            "marker": {
             "colorbar": {
              "outlinewidth": 0,
              "ticks": ""
             }
            },
            "type": "scattergl"
           }
          ],
          "scattermapbox": [
           {
            "marker": {
             "colorbar": {
              "outlinewidth": 0,
              "ticks": ""
             }
            },
            "type": "scattermapbox"
           }
          ],
          "scatterpolar": [
           {
            "marker": {
             "colorbar": {
              "outlinewidth": 0,
              "ticks": ""
             }
            },
            "type": "scatterpolar"
           }
          ],
          "scatterpolargl": [
           {
            "marker": {
             "colorbar": {
              "outlinewidth": 0,
              "ticks": ""
             }
            },
            "type": "scatterpolargl"
           }
          ],
          "scatterternary": [
           {
            "marker": {
             "colorbar": {
              "outlinewidth": 0,
              "ticks": ""
             }
            },
            "type": "scatterternary"
           }
          ],
          "surface": [
           {
            "colorbar": {
             "outlinewidth": 0,
             "ticks": ""
            },
            "colorscale": [
             [
              0,
              "#0d0887"
             ],
             [
              0.1111111111111111,
              "#46039f"
             ],
             [
              0.2222222222222222,
              "#7201a8"
             ],
             [
              0.3333333333333333,
              "#9c179e"
             ],
             [
              0.4444444444444444,
              "#bd3786"
             ],
             [
              0.5555555555555556,
              "#d8576b"
             ],
             [
              0.6666666666666666,
              "#ed7953"
             ],
             [
              0.7777777777777778,
              "#fb9f3a"
             ],
             [
              0.8888888888888888,
              "#fdca26"
             ],
             [
              1,
              "#f0f921"
             ]
            ],
            "type": "surface"
           }
          ],
          "table": [
           {
            "cells": {
             "fill": {
              "color": "#EBF0F8"
             },
             "line": {
              "color": "white"
             }
            },
            "header": {
             "fill": {
              "color": "#C8D4E3"
             },
             "line": {
              "color": "white"
             }
            },
            "type": "table"
           }
          ]
         },
         "layout": {
          "annotationdefaults": {
           "arrowcolor": "#2a3f5f",
           "arrowhead": 0,
           "arrowwidth": 1
          },
          "autotypenumbers": "strict",
          "coloraxis": {
           "colorbar": {
            "outlinewidth": 0,
            "ticks": ""
           }
          },
          "colorscale": {
           "diverging": [
            [
             0,
             "#8e0152"
            ],
            [
             0.1,
             "#c51b7d"
            ],
            [
             0.2,
             "#de77ae"
            ],
            [
             0.3,
             "#f1b6da"
            ],
            [
             0.4,
             "#fde0ef"
            ],
            [
             0.5,
             "#f7f7f7"
            ],
            [
             0.6,
             "#e6f5d0"
            ],
            [
             0.7,
             "#b8e186"
            ],
            [
             0.8,
             "#7fbc41"
            ],
            [
             0.9,
             "#4d9221"
            ],
            [
             1,
             "#276419"
            ]
           ],
           "sequential": [
            [
             0,
             "#0d0887"
            ],
            [
             0.1111111111111111,
             "#46039f"
            ],
            [
             0.2222222222222222,
             "#7201a8"
            ],
            [
             0.3333333333333333,
             "#9c179e"
            ],
            [
             0.4444444444444444,
             "#bd3786"
            ],
            [
             0.5555555555555556,
             "#d8576b"
            ],
            [
             0.6666666666666666,
             "#ed7953"
            ],
            [
             0.7777777777777778,
             "#fb9f3a"
            ],
            [
             0.8888888888888888,
             "#fdca26"
            ],
            [
             1,
             "#f0f921"
            ]
           ],
           "sequentialminus": [
            [
             0,
             "#0d0887"
            ],
            [
             0.1111111111111111,
             "#46039f"
            ],
            [
             0.2222222222222222,
             "#7201a8"
            ],
            [
             0.3333333333333333,
             "#9c179e"
            ],
            [
             0.4444444444444444,
             "#bd3786"
            ],
            [
             0.5555555555555556,
             "#d8576b"
            ],
            [
             0.6666666666666666,
             "#ed7953"
            ],
            [
             0.7777777777777778,
             "#fb9f3a"
            ],
            [
             0.8888888888888888,
             "#fdca26"
            ],
            [
             1,
             "#f0f921"
            ]
           ]
          },
          "colorway": [
           "#636efa",
           "#EF553B",
           "#00cc96",
           "#ab63fa",
           "#FFA15A",
           "#19d3f3",
           "#FF6692",
           "#B6E880",
           "#FF97FF",
           "#FECB52"
          ],
          "font": {
           "color": "#2a3f5f"
          },
          "geo": {
           "bgcolor": "white",
           "lakecolor": "white",
           "landcolor": "#E5ECF6",
           "showlakes": true,
           "showland": true,
           "subunitcolor": "white"
          },
          "hoverlabel": {
           "align": "left"
          },
          "hovermode": "closest",
          "mapbox": {
           "style": "light"
          },
          "paper_bgcolor": "white",
          "plot_bgcolor": "#E5ECF6",
          "polar": {
           "angularaxis": {
            "gridcolor": "white",
            "linecolor": "white",
            "ticks": ""
           },
           "bgcolor": "#E5ECF6",
           "radialaxis": {
            "gridcolor": "white",
            "linecolor": "white",
            "ticks": ""
           }
          },
          "scene": {
           "xaxis": {
            "backgroundcolor": "#E5ECF6",
            "gridcolor": "white",
            "gridwidth": 2,
            "linecolor": "white",
            "showbackground": true,
            "ticks": "",
            "zerolinecolor": "white"
           },
           "yaxis": {
            "backgroundcolor": "#E5ECF6",
            "gridcolor": "white",
            "gridwidth": 2,
            "linecolor": "white",
            "showbackground": true,
            "ticks": "",
            "zerolinecolor": "white"
           },
           "zaxis": {
            "backgroundcolor": "#E5ECF6",
            "gridcolor": "white",
            "gridwidth": 2,
            "linecolor": "white",
            "showbackground": true,
            "ticks": "",
            "zerolinecolor": "white"
           }
          },
          "shapedefaults": {
           "line": {
            "color": "#2a3f5f"
           }
          },
          "ternary": {
           "aaxis": {
            "gridcolor": "white",
            "linecolor": "white",
            "ticks": ""
           },
           "baxis": {
            "gridcolor": "white",
            "linecolor": "white",
            "ticks": ""
           },
           "bgcolor": "#E5ECF6",
           "caxis": {
            "gridcolor": "white",
            "linecolor": "white",
            "ticks": ""
           }
          },
          "title": {
           "x": 0.05
          },
          "xaxis": {
           "automargin": true,
           "gridcolor": "white",
           "linecolor": "white",
           "ticks": "",
           "title": {
            "standoff": 15
           },
           "zerolinecolor": "white",
           "zerolinewidth": 2
          },
          "yaxis": {
           "automargin": true,
           "gridcolor": "white",
           "linecolor": "white",
           "ticks": "",
           "title": {
            "standoff": 15
           },
           "zerolinecolor": "white",
           "zerolinewidth": 2
          }
         }
        },
        "xaxis": {
         "anchor": "y",
         "domain": [
          0,
          1
         ],
         "title": {
          "text": "x"
         }
        },
        "yaxis": {
         "anchor": "x",
         "domain": [
          0,
          1
         ],
         "title": {
          "text": "value"
         }
        }
       }
      }
     },
     "metadata": {},
     "output_type": "display_data"
    }
   ],
   "source": [
    "# Comparaison between the C and fC matrices (first row, sinus cardinal vs indicatrice in Fourier space)\n",
    "px.scatter(x=frequences,y=[np.real(iDFT @ C @ DFT)[0,:],fC[0,:]])"
   ]
  },
  {
   "cell_type": "code",
   "execution_count": 58,
   "metadata": {},
   "outputs": [
    {
     "name": "stdout",
     "output_type": "stream",
     "text": [
      "freqs : [  0.   1.   2.   3.   4.   5.   6.   7.   8.   9.  10.  11.  12.  13.\n",
      "  14.  15.  16.  17.  18.  19.  20.  21.  22.  23.  24.  25.  26.  27.\n",
      "  28.  29.  30.  31.  32. -32. -31. -30. -29. -28. -27. -26. -25. -24.\n",
      " -23. -22. -21. -20. -19. -18. -17. -16. -15. -14. -13. -12. -11. -10.\n",
      "  -9.  -8.  -7.  -6.  -5.  -4.  -3.  -2.  -1.]\n",
      "real DFT : [ 0.  0. -0. -0. -0.  0. -0.  0.  0.  0.  0. -0.  0. -0.  0.  0.  0.  0.\n",
      "  0. -0. -0. -0. -0. -0. -0. -0. -0. -0. -0.  0. -0.  0.  0.  0.  0. -0.\n",
      "  0.  0.  0.  0.  0.  0. -0.  0. -0.  0. -0.  0.  0.  0. -0.  0.  0. -0.\n",
      "  0. -0. -0.  0. -0. -0. -0. -0.  0. -0. -0.]\n",
      "imag DFT : [ 0.  -0.5 -0.  -0.   0.   0.   0.  -0.  -0.  -0.  -0.  -0.   0.   0.\n",
      "  0.   0.  -0.   0.   0.   0.   0.   0.   0.   0.  -0.   0.   0.  -0.\n",
      "  0.  -0.   0.  -0.   0.  -0.   0.   0.   0.   0.   0.  -0.   0.  -0.\n",
      " -0.  -0.  -0.   0.  -0.   0.   0.  -0.  -0.   0.   0.   0.   0.   0.\n",
      " -0.   0.  -0.   0.   0.   0.   0.   0.   0.5]\n",
      "freqs : [  0.   1.   2.   3.   4.   5.   6.   7.   8.   9.  10.  11.  12.  13.\n",
      "  14.  15.  16.  17.  18.  19.  20.  21.  22.  23.  24.  25.  26.  27.\n",
      "  28.  29.  30.  31.  32. -32. -31. -30. -29. -28. -27. -26. -25. -24.\n",
      " -23. -22. -21. -20. -19. -18. -17. -16. -15. -14. -13. -12. -11. -10.\n",
      "  -9.  -8.  -7.  -6.  -5.  -4.  -3.  -2.  -1.]\n",
      "real ifft : [-0. -0.  0.  0. -0.  0. -0. -0.  0.  0.  0.  0.  0. -0. -0. -0.  0. -0.\n",
      "  0.  0.  0.  0.  0. -0.  0. -0.  0. -0. -0. -0.  0. -0.  0.  0. -0.  0.\n",
      " -0. -0. -0.  0. -0.  0. -0.  0.  0.  0.  0.  0. -0.  0. -0. -0. -0.  0.\n",
      "  0.  0.  0.  0. -0. -0.  0. -0.  0.  0. -0.]\n",
      "imag ifft : [  0.  -32.5  -0.   -0.    0.   -0.   -0.   -0.   -0.    0.   -0.   -0.\n",
      "  -0.    0.    0.   -0.   -0.   -0.   -0.   -0.    0.   -0.    0.    0.\n",
      "   0.    0.    0.    0.    0.    0.   -0.    0.   -0.    0.   -0.    0.\n",
      "   0.   -0.   -0.    0.   -0.    0.   -0.   -0.   -0.   -0.   -0.    0.\n",
      "   0.    0.    0.   -0.   -0.    0.    0.    0.   -0.    0.    0.    0.\n",
      "   0.    0.    0.    0.   32.5]\n"
     ]
    }
   ],
   "source": [
    "# ------------------------------\n",
    "# Test for the frequences in a sinus function\n",
    "# ------------------------------\n",
    "\n",
    "def f(x):\n",
    "    return np.sin(x)\n",
    "\n",
    "print('freqs :',frequences)\n",
    "print('real DFT :',(np.real(DFT @ f(xspan))) * (abs(np.real(DFT @ f(xspan))) > 1e-10))\n",
    "print('imag DFT :',(np.imag(DFT @ f(xspan))) * (abs(np.imag(DFT @ f(xspan))) > 1e-10))\n",
    "print('freqs :',frequences)\n",
    "print('real ifft :',(np.real(np.fft.fft(f(xspan)))) * (abs(np.real(np.fft.fft(f(xspan)))) > 1e-10))\n",
    "print('imag ifft :',(np.imag(np.fft.fft(f(xspan)))) * (abs(np.imag(np.fft.fft(f(xspan)))) > 1e-10))"
   ]
  },
  {
   "cell_type": "code",
   "execution_count": 59,
   "metadata": {},
   "outputs": [
    {
     "name": "stdout",
     "output_type": "stream",
     "text": [
      "number of frequences in initial condition X0_sin :\n",
      "4\n",
      "number of positive frequences in initial condition X0_sin :\n",
      "2\n",
      "number of negative frequences in initial condition X0_sin :\n",
      "2\n"
     ]
    }
   ],
   "source": [
    "# ------------------------------\n",
    "# Random initial condition\n",
    "# ------------------------------\n",
    "\n",
    "# def create_Fourier_X0(nb_sin, nb_cos, Nx, dx):\n",
    "#     frequences = fftfreq(Nx, dx) * 2 * np.pi\n",
    "#     pos_frequences = frequences[1:int((len(frequences)-1)/2)+1]\n",
    "#     sin_pos = np.random.rand(pos_frequences.shape[0]) * (pos_frequences <= nb_sin)\n",
    "#     cos_pos = np.random.rand(pos_frequences.shape[0]) * (pos_frequences <= nb_cos)\n",
    "#     X0 = np.concatenate((np.zeros(1),-sin_pos,sin_pos[::-1]))*1j + np.concatenate((np.zeros(1),cos_pos,cos_pos[::-1]))\n",
    "#     return X0\n",
    "\n",
    "# initial condition with N_ini_fq sinus\n",
    "X0_sin = create_Fourier_X0(N_ini_fq,0, Nx, dx)\n",
    "# initial condition with N_ini_fq cosinus\n",
    "X0_cos = create_Fourier_X0(0,N_ini_fq, Nx, dx)\n",
    "# initial condition with N_ini_fq sinus and N_ini_fq cosinus\n",
    "X0_mix = create_Fourier_X0(N_ini_fq,N_ini_fq, Nx, dx)\n",
    "\n",
    "print('number of frequences in initial condition X0_sin :')\n",
    "print(sum(abs(X0_sin) > 0))\n",
    "print('number of positive frequences in initial condition X0_sin :')\n",
    "print(sum((abs(X0_sin) > 0) * (frequences > 0)))\n",
    "print('number of negative frequences in initial condition X0_sin :')\n",
    "print(sum((abs(X0_sin) > 0) * (frequences < 0)))"
   ]
  },
  {
   "cell_type": "code",
   "execution_count": 60,
   "metadata": {},
   "outputs": [
    {
     "name": "stdout",
     "output_type": "stream",
     "text": [
      "mean of X0 : 0j\n"
     ]
    },
    {
     "data": {
      "application/vnd.plotly.v1+json": {
       "config": {
        "plotlyServerURL": "https://plot.ly"
       },
       "data": [
        {
         "hovertemplate": "variable=wide_variable_0<br>x=%{x}<br>value=%{y}<extra></extra>",
         "legendgroup": "wide_variable_0",
         "line": {
          "color": "#636efa",
          "dash": "solid"
         },
         "marker": {
          "symbol": "circle"
         },
         "mode": "lines",
         "name": "wide_variable_0",
         "orientation": "v",
         "showlegend": true,
         "type": "scatter",
         "x": [
          0,
          0.0966643893412244,
          0.1933287786824488,
          0.2899931680236732,
          0.3866575573648976,
          0.483321946706122,
          0.5799863360473464,
          0.6766507253885707,
          0.7733151147297952,
          0.8699795040710196,
          0.966643893412244,
          1.0633082827534683,
          1.1599726720946928,
          1.2566370614359172,
          1.3533014507771415,
          1.449965840118366,
          1.5466302294595904,
          1.6432946188008148,
          1.7399590081420393,
          1.8366233974832635,
          1.933287786824488,
          2.0299521761657124,
          2.1266165655069367,
          2.2232809548481614,
          2.3199453441893856,
          2.41660973353061,
          2.5132741228718345,
          2.6099385122130587,
          2.706602901554283,
          2.8032672908955076,
          2.899931680236732,
          2.9965960695779565,
          3.0932604589191808,
          3.189924848260405,
          3.2865892376016297,
          3.383253626942854,
          3.4799180162840786,
          3.576582405625303,
          3.673246794966527,
          3.7699111843077517,
          3.866575573648976,
          3.9632399629902,
          4.059904352331425,
          4.15656874167265,
          4.253233131013873,
          4.349897520355098,
          4.446561909696323,
          4.5432262990375465,
          4.639890688378771,
          4.736555077719996,
          4.83321946706122,
          4.929883856402444,
          5.026548245743669,
          5.123212635084893,
          5.2198770244261175,
          5.316541413767342,
          5.413205803108566,
          5.509870192449791,
          5.606534581791015,
          5.70319897113224,
          5.799863360473464,
          5.896527749814688,
          5.993192139155913,
          6.089856528497137,
          6.1865209178383616
         ],
         "xaxis": "x",
         "y": [
          0,
          0.12352210135009709,
          0.24464684996679376,
          0.36104562992073136,
          0.47052492999883094,
          0.5710880603025058,
          0.6609901048436609,
          0.738784244157957,
          0.8033578964934321,
          0.8539574968480651,
          0.8902011462899992,
          0.9120788043000513,
          0.9199401480306385,
          0.9144706676898319,
          0.8966569902742824,
          0.8677428089717232,
          0.8291771285357316,
          0.7825568055547503,
          0.7295655569506061,
          0.6719117231744671,
          0.6112671003775836,
          0.5492090974575244,
          0.48716833166635903,
          0.42638355588522564,
          0.3678655201063188,
          0.3123710201075036,
          0.26038799093581855,
          0.21213207651376526,
          0.16755466546784625,
          0.1263619437187593,
          0.08804409296084047,
          0.05191337669784597,
          0.017149516517407624,
          -0.01714951651741949,
          -0.051913376697846396,
          -0.08804409296085246,
          -0.12636194371876042,
          -0.16755466546785847,
          -0.2121320765137775,
          -0.2603879909358215,
          -0.31237102010751583,
          -0.3678655201063308,
          -0.4263835558852303,
          -0.4871683316663642,
          -0.549209097457535,
          -0.6112671003775915,
          -0.6719117231744728,
          -0.7295655569506134,
          -0.7825568055547557,
          -0.8291771285357359,
          -0.8677428089717248,
          -0.8966569902742826,
          -0.9144706676898334,
          -0.9199401480306317,
          -0.9120788043000444,
          -0.890201146289995,
          -0.8539574968480497,
          -0.8033578964934182,
          -0.7387842441579453,
          -0.6609901048436552,
          -0.5710880603024847,
          -0.4705249299988152,
          -0.36104562992072153,
          -0.24464684996676792,
          -0.12352210135007773
         ],
         "yaxis": "y"
        },
        {
         "hovertemplate": "variable=wide_variable_1<br>x=%{x}<br>value=%{y}<extra></extra>",
         "legendgroup": "wide_variable_1",
         "line": {
          "color": "#EF553B",
          "dash": "solid"
         },
         "marker": {
          "symbol": "circle"
         },
         "mode": "lines",
         "name": "wide_variable_1",
         "orientation": "v",
         "showlegend": true,
         "type": "scatter",
         "x": [
          0,
          0.0966643893412244,
          0.1933287786824488,
          0.2899931680236732,
          0.3866575573648976,
          0.483321946706122,
          0.5799863360473464,
          0.6766507253885707,
          0.7733151147297952,
          0.8699795040710196,
          0.966643893412244,
          1.0633082827534683,
          1.1599726720946928,
          1.2566370614359172,
          1.3533014507771415,
          1.449965840118366,
          1.5466302294595904,
          1.6432946188008148,
          1.7399590081420393,
          1.8366233974832635,
          1.933287786824488,
          2.0299521761657124,
          2.1266165655069367,
          2.2232809548481614,
          2.3199453441893856,
          2.41660973353061,
          2.5132741228718345,
          2.6099385122130587,
          2.706602901554283,
          2.8032672908955076,
          2.899931680236732,
          2.9965960695779565,
          3.0932604589191808,
          3.189924848260405,
          3.2865892376016297,
          3.383253626942854,
          3.4799180162840786,
          3.576582405625303,
          3.673246794966527,
          3.7699111843077517,
          3.866575573648976,
          3.9632399629902,
          4.059904352331425,
          4.15656874167265,
          4.253233131013873,
          4.349897520355098,
          4.446561909696323,
          4.5432262990375465,
          4.639890688378771,
          4.736555077719996,
          4.83321946706122,
          4.929883856402444,
          5.026548245743669,
          5.123212635084893,
          5.2198770244261175,
          5.316541413767342,
          5.413205803108566,
          5.509870192449791,
          5.606534581791015,
          5.70319897113224,
          5.799863360473464,
          5.896527749814688,
          5.993192139155913,
          6.089856528497137,
          6.1865209178383616
         ],
         "xaxis": "x",
         "y": [
          0,
          -7.924144235393106e-16,
          -2.425603614162698e-16,
          -3.9873192321077134e-16,
          -6.945599972305824e-16,
          -1.0098643958436495e-15,
          -1.3076595078846856e-15,
          -2.587532654736204e-15,
          -2.0961255438372687e-15,
          -1.3808117600025868e-15,
          -2.769857708356461e-15,
          -4.39388469201806e-15,
          -3.2971109255433416e-15,
          -2.1033036729818743e-15,
          -6.391844823722016e-15,
          -5.044353892515387e-15,
          -3.5785980435835724e-15,
          -1.9949702153938602e-15,
          -3.8432849870317307e-16,
          -4.3964850019428404e-15,
          -2.6899294209513702e-15,
          -1.0391160600382707e-15,
          -4.436945761533753e-15,
          1.8314244795916663e-15,
          -1.3277968303235272e-15,
          -3.948234458012436e-15,
          1.0081334549543477e-15,
          -1.1633919164972288e-15,
          -2.6376492164764967e-15,
          5.206800647027702e-16,
          -5.256580976710738e-16,
          8.73089504514653e-16,
          3.419686998359802e-16,
          6.397442892784966e-16,
          1.4139065604870784e-16,
          1.0490047165185865e-15,
          -1.0840136504374563e-15,
          5.772414455936752e-16,
          2.975061873523966e-15,
          -7.024715701433175e-16,
          2.4309599267899932e-15,
          6.267643957428537e-15,
          1.5288367466228474e-15,
          -3.9320849834579675e-15,
          1.0833313581017878e-14,
          5.273832236010925e-15,
          -6.744769145231197e-16,
          1.598456042626838e-14,
          1.0001573552137744e-14,
          3.785699808354895e-15,
          2.0890959379244597e-14,
          1.4479738031791607e-14,
          8.179092820247037e-15,
          2.3571089427015902e-14,
          1.698605131133374e-14,
          1.0699431056531738e-14,
          2.3090168426541245e-14,
          1.6551014585011968e-14,
          1.0695021501233168e-14,
          5.65145422930877e-15,
          1.2489735440912718e-14,
          7.374870154893897e-15,
          3.3003327321196227e-15,
          5.046238592762588e-15,
          1.2060056988471447e-15
         ],
         "yaxis": "y"
        }
       ],
       "layout": {
        "legend": {
         "title": {
          "text": "variable"
         },
         "tracegroupgap": 0
        },
        "margin": {
         "t": 60
        },
        "template": {
         "data": {
          "bar": [
           {
            "error_x": {
             "color": "#2a3f5f"
            },
            "error_y": {
             "color": "#2a3f5f"
            },
            "marker": {
             "line": {
              "color": "#E5ECF6",
              "width": 0.5
             },
             "pattern": {
              "fillmode": "overlay",
              "size": 10,
              "solidity": 0.2
             }
            },
            "type": "bar"
           }
          ],
          "barpolar": [
           {
            "marker": {
             "line": {
              "color": "#E5ECF6",
              "width": 0.5
             },
             "pattern": {
              "fillmode": "overlay",
              "size": 10,
              "solidity": 0.2
             }
            },
            "type": "barpolar"
           }
          ],
          "carpet": [
           {
            "aaxis": {
             "endlinecolor": "#2a3f5f",
             "gridcolor": "white",
             "linecolor": "white",
             "minorgridcolor": "white",
             "startlinecolor": "#2a3f5f"
            },
            "baxis": {
             "endlinecolor": "#2a3f5f",
             "gridcolor": "white",
             "linecolor": "white",
             "minorgridcolor": "white",
             "startlinecolor": "#2a3f5f"
            },
            "type": "carpet"
           }
          ],
          "choropleth": [
           {
            "colorbar": {
             "outlinewidth": 0,
             "ticks": ""
            },
            "type": "choropleth"
           }
          ],
          "contour": [
           {
            "colorbar": {
             "outlinewidth": 0,
             "ticks": ""
            },
            "colorscale": [
             [
              0,
              "#0d0887"
             ],
             [
              0.1111111111111111,
              "#46039f"
             ],
             [
              0.2222222222222222,
              "#7201a8"
             ],
             [
              0.3333333333333333,
              "#9c179e"
             ],
             [
              0.4444444444444444,
              "#bd3786"
             ],
             [
              0.5555555555555556,
              "#d8576b"
             ],
             [
              0.6666666666666666,
              "#ed7953"
             ],
             [
              0.7777777777777778,
              "#fb9f3a"
             ],
             [
              0.8888888888888888,
              "#fdca26"
             ],
             [
              1,
              "#f0f921"
             ]
            ],
            "type": "contour"
           }
          ],
          "contourcarpet": [
           {
            "colorbar": {
             "outlinewidth": 0,
             "ticks": ""
            },
            "type": "contourcarpet"
           }
          ],
          "heatmap": [
           {
            "colorbar": {
             "outlinewidth": 0,
             "ticks": ""
            },
            "colorscale": [
             [
              0,
              "#0d0887"
             ],
             [
              0.1111111111111111,
              "#46039f"
             ],
             [
              0.2222222222222222,
              "#7201a8"
             ],
             [
              0.3333333333333333,
              "#9c179e"
             ],
             [
              0.4444444444444444,
              "#bd3786"
             ],
             [
              0.5555555555555556,
              "#d8576b"
             ],
             [
              0.6666666666666666,
              "#ed7953"
             ],
             [
              0.7777777777777778,
              "#fb9f3a"
             ],
             [
              0.8888888888888888,
              "#fdca26"
             ],
             [
              1,
              "#f0f921"
             ]
            ],
            "type": "heatmap"
           }
          ],
          "heatmapgl": [
           {
            "colorbar": {
             "outlinewidth": 0,
             "ticks": ""
            },
            "colorscale": [
             [
              0,
              "#0d0887"
             ],
             [
              0.1111111111111111,
              "#46039f"
             ],
             [
              0.2222222222222222,
              "#7201a8"
             ],
             [
              0.3333333333333333,
              "#9c179e"
             ],
             [
              0.4444444444444444,
              "#bd3786"
             ],
             [
              0.5555555555555556,
              "#d8576b"
             ],
             [
              0.6666666666666666,
              "#ed7953"
             ],
             [
              0.7777777777777778,
              "#fb9f3a"
             ],
             [
              0.8888888888888888,
              "#fdca26"
             ],
             [
              1,
              "#f0f921"
             ]
            ],
            "type": "heatmapgl"
           }
          ],
          "histogram": [
           {
            "marker": {
             "pattern": {
              "fillmode": "overlay",
              "size": 10,
              "solidity": 0.2
             }
            },
            "type": "histogram"
           }
          ],
          "histogram2d": [
           {
            "colorbar": {
             "outlinewidth": 0,
             "ticks": ""
            },
            "colorscale": [
             [
              0,
              "#0d0887"
             ],
             [
              0.1111111111111111,
              "#46039f"
             ],
             [
              0.2222222222222222,
              "#7201a8"
             ],
             [
              0.3333333333333333,
              "#9c179e"
             ],
             [
              0.4444444444444444,
              "#bd3786"
             ],
             [
              0.5555555555555556,
              "#d8576b"
             ],
             [
              0.6666666666666666,
              "#ed7953"
             ],
             [
              0.7777777777777778,
              "#fb9f3a"
             ],
             [
              0.8888888888888888,
              "#fdca26"
             ],
             [
              1,
              "#f0f921"
             ]
            ],
            "type": "histogram2d"
           }
          ],
          "histogram2dcontour": [
           {
            "colorbar": {
             "outlinewidth": 0,
             "ticks": ""
            },
            "colorscale": [
             [
              0,
              "#0d0887"
             ],
             [
              0.1111111111111111,
              "#46039f"
             ],
             [
              0.2222222222222222,
              "#7201a8"
             ],
             [
              0.3333333333333333,
              "#9c179e"
             ],
             [
              0.4444444444444444,
              "#bd3786"
             ],
             [
              0.5555555555555556,
              "#d8576b"
             ],
             [
              0.6666666666666666,
              "#ed7953"
             ],
             [
              0.7777777777777778,
              "#fb9f3a"
             ],
             [
              0.8888888888888888,
              "#fdca26"
             ],
             [
              1,
              "#f0f921"
             ]
            ],
            "type": "histogram2dcontour"
           }
          ],
          "mesh3d": [
           {
            "colorbar": {
             "outlinewidth": 0,
             "ticks": ""
            },
            "type": "mesh3d"
           }
          ],
          "parcoords": [
           {
            "line": {
             "colorbar": {
              "outlinewidth": 0,
              "ticks": ""
             }
            },
            "type": "parcoords"
           }
          ],
          "pie": [
           {
            "automargin": true,
            "type": "pie"
           }
          ],
          "scatter": [
           {
            "fillpattern": {
             "fillmode": "overlay",
             "size": 10,
             "solidity": 0.2
            },
            "type": "scatter"
           }
          ],
          "scatter3d": [
           {
            "line": {
             "colorbar": {
              "outlinewidth": 0,
              "ticks": ""
             }
            },
            "marker": {
             "colorbar": {
              "outlinewidth": 0,
              "ticks": ""
             }
            },
            "type": "scatter3d"
           }
          ],
          "scattercarpet": [
           {
            "marker": {
             "colorbar": {
              "outlinewidth": 0,
              "ticks": ""
             }
            },
            "type": "scattercarpet"
           }
          ],
          "scattergeo": [
           {
            "marker": {
             "colorbar": {
              "outlinewidth": 0,
              "ticks": ""
             }
            },
            "type": "scattergeo"
           }
          ],
          "scattergl": [
           {
            "marker": {
             "colorbar": {
              "outlinewidth": 0,
              "ticks": ""
             }
            },
            "type": "scattergl"
           }
          ],
          "scattermapbox": [
           {
            "marker": {
             "colorbar": {
              "outlinewidth": 0,
              "ticks": ""
             }
            },
            "type": "scattermapbox"
           }
          ],
          "scatterpolar": [
           {
            "marker": {
             "colorbar": {
              "outlinewidth": 0,
              "ticks": ""
             }
            },
            "type": "scatterpolar"
           }
          ],
          "scatterpolargl": [
           {
            "marker": {
             "colorbar": {
              "outlinewidth": 0,
              "ticks": ""
             }
            },
            "type": "scatterpolargl"
           }
          ],
          "scatterternary": [
           {
            "marker": {
             "colorbar": {
              "outlinewidth": 0,
              "ticks": ""
             }
            },
            "type": "scatterternary"
           }
          ],
          "surface": [
           {
            "colorbar": {
             "outlinewidth": 0,
             "ticks": ""
            },
            "colorscale": [
             [
              0,
              "#0d0887"
             ],
             [
              0.1111111111111111,
              "#46039f"
             ],
             [
              0.2222222222222222,
              "#7201a8"
             ],
             [
              0.3333333333333333,
              "#9c179e"
             ],
             [
              0.4444444444444444,
              "#bd3786"
             ],
             [
              0.5555555555555556,
              "#d8576b"
             ],
             [
              0.6666666666666666,
              "#ed7953"
             ],
             [
              0.7777777777777778,
              "#fb9f3a"
             ],
             [
              0.8888888888888888,
              "#fdca26"
             ],
             [
              1,
              "#f0f921"
             ]
            ],
            "type": "surface"
           }
          ],
          "table": [
           {
            "cells": {
             "fill": {
              "color": "#EBF0F8"
             },
             "line": {
              "color": "white"
             }
            },
            "header": {
             "fill": {
              "color": "#C8D4E3"
             },
             "line": {
              "color": "white"
             }
            },
            "type": "table"
           }
          ]
         },
         "layout": {
          "annotationdefaults": {
           "arrowcolor": "#2a3f5f",
           "arrowhead": 0,
           "arrowwidth": 1
          },
          "autotypenumbers": "strict",
          "coloraxis": {
           "colorbar": {
            "outlinewidth": 0,
            "ticks": ""
           }
          },
          "colorscale": {
           "diverging": [
            [
             0,
             "#8e0152"
            ],
            [
             0.1,
             "#c51b7d"
            ],
            [
             0.2,
             "#de77ae"
            ],
            [
             0.3,
             "#f1b6da"
            ],
            [
             0.4,
             "#fde0ef"
            ],
            [
             0.5,
             "#f7f7f7"
            ],
            [
             0.6,
             "#e6f5d0"
            ],
            [
             0.7,
             "#b8e186"
            ],
            [
             0.8,
             "#7fbc41"
            ],
            [
             0.9,
             "#4d9221"
            ],
            [
             1,
             "#276419"
            ]
           ],
           "sequential": [
            [
             0,
             "#0d0887"
            ],
            [
             0.1111111111111111,
             "#46039f"
            ],
            [
             0.2222222222222222,
             "#7201a8"
            ],
            [
             0.3333333333333333,
             "#9c179e"
            ],
            [
             0.4444444444444444,
             "#bd3786"
            ],
            [
             0.5555555555555556,
             "#d8576b"
            ],
            [
             0.6666666666666666,
             "#ed7953"
            ],
            [
             0.7777777777777778,
             "#fb9f3a"
            ],
            [
             0.8888888888888888,
             "#fdca26"
            ],
            [
             1,
             "#f0f921"
            ]
           ],
           "sequentialminus": [
            [
             0,
             "#0d0887"
            ],
            [
             0.1111111111111111,
             "#46039f"
            ],
            [
             0.2222222222222222,
             "#7201a8"
            ],
            [
             0.3333333333333333,
             "#9c179e"
            ],
            [
             0.4444444444444444,
             "#bd3786"
            ],
            [
             0.5555555555555556,
             "#d8576b"
            ],
            [
             0.6666666666666666,
             "#ed7953"
            ],
            [
             0.7777777777777778,
             "#fb9f3a"
            ],
            [
             0.8888888888888888,
             "#fdca26"
            ],
            [
             1,
             "#f0f921"
            ]
           ]
          },
          "colorway": [
           "#636efa",
           "#EF553B",
           "#00cc96",
           "#ab63fa",
           "#FFA15A",
           "#19d3f3",
           "#FF6692",
           "#B6E880",
           "#FF97FF",
           "#FECB52"
          ],
          "font": {
           "color": "#2a3f5f"
          },
          "geo": {
           "bgcolor": "white",
           "lakecolor": "white",
           "landcolor": "#E5ECF6",
           "showlakes": true,
           "showland": true,
           "subunitcolor": "white"
          },
          "hoverlabel": {
           "align": "left"
          },
          "hovermode": "closest",
          "mapbox": {
           "style": "light"
          },
          "paper_bgcolor": "white",
          "plot_bgcolor": "#E5ECF6",
          "polar": {
           "angularaxis": {
            "gridcolor": "white",
            "linecolor": "white",
            "ticks": ""
           },
           "bgcolor": "#E5ECF6",
           "radialaxis": {
            "gridcolor": "white",
            "linecolor": "white",
            "ticks": ""
           }
          },
          "scene": {
           "xaxis": {
            "backgroundcolor": "#E5ECF6",
            "gridcolor": "white",
            "gridwidth": 2,
            "linecolor": "white",
            "showbackground": true,
            "ticks": "",
            "zerolinecolor": "white"
           },
           "yaxis": {
            "backgroundcolor": "#E5ECF6",
            "gridcolor": "white",
            "gridwidth": 2,
            "linecolor": "white",
            "showbackground": true,
            "ticks": "",
            "zerolinecolor": "white"
           },
           "zaxis": {
            "backgroundcolor": "#E5ECF6",
            "gridcolor": "white",
            "gridwidth": 2,
            "linecolor": "white",
            "showbackground": true,
            "ticks": "",
            "zerolinecolor": "white"
           }
          },
          "shapedefaults": {
           "line": {
            "color": "#2a3f5f"
           }
          },
          "ternary": {
           "aaxis": {
            "gridcolor": "white",
            "linecolor": "white",
            "ticks": ""
           },
           "baxis": {
            "gridcolor": "white",
            "linecolor": "white",
            "ticks": ""
           },
           "bgcolor": "#E5ECF6",
           "caxis": {
            "gridcolor": "white",
            "linecolor": "white",
            "ticks": ""
           }
          },
          "title": {
           "x": 0.05
          },
          "xaxis": {
           "automargin": true,
           "gridcolor": "white",
           "linecolor": "white",
           "ticks": "",
           "title": {
            "standoff": 15
           },
           "zerolinecolor": "white",
           "zerolinewidth": 2
          },
          "yaxis": {
           "automargin": true,
           "gridcolor": "white",
           "linecolor": "white",
           "ticks": "",
           "title": {
            "standoff": 15
           },
           "zerolinecolor": "white",
           "zerolinewidth": 2
          }
         }
        },
        "xaxis": {
         "anchor": "y",
         "domain": [
          0,
          1
         ],
         "title": {
          "text": "x"
         }
        },
        "yaxis": {
         "anchor": "x",
         "domain": [
          0,
          1
         ],
         "title": {
          "text": "value"
         }
        }
       }
      }
     },
     "metadata": {},
     "output_type": "display_data"
    }
   ],
   "source": [
    "# plotting the initial condition X0_sin in space\n",
    "\n",
    "X0_sin_space = iDFT @ (X0_sin)\n",
    "print('mean of X0 :',np.mean(X0_sin))\n",
    "px.line(x=xspan,y=[np.real(X0_sin_space),np.imag(X0_sin_space)])"
   ]
  },
  {
   "cell_type": "code",
   "execution_count": 61,
   "metadata": {},
   "outputs": [
    {
     "name": "stdout",
     "output_type": "stream",
     "text": [
      "mean of X0 : (0.016738210284166877+0j)\n"
     ]
    },
    {
     "data": {
      "application/vnd.plotly.v1+json": {
       "config": {
        "plotlyServerURL": "https://plot.ly"
       },
       "data": [
        {
         "hovertemplate": "variable=wide_variable_0<br>x=%{x}<br>value=%{y}<extra></extra>",
         "legendgroup": "wide_variable_0",
         "line": {
          "color": "#636efa",
          "dash": "solid"
         },
         "marker": {
          "symbol": "circle"
         },
         "mode": "lines",
         "name": "wide_variable_0",
         "orientation": "v",
         "showlegend": true,
         "type": "scatter",
         "x": [
          0,
          0.0966643893412244,
          0.1933287786824488,
          0.2899931680236732,
          0.3866575573648976,
          0.483321946706122,
          0.5799863360473464,
          0.6766507253885707,
          0.7733151147297952,
          0.8699795040710196,
          0.966643893412244,
          1.0633082827534683,
          1.1599726720946928,
          1.2566370614359172,
          1.3533014507771415,
          1.449965840118366,
          1.5466302294595904,
          1.6432946188008148,
          1.7399590081420393,
          1.8366233974832635,
          1.933287786824488,
          2.0299521761657124,
          2.1266165655069367,
          2.2232809548481614,
          2.3199453441893856,
          2.41660973353061,
          2.5132741228718345,
          2.6099385122130587,
          2.706602901554283,
          2.8032672908955076,
          2.899931680236732,
          2.9965960695779565,
          3.0932604589191808,
          3.189924848260405,
          3.2865892376016297,
          3.383253626942854,
          3.4799180162840786,
          3.576582405625303,
          3.673246794966527,
          3.7699111843077517,
          3.866575573648976,
          3.9632399629902,
          4.059904352331425,
          4.15656874167265,
          4.253233131013873,
          4.349897520355098,
          4.446561909696323,
          4.5432262990375465,
          4.639890688378771,
          4.736555077719996,
          4.83321946706122,
          4.929883856402444,
          5.026548245743669,
          5.123212635084893,
          5.2198770244261175,
          5.316541413767342,
          5.413205803108566,
          5.509870192449791,
          5.606534581791015,
          5.70319897113224,
          5.799863360473464,
          5.896527749814688,
          5.993192139155913,
          6.089856528497137,
          6.1865209178383616
         ],
         "xaxis": "x",
         "y": [
          1.087983668470847,
          1.6111987200004267,
          2.1093411131835813,
          2.568356626096172,
          2.9752804051417527,
          3.318681397314516,
          3.589053434648794,
          3.7791387243801013,
          3.8841719783613065,
          3.902036331034546,
          3.833325438499011,
          3.6813096015009252,
          3.451807284371464,
          3.152966878991584,
          2.7949668586624927,
          2.389645458958441,
          1.9500736001995795,
          1.4900868335182638,
          1.023793573016725,
          0.5650777154957077,
          0.12711391582844295,
          -0.27808672554837316,
          -0.6400839769180492,
          -0.9503539904030782,
          -1.202560550124438,
          -1.3927423795037388,
          -1.519409984117703,
          -1.5835488956344157,
          -1.5885296838466614,
          -1.5399285870743038,
          -1.4452659463589366,
          -1.3136726916105321,
          -1.1554978040698334,
          -0.9818718694459825,
          -0.8042434583695313,
          -0.6339060650434909,
          -0.481533664307958,
          -0.3567425996955627,
          -0.26769650364331254,
          -0.22076931381392711,
          -0.22027924778011865,
          -0.26830391452223484,
          -0.36458367565281513,
          -0.5065170366270854,
          -0.6892483730168787,
          -0.9058448091315486,
          -1.147555696260126,
          -1.4041450116005467,
          -1.6642842334692285,
          -1.9159909471403915,
          -2.1470966848419826,
          -2.3457263687050007,
          -2.500771249530821,
          -2.6023374352483857,
          -2.642152973773149,
          -2.613917963568642,
          -2.513584255673968,
          -2.3395539057037933,
          -2.0927885369431136,
          -1.7768250745024528,
          -1.3976967828427944,
          -0.9637620556037545,
          -0.4854468366475523,
          0.0250902331611369,
          0.5543579674806239
         ],
         "yaxis": "y"
        },
        {
         "hovertemplate": "variable=wide_variable_1<br>x=%{x}<br>value=%{y}<extra></extra>",
         "legendgroup": "wide_variable_1",
         "line": {
          "color": "#EF553B",
          "dash": "solid"
         },
         "marker": {
          "symbol": "circle"
         },
         "mode": "lines",
         "name": "wide_variable_1",
         "orientation": "v",
         "showlegend": true,
         "type": "scatter",
         "x": [
          0,
          0.0966643893412244,
          0.1933287786824488,
          0.2899931680236732,
          0.3866575573648976,
          0.483321946706122,
          0.5799863360473464,
          0.6766507253885707,
          0.7733151147297952,
          0.8699795040710196,
          0.966643893412244,
          1.0633082827534683,
          1.1599726720946928,
          1.2566370614359172,
          1.3533014507771415,
          1.449965840118366,
          1.5466302294595904,
          1.6432946188008148,
          1.7399590081420393,
          1.8366233974832635,
          1.933287786824488,
          2.0299521761657124,
          2.1266165655069367,
          2.2232809548481614,
          2.3199453441893856,
          2.41660973353061,
          2.5132741228718345,
          2.6099385122130587,
          2.706602901554283,
          2.8032672908955076,
          2.899931680236732,
          2.9965960695779565,
          3.0932604589191808,
          3.189924848260405,
          3.2865892376016297,
          3.383253626942854,
          3.4799180162840786,
          3.576582405625303,
          3.673246794966527,
          3.7699111843077517,
          3.866575573648976,
          3.9632399629902,
          4.059904352331425,
          4.15656874167265,
          4.253233131013873,
          4.349897520355098,
          4.446561909696323,
          4.5432262990375465,
          4.639890688378771,
          4.736555077719996,
          4.83321946706122,
          4.929883856402444,
          5.026548245743669,
          5.123212635084893,
          5.2198770244261175,
          5.316541413767342,
          5.413205803108566,
          5.509870192449791,
          5.606534581791015,
          5.70319897113224,
          5.799863360473464,
          5.896527749814688,
          5.993192139155913,
          6.089856528497137,
          6.1865209178383616
         ],
         "xaxis": "x",
         "y": [
          0,
          -3.509738159456501e-15,
          -1.5221624245013244e-15,
          -2.571485054060017e-15,
          -4.0812688333083836e-15,
          -5.6836442036252216e-15,
          -7.306005248278353e-15,
          -1.2410008764779106e-14,
          -1.0613885854561226e-14,
          -8.180060738599237e-15,
          -1.2786019173730904e-14,
          -1.6995204698939568e-14,
          -1.3333828748023878e-14,
          -9.055489877919167e-15,
          -1.8845241992220722e-14,
          -1.3451370769149526e-14,
          -8.041720125061915e-15,
          -2.2324918161231373e-15,
          3.067752985547084e-15,
          -2.186511852426171e-15,
          3.655011245892403e-15,
          8.933100880485809e-15,
          6.620451594537317e-15,
          1.7089949244576655e-14,
          1.5091939248438366e-14,
          1.4574961284736164e-14,
          1.899180399799199e-14,
          1.8639925825770433e-14,
          1.995543470715047e-14,
          1.7055021105694546e-14,
          1.7960303136048267e-14,
          9.59045690775217e-15,
          1.1353620912773401e-14,
          1.4740270200976813e-14,
          8.047037546161675e-16,
          4.86162840644531e-15,
          -1.2563031366561785e-14,
          -6.507212126359687e-15,
          9.466656596490798e-16,
          -1.767270985767821e-14,
          -7.799747884204572e-15,
          3.606491695297275e-15,
          -1.3861555903038608e-14,
          -3.065387349330505e-14,
          1.4276364563905642e-14,
          -8.444137697803686e-16,
          -1.3857677554102984e-14,
          3.102192491719528e-14,
          1.9518370969397695e-14,
          9.286343273198605e-15,
          5.1181442588138405e-14,
          4.1268849444290106e-14,
          3.259369363967626e-14,
          6.240135784643389e-14,
          5.2703533008586656e-14,
          4.477508247286747e-14,
          6.085438372237788e-14,
          5.0373088320418876e-14,
          4.2006270453229644e-14,
          3.5663456957326007e-14,
          3.0051671222541174e-14,
          2.2176504476563752e-14,
          1.653694862981642e-14,
          -6.1086869300856325e-15,
          -1.1764520247839711e-14
         ],
         "yaxis": "y"
        }
       ],
       "layout": {
        "legend": {
         "title": {
          "text": "variable"
         },
         "tracegroupgap": 0
        },
        "margin": {
         "t": 60
        },
        "template": {
         "data": {
          "bar": [
           {
            "error_x": {
             "color": "#2a3f5f"
            },
            "error_y": {
             "color": "#2a3f5f"
            },
            "marker": {
             "line": {
              "color": "#E5ECF6",
              "width": 0.5
             },
             "pattern": {
              "fillmode": "overlay",
              "size": 10,
              "solidity": 0.2
             }
            },
            "type": "bar"
           }
          ],
          "barpolar": [
           {
            "marker": {
             "line": {
              "color": "#E5ECF6",
              "width": 0.5
             },
             "pattern": {
              "fillmode": "overlay",
              "size": 10,
              "solidity": 0.2
             }
            },
            "type": "barpolar"
           }
          ],
          "carpet": [
           {
            "aaxis": {
             "endlinecolor": "#2a3f5f",
             "gridcolor": "white",
             "linecolor": "white",
             "minorgridcolor": "white",
             "startlinecolor": "#2a3f5f"
            },
            "baxis": {
             "endlinecolor": "#2a3f5f",
             "gridcolor": "white",
             "linecolor": "white",
             "minorgridcolor": "white",
             "startlinecolor": "#2a3f5f"
            },
            "type": "carpet"
           }
          ],
          "choropleth": [
           {
            "colorbar": {
             "outlinewidth": 0,
             "ticks": ""
            },
            "type": "choropleth"
           }
          ],
          "contour": [
           {
            "colorbar": {
             "outlinewidth": 0,
             "ticks": ""
            },
            "colorscale": [
             [
              0,
              "#0d0887"
             ],
             [
              0.1111111111111111,
              "#46039f"
             ],
             [
              0.2222222222222222,
              "#7201a8"
             ],
             [
              0.3333333333333333,
              "#9c179e"
             ],
             [
              0.4444444444444444,
              "#bd3786"
             ],
             [
              0.5555555555555556,
              "#d8576b"
             ],
             [
              0.6666666666666666,
              "#ed7953"
             ],
             [
              0.7777777777777778,
              "#fb9f3a"
             ],
             [
              0.8888888888888888,
              "#fdca26"
             ],
             [
              1,
              "#f0f921"
             ]
            ],
            "type": "contour"
           }
          ],
          "contourcarpet": [
           {
            "colorbar": {
             "outlinewidth": 0,
             "ticks": ""
            },
            "type": "contourcarpet"
           }
          ],
          "heatmap": [
           {
            "colorbar": {
             "outlinewidth": 0,
             "ticks": ""
            },
            "colorscale": [
             [
              0,
              "#0d0887"
             ],
             [
              0.1111111111111111,
              "#46039f"
             ],
             [
              0.2222222222222222,
              "#7201a8"
             ],
             [
              0.3333333333333333,
              "#9c179e"
             ],
             [
              0.4444444444444444,
              "#bd3786"
             ],
             [
              0.5555555555555556,
              "#d8576b"
             ],
             [
              0.6666666666666666,
              "#ed7953"
             ],
             [
              0.7777777777777778,
              "#fb9f3a"
             ],
             [
              0.8888888888888888,
              "#fdca26"
             ],
             [
              1,
              "#f0f921"
             ]
            ],
            "type": "heatmap"
           }
          ],
          "heatmapgl": [
           {
            "colorbar": {
             "outlinewidth": 0,
             "ticks": ""
            },
            "colorscale": [
             [
              0,
              "#0d0887"
             ],
             [
              0.1111111111111111,
              "#46039f"
             ],
             [
              0.2222222222222222,
              "#7201a8"
             ],
             [
              0.3333333333333333,
              "#9c179e"
             ],
             [
              0.4444444444444444,
              "#bd3786"
             ],
             [
              0.5555555555555556,
              "#d8576b"
             ],
             [
              0.6666666666666666,
              "#ed7953"
             ],
             [
              0.7777777777777778,
              "#fb9f3a"
             ],
             [
              0.8888888888888888,
              "#fdca26"
             ],
             [
              1,
              "#f0f921"
             ]
            ],
            "type": "heatmapgl"
           }
          ],
          "histogram": [
           {
            "marker": {
             "pattern": {
              "fillmode": "overlay",
              "size": 10,
              "solidity": 0.2
             }
            },
            "type": "histogram"
           }
          ],
          "histogram2d": [
           {
            "colorbar": {
             "outlinewidth": 0,
             "ticks": ""
            },
            "colorscale": [
             [
              0,
              "#0d0887"
             ],
             [
              0.1111111111111111,
              "#46039f"
             ],
             [
              0.2222222222222222,
              "#7201a8"
             ],
             [
              0.3333333333333333,
              "#9c179e"
             ],
             [
              0.4444444444444444,
              "#bd3786"
             ],
             [
              0.5555555555555556,
              "#d8576b"
             ],
             [
              0.6666666666666666,
              "#ed7953"
             ],
             [
              0.7777777777777778,
              "#fb9f3a"
             ],
             [
              0.8888888888888888,
              "#fdca26"
             ],
             [
              1,
              "#f0f921"
             ]
            ],
            "type": "histogram2d"
           }
          ],
          "histogram2dcontour": [
           {
            "colorbar": {
             "outlinewidth": 0,
             "ticks": ""
            },
            "colorscale": [
             [
              0,
              "#0d0887"
             ],
             [
              0.1111111111111111,
              "#46039f"
             ],
             [
              0.2222222222222222,
              "#7201a8"
             ],
             [
              0.3333333333333333,
              "#9c179e"
             ],
             [
              0.4444444444444444,
              "#bd3786"
             ],
             [
              0.5555555555555556,
              "#d8576b"
             ],
             [
              0.6666666666666666,
              "#ed7953"
             ],
             [
              0.7777777777777778,
              "#fb9f3a"
             ],
             [
              0.8888888888888888,
              "#fdca26"
             ],
             [
              1,
              "#f0f921"
             ]
            ],
            "type": "histogram2dcontour"
           }
          ],
          "mesh3d": [
           {
            "colorbar": {
             "outlinewidth": 0,
             "ticks": ""
            },
            "type": "mesh3d"
           }
          ],
          "parcoords": [
           {
            "line": {
             "colorbar": {
              "outlinewidth": 0,
              "ticks": ""
             }
            },
            "type": "parcoords"
           }
          ],
          "pie": [
           {
            "automargin": true,
            "type": "pie"
           }
          ],
          "scatter": [
           {
            "fillpattern": {
             "fillmode": "overlay",
             "size": 10,
             "solidity": 0.2
            },
            "type": "scatter"
           }
          ],
          "scatter3d": [
           {
            "line": {
             "colorbar": {
              "outlinewidth": 0,
              "ticks": ""
             }
            },
            "marker": {
             "colorbar": {
              "outlinewidth": 0,
              "ticks": ""
             }
            },
            "type": "scatter3d"
           }
          ],
          "scattercarpet": [
           {
            "marker": {
             "colorbar": {
              "outlinewidth": 0,
              "ticks": ""
             }
            },
            "type": "scattercarpet"
           }
          ],
          "scattergeo": [
           {
            "marker": {
             "colorbar": {
              "outlinewidth": 0,
              "ticks": ""
             }
            },
            "type": "scattergeo"
           }
          ],
          "scattergl": [
           {
            "marker": {
             "colorbar": {
              "outlinewidth": 0,
              "ticks": ""
             }
            },
            "type": "scattergl"
           }
          ],
          "scattermapbox": [
           {
            "marker": {
             "colorbar": {
              "outlinewidth": 0,
              "ticks": ""
             }
            },
            "type": "scattermapbox"
           }
          ],
          "scatterpolar": [
           {
            "marker": {
             "colorbar": {
              "outlinewidth": 0,
              "ticks": ""
             }
            },
            "type": "scatterpolar"
           }
          ],
          "scatterpolargl": [
           {
            "marker": {
             "colorbar": {
              "outlinewidth": 0,
              "ticks": ""
             }
            },
            "type": "scatterpolargl"
           }
          ],
          "scatterternary": [
           {
            "marker": {
             "colorbar": {
              "outlinewidth": 0,
              "ticks": ""
             }
            },
            "type": "scatterternary"
           }
          ],
          "surface": [
           {
            "colorbar": {
             "outlinewidth": 0,
             "ticks": ""
            },
            "colorscale": [
             [
              0,
              "#0d0887"
             ],
             [
              0.1111111111111111,
              "#46039f"
             ],
             [
              0.2222222222222222,
              "#7201a8"
             ],
             [
              0.3333333333333333,
              "#9c179e"
             ],
             [
              0.4444444444444444,
              "#bd3786"
             ],
             [
              0.5555555555555556,
              "#d8576b"
             ],
             [
              0.6666666666666666,
              "#ed7953"
             ],
             [
              0.7777777777777778,
              "#fb9f3a"
             ],
             [
              0.8888888888888888,
              "#fdca26"
             ],
             [
              1,
              "#f0f921"
             ]
            ],
            "type": "surface"
           }
          ],
          "table": [
           {
            "cells": {
             "fill": {
              "color": "#EBF0F8"
             },
             "line": {
              "color": "white"
             }
            },
            "header": {
             "fill": {
              "color": "#C8D4E3"
             },
             "line": {
              "color": "white"
             }
            },
            "type": "table"
           }
          ]
         },
         "layout": {
          "annotationdefaults": {
           "arrowcolor": "#2a3f5f",
           "arrowhead": 0,
           "arrowwidth": 1
          },
          "autotypenumbers": "strict",
          "coloraxis": {
           "colorbar": {
            "outlinewidth": 0,
            "ticks": ""
           }
          },
          "colorscale": {
           "diverging": [
            [
             0,
             "#8e0152"
            ],
            [
             0.1,
             "#c51b7d"
            ],
            [
             0.2,
             "#de77ae"
            ],
            [
             0.3,
             "#f1b6da"
            ],
            [
             0.4,
             "#fde0ef"
            ],
            [
             0.5,
             "#f7f7f7"
            ],
            [
             0.6,
             "#e6f5d0"
            ],
            [
             0.7,
             "#b8e186"
            ],
            [
             0.8,
             "#7fbc41"
            ],
            [
             0.9,
             "#4d9221"
            ],
            [
             1,
             "#276419"
            ]
           ],
           "sequential": [
            [
             0,
             "#0d0887"
            ],
            [
             0.1111111111111111,
             "#46039f"
            ],
            [
             0.2222222222222222,
             "#7201a8"
            ],
            [
             0.3333333333333333,
             "#9c179e"
            ],
            [
             0.4444444444444444,
             "#bd3786"
            ],
            [
             0.5555555555555556,
             "#d8576b"
            ],
            [
             0.6666666666666666,
             "#ed7953"
            ],
            [
             0.7777777777777778,
             "#fb9f3a"
            ],
            [
             0.8888888888888888,
             "#fdca26"
            ],
            [
             1,
             "#f0f921"
            ]
           ],
           "sequentialminus": [
            [
             0,
             "#0d0887"
            ],
            [
             0.1111111111111111,
             "#46039f"
            ],
            [
             0.2222222222222222,
             "#7201a8"
            ],
            [
             0.3333333333333333,
             "#9c179e"
            ],
            [
             0.4444444444444444,
             "#bd3786"
            ],
            [
             0.5555555555555556,
             "#d8576b"
            ],
            [
             0.6666666666666666,
             "#ed7953"
            ],
            [
             0.7777777777777778,
             "#fb9f3a"
            ],
            [
             0.8888888888888888,
             "#fdca26"
            ],
            [
             1,
             "#f0f921"
            ]
           ]
          },
          "colorway": [
           "#636efa",
           "#EF553B",
           "#00cc96",
           "#ab63fa",
           "#FFA15A",
           "#19d3f3",
           "#FF6692",
           "#B6E880",
           "#FF97FF",
           "#FECB52"
          ],
          "font": {
           "color": "#2a3f5f"
          },
          "geo": {
           "bgcolor": "white",
           "lakecolor": "white",
           "landcolor": "#E5ECF6",
           "showlakes": true,
           "showland": true,
           "subunitcolor": "white"
          },
          "hoverlabel": {
           "align": "left"
          },
          "hovermode": "closest",
          "mapbox": {
           "style": "light"
          },
          "paper_bgcolor": "white",
          "plot_bgcolor": "#E5ECF6",
          "polar": {
           "angularaxis": {
            "gridcolor": "white",
            "linecolor": "white",
            "ticks": ""
           },
           "bgcolor": "#E5ECF6",
           "radialaxis": {
            "gridcolor": "white",
            "linecolor": "white",
            "ticks": ""
           }
          },
          "scene": {
           "xaxis": {
            "backgroundcolor": "#E5ECF6",
            "gridcolor": "white",
            "gridwidth": 2,
            "linecolor": "white",
            "showbackground": true,
            "ticks": "",
            "zerolinecolor": "white"
           },
           "yaxis": {
            "backgroundcolor": "#E5ECF6",
            "gridcolor": "white",
            "gridwidth": 2,
            "linecolor": "white",
            "showbackground": true,
            "ticks": "",
            "zerolinecolor": "white"
           },
           "zaxis": {
            "backgroundcolor": "#E5ECF6",
            "gridcolor": "white",
            "gridwidth": 2,
            "linecolor": "white",
            "showbackground": true,
            "ticks": "",
            "zerolinecolor": "white"
           }
          },
          "shapedefaults": {
           "line": {
            "color": "#2a3f5f"
           }
          },
          "ternary": {
           "aaxis": {
            "gridcolor": "white",
            "linecolor": "white",
            "ticks": ""
           },
           "baxis": {
            "gridcolor": "white",
            "linecolor": "white",
            "ticks": ""
           },
           "bgcolor": "#E5ECF6",
           "caxis": {
            "gridcolor": "white",
            "linecolor": "white",
            "ticks": ""
           }
          },
          "title": {
           "x": 0.05
          },
          "xaxis": {
           "automargin": true,
           "gridcolor": "white",
           "linecolor": "white",
           "ticks": "",
           "title": {
            "standoff": 15
           },
           "zerolinecolor": "white",
           "zerolinewidth": 2
          },
          "yaxis": {
           "automargin": true,
           "gridcolor": "white",
           "linecolor": "white",
           "ticks": "",
           "title": {
            "standoff": 15
           },
           "zerolinecolor": "white",
           "zerolinewidth": 2
          }
         }
        },
        "xaxis": {
         "anchor": "y",
         "domain": [
          0,
          1
         ],
         "title": {
          "text": "x"
         }
        },
        "yaxis": {
         "anchor": "x",
         "domain": [
          0,
          1
         ],
         "title": {
          "text": "value"
         }
        }
       }
      }
     },
     "metadata": {},
     "output_type": "display_data"
    }
   ],
   "source": [
    "# plotting the initial condition X0_mix in space\n",
    "\n",
    "X0_mix_space = iDFT @ (X0_mix)\n",
    "print('mean of X0 :',np.mean(X0_mix))\n",
    "px.line(x=xspan,y=[np.real(X0_mix_space),np.imag(X0_mix_space)])"
   ]
  },
  {
   "cell_type": "code",
   "execution_count": 62,
   "metadata": {},
   "outputs": [],
   "source": [
    "# Creating fX0_sin, fX0_cos and fX0_mix\n",
    "\n",
    "fX0_sin = np.concatenate((X0_sin,X0_sin))\n",
    "fX0_cos = np.concatenate((X0_cos,X0_cos))\n",
    "fX0_mix = np.concatenate((X0_mix,X0_mix))"
   ]
  },
  {
   "cell_type": "code",
   "execution_count": 63,
   "metadata": {},
   "outputs": [],
   "source": [
    "# ------------------------------\n",
    "# Time integration scheme\n",
    "# ------------------------------\n",
    "\n",
    "def Euler_Explicit(mat, X0, tspan):\n",
    "    X = np.zeros((X0.shape[0],tspan.shape[0])) + np.zeros((X0.shape[0],tspan.shape[0]))*1j\n",
    "    dt = tspan[1] - tspan[0]\n",
    "    X[:,0] = X0\n",
    "    for i in range(1,len(tspan)):\n",
    "        X[:,i] = X[:,i-1] + dt * mat @ X[:,i-1]\n",
    "    return X"
   ]
  },
  {
   "cell_type": "code",
   "execution_count": 64,
   "metadata": {},
   "outputs": [
    {
     "name": "stdout",
     "output_type": "stream",
     "text": [
      "1st edo : done\n",
      "2nd edo : done\n",
      "3rd edo : done\n"
     ]
    }
   ],
   "source": [
    "# ------------------------------\n",
    "# Time integration with fX0_sin\n",
    "# ------------------------------\n",
    "\n",
    "fX_sol_EE_fA_sin = Euler_Explicit(fA,fX0_sin,tspan)\n",
    "print('1st edo : done')\n",
    "fX_sol_EE_fA_mod_nm_sin = Euler_Explicit(fA_mod_nm,fX0_sin,tspan)\n",
    "print('2nd edo : done')\n",
    "fX_sol_EE_fA_mod_bf_sin = Euler_Explicit(fA_mod_bf,fX0_sin,tspan)\n",
    "print('3rd edo : done')"
   ]
  },
  {
   "cell_type": "code",
   "execution_count": 65,
   "metadata": {},
   "outputs": [
    {
     "name": "stdout",
     "output_type": "stream",
     "text": [
      "1st edo : done\n",
      "2nd edo : done\n",
      "3rd edo : done\n"
     ]
    }
   ],
   "source": [
    "# ------------------------------\n",
    "# Time integration with fX0_cos\n",
    "# ------------------------------\n",
    "\n",
    "fX_sol_EE_fA_cos = Euler_Explicit(fA,fX0_cos,tspan)\n",
    "print('1st edo : done')\n",
    "fX_sol_EE_fA_mod_nm_cos = Euler_Explicit(fA_mod_nm,fX0_cos,tspan)\n",
    "print('2nd edo : done')\n",
    "fX_sol_EE_fA_mod_bf_cos = Euler_Explicit(fA_mod_bf,fX0_cos,tspan)\n",
    "print('3rd edo : done')"
   ]
  },
  {
   "cell_type": "code",
   "execution_count": 66,
   "metadata": {},
   "outputs": [
    {
     "name": "stdout",
     "output_type": "stream",
     "text": [
      "1st edo : done\n",
      "2nd edo : done\n",
      "3rd edo : done\n"
     ]
    }
   ],
   "source": [
    "# ------------------------------\n",
    "# Time integration with fX0_mix\n",
    "# ------------------------------\n",
    "\n",
    "fX_sol_EE_fA_mix = Euler_Explicit(fA,fX0_mix,tspan)\n",
    "print('1st edo : done')\n",
    "fX_sol_EE_fA_mod_nm_mix = Euler_Explicit(fA_mod_nm,fX0_mix,tspan)\n",
    "print('2nd edo : done')\n",
    "fX_sol_EE_fA_mod_bf_mix = Euler_Explicit(fA_mod_bf,fX0_mix,tspan)\n",
    "print('3rd edo : done')"
   ]
  },
  {
   "cell_type": "code",
   "execution_count": 77,
   "metadata": {},
   "outputs": [
    {
     "data": {
      "image/png": "[encoded data removed]",
      "text/plain": [
       "<Figure size 640x480 with 1 Axes>"
      ]
     },
     "metadata": {},
     "output_type": "display_data"
    }
   ],
   "source": [
    "steps = tspan.shape[0]//30\n",
    "plt.semilogy(tspan[::steps],np.linalg.norm(fX_sol_EE_fA_sin[0:,::steps],2,axis=0),'-s',label=r\"solution w\\ proj\")\n",
    "plt.semilogy(tspan[::steps],np.linalg.norm(fX_sol_EE_fA_mod_nm_sin[0:,::steps],2,axis=0),'-x',label=r\"solution w/ proj $\\Pi_{\\perp 0}$\")\n",
    "plt.semilogy(tspan[::steps],np.linalg.norm(fX_sol_EE_fA_mod_bf_sin[0:,::steps],2,axis=0),'-o',label=r\"solution w/ proj $\\Pi_{\\perp 0}\\cdot\\Pi_{BF}$\")\n",
    "plt.title(r'convergence, condition initiale : sinus')\n",
    "plt.grid()\n",
    "plt.legend()\n",
    "plt.xlabel(r'time $T$')\n",
    "plt.ylabel(r'L2 norm of solution')\n",
    "plt.savefig('lww_obs_conv_ini_sinus.png')\n",
    "plt.show()\n"
   ]
  },
  {
   "cell_type": "code",
   "execution_count": 78,
   "metadata": {},
   "outputs": [
    {
     "data": {
      "image/png": "[encoded data removed]",
      "text/plain": [
       "<Figure size 640x480 with 1 Axes>"
      ]
     },
     "metadata": {},
     "output_type": "display_data"
    }
   ],
   "source": [
    "steps = tspan.shape[0]//30\n",
    "plt.semilogy(tspan[::steps],np.linalg.norm(fX_sol_EE_fA_cos[0:,::steps],2,axis=0),'-s',label=r\"solution w\\ proj\")\n",
    "plt.semilogy(tspan[::steps],np.linalg.norm(fX_sol_EE_fA_mod_nm_cos[0:,::steps],2,axis=0),'-x',label=r\"solution w/ proj $\\Pi_{\\perp 0}$\")\n",
    "plt.semilogy(tspan[::steps],np.linalg.norm(fX_sol_EE_fA_mod_bf_cos[0:,::steps],2,axis=0),'-o',label=r\"solution w/ proj $\\Pi_{\\perp 0}\\cdot\\Pi_{BF}$\")\n",
    "plt.title(r'convergence, condition initiale : cosinus')\n",
    "plt.grid()\n",
    "plt.legend()\n",
    "plt.xlabel(r'time $T$')\n",
    "plt.ylabel(r'L2 norm of solution fX_sol')\n",
    "plt.savefig('lww_obs_conv_ini_cosinus.png')\n",
    "plt.show()"
   ]
  },
  {
   "cell_type": "code",
   "execution_count": 84,
   "metadata": {},
   "outputs": [
    {
     "data": {
      "image/png": "[encoded data removed]",
      "text/plain": [
       "<Figure size 1500x500 with 2 Axes>"
      ]
     },
     "metadata": {},
     "output_type": "display_data"
    }
   ],
   "source": [
    "steps = tspan.shape[0]//30\n",
    "plt.figure(figsize=(15, 5))\n",
    "plt.subplot(1, 2, 1)\n",
    "plt.semilogy(tspan[::steps],np.linalg.norm(fX_sol_EE_fA_sin[0:,::steps],2,axis=0),'-s',label=r\"solution w\\ proj\")\n",
    "plt.semilogy(tspan[::steps],np.linalg.norm(fX_sol_EE_fA_mod_nm_sin[0:,::steps],2,axis=0),'-x',label=r\"solution w/ proj $\\Pi_{\\perp 0}$\")\n",
    "plt.semilogy(tspan[::steps],np.linalg.norm(fX_sol_EE_fA_mod_bf_sin[0:,::steps],2,axis=0),'-o',label=r\"solution w/ proj $\\Pi_{\\perp 0}\\cdot\\Pi_{BF}$\")\n",
    "plt.ylim([1e-20,1e1])\n",
    "plt.title(r'convergence, condition initiale : sinus')\n",
    "plt.grid()\n",
    "plt.legend()\n",
    "plt.xlabel(r'time $T$')\n",
    "plt.ylabel(r'L2 norm of solution')\n",
    "plt.subplot(1, 2, 2)\n",
    "plt.semilogy(tspan[::steps],np.linalg.norm(fX_sol_EE_fA_cos[0:,::steps],2,axis=0),'-s',label=r\"solution w\\ proj\")\n",
    "plt.semilogy(tspan[::steps],np.linalg.norm(fX_sol_EE_fA_mod_nm_cos[0:,::steps],2,axis=0),'-x',label=r\"solution w/ proj $\\Pi_{\\perp 0}$\")\n",
    "plt.semilogy(tspan[::steps],np.linalg.norm(fX_sol_EE_fA_mod_bf_cos[0:,::steps],2,axis=0),'-o',label=r\"solution w/ proj $\\Pi_{\\perp 0}\\cdot\\Pi_{BF}$\")\n",
    "plt.ylim([1e-20,1e1])\n",
    "plt.title(r'convergence, condition initiale : cosinus')\n",
    "plt.grid()\n",
    "plt.legend()\n",
    "plt.xlabel(r'time $T$')\n",
    "plt.ylabel(r'L2 norm of solution')\n",
    "plt.savefig(\"lww_obs_conv_ini_sinus_ini_cosinus.png\")\n",
    "plt.show()"
   ]
  },
  {
   "cell_type": "code",
   "execution_count": 88,
   "metadata": {},
   "outputs": [
    {
     "data": {
      "image/png": "[encoded data removed]",
      "text/plain": [
       "<Figure size 1500x500 with 2 Axes>"
      ]
     },
     "metadata": {},
     "output_type": "display_data"
    }
   ],
   "source": [
    "steps = tspan.shape[0]//30\n",
    "plt.figure(figsize=(15, 5))\n",
    "plt.subplot(1, 2, 1)\n",
    "plt.semilogy(tspan[::steps],np.linalg.norm(np.kron(np.eye(2),Pi_bf) @ fX_sol_EE_fA_cos[0:,::steps],2,axis=0),'-s',label=r\"solution w\\ proj\")\n",
    "plt.semilogy(tspan[::steps],np.linalg.norm(np.kron(np.eye(2),Pi_bf) @ fX_sol_EE_fA_mod_nm_cos[0:,::steps],2,axis=0),'-x',label=r\"solution w/ proj $\\Pi_{\\perp 0}$\")\n",
    "plt.semilogy(tspan[::steps],np.linalg.norm(np.kron(np.eye(2),Pi_bf) @ fX_sol_EE_fA_mod_bf_cos[0:,::steps],2,axis=0),'-o',label=r\"solution w/ proj $\\Pi_{\\perp 0}\\cdot\\Pi_{BF}$\")\n",
    "plt.ylim([1e-20,1e1])\n",
    "plt.title(r'convergence des basse frequences, condition initiale : cosinus')\n",
    "plt.grid()\n",
    "plt.legend()\n",
    "plt.xlabel(r'time $T$')\n",
    "plt.ylabel(r'L2 norm of solution')\n",
    "plt.subplot(1, 2, 2)\n",
    "plt.semilogy(tspan[::steps],np.linalg.norm(np.kron(np.eye(2),Pi_hf) @ fX_sol_EE_fA_cos[0:,::steps],2,axis=0),'-s',label=r\"solution w\\ proj\")\n",
    "plt.semilogy(tspan[::steps],np.linalg.norm(np.kron(np.eye(2),Pi_hf) @ fX_sol_EE_fA_mod_nm_cos[0:,::steps],2,axis=0),'-x',label=r\"solution w/ proj $\\Pi_{\\perp 0}$\")\n",
    "plt.semilogy(tspan[::steps],np.linalg.norm(np.kron(np.eye(2),Pi_hf) @ fX_sol_EE_fA_mod_bf_cos[0:,::steps],2,axis=0),'-o',label=r\"solution w/ proj $\\Pi_{\\perp 0}\\cdot\\Pi_{BF}$\")\n",
    "plt.ylim([1e-7,1e1])\n",
    "plt.title(r'convergence des hautes frequences, condition initiale : cosinus')\n",
    "plt.grid()\n",
    "plt.legend()\n",
    "plt.xlabel(r'time $T$')\n",
    "plt.ylabel(r'L2 norm of solution')\n",
    "plt.savefig('lww_obs_conv_bf_hf_ini_cosinus.png')\n",
    "plt.show()"
   ]
  },
  {
   "cell_type": "code",
   "execution_count": 89,
   "metadata": {},
   "outputs": [
    {
     "data": {
      "image/png": "[encoded data removed]",
      "text/plain": [
       "<Figure size 640x480 with 1 Axes>"
      ]
     },
     "metadata": {},
     "output_type": "display_data"
    }
   ],
   "source": [
    "steps = tspan.shape[0]//30\n",
    "plt.semilogy(tspan[::steps],np.linalg.norm(fX_sol_EE_fA_mix[0:,::steps],2,axis=0),'-s',label=r\"solution w\\ proj\")\n",
    "plt.semilogy(tspan[::steps],np.linalg.norm(fX_sol_EE_fA_mod_nm_mix[0:,::steps],2,axis=0),'-x',label=r\"solution w/ proj $\\Pi_{\\perp 0}$\")\n",
    "plt.semilogy(tspan[::steps],np.linalg.norm(fX_sol_EE_fA_mod_bf_mix[0:,::steps],2,axis=0),'-o',label=r\"solution w/ proj $\\Pi_{\\perp 0}\\cdot\\Pi_{BF}$\")\n",
    "plt.ylim([1e-20,1e1])\n",
    "plt.title(r'convergence, condition initiale : cosinus + sin')\n",
    "plt.grid()\n",
    "plt.legend()\n",
    "plt.xlabel(r'time $T$')\n",
    "plt.ylabel(r'L2 norm of solution')\n",
    "plt.savefig('lww_obs_conv_ini_sinus&cosinus.png')\n",
    "plt.show()"
   ]
  },
  {
   "cell_type": "code",
   "execution_count": 90,
   "metadata": {},
   "outputs": [
    {
     "data": {
      "image/png": "[encoded data removed]",
      "text/plain": [
       "<Figure size 1500x500 with 2 Axes>"
      ]
     },
     "metadata": {},
     "output_type": "display_data"
    }
   ],
   "source": [
    "steps = tspan.shape[0]//30\n",
    "plt.figure(figsize=(15, 5))\n",
    "plt.subplot(1, 2, 1)\n",
    "plt.semilogy(tspan[::steps],np.linalg.norm(np.kron(np.eye(2),Pi_bf) @ fX_sol_EE_fA_mix[0:,::steps],2,axis=0),'-s',label=r\"solution w\\ proj\")\n",
    "plt.semilogy(tspan[::steps],np.linalg.norm(np.kron(np.eye(2),Pi_bf) @ fX_sol_EE_fA_mod_nm_mix[0:,::steps],2,axis=0),'-x',label=r\"solution w/ proj $\\Pi_{\\perp 0}$\")\n",
    "plt.semilogy(tspan[::steps],np.linalg.norm(np.kron(np.eye(2),Pi_bf) @ fX_sol_EE_fA_mod_bf_mix[0:,::steps],2,axis=0),'-o',label=r\"solution w/ proj $\\Pi_{\\perp 0}\\cdot\\Pi_{BF}$\")\n",
    "plt.ylim([1e-20,1e1])\n",
    "plt.title(r'convergence des basse frequences, condition initiale : cosinus + sinus')\n",
    "plt.grid()\n",
    "plt.legend()\n",
    "plt.xlabel(r'time $T$')\n",
    "plt.ylabel(r'L2 norm of solution')\n",
    "plt.subplot(1, 2, 2)\n",
    "plt.semilogy(tspan[::steps],np.linalg.norm(np.kron(np.eye(2),Pi_hf) @ fX_sol_EE_fA_mix[0:,::steps],2,axis=0),'-s',label=r\"solution w\\ proj\")\n",
    "plt.semilogy(tspan[::steps],np.linalg.norm(np.kron(np.eye(2),Pi_hf) @ fX_sol_EE_fA_mod_nm_mix[0:,::steps],2,axis=0),'-x',label=r\"solution w/ proj $\\Pi_{\\perp 0}$\")\n",
    "plt.semilogy(tspan[::steps],np.linalg.norm(np.kron(np.eye(2),Pi_hf) @ fX_sol_EE_fA_mod_bf_mix[0:,::steps],2,axis=0),'-o',label=r\"solution w/ proj $\\Pi_{\\perp 0}\\cdot\\Pi_{BF}$\")\n",
    "plt.ylim([1e-7,1e1])\n",
    "plt.title(r'convergence des hautes frequences, condition initiale : cosinus + sinus')\n",
    "plt.grid()\n",
    "plt.legend()\n",
    "plt.xlabel(r'time $T$')\n",
    "plt.ylabel(r'L2 norm of solution')\n",
    "plt.savefig('lww_obs_conv_bf_hf_ini_sinus&cosinus.png')\n",
    "plt.show()"
   ]
  },
  {
   "cell_type": "markdown",
   "metadata": {},
   "source": [
    "## Valeurs propres et convergences"
   ]
  },
  {
   "cell_type": "code",
   "execution_count": 70,
   "metadata": {},
   "outputs": [],
   "source": [
    "Nff = 2"
   ]
  },
  {
   "cell_type": "code",
   "execution_count": 79,
   "metadata": {},
   "outputs": [],
   "source": [
    "ffC = -((a * np.exp((-1j * np.pi) * (frequences.reshape(-1, 1) - frequences))) / np.pi) * np.sinc(a * (frequences.reshape(-1, 1) - frequences) / np.pi)"
   ]
  },
  {
   "cell_type": "code",
   "execution_count": 83,
   "metadata": {},
   "outputs": [
    {
     "data": {
      "text/plain": [
       "2.145794731967043e-14"
      ]
     },
     "execution_count": 83,
     "metadata": {},
     "output_type": "execute_result"
    }
   ],
   "source": [
    "np.linalg.norm(np.imag(ffC))"
   ]
  },
  {
   "cell_type": "code",
   "execution_count": 84,
   "metadata": {},
   "outputs": [
    {
     "data": {
      "text/plain": [
       "(-1-1.2246467991473532e-16j)"
      ]
     },
     "execution_count": 84,
     "metadata": {},
     "output_type": "execute_result"
    }
   ],
   "source": [
    "fffC = -((a * np.exp((-1j * np.pi) * (frequences.reshape(-1, 1) - frequences))) / np.pi) * np.sinc(a * (frequences.reshape(-1, 1) - frequences) / np.pi)"
   ]
  },
  {
   "cell_type": "code",
   "execution_count": 119,
   "metadata": {},
   "outputs": [
    {
     "name": "stdout",
     "output_type": "stream",
     "text": [
      "3.608756581090733e-16\n",
      "0.0\n"
     ]
    }
   ],
   "source": [
    "eigenval_fC, _ = np.linalg.eig(fC)\n",
    "eigenval_Pi_bf_fC, _ = np.linalg.eig(Pi_bf @ fC)\n",
    "print(np.linalg.norm(np.imag(eigenval_fC)))\n",
    "print(np.linalg.norm(np.imag(eigenval_Pi_bf_fC)))"
   ]
  },
  {
   "cell_type": "code",
   "execution_count": 121,
   "metadata": {},
   "outputs": [
    {
     "data": {
      "text/plain": [
       "array([5.69775306e-01, 5.44731541e-02, 9.71721323e-01, 2.28138028e-01,\n",
       "       8.60355808e-01, 1.21803648e-03, 9.09575239e-03, 9.99486417e-01,\n",
       "       9.95782511e-01, 1.39688712e-05, 1.39309779e-04, 9.99995237e-01,\n",
       "       9.99946796e-01, 1.24459920e-06, 9.93855968e-08, 9.99999629e-01,\n",
       "       9.99999975e-01, 1.00000000e+00, 9.99999999e-01, 1.00000000e+00,\n",
       "       1.00000000e+00, 1.00000000e+00, 1.00000000e+00, 1.00000000e+00,\n",
       "       1.00000000e+00, 1.00000000e+00, 1.00000000e+00, 7.15718592e-09,\n",
       "       4.67033171e-10, 2.77179096e-11, 1.50064872e-12, 7.41991965e-14,\n",
       "       3.39075154e-15, 4.10203269e-16, 3.32562869e-16, 1.73008590e-16,\n",
       "       1.14638243e-16, 1.14638243e-16, 1.07194623e-17, 1.00000000e+00,\n",
       "       1.00000000e+00, 2.58852926e-16, 3.24643844e-16, 2.15018365e-16,\n",
       "       2.15018365e-16, 2.13325351e-16, 2.13325351e-16, 1.16456442e-16,\n",
       "       1.16456442e-16, 1.90813187e-16, 1.64691190e-16, 1.64691190e-16,\n",
       "       1.40799118e-16, 1.40799118e-16, 1.21824513e-16, 1.04902251e-16,\n",
       "       1.21892455e-16, 1.21892455e-16, 2.41083137e-17, 2.41083137e-17,\n",
       "       6.36824963e-17, 6.36824963e-17, 3.90777515e-17, 7.44874766e-17,\n",
       "       1.58347540e-17])"
      ]
     },
     "execution_count": 121,
     "metadata": {},
     "output_type": "execute_result"
    }
   ],
   "source": [
    "np.real(eigenval_fC)"
   ]
  },
  {
   "cell_type": "code",
   "execution_count": 135,
   "metadata": {},
   "outputs": [
    {
     "data": {
      "text/plain": [
       "array([-0.66137059, -0.54891111, -0.00321392, -0.05974393,  0.        ,\n",
       "        0.        ,  0.        ,  0.        ,  0.        ,  0.        ,\n",
       "        0.        ,  0.        ,  0.        ,  0.        ,  0.        ,\n",
       "        0.        ,  0.        ,  0.        ,  0.        ,  0.        ,\n",
       "        0.        ,  0.        ,  0.        ,  0.        ,  0.        ,\n",
       "        0.        ,  0.        ,  0.        ,  0.        ,  0.        ,\n",
       "        0.        ,  0.        ,  0.        ,  0.        ,  0.        ,\n",
       "        0.        ,  0.        ,  0.        ,  0.        ,  0.        ,\n",
       "        0.        ,  0.        ,  0.        ,  0.        ,  0.        ,\n",
       "        0.        ,  0.        ,  0.        ,  0.        ,  0.        ,\n",
       "        0.        ,  0.        ,  0.        ,  0.        ,  0.        ,\n",
       "        0.        ,  0.        ,  0.        ,  0.        ,  0.        ,\n",
       "        0.        ,  0.        ,  0.        ,  0.        ,  0.        ])"
      ]
     },
     "execution_count": 135,
     "metadata": {},
     "output_type": "execute_result"
    }
   ],
   "source": [
    "np.real(eigenval_Pi_bf_fC)"
   ]
  },
  {
   "cell_type": "code",
   "execution_count": 124,
   "metadata": {},
   "outputs": [
    {
     "data": {
      "text/plain": [
       "[<matplotlib.lines.Line2D at 0x164485050>]"
      ]
     },
     "execution_count": 124,
     "metadata": {},
     "output_type": "execute_result"
    },
    {
     "data": {
      "image/png": "[encoded data removed]",
      "text/plain": [
       "<Figure size 640x480 with 1 Axes>"
      ]
     },
     "metadata": {},
     "output_type": "display_data"
    }
   ],
   "source": [
    "plt.plot(np.real(eigenval_fC),np.imag(eigenval_fC),'o')\n",
    "plt.plot(np.real(eigenval_Pi_bf_fC),np.imag(eigenval_Pi_bf_fC),'x')"
   ]
  },
  {
   "cell_type": "code",
   "execution_count": 141,
   "metadata": {},
   "outputs": [],
   "source": [
    "frequences_bf = np.array([0,1,2,-2,-1])\n",
    "ffC = np.real(-((a * np.exp((-1j * np.pi) * (frequences_bf.reshape(-1, 1) - frequences_bf))) / np.pi) * np.sinc(a * (frequences_bf.reshape(-1, 1) - frequences_bf) / np.pi))\n",
    "frequences_bf_nm = np.array([1,2,-2,-1])\n",
    "fffC = np.real(-((a * np.exp((-1j * np.pi) * (frequences_bf_nm.reshape(-1, 1) - frequences_bf_nm))) / np.pi) * np.sinc(a * (frequences_bf_nm.reshape(-1, 1) - frequences_bf_nm) / np.pi))"
   ]
  },
  {
   "cell_type": "code",
   "execution_count": 142,
   "metadata": {},
   "outputs": [],
   "source": [
    "PiPi_nm = np.diag(np.concatenate((np.zeros(1),np.ones(5-1))))\n",
    "eigenval_ffC,_ = np.linalg.eig(PiPi_nm @ ffC)\n",
    "eigenval_fffC,_ = np.linalg.eig(fffC)"
   ]
  },
  {
   "cell_type": "code",
   "execution_count": 143,
   "metadata": {},
   "outputs": [
    {
     "data": {
      "text/plain": [
       "array([0., 0., 0., 0.])"
      ]
     },
     "execution_count": 143,
     "metadata": {},
     "output_type": "execute_result"
    }
   ],
   "source": [
    "eigenval_ffC[0:4] - np.real(eigenval_Pi_bf_fC)[0:4]"
   ]
  },
  {
   "cell_type": "code",
   "execution_count": 146,
   "metadata": {},
   "outputs": [
    {
     "data": {
      "text/plain": [
       "array([ 4.44089210e-16,  2.22044605e-16, -4.72712147e-17, -6.93889390e-18])"
      ]
     },
     "execution_count": 146,
     "metadata": {},
     "output_type": "execute_result"
    }
   ],
   "source": [
    "np.real(eigenval_Pi_bf_fC)[0:4] - eigenval_fffC"
   ]
  },
  {
   "cell_type": "code",
   "execution_count": null,
   "metadata": {},
   "outputs": [],
   "source": []
  }
 ],
 "metadata": {
  "kernelspec": {
   "display_name": "base",
   "language": "python",
   "name": "python3"
  },
  "language_info": {
   "codemirror_mode": {
    "name": "ipython",
    "version": 3
   },
   "file_extension": ".py",
   "mimetype": "text/x-python",
   "name": "python",
   "nbconvert_exporter": "python",
   "pygments_lexer": "ipython3",
   "version": "3.11.9"
  },
  "orig_nbformat": 4
 },
 "nbformat": 4,
 "nbformat_minor": 2
}
