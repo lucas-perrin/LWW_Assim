{
 "cells": [
  {
   "cell_type": "code",
   "execution_count": 1,
   "metadata": {},
   "outputs": [],
   "source": [
    "from call_functions import *\n",
    "import plotly.express as px\n",
    "import matplotlib.pyplot as plt\n",
    "import matplotlib.gridspec as gridspec\n",
    "import tikzplotlib"
   ]
  },
  {
   "cell_type": "markdown",
   "metadata": {},
   "source": [
    "## General Setting"
   ]
  },
  {
   "cell_type": "code",
   "execution_count": 48,
   "metadata": {},
   "outputs": [],
   "source": [
    "# ------------------------------\n",
    "# Parameters to tune\n",
    "# ------------------------------\n",
    "\n",
    "x0 = 0\n",
    "L = 2 * np.pi\n",
    "Nx = 2**6 +1\n",
    "Nf = Nx // 2\n",
    "d = 3\n",
    "dt = 1e-3\n",
    "a = 1/2 * np.pi\n",
    "g = 9.80665\n",
    "gain = 0\n",
    "T_start = 0\n",
    "T = 100\n",
    "N_ini_fq = 2**1\n",
    "\n",
    "# ------------------------------\n",
    "# Space discretization\n",
    "# ------------------------------\n",
    "\n",
    "dx = L / Nx\n",
    "Lx = L - dx\n",
    "xspan = np.arange(x0, Lx + dx, dx)\n",
    "frequences = np.fft.fftfreq(Nx, dx) * 2 * np.pi\n",
    "frequences2 = fftfreq(Nx, dx) * 2 * np.pi # same as above\n",
    "\n",
    "# ------------------------------\n",
    "# Time discretization\n",
    "# ------------------------------\n",
    "\n",
    "T_end = T_start + T\n",
    "tspan = np.arange(T_start, T_end + dt, dt)\n",
    "Nt = len(tspan)"
   ]
  },
  {
   "cell_type": "code",
   "execution_count": 49,
   "metadata": {},
   "outputs": [
    {
     "data": {
      "text/plain": [
       "array([  0.,   1.,   2.,   3.,   4.,   5.,   6.,   7.,   8.,   9.,  10.,\n",
       "        11.,  12.,  13.,  14.,  15.,  16.,  17.,  18.,  19.,  20.,  21.,\n",
       "        22.,  23.,  24.,  25.,  26.,  27.,  28.,  29.,  30.,  31.,  32.,\n",
       "       -32., -31., -30., -29., -28., -27., -26., -25., -24., -23., -22.,\n",
       "       -21., -20., -19., -18., -17., -16., -15., -14., -13., -12., -11.,\n",
       "       -10.,  -9.,  -8.,  -7.,  -6.,  -5.,  -4.,  -3.,  -2.,  -1.])"
      ]
     },
     "execution_count": 49,
     "metadata": {},
     "output_type": "execute_result"
    }
   ],
   "source": [
    "frequences"
   ]
  },
  {
   "cell_type": "code",
   "execution_count": 24,
   "metadata": {},
   "outputs": [],
   "source": [
    "# ------------------------------\n",
    "# Matrix computations\n",
    "# ------------------------------\n",
    "\n",
    "# 1) DFT and iDFT Matrices (as well as no mean matrices)\n",
    "DFT = 1 / Nx * getDFT(Nx)\n",
    "iDFT = getiDFT(Nx)\n",
    "\n",
    "# 2) True matrix A not in Fourier\n",
    "O = np.zeros((Nx, Nx))\n",
    "I = np.eye(Nx)\n",
    "G = Matrix_A_dz(Nx, dx, d)\n",
    "_, C = GetC(np.abs(xspan - np.pi) <= a)\n",
    "obs_space = np.abs(xspan - np.pi) <= a\n",
    "C = -np.dot(C.T, C)\n",
    "A = np.block([[O, -g*I], [G, gain*C]])\n",
    "\n",
    "# True matrix A in Fourier\n",
    "fO = np.zeros((2 * Nf + 1, 2 * Nf + 1))\n",
    "fI = np.eye(2 * Nf + 1)\n",
    "fF = np.diag(np.abs(np.concatenate((np.arange(0, Nf + 1), np.arange(-Nf, 0)))))\n",
    "frequences = fftfreq(Nx, dx) * 2 * np.pi  # Assuming the previously defined fftfreq function\n",
    "fC = np.real(-((a * np.exp((-1j * np.pi) * (frequences.reshape(-1, 1) - frequences))) / np.pi) * np.sinc(a * (frequences.reshape(-1, 1) - frequences) / np.pi))\n",
    "fA = np.block([[fO, -g*fI], [fF, gain*fC]])\n",
    "\n",
    "# Matrix that deletes the mean\n",
    "Pi_nm = np.diag(np.concatenate((np.zeros(1),np.ones(Nx-1))))\n",
    "\n",
    "# Matrix that recovers only the mean\n",
    "Pi_m = np.diag(np.concatenate((np.ones(1),np.zeros(Nx-1))))\n",
    "\n",
    "# Modified fA\n",
    "A_mod_nm = np.block([[O, -g*I],[G, gain* iDFT @ Pi_nm @ DFT @ C]])\n",
    "fA_mod_nm = np.block([[fO, -g*fI], [fF, gain* Pi_nm @ fC]])\n",
    "\n",
    "# vector with list of all the positive frequencices\n",
    "pos_frequences = frequences[1:int((len(frequences)-1)/2)+1]\n",
    "\n",
    "# Matrix that deletes the mean and the high frequencies\n",
    "Pi_lf = np.diag(np.concatenate((np.zeros(1),(pos_frequences <= N_ini_fq),(pos_frequences <= N_ini_fq)[::-1])))\n",
    "Pi_hf = np.diag(np.concatenate((np.zeros(1),(pos_frequences > N_ini_fq),(pos_frequences > N_ini_fq)[::-1])))\n",
    "\n",
    "# second Modified fA\n",
    "A_mod_lf = np.block([[O, -g*I],[G, gain* iDFT @ Pi_lf @ DFT @ C]])\n",
    "fA_mod_lf = np.block([[fO, -g*fI], [fF, gain* Pi_lf @ fC]])"
   ]
  },
  {
   "cell_type": "code",
   "execution_count": 25,
   "metadata": {},
   "outputs": [
    {
     "name": "stdout",
     "output_type": "stream",
     "text": [
      "list of frequences :\n",
      "[  0.   1.   2.   3.   4.   5.   6.   7.   8.   9.  10.  11.  12.  13.\n",
      "  14.  15.  16.  17.  18.  19.  20.  21.  22.  23.  24.  25.  26.  27.\n",
      "  28.  29.  30.  31.  32. -32. -31. -30. -29. -28. -27. -26. -25. -24.\n",
      " -23. -22. -21. -20. -19. -18. -17. -16. -15. -14. -13. -12. -11. -10.\n",
      "  -9.  -8.  -7.  -6.  -5.  -4.  -3.  -2.  -1.]\n",
      "Pi_nm diagonal :\n",
      "[0. 1. 1. 1. 1. 1. 1. 1. 1. 1. 1. 1. 1. 1. 1. 1. 1. 1. 1. 1. 1. 1. 1. 1.\n",
      " 1. 1. 1. 1. 1. 1. 1. 1. 1. 1. 1. 1. 1. 1. 1. 1. 1. 1. 1. 1. 1. 1. 1. 1.\n",
      " 1. 1. 1. 1. 1. 1. 1. 1. 1. 1. 1. 1. 1. 1. 1. 1. 1.]\n",
      "Pi_lf diagonal :\n",
      "[0. 1. 1. 0. 0. 0. 0. 0. 0. 0. 0. 0. 0. 0. 0. 0. 0. 0. 0. 0. 0. 0. 0. 0.\n",
      " 0. 0. 0. 0. 0. 0. 0. 0. 0. 0. 0. 0. 0. 0. 0. 0. 0. 0. 0. 0. 0. 0. 0. 0.\n",
      " 0. 0. 0. 0. 0. 0. 0. 0. 0. 0. 0. 0. 0. 0. 0. 1. 1.]\n",
      "Pi_hf diagonal :\n",
      "[0. 0. 0. 1. 1. 1. 1. 1. 1. 1. 1. 1. 1. 1. 1. 1. 1. 1. 1. 1. 1. 1. 1. 1.\n",
      " 1. 1. 1. 1. 1. 1. 1. 1. 1. 1. 1. 1. 1. 1. 1. 1. 1. 1. 1. 1. 1. 1. 1. 1.\n",
      " 1. 1. 1. 1. 1. 1. 1. 1. 1. 1. 1. 1. 1. 1. 1. 0. 0.]\n"
     ]
    }
   ],
   "source": [
    "# ------------------------------\n",
    "# Print of the projection matrices\n",
    "# ------------------------------\n",
    "\n",
    "print('list of frequences :')\n",
    "print(2 * np.pi * fftfreq(Nx, dx))\n",
    "print('Pi_nm diagonal :')\n",
    "print(np.diag(Pi_nm))\n",
    "print('Pi_lf diagonal :')\n",
    "print(np.diag(Pi_lf))\n",
    "print('Pi_hf diagonal :')\n",
    "print(np.diag(Pi_hf))"
   ]
  },
  {
   "cell_type": "code",
   "execution_count": 26,
   "metadata": {},
   "outputs": [
    {
     "name": "stdout",
     "output_type": "stream",
     "text": [
      "relative error between DFT @ fF @ iDFT and G :\n"
     ]
    },
    {
     "name": "stdout",
     "output_type": "stream",
     "text": [
      "4.6236022669657536e-05\n",
      "relative error between DFT @ fC @ iDFT and C :\n",
      "0.13796544907606142\n",
      "relative error between DFT @ fA @ iDFT and A :\n",
      "4.0976058579377164e-05\n"
     ]
    }
   ],
   "source": [
    "# ------------------------------\n",
    "# Test of the error between Fourier and non Fourier Matrices\n",
    "# ------------------------------\n",
    "\n",
    "# Now : DFT @ fF @ iDFT = G\n",
    "\n",
    "print('relative error between DFT @ fF @ iDFT and G :')\n",
    "print(np.linalg.norm(np.real(iDFT @ fF @ DFT) - G)/np.linalg.norm(G))\n",
    "\n",
    "# Now : DFT @ fF @ iDFT = G * np.pi * 2\n",
    "\n",
    "print('relative error between DFT @ fC @ iDFT and C :')\n",
    "print(np.linalg.norm(np.real(iDFT @ fC @ DFT) - C)/np.linalg.norm(C))\n",
    "\n",
    "print('relative error between DFT @ fA @ iDFT and A :')\n",
    "print(np.linalg.norm(np.real(np.kron(np.eye(2),DFT) @ fA @ np.kron(np.eye(2),iDFT)) - A)/np.linalg.norm(A))"
   ]
  },
  {
   "cell_type": "code",
   "execution_count": 27,
   "metadata": {},
   "outputs": [
    {
     "data": {
      "application/vnd.plotly.v1+json": {
       "config": {
        "plotlyServerURL": "https://plot.ly"
       },
       "data": [
        {
         "hovertemplate": "variable=wide_variable_0<br>x=%{x}<br>value=%{y}<extra></extra>",
         "legendgroup": "wide_variable_0",
         "marker": {
          "color": "#636efa",
          "symbol": "circle"
         },
         "mode": "markers",
         "name": "wide_variable_0",
         "orientation": "v",
         "showlegend": true,
         "type": "scatter",
         "x": [
          0,
          1,
          2,
          3,
          4,
          5,
          6,
          7.000000000000001,
          8,
          9,
          10,
          11,
          12,
          12.999999999999998,
          14.000000000000002,
          15,
          16,
          17,
          18,
          19,
          20,
          21,
          22,
          23,
          24,
          25,
          25.999999999999996,
          26.999999999999996,
          28.000000000000004,
          29.000000000000004,
          30,
          31,
          32,
          -32,
          -31,
          -30,
          -29.000000000000004,
          -28.000000000000004,
          -26.999999999999996,
          -25.999999999999996,
          -25,
          -24,
          -23,
          -22,
          -21,
          -20,
          -19,
          -18,
          -17,
          -16,
          -15,
          -14.000000000000002,
          -12.999999999999998,
          -12,
          -11,
          -10,
          -9,
          -8,
          -7.000000000000001,
          -6,
          -5,
          -4,
          -3,
          -2,
          -1
         ],
         "xaxis": "x",
         "y": [
          -0.49230769230769234,
          0.3183408704709114,
          -0.0077013010650477404,
          -0.10619629894925003,
          0.007728386624112205,
          0.06381715238891339,
          -0.007773883722808772,
          -0.0456904423525199,
          0.007838334882444729,
          0.03564815128971194,
          -0.007922521776536408,
          -0.029280897038578165,
          0.00802748883285915,
          0.024892830596152216,
          -0.008154575808546519,
          -0.02169261612963886,
          0.008305461287419063,
          0.019261366703145086,
          -0.008482219835935195,
          -0.01735662101114063,
          0.00868739662891023,
          0.015828333812841013,
          -0.008924104858759559,
          -0.014578697849969787,
          0.009196153386426828,
          0.0135412516558579,
          -0.009508215211536847,
          -0.012669273206514075,
          0.009866051964156176,
          0.011928976640142905,
          -0.010276816613659628,
          -0.01129534296897457,
          0.010749467389260645,
          0.010749467389260945,
          -0.011295342968974867,
          -0.010276816613659628,
          0.011928976640142953,
          0.009866051964155922,
          -0.012669273206514522,
          -0.009508215211536776,
          0.013541251655857596,
          0.009196153386426948,
          -0.01457869784997134,
          -0.008924104858759253,
          0.015828333812841003,
          0.00868739662891033,
          -0.0173566210111409,
          -0.00848221983593526,
          0.019261366703145218,
          0.0083054612874187,
          -0.021692616129638458,
          -0.008154575808545875,
          0.024892830596152233,
          0.008027488832858877,
          -0.02928089703857792,
          -0.007922521776536257,
          0.035648151289711834,
          0.007838334882445402,
          -0.04569044235251996,
          -0.007773883722808532,
          0.06381715238891386,
          0.007728386624111688,
          -0.10619629894924947,
          -0.007701301065045607,
          0.31834087047090953
         ],
         "yaxis": "y"
        },
        {
         "hovertemplate": "variable=wide_variable_1<br>x=%{x}<br>value=%{y}<extra></extra>",
         "legendgroup": "wide_variable_1",
         "marker": {
          "color": "#EF553B",
          "symbol": "circle"
         },
         "mode": "markers",
         "name": "wide_variable_1",
         "orientation": "v",
         "showlegend": true,
         "type": "scatter",
         "x": [
          0,
          1,
          2,
          3,
          4,
          5,
          6,
          7.000000000000001,
          8,
          9,
          10,
          11,
          12,
          12.999999999999998,
          14.000000000000002,
          15,
          16,
          17,
          18,
          19,
          20,
          21,
          22,
          23,
          24,
          25,
          25.999999999999996,
          26.999999999999996,
          28.000000000000004,
          29.000000000000004,
          30,
          31,
          32,
          -32,
          -31,
          -30,
          -29.000000000000004,
          -28.000000000000004,
          -26.999999999999996,
          -25.999999999999996,
          -25,
          -24,
          -23,
          -22,
          -21,
          -20,
          -19,
          -18,
          -17,
          -16,
          -15,
          -14.000000000000002,
          -12.999999999999998,
          -12,
          -11,
          -10,
          -9,
          -8,
          -7.000000000000001,
          -6,
          -5,
          -4,
          -3,
          -2,
          -1
         ],
         "xaxis": "x",
         "y": [
          -0.5,
          0.3183098861837907,
          -1.9490859162596877e-17,
          -0.1061032953945969,
          1.9490859162596877e-17,
          0.06366197723675814,
          -1.9490859162596877e-17,
          -0.04547284088339866,
          1.9490859162596877e-17,
          0.0353677651315323,
          -1.949085916259688e-17,
          -0.028937262380344612,
          1.9490859162596877e-17,
          0.02448537586029159,
          6.128513274758766e-17,
          -0.02122065907891938,
          1.9490859162596877e-17,
          0.018724110951987685,
          -1.9490859162596877e-17,
          -0.016753151904410037,
          1.949085916259688e-17,
          0.015157613627799556,
          -7.089376310544159e-17,
          -0.013839560268860466,
          1.9490859162596877e-17,
          0.012732395447351627,
          -6.298562403731165e-17,
          -0.011789255043844102,
          -6.128513274758766e-17,
          0.01097620297185485,
          -5.718632205401634e-17,
          -0.01026806084463841,
          1.9490859162596877e-17,
          1.9490859162596877e-17,
          -0.01026806084463841,
          -5.718632205401634e-17,
          0.01097620297185485,
          -6.128513274758766e-17,
          -0.011789255043844102,
          -6.298562403731165e-17,
          0.012732395447351627,
          1.9490859162596877e-17,
          -0.013839560268860466,
          -7.089376310544159e-17,
          0.015157613627799556,
          1.949085916259688e-17,
          -0.016753151904410037,
          -1.9490859162596877e-17,
          0.018724110951987685,
          1.9490859162596877e-17,
          -0.02122065907891938,
          6.128513274758766e-17,
          0.02448537586029159,
          1.9490859162596877e-17,
          -0.028937262380344612,
          -1.949085916259688e-17,
          0.0353677651315323,
          1.9490859162596877e-17,
          -0.04547284088339866,
          -1.9490859162596877e-17,
          0.06366197723675814,
          1.9490859162596877e-17,
          -0.1061032953945969,
          -1.9490859162596877e-17,
          0.3183098861837907
         ],
         "yaxis": "y"
        }
       ],
       "layout": {
        "legend": {
         "title": {
          "text": "variable"
         },
         "tracegroupgap": 0
        },
        "margin": {
         "t": 60
        },
        "template": {
         "data": {
          "bar": [
           {
            "error_x": {
             "color": "#2a3f5f"
            },
            "error_y": {
             "color": "#2a3f5f"
            },
            "marker": {
             "line": {
              "color": "#E5ECF6",
              "width": 0.5
             },
             "pattern": {
              "fillmode": "overlay",
              "size": 10,
              "solidity": 0.2
             }
            },
            "type": "bar"
           }
          ],
          "barpolar": [
           {
            "marker": {
             "line": {
              "color": "#E5ECF6",
              "width": 0.5
             },
             "pattern": {
              "fillmode": "overlay",
              "size": 10,
              "solidity": 0.2
             }
            },
            "type": "barpolar"
           }
          ],
          "carpet": [
           {
            "aaxis": {
             "endlinecolor": "#2a3f5f",
             "gridcolor": "white",
             "linecolor": "white",
             "minorgridcolor": "white",
             "startlinecolor": "#2a3f5f"
            },
            "baxis": {
             "endlinecolor": "#2a3f5f",
             "gridcolor": "white",
             "linecolor": "white",
             "minorgridcolor": "white",
             "startlinecolor": "#2a3f5f"
            },
            "type": "carpet"
           }
          ],
          "choropleth": [
           {
            "colorbar": {
             "outlinewidth": 0,
             "ticks": ""
            },
            "type": "choropleth"
           }
          ],
          "contour": [
           {
            "colorbar": {
             "outlinewidth": 0,
             "ticks": ""
            },
            "colorscale": [
             [
              0,
              "#0d0887"
             ],
             [
              0.1111111111111111,
              "#46039f"
             ],
             [
              0.2222222222222222,
              "#7201a8"
             ],
             [
              0.3333333333333333,
              "#9c179e"
             ],
             [
              0.4444444444444444,
              "#bd3786"
             ],
             [
              0.5555555555555556,
              "#d8576b"
             ],
             [
              0.6666666666666666,
              "#ed7953"
             ],
             [
              0.7777777777777778,
              "#fb9f3a"
             ],
             [
              0.8888888888888888,
              "#fdca26"
             ],
             [
              1,
              "#f0f921"
             ]
            ],
            "type": "contour"
           }
          ],
          "contourcarpet": [
           {
            "colorbar": {
             "outlinewidth": 0,
             "ticks": ""
            },
            "type": "contourcarpet"
           }
          ],
          "heatmap": [
           {
            "colorbar": {
             "outlinewidth": 0,
             "ticks": ""
            },
            "colorscale": [
             [
              0,
              "#0d0887"
             ],
             [
              0.1111111111111111,
              "#46039f"
             ],
             [
              0.2222222222222222,
              "#7201a8"
             ],
             [
              0.3333333333333333,
              "#9c179e"
             ],
             [
              0.4444444444444444,
              "#bd3786"
             ],
             [
              0.5555555555555556,
              "#d8576b"
             ],
             [
              0.6666666666666666,
              "#ed7953"
             ],
             [
              0.7777777777777778,
              "#fb9f3a"
             ],
             [
              0.8888888888888888,
              "#fdca26"
             ],
             [
              1,
              "#f0f921"
             ]
            ],
            "type": "heatmap"
           }
          ],
          "heatmapgl": [
           {
            "colorbar": {
             "outlinewidth": 0,
             "ticks": ""
            },
            "colorscale": [
             [
              0,
              "#0d0887"
             ],
             [
              0.1111111111111111,
              "#46039f"
             ],
             [
              0.2222222222222222,
              "#7201a8"
             ],
             [
              0.3333333333333333,
              "#9c179e"
             ],
             [
              0.4444444444444444,
              "#bd3786"
             ],
             [
              0.5555555555555556,
              "#d8576b"
             ],
             [
              0.6666666666666666,
              "#ed7953"
             ],
             [
              0.7777777777777778,
              "#fb9f3a"
             ],
             [
              0.8888888888888888,
              "#fdca26"
             ],
             [
              1,
              "#f0f921"
             ]
            ],
            "type": "heatmapgl"
           }
          ],
          "histogram": [
           {
            "marker": {
             "pattern": {
              "fillmode": "overlay",
              "size": 10,
              "solidity": 0.2
             }
            },
            "type": "histogram"
           }
          ],
          "histogram2d": [
           {
            "colorbar": {
             "outlinewidth": 0,
             "ticks": ""
            },
            "colorscale": [
             [
              0,
              "#0d0887"
             ],
             [
              0.1111111111111111,
              "#46039f"
             ],
             [
              0.2222222222222222,
              "#7201a8"
             ],
             [
              0.3333333333333333,
              "#9c179e"
             ],
             [
              0.4444444444444444,
              "#bd3786"
             ],
             [
              0.5555555555555556,
              "#d8576b"
             ],
             [
              0.6666666666666666,
              "#ed7953"
             ],
             [
              0.7777777777777778,
              "#fb9f3a"
             ],
             [
              0.8888888888888888,
              "#fdca26"
             ],
             [
              1,
              "#f0f921"
             ]
            ],
            "type": "histogram2d"
           }
          ],
          "histogram2dcontour": [
           {
            "colorbar": {
             "outlinewidth": 0,
             "ticks": ""
            },
            "colorscale": [
             [
              0,
              "#0d0887"
             ],
             [
              0.1111111111111111,
              "#46039f"
             ],
             [
              0.2222222222222222,
              "#7201a8"
             ],
             [
              0.3333333333333333,
              "#9c179e"
             ],
             [
              0.4444444444444444,
              "#bd3786"
             ],
             [
              0.5555555555555556,
              "#d8576b"
             ],
             [
              0.6666666666666666,
              "#ed7953"
             ],
             [
              0.7777777777777778,
              "#fb9f3a"
             ],
             [
              0.8888888888888888,
              "#fdca26"
             ],
             [
              1,
              "#f0f921"
             ]
            ],
            "type": "histogram2dcontour"
           }
          ],
          "mesh3d": [
           {
            "colorbar": {
             "outlinewidth": 0,
             "ticks": ""
            },
            "type": "mesh3d"
           }
          ],
          "parcoords": [
           {
            "line": {
             "colorbar": {
              "outlinewidth": 0,
              "ticks": ""
             }
            },
            "type": "parcoords"
           }
          ],
          "pie": [
           {
            "automargin": true,
            "type": "pie"
           }
          ],
          "scatter": [
           {
            "fillpattern": {
             "fillmode": "overlay",
             "size": 10,
             "solidity": 0.2
            },
            "type": "scatter"
           }
          ],
          "scatter3d": [
           {
            "line": {
             "colorbar": {
              "outlinewidth": 0,
              "ticks": ""
             }
            },
            "marker": {
             "colorbar": {
              "outlinewidth": 0,
              "ticks": ""
             }
            },
            "type": "scatter3d"
           }
          ],
          "scattercarpet": [
           {
            "marker": {
             "colorbar": {
              "outlinewidth": 0,
              "ticks": ""
             }
            },
            "type": "scattercarpet"
           }
          ],
          "scattergeo": [
           {
            "marker": {
             "colorbar": {
              "outlinewidth": 0,
              "ticks": ""
             }
            },
            "type": "scattergeo"
           }
          ],
          "scattergl": [
           {
            "marker": {
             "colorbar": {
              "outlinewidth": 0,
              "ticks": ""
             }
            },
            "type": "scattergl"
           }
          ],
          "scattermapbox": [
           {
            "marker": {
             "colorbar": {
              "outlinewidth": 0,
              "ticks": ""
             }
            },
            "type": "scattermapbox"
           }
          ],
          "scatterpolar": [
           {
            "marker": {
             "colorbar": {
              "outlinewidth": 0,
              "ticks": ""
             }
            },
            "type": "scatterpolar"
           }
          ],
          "scatterpolargl": [
           {
            "marker": {
             "colorbar": {
              "outlinewidth": 0,
              "ticks": ""
             }
            },
            "type": "scatterpolargl"
           }
          ],
          "scatterternary": [
           {
            "marker": {
             "colorbar": {
              "outlinewidth": 0,
              "ticks": ""
             }
            },
            "type": "scatterternary"
           }
          ],
          "surface": [
           {
            "colorbar": {
             "outlinewidth": 0,
             "ticks": ""
            },
            "colorscale": [
             [
              0,
              "#0d0887"
             ],
             [
              0.1111111111111111,
              "#46039f"
             ],
             [
              0.2222222222222222,
              "#7201a8"
             ],
             [
              0.3333333333333333,
              "#9c179e"
             ],
             [
              0.4444444444444444,
              "#bd3786"
             ],
             [
              0.5555555555555556,
              "#d8576b"
             ],
             [
              0.6666666666666666,
              "#ed7953"
             ],
             [
              0.7777777777777778,
              "#fb9f3a"
             ],
             [
              0.8888888888888888,
              "#fdca26"
             ],
             [
              1,
              "#f0f921"
             ]
            ],
            "type": "surface"
           }
          ],
          "table": [
           {
            "cells": {
             "fill": {
              "color": "#EBF0F8"
             },
             "line": {
              "color": "white"
             }
            },
            "header": {
             "fill": {
              "color": "#C8D4E3"
             },
             "line": {
              "color": "white"
             }
            },
            "type": "table"
           }
          ]
         },
         "layout": {
          "annotationdefaults": {
           "arrowcolor": "#2a3f5f",
           "arrowhead": 0,
           "arrowwidth": 1
          },
          "autotypenumbers": "strict",
          "coloraxis": {
           "colorbar": {
            "outlinewidth": 0,
            "ticks": ""
           }
          },
          "colorscale": {
           "diverging": [
            [
             0,
             "#8e0152"
            ],
            [
             0.1,
             "#c51b7d"
            ],
            [
             0.2,
             "#de77ae"
            ],
            [
             0.3,
             "#f1b6da"
            ],
            [
             0.4,
             "#fde0ef"
            ],
            [
             0.5,
             "#f7f7f7"
            ],
            [
             0.6,
             "#e6f5d0"
            ],
            [
             0.7,
             "#b8e186"
            ],
            [
             0.8,
             "#7fbc41"
            ],
            [
             0.9,
             "#4d9221"
            ],
            [
             1,
             "#276419"
            ]
           ],
           "sequential": [
            [
             0,
             "#0d0887"
            ],
            [
             0.1111111111111111,
             "#46039f"
            ],
            [
             0.2222222222222222,
             "#7201a8"
            ],
            [
             0.3333333333333333,
             "#9c179e"
            ],
            [
             0.4444444444444444,
             "#bd3786"
            ],
            [
             0.5555555555555556,
             "#d8576b"
            ],
            [
             0.6666666666666666,
             "#ed7953"
            ],
            [
             0.7777777777777778,
             "#fb9f3a"
            ],
            [
             0.8888888888888888,
             "#fdca26"
            ],
            [
             1,
             "#f0f921"
            ]
           ],
           "sequentialminus": [
            [
             0,
             "#0d0887"
            ],
            [
             0.1111111111111111,
             "#46039f"
            ],
            [
             0.2222222222222222,
             "#7201a8"
            ],
            [
             0.3333333333333333,
             "#9c179e"
            ],
            [
             0.4444444444444444,
             "#bd3786"
            ],
            [
             0.5555555555555556,
             "#d8576b"
            ],
            [
             0.6666666666666666,
             "#ed7953"
            ],
            [
             0.7777777777777778,
             "#fb9f3a"
            ],
            [
             0.8888888888888888,
             "#fdca26"
            ],
            [
             1,
             "#f0f921"
            ]
           ]
          },
          "colorway": [
           "#636efa",
           "#EF553B",
           "#00cc96",
           "#ab63fa",
           "#FFA15A",
           "#19d3f3",
           "#FF6692",
           "#B6E880",
           "#FF97FF",
           "#FECB52"
          ],
          "font": {
           "color": "#2a3f5f"
          },
          "geo": {
           "bgcolor": "white",
           "lakecolor": "white",
           "landcolor": "#E5ECF6",
           "showlakes": true,
           "showland": true,
           "subunitcolor": "white"
          },
          "hoverlabel": {
           "align": "left"
          },
          "hovermode": "closest",
          "mapbox": {
           "style": "light"
          },
          "paper_bgcolor": "white",
          "plot_bgcolor": "#E5ECF6",
          "polar": {
           "angularaxis": {
            "gridcolor": "white",
            "linecolor": "white",
            "ticks": ""
           },
           "bgcolor": "#E5ECF6",
           "radialaxis": {
            "gridcolor": "white",
            "linecolor": "white",
            "ticks": ""
           }
          },
          "scene": {
           "xaxis": {
            "backgroundcolor": "#E5ECF6",
            "gridcolor": "white",
            "gridwidth": 2,
            "linecolor": "white",
            "showbackground": true,
            "ticks": "",
            "zerolinecolor": "white"
           },
           "yaxis": {
            "backgroundcolor": "#E5ECF6",
            "gridcolor": "white",
            "gridwidth": 2,
            "linecolor": "white",
            "showbackground": true,
            "ticks": "",
            "zerolinecolor": "white"
           },
           "zaxis": {
            "backgroundcolor": "#E5ECF6",
            "gridcolor": "white",
            "gridwidth": 2,
            "linecolor": "white",
            "showbackground": true,
            "ticks": "",
            "zerolinecolor": "white"
           }
          },
          "shapedefaults": {
           "line": {
            "color": "#2a3f5f"
           }
          },
          "ternary": {
           "aaxis": {
            "gridcolor": "white",
            "linecolor": "white",
            "ticks": ""
           },
           "baxis": {
            "gridcolor": "white",
            "linecolor": "white",
            "ticks": ""
           },
           "bgcolor": "#E5ECF6",
           "caxis": {
            "gridcolor": "white",
            "linecolor": "white",
            "ticks": ""
           }
          },
          "title": {
           "x": 0.05
          },
          "xaxis": {
           "automargin": true,
           "gridcolor": "white",
           "linecolor": "white",
           "ticks": "",
           "title": {
            "standoff": 15
           },
           "zerolinecolor": "white",
           "zerolinewidth": 2
          },
          "yaxis": {
           "automargin": true,
           "gridcolor": "white",
           "linecolor": "white",
           "ticks": "",
           "title": {
            "standoff": 15
           },
           "zerolinecolor": "white",
           "zerolinewidth": 2
          }
         }
        },
        "xaxis": {
         "anchor": "y",
         "domain": [
          0,
          1
         ],
         "title": {
          "text": "x"
         }
        },
        "yaxis": {
         "anchor": "x",
         "domain": [
          0,
          1
         ],
         "title": {
          "text": "value"
         }
        }
       }
      }
     },
     "metadata": {},
     "output_type": "display_data"
    }
   ],
   "source": [
    "# Comparaison between the C and fC matrices (first row, sinus cardinal vs indicatrice in Fourier space)\n",
    "px.scatter(x=frequences,y=[np.real(iDFT @ C @ DFT)[0,:],fC[0,:]])"
   ]
  },
  {
   "cell_type": "code",
   "execution_count": 28,
   "metadata": {},
   "outputs": [
    {
     "name": "stdout",
     "output_type": "stream",
     "text": [
      "freqs : [  0.   1.   2.   3.   4.   5.   6.   7.   8.   9.  10.  11.  12.  13.\n",
      "  14.  15.  16.  17.  18.  19.  20.  21.  22.  23.  24.  25.  26.  27.\n",
      "  28.  29.  30.  31.  32. -32. -31. -30. -29. -28. -27. -26. -25. -24.\n",
      " -23. -22. -21. -20. -19. -18. -17. -16. -15. -14. -13. -12. -11. -10.\n",
      "  -9.  -8.  -7.  -6.  -5.  -4.  -3.  -2.  -1.]\n",
      "real DFT : [ 0.  0. -0. -0. -0.  0. -0.  0.  0.  0.  0. -0.  0. -0.  0.  0.  0.  0.\n",
      "  0. -0. -0. -0. -0. -0. -0. -0. -0. -0. -0.  0. -0.  0.  0.  0.  0. -0.\n",
      "  0.  0.  0.  0.  0.  0. -0.  0. -0.  0. -0.  0.  0.  0. -0.  0.  0. -0.\n",
      "  0. -0. -0.  0. -0. -0. -0. -0.  0. -0. -0.]\n",
      "imag DFT : [ 0.  -0.5 -0.  -0.   0.   0.   0.  -0.  -0.  -0.  -0.  -0.   0.   0.\n",
      "  0.   0.  -0.   0.   0.   0.   0.   0.   0.   0.  -0.   0.   0.  -0.\n",
      "  0.  -0.   0.  -0.   0.  -0.   0.   0.   0.   0.   0.  -0.   0.  -0.\n",
      " -0.  -0.  -0.   0.  -0.   0.   0.  -0.  -0.   0.   0.   0.   0.   0.\n",
      " -0.   0.  -0.   0.   0.   0.   0.   0.   0.5]\n",
      "freqs : [  0.   1.   2.   3.   4.   5.   6.   7.   8.   9.  10.  11.  12.  13.\n",
      "  14.  15.  16.  17.  18.  19.  20.  21.  22.  23.  24.  25.  26.  27.\n",
      "  28.  29.  30.  31.  32. -32. -31. -30. -29. -28. -27. -26. -25. -24.\n",
      " -23. -22. -21. -20. -19. -18. -17. -16. -15. -14. -13. -12. -11. -10.\n",
      "  -9.  -8.  -7.  -6.  -5.  -4.  -3.  -2.  -1.]\n",
      "real ifft : [-0. -0.  0.  0. -0.  0. -0. -0.  0.  0.  0.  0.  0. -0. -0. -0.  0. -0.\n",
      "  0.  0.  0.  0.  0. -0.  0. -0.  0. -0. -0. -0.  0. -0.  0.  0. -0.  0.\n",
      " -0. -0. -0.  0. -0.  0. -0.  0.  0.  0.  0.  0. -0.  0. -0. -0. -0.  0.\n",
      "  0.  0.  0.  0. -0. -0.  0. -0.  0.  0. -0.]\n",
      "imag ifft : [  0.  -32.5  -0.   -0.    0.   -0.   -0.   -0.   -0.    0.   -0.   -0.\n",
      "  -0.    0.    0.   -0.   -0.   -0.   -0.   -0.    0.   -0.    0.    0.\n",
      "   0.    0.    0.    0.    0.    0.   -0.    0.   -0.    0.   -0.    0.\n",
      "   0.   -0.   -0.    0.   -0.    0.   -0.   -0.   -0.   -0.   -0.    0.\n",
      "   0.    0.    0.   -0.   -0.    0.    0.    0.   -0.    0.    0.    0.\n",
      "   0.    0.    0.    0.   32.5]\n"
     ]
    }
   ],
   "source": [
    "# ------------------------------\n",
    "# Test for the frequences in a sinus function\n",
    "# ------------------------------\n",
    "\n",
    "def f(x):\n",
    "    return np.sin(x)\n",
    "\n",
    "print('freqs :',frequences)\n",
    "print('real DFT :',(np.real(DFT @ f(xspan))) * (abs(np.real(DFT @ f(xspan))) > 1e-10))\n",
    "print('imag DFT :',(np.imag(DFT @ f(xspan))) * (abs(np.imag(DFT @ f(xspan))) > 1e-10))\n",
    "print('freqs :',frequences)\n",
    "print('real ifft :',(np.real(np.fft.fft(f(xspan)))) * (abs(np.real(np.fft.fft(f(xspan)))) > 1e-10))\n",
    "print('imag ifft :',(np.imag(np.fft.fft(f(xspan)))) * (abs(np.imag(np.fft.fft(f(xspan)))) > 1e-10))"
   ]
  },
  {
   "cell_type": "code",
   "execution_count": 29,
   "metadata": {},
   "outputs": [
    {
     "name": "stdout",
     "output_type": "stream",
     "text": [
      "number of frequences in initial condition X0_sin :\n",
      "4\n",
      "number of positive frequences in initial condition X0_sin :\n",
      "2\n",
      "number of negative frequences in initial condition X0_sin :\n",
      "2\n"
     ]
    }
   ],
   "source": [
    "# ------------------------------\n",
    "# Random initial condition\n",
    "# ------------------------------\n",
    "\n",
    "# initial condition with N_ini_fq sinus\n",
    "X0_sin = create_Fourier_X0(N_ini_fq,0, Nx, dx)\n",
    "# initial condition with N_ini_fq cosinus\n",
    "X0_cos = create_Fourier_X0(0,N_ini_fq, Nx, dx)\n",
    "# initial condition with N_ini_fq sinus and N_ini_fq cosinus\n",
    "X0_mix = create_Fourier_X0(N_ini_fq,N_ini_fq, Nx, dx)\n",
    "\n",
    "print('number of frequences in initial condition X0_sin :')\n",
    "print(sum(abs(X0_sin) > 0))\n",
    "print('number of positive frequences in initial condition X0_sin :')\n",
    "print(sum((abs(X0_sin) > 0) * (frequences > 0)))\n",
    "print('number of negative frequences in initial condition X0_sin :')\n",
    "print(sum((abs(X0_sin) > 0) * (frequences < 0)))"
   ]
  },
  {
   "cell_type": "code",
   "execution_count": 30,
   "metadata": {},
   "outputs": [
    {
     "name": "stdout",
     "output_type": "stream",
     "text": [
      "mean of X0 : 0j\n"
     ]
    },
    {
     "data": {
      "application/vnd.plotly.v1+json": {
       "config": {
        "plotlyServerURL": "https://plot.ly"
       },
       "data": [
        {
         "hovertemplate": "variable=wide_variable_0<br>x=%{x}<br>value=%{y}<extra></extra>",
         "legendgroup": "wide_variable_0",
         "line": {
          "color": "#636efa",
          "dash": "solid"
         },
         "marker": {
          "symbol": "circle"
         },
         "mode": "lines",
         "name": "wide_variable_0",
         "orientation": "v",
         "showlegend": true,
         "type": "scatter",
         "x": [
          0,
          0.0966643893412244,
          0.1933287786824488,
          0.2899931680236732,
          0.3866575573648976,
          0.483321946706122,
          0.5799863360473464,
          0.6766507253885707,
          0.7733151147297952,
          0.8699795040710196,
          0.966643893412244,
          1.0633082827534683,
          1.1599726720946928,
          1.2566370614359172,
          1.3533014507771415,
          1.449965840118366,
          1.5466302294595904,
          1.6432946188008148,
          1.7399590081420393,
          1.8366233974832635,
          1.933287786824488,
          2.0299521761657124,
          2.1266165655069367,
          2.2232809548481614,
          2.3199453441893856,
          2.41660973353061,
          2.5132741228718345,
          2.6099385122130587,
          2.706602901554283,
          2.8032672908955076,
          2.899931680236732,
          2.9965960695779565,
          3.0932604589191808,
          3.189924848260405,
          3.2865892376016297,
          3.383253626942854,
          3.4799180162840786,
          3.576582405625303,
          3.673246794966527,
          3.7699111843077517,
          3.866575573648976,
          3.9632399629902,
          4.059904352331425,
          4.15656874167265,
          4.253233131013873,
          4.349897520355098,
          4.446561909696323,
          4.5432262990375465,
          4.639890688378771,
          4.736555077719996,
          4.83321946706122,
          4.929883856402444,
          5.026548245743669,
          5.123212635084893,
          5.2198770244261175,
          5.316541413767342,
          5.413205803108566,
          5.509870192449791,
          5.606534581791015,
          5.70319897113224,
          5.799863360473464,
          5.896527749814688,
          5.993192139155913,
          6.089856528497137,
          6.1865209178383616
         ],
         "xaxis": "x",
         "y": [
          0,
          0.17723766246576642,
          0.34938603425195774,
          0.5115313095147267,
          0.6591042455902847,
          0.7880366658279863,
          0.8948996839987391,
          0.9770186247625834,
          1.0325604781617885,
          1.0605907435454578,
          1.061097651874165,
          1.034982962828583,
          0.9840197696386938,
          0.9107789640719733,
          0.8185271712219535,
          0.7111000156038934,
          0.592755487503842,
          0.4680129078395463,
          0.34148351391592763,
          0.21769898798182932,
          0.10094431437670708,
          -0.004898822965186157,
          -0.09649229620676765,
          -0.17116025745154495,
          -0.22698195990755593,
          -0.26285528211766673,
          -0.27852866344840954,
          -0.2746003461666899,
          -0.2524850469348266,
          -0.21434940259594698,
          -0.1630187060911382,
          -0.10185852454730557,
          -0.034635732841275906,
          0.034635732841279215,
          0.10185852454731631,
          0.16301870609114016,
          0.21434940259595509,
          0.2524850469348255,
          0.2746003461666868,
          0.27852866344841076,
          0.26285528211765935,
          0.22698195990754647,
          0.1711602574515383,
          0.0964922962067586,
          0.004898822965171431,
          -0.10094431437672144,
          -0.21769898798184348,
          -0.3414835139159438,
          -0.46801290783956156,
          -0.5927554875038563,
          -0.7111000156039057,
          -0.8185271712219644,
          -0.9107789640719838,
          -0.9840197696386968,
          -1.0349829628285838,
          -1.061097651874166,
          -1.0605907435454485,
          -1.032560478161778,
          -0.9770186247625721,
          -0.8948996839987295,
          -0.7880366658279645,
          -0.6591042455902646,
          -0.5115313095147092,
          -0.3493860342519287,
          -0.17723766246574113
         ],
         "yaxis": "y"
        },
        {
         "hovertemplate": "variable=wide_variable_1<br>x=%{x}<br>value=%{y}<extra></extra>",
         "legendgroup": "wide_variable_1",
         "line": {
          "color": "#EF553B",
          "dash": "solid"
         },
         "marker": {
          "symbol": "circle"
         },
         "mode": "lines",
         "name": "wide_variable_1",
         "orientation": "v",
         "showlegend": true,
         "type": "scatter",
         "x": [
          0,
          0.0966643893412244,
          0.1933287786824488,
          0.2899931680236732,
          0.3866575573648976,
          0.483321946706122,
          0.5799863360473464,
          0.6766507253885707,
          0.7733151147297952,
          0.8699795040710196,
          0.966643893412244,
          1.0633082827534683,
          1.1599726720946928,
          1.2566370614359172,
          1.3533014507771415,
          1.449965840118366,
          1.5466302294595904,
          1.6432946188008148,
          1.7399590081420393,
          1.8366233974832635,
          1.933287786824488,
          2.0299521761657124,
          2.1266165655069367,
          2.2232809548481614,
          2.3199453441893856,
          2.41660973353061,
          2.5132741228718345,
          2.6099385122130587,
          2.706602901554283,
          2.8032672908955076,
          2.899931680236732,
          2.9965960695779565,
          3.0932604589191808,
          3.189924848260405,
          3.2865892376016297,
          3.383253626942854,
          3.4799180162840786,
          3.576582405625303,
          3.673246794966527,
          3.7699111843077517,
          3.866575573648976,
          3.9632399629902,
          4.059904352331425,
          4.15656874167265,
          4.253233131013873,
          4.349897520355098,
          4.446561909696323,
          4.5432262990375465,
          4.639890688378771,
          4.736555077719996,
          4.83321946706122,
          4.929883856402444,
          5.026548245743669,
          5.123212635084893,
          5.2198770244261175,
          5.316541413767342,
          5.413205803108566,
          5.509870192449791,
          5.606534581791015,
          5.70319897113224,
          5.799863360473464,
          5.896527749814688,
          5.993192139155913,
          6.089856528497137,
          6.1865209178383616
         ],
         "xaxis": "x",
         "y": [
          0,
          -9.011055389775745e-16,
          -2.611864807047994e-16,
          -5.828748130468062e-16,
          -9.855947034745896e-16,
          -1.5206989915222485e-15,
          -2.0081074857435387e-15,
          -3.106007463369177e-15,
          -3.01908298004206e-15,
          -2.6992917658340194e-15,
          -3.806333844767612e-15,
          -4.8043125927476464e-15,
          -4.047380605466602e-15,
          -3.0060638751774344e-15,
          -5.539169188952149e-15,
          -4.1306866998602074e-15,
          -2.5102694799552883e-15,
          -8.217721778475847e-16,
          9.50681221354732e-16,
          -1.090860527937993e-15,
          8.536643972015253e-16,
          2.6513646892079948e-15,
          9.215649044096197e-16,
          5.7006812306521165e-15,
          3.849095077232127e-15,
          2.252978573670693e-15,
          5.606124103343863e-15,
          3.814520214279954e-15,
          2.497319095322919e-15,
          3.949301981742763e-15,
          2.2607723851771476e-15,
          2.2617089592593176e-15,
          7.509095740466737e-16,
          -2.904909668935952e-16,
          -1.8502371024630277e-15,
          -2.5402200578424967e-15,
          -5.402245369389979e-15,
          -5.268676929475595e-15,
          -4.635948156923245e-15,
          -7.916774749210075e-15,
          -6.310324757128413e-15,
          -3.840700659170526e-15,
          -6.993897806183894e-15,
          -1.0274439631324104e-14,
          5.213080824213033e-16,
          -2.262210700282477e-15,
          -4.966728513797519e-15,
          7.913110424304058e-15,
          5.5357254101367125e-15,
          3.212933646427066e-15,
          1.729014747443722e-14,
          1.4703725892706644e-14,
          1.1978321642995397e-14,
          2.4225623724684745e-14,
          2.0851362300227348e-14,
          1.738062978600242e-14,
          2.6800891419147658e-14,
          2.2352585876661937e-14,
          1.802223047412703e-14,
          1.3798126372002943e-14,
          1.7733244554423148e-14,
          1.2678432632692504e-14,
          8.028235876166646e-15,
          7.241556233076023e-15,
          2.4396603253089544e-15
         ],
         "yaxis": "y"
        }
       ],
       "layout": {
        "legend": {
         "title": {
          "text": "variable"
         },
         "tracegroupgap": 0
        },
        "margin": {
         "t": 60
        },
        "template": {
         "data": {
          "bar": [
           {
            "error_x": {
             "color": "#2a3f5f"
            },
            "error_y": {
             "color": "#2a3f5f"
            },
            "marker": {
             "line": {
              "color": "#E5ECF6",
              "width": 0.5
             },
             "pattern": {
              "fillmode": "overlay",
              "size": 10,
              "solidity": 0.2
             }
            },
            "type": "bar"
           }
          ],
          "barpolar": [
           {
            "marker": {
             "line": {
              "color": "#E5ECF6",
              "width": 0.5
             },
             "pattern": {
              "fillmode": "overlay",
              "size": 10,
              "solidity": 0.2
             }
            },
            "type": "barpolar"
           }
          ],
          "carpet": [
           {
            "aaxis": {
             "endlinecolor": "#2a3f5f",
             "gridcolor": "white",
             "linecolor": "white",
             "minorgridcolor": "white",
             "startlinecolor": "#2a3f5f"
            },
            "baxis": {
             "endlinecolor": "#2a3f5f",
             "gridcolor": "white",
             "linecolor": "white",
             "minorgridcolor": "white",
             "startlinecolor": "#2a3f5f"
            },
            "type": "carpet"
           }
          ],
          "choropleth": [
           {
            "colorbar": {
             "outlinewidth": 0,
             "ticks": ""
            },
            "type": "choropleth"
           }
          ],
          "contour": [
           {
            "colorbar": {
             "outlinewidth": 0,
             "ticks": ""
            },
            "colorscale": [
             [
              0,
              "#0d0887"
             ],
             [
              0.1111111111111111,
              "#46039f"
             ],
             [
              0.2222222222222222,
              "#7201a8"
             ],
             [
              0.3333333333333333,
              "#9c179e"
             ],
             [
              0.4444444444444444,
              "#bd3786"
             ],
             [
              0.5555555555555556,
              "#d8576b"
             ],
             [
              0.6666666666666666,
              "#ed7953"
             ],
             [
              0.7777777777777778,
              "#fb9f3a"
             ],
             [
              0.8888888888888888,
              "#fdca26"
             ],
             [
              1,
              "#f0f921"
             ]
            ],
            "type": "contour"
           }
          ],
          "contourcarpet": [
           {
            "colorbar": {
             "outlinewidth": 0,
             "ticks": ""
            },
            "type": "contourcarpet"
           }
          ],
          "heatmap": [
           {
            "colorbar": {
             "outlinewidth": 0,
             "ticks": ""
            },
            "colorscale": [
             [
              0,
              "#0d0887"
             ],
             [
              0.1111111111111111,
              "#46039f"
             ],
             [
              0.2222222222222222,
              "#7201a8"
             ],
             [
              0.3333333333333333,
              "#9c179e"
             ],
             [
              0.4444444444444444,
              "#bd3786"
             ],
             [
              0.5555555555555556,
              "#d8576b"
             ],
             [
              0.6666666666666666,
              "#ed7953"
             ],
             [
              0.7777777777777778,
              "#fb9f3a"
             ],
             [
              0.8888888888888888,
              "#fdca26"
             ],
             [
              1,
              "#f0f921"
             ]
            ],
            "type": "heatmap"
           }
          ],
          "heatmapgl": [
           {
            "colorbar": {
             "outlinewidth": 0,
             "ticks": ""
            },
            "colorscale": [
             [
              0,
              "#0d0887"
             ],
             [
              0.1111111111111111,
              "#46039f"
             ],
             [
              0.2222222222222222,
              "#7201a8"
             ],
             [
              0.3333333333333333,
              "#9c179e"
             ],
             [
              0.4444444444444444,
              "#bd3786"
             ],
             [
              0.5555555555555556,
              "#d8576b"
             ],
             [
              0.6666666666666666,
              "#ed7953"
             ],
             [
              0.7777777777777778,
              "#fb9f3a"
             ],
             [
              0.8888888888888888,
              "#fdca26"
             ],
             [
              1,
              "#f0f921"
             ]
            ],
            "type": "heatmapgl"
           }
          ],
          "histogram": [
           {
            "marker": {
             "pattern": {
              "fillmode": "overlay",
              "size": 10,
              "solidity": 0.2
             }
            },
            "type": "histogram"
           }
          ],
          "histogram2d": [
           {
            "colorbar": {
             "outlinewidth": 0,
             "ticks": ""
            },
            "colorscale": [
             [
              0,
              "#0d0887"
             ],
             [
              0.1111111111111111,
              "#46039f"
             ],
             [
              0.2222222222222222,
              "#7201a8"
             ],
             [
              0.3333333333333333,
              "#9c179e"
             ],
             [
              0.4444444444444444,
              "#bd3786"
             ],
             [
              0.5555555555555556,
              "#d8576b"
             ],
             [
              0.6666666666666666,
              "#ed7953"
             ],
             [
              0.7777777777777778,
              "#fb9f3a"
             ],
             [
              0.8888888888888888,
              "#fdca26"
             ],
             [
              1,
              "#f0f921"
             ]
            ],
            "type": "histogram2d"
           }
          ],
          "histogram2dcontour": [
           {
            "colorbar": {
             "outlinewidth": 0,
             "ticks": ""
            },
            "colorscale": [
             [
              0,
              "#0d0887"
             ],
             [
              0.1111111111111111,
              "#46039f"
             ],
             [
              0.2222222222222222,
              "#7201a8"
             ],
             [
              0.3333333333333333,
              "#9c179e"
             ],
             [
              0.4444444444444444,
              "#bd3786"
             ],
             [
              0.5555555555555556,
              "#d8576b"
             ],
             [
              0.6666666666666666,
              "#ed7953"
             ],
             [
              0.7777777777777778,
              "#fb9f3a"
             ],
             [
              0.8888888888888888,
              "#fdca26"
             ],
             [
              1,
              "#f0f921"
             ]
            ],
            "type": "histogram2dcontour"
           }
          ],
          "mesh3d": [
           {
            "colorbar": {
             "outlinewidth": 0,
             "ticks": ""
            },
            "type": "mesh3d"
           }
          ],
          "parcoords": [
           {
            "line": {
             "colorbar": {
              "outlinewidth": 0,
              "ticks": ""
             }
            },
            "type": "parcoords"
           }
          ],
          "pie": [
           {
            "automargin": true,
            "type": "pie"
           }
          ],
          "scatter": [
           {
            "fillpattern": {
             "fillmode": "overlay",
             "size": 10,
             "solidity": 0.2
            },
            "type": "scatter"
           }
          ],
          "scatter3d": [
           {
            "line": {
             "colorbar": {
              "outlinewidth": 0,
              "ticks": ""
             }
            },
            "marker": {
             "colorbar": {
              "outlinewidth": 0,
              "ticks": ""
             }
            },
            "type": "scatter3d"
           }
          ],
          "scattercarpet": [
           {
            "marker": {
             "colorbar": {
              "outlinewidth": 0,
              "ticks": ""
             }
            },
            "type": "scattercarpet"
           }
          ],
          "scattergeo": [
           {
            "marker": {
             "colorbar": {
              "outlinewidth": 0,
              "ticks": ""
             }
            },
            "type": "scattergeo"
           }
          ],
          "scattergl": [
           {
            "marker": {
             "colorbar": {
              "outlinewidth": 0,
              "ticks": ""
             }
            },
            "type": "scattergl"
           }
          ],
          "scattermapbox": [
           {
            "marker": {
             "colorbar": {
              "outlinewidth": 0,
              "ticks": ""
             }
            },
            "type": "scattermapbox"
           }
          ],
          "scatterpolar": [
           {
            "marker": {
             "colorbar": {
              "outlinewidth": 0,
              "ticks": ""
             }
            },
            "type": "scatterpolar"
           }
          ],
          "scatterpolargl": [
           {
            "marker": {
             "colorbar": {
              "outlinewidth": 0,
              "ticks": ""
             }
            },
            "type": "scatterpolargl"
           }
          ],
          "scatterternary": [
           {
            "marker": {
             "colorbar": {
              "outlinewidth": 0,
              "ticks": ""
             }
            },
            "type": "scatterternary"
           }
          ],
          "surface": [
           {
            "colorbar": {
             "outlinewidth": 0,
             "ticks": ""
            },
            "colorscale": [
             [
              0,
              "#0d0887"
             ],
             [
              0.1111111111111111,
              "#46039f"
             ],
             [
              0.2222222222222222,
              "#7201a8"
             ],
             [
              0.3333333333333333,
              "#9c179e"
             ],
             [
              0.4444444444444444,
              "#bd3786"
             ],
             [
              0.5555555555555556,
              "#d8576b"
             ],
             [
              0.6666666666666666,
              "#ed7953"
             ],
             [
              0.7777777777777778,
              "#fb9f3a"
             ],
             [
              0.8888888888888888,
              "#fdca26"
             ],
             [
              1,
              "#f0f921"
             ]
            ],
            "type": "surface"
           }
          ],
          "table": [
           {
            "cells": {
             "fill": {
              "color": "#EBF0F8"
             },
             "line": {
              "color": "white"
             }
            },
            "header": {
             "fill": {
              "color": "#C8D4E3"
             },
             "line": {
              "color": "white"
             }
            },
            "type": "table"
           }
          ]
         },
         "layout": {
          "annotationdefaults": {
           "arrowcolor": "#2a3f5f",
           "arrowhead": 0,
           "arrowwidth": 1
          },
          "autotypenumbers": "strict",
          "coloraxis": {
           "colorbar": {
            "outlinewidth": 0,
            "ticks": ""
           }
          },
          "colorscale": {
           "diverging": [
            [
             0,
             "#8e0152"
            ],
            [
             0.1,
             "#c51b7d"
            ],
            [
             0.2,
             "#de77ae"
            ],
            [
             0.3,
             "#f1b6da"
            ],
            [
             0.4,
             "#fde0ef"
            ],
            [
             0.5,
             "#f7f7f7"
            ],
            [
             0.6,
             "#e6f5d0"
            ],
            [
             0.7,
             "#b8e186"
            ],
            [
             0.8,
             "#7fbc41"
            ],
            [
             0.9,
             "#4d9221"
            ],
            [
             1,
             "#276419"
            ]
           ],
           "sequential": [
            [
             0,
             "#0d0887"
            ],
            [
             0.1111111111111111,
             "#46039f"
            ],
            [
             0.2222222222222222,
             "#7201a8"
            ],
            [
             0.3333333333333333,
             "#9c179e"
            ],
            [
             0.4444444444444444,
             "#bd3786"
            ],
            [
             0.5555555555555556,
             "#d8576b"
            ],
            [
             0.6666666666666666,
             "#ed7953"
            ],
            [
             0.7777777777777778,
             "#fb9f3a"
            ],
            [
             0.8888888888888888,
             "#fdca26"
            ],
            [
             1,
             "#f0f921"
            ]
           ],
           "sequentialminus": [
            [
             0,
             "#0d0887"
            ],
            [
             0.1111111111111111,
             "#46039f"
            ],
            [
             0.2222222222222222,
             "#7201a8"
            ],
            [
             0.3333333333333333,
             "#9c179e"
            ],
            [
             0.4444444444444444,
             "#bd3786"
            ],
            [
             0.5555555555555556,
             "#d8576b"
            ],
            [
             0.6666666666666666,
             "#ed7953"
            ],
            [
             0.7777777777777778,
             "#fb9f3a"
            ],
            [
             0.8888888888888888,
             "#fdca26"
            ],
            [
             1,
             "#f0f921"
            ]
           ]
          },
          "colorway": [
           "#636efa",
           "#EF553B",
           "#00cc96",
           "#ab63fa",
           "#FFA15A",
           "#19d3f3",
           "#FF6692",
           "#B6E880",
           "#FF97FF",
           "#FECB52"
          ],
          "font": {
           "color": "#2a3f5f"
          },
          "geo": {
           "bgcolor": "white",
           "lakecolor": "white",
           "landcolor": "#E5ECF6",
           "showlakes": true,
           "showland": true,
           "subunitcolor": "white"
          },
          "hoverlabel": {
           "align": "left"
          },
          "hovermode": "closest",
          "mapbox": {
           "style": "light"
          },
          "paper_bgcolor": "white",
          "plot_bgcolor": "#E5ECF6",
          "polar": {
           "angularaxis": {
            "gridcolor": "white",
            "linecolor": "white",
            "ticks": ""
           },
           "bgcolor": "#E5ECF6",
           "radialaxis": {
            "gridcolor": "white",
            "linecolor": "white",
            "ticks": ""
           }
          },
          "scene": {
           "xaxis": {
            "backgroundcolor": "#E5ECF6",
            "gridcolor": "white",
            "gridwidth": 2,
            "linecolor": "white",
            "showbackground": true,
            "ticks": "",
            "zerolinecolor": "white"
           },
           "yaxis": {
            "backgroundcolor": "#E5ECF6",
            "gridcolor": "white",
            "gridwidth": 2,
            "linecolor": "white",
            "showbackground": true,
            "ticks": "",
            "zerolinecolor": "white"
           },
           "zaxis": {
            "backgroundcolor": "#E5ECF6",
            "gridcolor": "white",
            "gridwidth": 2,
            "linecolor": "white",
            "showbackground": true,
            "ticks": "",
            "zerolinecolor": "white"
           }
          },
          "shapedefaults": {
           "line": {
            "color": "#2a3f5f"
           }
          },
          "ternary": {
           "aaxis": {
            "gridcolor": "white",
            "linecolor": "white",
            "ticks": ""
           },
           "baxis": {
            "gridcolor": "white",
            "linecolor": "white",
            "ticks": ""
           },
           "bgcolor": "#E5ECF6",
           "caxis": {
            "gridcolor": "white",
            "linecolor": "white",
            "ticks": ""
           }
          },
          "title": {
           "x": 0.05
          },
          "xaxis": {
           "automargin": true,
           "gridcolor": "white",
           "linecolor": "white",
           "ticks": "",
           "title": {
            "standoff": 15
           },
           "zerolinecolor": "white",
           "zerolinewidth": 2
          },
          "yaxis": {
           "automargin": true,
           "gridcolor": "white",
           "linecolor": "white",
           "ticks": "",
           "title": {
            "standoff": 15
           },
           "zerolinecolor": "white",
           "zerolinewidth": 2
          }
         }
        },
        "xaxis": {
         "anchor": "y",
         "domain": [
          0,
          1
         ],
         "title": {
          "text": "x"
         }
        },
        "yaxis": {
         "anchor": "x",
         "domain": [
          0,
          1
         ],
         "title": {
          "text": "value"
         }
        }
       }
      }
     },
     "metadata": {},
     "output_type": "display_data"
    }
   ],
   "source": [
    "# plotting the initial condition X0_sin in space\n",
    "\n",
    "X0_sin_space = iDFT @ (X0_sin)\n",
    "print('mean of X0 :',np.mean(X0_sin))\n",
    "px.line(x=xspan,y=[np.real(X0_sin_space),np.imag(X0_sin_space)])"
   ]
  },
  {
   "cell_type": "code",
   "execution_count": 31,
   "metadata": {},
   "outputs": [
    {
     "name": "stdout",
     "output_type": "stream",
     "text": [
      "mean of X0 : (0.04643248863565123+0j)\n"
     ]
    },
    {
     "data": {
      "application/vnd.plotly.v1+json": {
       "config": {
        "plotlyServerURL": "https://plot.ly"
       },
       "data": [
        {
         "hovertemplate": "variable=wide_variable_0<br>x=%{x}<br>value=%{y}<extra></extra>",
         "legendgroup": "wide_variable_0",
         "line": {
          "color": "#636efa",
          "dash": "solid"
         },
         "marker": {
          "symbol": "circle"
         },
         "mode": "lines",
         "name": "wide_variable_0",
         "orientation": "v",
         "showlegend": true,
         "type": "scatter",
         "x": [
          0,
          0.0966643893412244,
          0.1933287786824488,
          0.2899931680236732,
          0.3866575573648976,
          0.483321946706122,
          0.5799863360473464,
          0.6766507253885707,
          0.7733151147297952,
          0.8699795040710196,
          0.966643893412244,
          1.0633082827534683,
          1.1599726720946928,
          1.2566370614359172,
          1.3533014507771415,
          1.449965840118366,
          1.5466302294595904,
          1.6432946188008148,
          1.7399590081420393,
          1.8366233974832635,
          1.933287786824488,
          2.0299521761657124,
          2.1266165655069367,
          2.2232809548481614,
          2.3199453441893856,
          2.41660973353061,
          2.5132741228718345,
          2.6099385122130587,
          2.706602901554283,
          2.8032672908955076,
          2.899931680236732,
          2.9965960695779565,
          3.0932604589191808,
          3.189924848260405,
          3.2865892376016297,
          3.383253626942854,
          3.4799180162840786,
          3.576582405625303,
          3.673246794966527,
          3.7699111843077517,
          3.866575573648976,
          3.9632399629902,
          4.059904352331425,
          4.15656874167265,
          4.253233131013873,
          4.349897520355098,
          4.446561909696323,
          4.5432262990375465,
          4.639890688378771,
          4.736555077719996,
          4.83321946706122,
          4.929883856402444,
          5.026548245743669,
          5.123212635084893,
          5.2198770244261175,
          5.316541413767342,
          5.413205803108566,
          5.509870192449791,
          5.606534581791015,
          5.70319897113224,
          5.799863360473464,
          5.896527749814688,
          5.993192139155913,
          6.089856528497137,
          6.1865209178383616
         ],
         "xaxis": "x",
         "y": [
          3.0181117613173294,
          3.1758735527949087,
          3.254553491968126,
          3.25501253085628,
          3.180624232139797,
          3.0371174133276457,
          2.832335082552358,
          2.5759189057703846,
          2.2789311796262264,
          1.953428570530089,
          1.6120036338083488,
          1.2673112821957526,
          0.9315978878186035,
          0.6162505574136271,
          0.3313833226503236,
          0.08547556623568674,
          -0.11492398664071471,
          -0.2654168684084534,
          -0.3638901063716672,
          -0.41056232569581297,
          -0.40793930495873576,
          -0.36068097916477887,
          -0.27538521569204505,
          -0.16029681733438808,
          -0.024953016577806603,
          0.12022088840785779,
          0.2643502319753498,
          0.39656719841013044,
          0.5064670835444637,
          0.5845471211322019,
          0.6226110458533402,
          0.6141238475998216,
          0.5545030380929558,
          0.44133513126156454,
          0.27450884433233785,
          0.05625965254471699,
          -0.2088763398888186,
          -0.5141978408133141,
          -0.8510583901162551,
          -1.2091630377846698,
          -1.5769308638486224,
          -1.9419100295091087,
          -2.2912300483490227,
          -2.6120745351796866,
          -2.8921568815308127,
          -3.120181151599576,
          -3.286270996847807,
          -3.382350533015642,
          -3.402462867850013,
          -3.343014246750009,
          -3.202934512311129,
          -2.9837476511291765,
          -2.6895495129216247,
          -2.326893210006708,
          -1.904586112239152,
          -1.4334056169987202,
          -0.9257438744049408,
          -0.39519427302491855,
          0.14390535665010734,
          0.6769562647745989,
          1.1895914882219338,
          1.668159860467287,
          2.1001837701648998,
          2.474774087506571,
          2.7829872650189986
         ],
         "yaxis": "y"
        },
        {
         "hovertemplate": "variable=wide_variable_1<br>x=%{x}<br>value=%{y}<extra></extra>",
         "legendgroup": "wide_variable_1",
         "line": {
          "color": "#EF553B",
          "dash": "solid"
         },
         "marker": {
          "symbol": "circle"
         },
         "mode": "lines",
         "name": "wide_variable_1",
         "orientation": "v",
         "showlegend": true,
         "type": "scatter",
         "x": [
          0,
          0.0966643893412244,
          0.1933287786824488,
          0.2899931680236732,
          0.3866575573648976,
          0.483321946706122,
          0.5799863360473464,
          0.6766507253885707,
          0.7733151147297952,
          0.8699795040710196,
          0.966643893412244,
          1.0633082827534683,
          1.1599726720946928,
          1.2566370614359172,
          1.3533014507771415,
          1.449965840118366,
          1.5466302294595904,
          1.6432946188008148,
          1.7399590081420393,
          1.8366233974832635,
          1.933287786824488,
          2.0299521761657124,
          2.1266165655069367,
          2.2232809548481614,
          2.3199453441893856,
          2.41660973353061,
          2.5132741228718345,
          2.6099385122130587,
          2.706602901554283,
          2.8032672908955076,
          2.899931680236732,
          2.9965960695779565,
          3.0932604589191808,
          3.189924848260405,
          3.2865892376016297,
          3.383253626942854,
          3.4799180162840786,
          3.576582405625303,
          3.673246794966527,
          3.7699111843077517,
          3.866575573648976,
          3.9632399629902,
          4.059904352331425,
          4.15656874167265,
          4.253233131013873,
          4.349897520355098,
          4.446561909696323,
          4.5432262990375465,
          4.639890688378771,
          4.736555077719996,
          4.83321946706122,
          4.929883856402444,
          5.026548245743669,
          5.123212635084893,
          5.2198770244261175,
          5.316541413767342,
          5.413205803108566,
          5.509870192449791,
          5.606534581791015,
          5.70319897113224,
          5.799863360473464,
          5.896527749814688,
          5.993192139155913,
          6.089856528497137,
          6.1865209178383616
         ],
         "xaxis": "x",
         "y": [
          0,
          -3.317206160421658e-15,
          -2.3963536536338697e-15,
          -3.3925970756675176e-15,
          -4.3884362632737655e-15,
          -4.858914744063218e-15,
          -5.260550155887592e-15,
          -8.518049425121035e-15,
          -5.233595578101199e-15,
          -8.7579514978767635e-16,
          -3.5449361935736475e-15,
          -6.02643125545345e-15,
          -1.0003591908744443e-15,
          3.952112868174828e-15,
          -4.242037714269685e-15,
          5.259485747417966e-16,
          4.989042010942581e-15,
          8.799019064470334e-15,
          1.1540236093106284e-14,
          4.960018756670125e-15,
          7.118611437114122e-15,
          7.861579279089585e-15,
          2.7887111365055766e-15,
          6.613825189375123e-15,
          2.0849438292715024e-15,
          -1.019561238384871e-15,
          -2.563744623383494e-15,
          -4.203924332970784e-15,
          -3.673592135155892e-15,
          -1.0015202956359118e-14,
          -7.534959262208216e-15,
          -1.705350723185738e-14,
          -1.1943360602177264e-14,
          -4.469227250348461e-15,
          -1.5333793412535907e-14,
          -5.231355282466273e-15,
          -1.7413585770201413e-14,
          -4.269759569124475e-15,
          1.038144728073934e-14,
          -1.2390036921595775e-15,
          1.5339321186998474e-14,
          3.2208387595007504e-14,
          2.0754507916012866e-14,
          8.89250026225837e-15,
          5.423404410110928e-14,
          4.2040086305311297e-14,
          2.98686749313394e-14,
          6.869277151872361e-14,
          5.527659205984962e-14,
          4.179939921444533e-14,
          6.894417571654324e-14,
          5.2637474924473703e-14,
          3.6949986699998323e-14,
          5.1860309677021394e-14,
          3.4757650561314414e-14,
          1.9592447065213837e-14,
          1.9394767089878902e-14,
          3.886210561641014e-15,
          -8.13631888436498e-15,
          -1.694524588499342e-14,
          -3.316014269281435e-14,
          -3.947907689588473e-14,
          -4.148868016485877e-14,
          -6.691041259297173e-14,
          -6.481719962469283e-14
         ],
         "yaxis": "y"
        }
       ],
       "layout": {
        "legend": {
         "title": {
          "text": "variable"
         },
         "tracegroupgap": 0
        },
        "margin": {
         "t": 60
        },
        "template": {
         "data": {
          "bar": [
           {
            "error_x": {
             "color": "#2a3f5f"
            },
            "error_y": {
             "color": "#2a3f5f"
            },
            "marker": {
             "line": {
              "color": "#E5ECF6",
              "width": 0.5
             },
             "pattern": {
              "fillmode": "overlay",
              "size": 10,
              "solidity": 0.2
             }
            },
            "type": "bar"
           }
          ],
          "barpolar": [
           {
            "marker": {
             "line": {
              "color": "#E5ECF6",
              "width": 0.5
             },
             "pattern": {
              "fillmode": "overlay",
              "size": 10,
              "solidity": 0.2
             }
            },
            "type": "barpolar"
           }
          ],
          "carpet": [
           {
            "aaxis": {
             "endlinecolor": "#2a3f5f",
             "gridcolor": "white",
             "linecolor": "white",
             "minorgridcolor": "white",
             "startlinecolor": "#2a3f5f"
            },
            "baxis": {
             "endlinecolor": "#2a3f5f",
             "gridcolor": "white",
             "linecolor": "white",
             "minorgridcolor": "white",
             "startlinecolor": "#2a3f5f"
            },
            "type": "carpet"
           }
          ],
          "choropleth": [
           {
            "colorbar": {
             "outlinewidth": 0,
             "ticks": ""
            },
            "type": "choropleth"
           }
          ],
          "contour": [
           {
            "colorbar": {
             "outlinewidth": 0,
             "ticks": ""
            },
            "colorscale": [
             [
              0,
              "#0d0887"
             ],
             [
              0.1111111111111111,
              "#46039f"
             ],
             [
              0.2222222222222222,
              "#7201a8"
             ],
             [
              0.3333333333333333,
              "#9c179e"
             ],
             [
              0.4444444444444444,
              "#bd3786"
             ],
             [
              0.5555555555555556,
              "#d8576b"
             ],
             [
              0.6666666666666666,
              "#ed7953"
             ],
             [
              0.7777777777777778,
              "#fb9f3a"
             ],
             [
              0.8888888888888888,
              "#fdca26"
             ],
             [
              1,
              "#f0f921"
             ]
            ],
            "type": "contour"
           }
          ],
          "contourcarpet": [
           {
            "colorbar": {
             "outlinewidth": 0,
             "ticks": ""
            },
            "type": "contourcarpet"
           }
          ],
          "heatmap": [
           {
            "colorbar": {
             "outlinewidth": 0,
             "ticks": ""
            },
            "colorscale": [
             [
              0,
              "#0d0887"
             ],
             [
              0.1111111111111111,
              "#46039f"
             ],
             [
              0.2222222222222222,
              "#7201a8"
             ],
             [
              0.3333333333333333,
              "#9c179e"
             ],
             [
              0.4444444444444444,
              "#bd3786"
             ],
             [
              0.5555555555555556,
              "#d8576b"
             ],
             [
              0.6666666666666666,
              "#ed7953"
             ],
             [
              0.7777777777777778,
              "#fb9f3a"
             ],
             [
              0.8888888888888888,
              "#fdca26"
             ],
             [
              1,
              "#f0f921"
             ]
            ],
            "type": "heatmap"
           }
          ],
          "heatmapgl": [
           {
            "colorbar": {
             "outlinewidth": 0,
             "ticks": ""
            },
            "colorscale": [
             [
              0,
              "#0d0887"
             ],
             [
              0.1111111111111111,
              "#46039f"
             ],
             [
              0.2222222222222222,
              "#7201a8"
             ],
             [
              0.3333333333333333,
              "#9c179e"
             ],
             [
              0.4444444444444444,
              "#bd3786"
             ],
             [
              0.5555555555555556,
              "#d8576b"
             ],
             [
              0.6666666666666666,
              "#ed7953"
             ],
             [
              0.7777777777777778,
              "#fb9f3a"
             ],
             [
              0.8888888888888888,
              "#fdca26"
             ],
             [
              1,
              "#f0f921"
             ]
            ],
            "type": "heatmapgl"
           }
          ],
          "histogram": [
           {
            "marker": {
             "pattern": {
              "fillmode": "overlay",
              "size": 10,
              "solidity": 0.2
             }
            },
            "type": "histogram"
           }
          ],
          "histogram2d": [
           {
            "colorbar": {
             "outlinewidth": 0,
             "ticks": ""
            },
            "colorscale": [
             [
              0,
              "#0d0887"
             ],
             [
              0.1111111111111111,
              "#46039f"
             ],
             [
              0.2222222222222222,
              "#7201a8"
             ],
             [
              0.3333333333333333,
              "#9c179e"
             ],
             [
              0.4444444444444444,
              "#bd3786"
             ],
             [
              0.5555555555555556,
              "#d8576b"
             ],
             [
              0.6666666666666666,
              "#ed7953"
             ],
             [
              0.7777777777777778,
              "#fb9f3a"
             ],
             [
              0.8888888888888888,
              "#fdca26"
             ],
             [
              1,
              "#f0f921"
             ]
            ],
            "type": "histogram2d"
           }
          ],
          "histogram2dcontour": [
           {
            "colorbar": {
             "outlinewidth": 0,
             "ticks": ""
            },
            "colorscale": [
             [
              0,
              "#0d0887"
             ],
             [
              0.1111111111111111,
              "#46039f"
             ],
             [
              0.2222222222222222,
              "#7201a8"
             ],
             [
              0.3333333333333333,
              "#9c179e"
             ],
             [
              0.4444444444444444,
              "#bd3786"
             ],
             [
              0.5555555555555556,
              "#d8576b"
             ],
             [
              0.6666666666666666,
              "#ed7953"
             ],
             [
              0.7777777777777778,
              "#fb9f3a"
             ],
             [
              0.8888888888888888,
              "#fdca26"
             ],
             [
              1,
              "#f0f921"
             ]
            ],
            "type": "histogram2dcontour"
           }
          ],
          "mesh3d": [
           {
            "colorbar": {
             "outlinewidth": 0,
             "ticks": ""
            },
            "type": "mesh3d"
           }
          ],
          "parcoords": [
           {
            "line": {
             "colorbar": {
              "outlinewidth": 0,
              "ticks": ""
             }
            },
            "type": "parcoords"
           }
          ],
          "pie": [
           {
            "automargin": true,
            "type": "pie"
           }
          ],
          "scatter": [
           {
            "fillpattern": {
             "fillmode": "overlay",
             "size": 10,
             "solidity": 0.2
            },
            "type": "scatter"
           }
          ],
          "scatter3d": [
           {
            "line": {
             "colorbar": {
              "outlinewidth": 0,
              "ticks": ""
             }
            },
            "marker": {
             "colorbar": {
              "outlinewidth": 0,
              "ticks": ""
             }
            },
            "type": "scatter3d"
           }
          ],
          "scattercarpet": [
           {
            "marker": {
             "colorbar": {
              "outlinewidth": 0,
              "ticks": ""
             }
            },
            "type": "scattercarpet"
           }
          ],
          "scattergeo": [
           {
            "marker": {
             "colorbar": {
              "outlinewidth": 0,
              "ticks": ""
             }
            },
            "type": "scattergeo"
           }
          ],
          "scattergl": [
           {
            "marker": {
             "colorbar": {
              "outlinewidth": 0,
              "ticks": ""
             }
            },
            "type": "scattergl"
           }
          ],
          "scattermapbox": [
           {
            "marker": {
             "colorbar": {
              "outlinewidth": 0,
              "ticks": ""
             }
            },
            "type": "scattermapbox"
           }
          ],
          "scatterpolar": [
           {
            "marker": {
             "colorbar": {
              "outlinewidth": 0,
              "ticks": ""
             }
            },
            "type": "scatterpolar"
           }
          ],
          "scatterpolargl": [
           {
            "marker": {
             "colorbar": {
              "outlinewidth": 0,
              "ticks": ""
             }
            },
            "type": "scatterpolargl"
           }
          ],
          "scatterternary": [
           {
            "marker": {
             "colorbar": {
              "outlinewidth": 0,
              "ticks": ""
             }
            },
            "type": "scatterternary"
           }
          ],
          "surface": [
           {
            "colorbar": {
             "outlinewidth": 0,
             "ticks": ""
            },
            "colorscale": [
             [
              0,
              "#0d0887"
             ],
             [
              0.1111111111111111,
              "#46039f"
             ],
             [
              0.2222222222222222,
              "#7201a8"
             ],
             [
              0.3333333333333333,
              "#9c179e"
             ],
             [
              0.4444444444444444,
              "#bd3786"
             ],
             [
              0.5555555555555556,
              "#d8576b"
             ],
             [
              0.6666666666666666,
              "#ed7953"
             ],
             [
              0.7777777777777778,
              "#fb9f3a"
             ],
             [
              0.8888888888888888,
              "#fdca26"
             ],
             [
              1,
              "#f0f921"
             ]
            ],
            "type": "surface"
           }
          ],
          "table": [
           {
            "cells": {
             "fill": {
              "color": "#EBF0F8"
             },
             "line": {
              "color": "white"
             }
            },
            "header": {
             "fill": {
              "color": "#C8D4E3"
             },
             "line": {
              "color": "white"
             }
            },
            "type": "table"
           }
          ]
         },
         "layout": {
          "annotationdefaults": {
           "arrowcolor": "#2a3f5f",
           "arrowhead": 0,
           "arrowwidth": 1
          },
          "autotypenumbers": "strict",
          "coloraxis": {
           "colorbar": {
            "outlinewidth": 0,
            "ticks": ""
           }
          },
          "colorscale": {
           "diverging": [
            [
             0,
             "#8e0152"
            ],
            [
             0.1,
             "#c51b7d"
            ],
            [
             0.2,
             "#de77ae"
            ],
            [
             0.3,
             "#f1b6da"
            ],
            [
             0.4,
             "#fde0ef"
            ],
            [
             0.5,
             "#f7f7f7"
            ],
            [
             0.6,
             "#e6f5d0"
            ],
            [
             0.7,
             "#b8e186"
            ],
            [
             0.8,
             "#7fbc41"
            ],
            [
             0.9,
             "#4d9221"
            ],
            [
             1,
             "#276419"
            ]
           ],
           "sequential": [
            [
             0,
             "#0d0887"
            ],
            [
             0.1111111111111111,
             "#46039f"
            ],
            [
             0.2222222222222222,
             "#7201a8"
            ],
            [
             0.3333333333333333,
             "#9c179e"
            ],
            [
             0.4444444444444444,
             "#bd3786"
            ],
            [
             0.5555555555555556,
             "#d8576b"
            ],
            [
             0.6666666666666666,
             "#ed7953"
            ],
            [
             0.7777777777777778,
             "#fb9f3a"
            ],
            [
             0.8888888888888888,
             "#fdca26"
            ],
            [
             1,
             "#f0f921"
            ]
           ],
           "sequentialminus": [
            [
             0,
             "#0d0887"
            ],
            [
             0.1111111111111111,
             "#46039f"
            ],
            [
             0.2222222222222222,
             "#7201a8"
            ],
            [
             0.3333333333333333,
             "#9c179e"
            ],
            [
             0.4444444444444444,
             "#bd3786"
            ],
            [
             0.5555555555555556,
             "#d8576b"
            ],
            [
             0.6666666666666666,
             "#ed7953"
            ],
            [
             0.7777777777777778,
             "#fb9f3a"
            ],
            [
             0.8888888888888888,
             "#fdca26"
            ],
            [
             1,
             "#f0f921"
            ]
           ]
          },
          "colorway": [
           "#636efa",
           "#EF553B",
           "#00cc96",
           "#ab63fa",
           "#FFA15A",
           "#19d3f3",
           "#FF6692",
           "#B6E880",
           "#FF97FF",
           "#FECB52"
          ],
          "font": {
           "color": "#2a3f5f"
          },
          "geo": {
           "bgcolor": "white",
           "lakecolor": "white",
           "landcolor": "#E5ECF6",
           "showlakes": true,
           "showland": true,
           "subunitcolor": "white"
          },
          "hoverlabel": {
           "align": "left"
          },
          "hovermode": "closest",
          "mapbox": {
           "style": "light"
          },
          "paper_bgcolor": "white",
          "plot_bgcolor": "#E5ECF6",
          "polar": {
           "angularaxis": {
            "gridcolor": "white",
            "linecolor": "white",
            "ticks": ""
           },
           "bgcolor": "#E5ECF6",
           "radialaxis": {
            "gridcolor": "white",
            "linecolor": "white",
            "ticks": ""
           }
          },
          "scene": {
           "xaxis": {
            "backgroundcolor": "#E5ECF6",
            "gridcolor": "white",
            "gridwidth": 2,
            "linecolor": "white",
            "showbackground": true,
            "ticks": "",
            "zerolinecolor": "white"
           },
           "yaxis": {
            "backgroundcolor": "#E5ECF6",
            "gridcolor": "white",
            "gridwidth": 2,
            "linecolor": "white",
            "showbackground": true,
            "ticks": "",
            "zerolinecolor": "white"
           },
           "zaxis": {
            "backgroundcolor": "#E5ECF6",
            "gridcolor": "white",
            "gridwidth": 2,
            "linecolor": "white",
            "showbackground": true,
            "ticks": "",
            "zerolinecolor": "white"
           }
          },
          "shapedefaults": {
           "line": {
            "color": "#2a3f5f"
           }
          },
          "ternary": {
           "aaxis": {
            "gridcolor": "white",
            "linecolor": "white",
            "ticks": ""
           },
           "baxis": {
            "gridcolor": "white",
            "linecolor": "white",
            "ticks": ""
           },
           "bgcolor": "#E5ECF6",
           "caxis": {
            "gridcolor": "white",
            "linecolor": "white",
            "ticks": ""
           }
          },
          "title": {
           "x": 0.05
          },
          "xaxis": {
           "automargin": true,
           "gridcolor": "white",
           "linecolor": "white",
           "ticks": "",
           "title": {
            "standoff": 15
           },
           "zerolinecolor": "white",
           "zerolinewidth": 2
          },
          "yaxis": {
           "automargin": true,
           "gridcolor": "white",
           "linecolor": "white",
           "ticks": "",
           "title": {
            "standoff": 15
           },
           "zerolinecolor": "white",
           "zerolinewidth": 2
          }
         }
        },
        "xaxis": {
         "anchor": "y",
         "domain": [
          0,
          1
         ],
         "title": {
          "text": "x"
         }
        },
        "yaxis": {
         "anchor": "x",
         "domain": [
          0,
          1
         ],
         "title": {
          "text": "value"
         }
        }
       }
      }
     },
     "metadata": {},
     "output_type": "display_data"
    }
   ],
   "source": [
    "# plotting the initial condition X0_mix in space\n",
    "\n",
    "X0_mix_space = iDFT @ (X0_mix)\n",
    "print('mean of X0 :',np.mean(X0_mix))\n",
    "px.line(x=xspan,y=[np.real(X0_mix_space),np.imag(X0_mix_space)])"
   ]
  },
  {
   "cell_type": "code",
   "execution_count": 32,
   "metadata": {},
   "outputs": [],
   "source": [
    "# # Creating fX0_sinuses, fX0_cosinuses and fX0_mixes\n",
    "\n",
    "# fX0_sinuses = np.concatenate((fX0_sin,(1j/g*fX0_sin)*np.sqrt(g*np.abs(frequences)*np.tanh(d*np.abs(frequences)))))\n",
    "# fX0_cosinuses = np.concatenate((fX0_cos,(1j/g*fX0_cos)*np.sqrt(g*np.abs(frequences)*np.tanh(d*np.abs(frequences)))))\n",
    "# fX0_mixes = np.concatenate((fX0_mix,(1j/g*fX0_mix)*np.sqrt(g*np.abs(frequences)*np.tanh(d*np.abs(frequences)))))\n",
    "\n",
    "# X0_sinuses = np.concatenate((iDFT @ X0_sin, iDFT @ (1j/g*X0_sin)*np.sqrt(g*np.abs(frequences)*np.tanh(d*np.abs(frequences)))))\n",
    "# X0_cosinuses = np.concatenate((iDFT @ X0_cos, iDFT @ (1j/g*X0_cos)*np.sqrt(g*np.abs(frequences)*np.tanh(d*np.abs(frequences)))))\n",
    "# X0_mixes = np.concatenate((iDFT @ X0_mix, iDFT @ (1j/g*X0_mix)*np.sqrt(g*np.abs(frequences)*np.tanh(d*np.abs(frequences)))))"
   ]
  },
  {
   "cell_type": "code",
   "execution_count": 33,
   "metadata": {},
   "outputs": [],
   "source": [
    "fX0_mix = create_Fourier_X0_v2(N_ini_fq, Nx, dx)\n",
    "fX0_mixes = np.concatenate((fX0_mix,(1j/g*fX0_mix)*np.sqrt(g*np.abs(frequences)*np.tanh(d*np.abs(frequences)))))\n",
    "X0_mixes = np.concatenate((iDFT @ fX0_mix, iDFT @ (1j/g*fX0_mix)*np.sqrt(g*np.abs(frequences)*np.tanh(d*np.abs(frequences)))))"
   ]
  },
  {
   "cell_type": "code",
   "execution_count": 34,
   "metadata": {},
   "outputs": [],
   "source": [
    "# ------------------------------\n",
    "# Time integration scheme\n",
    "# ------------------------------\n",
    "\n",
    "def Euler_Explicit(mat, X0, tspan):\n",
    "    X = np.zeros((X0.shape[0],tspan.shape[0])) + np.zeros((X0.shape[0],tspan.shape[0]))*1j\n",
    "    dt = tspan[1] - tspan[0]\n",
    "    X[:,0] = X0\n",
    "    for i in range(1,len(tspan)):\n",
    "        X[:,i] = X[:,i-1] + dt * mat @ X[:,i-1]\n",
    "    return X"
   ]
  },
  {
   "cell_type": "code",
   "execution_count": 35,
   "metadata": {},
   "outputs": [],
   "source": [
    "# # ------------------------------\n",
    "# # Time integration with fX0_sinuses\n",
    "# # ------------------------------\n",
    "\n",
    "# fX_sol_EE_fA_sin = Euler_Explicit(fA,fX0_sinuses,tspan)\n",
    "# print('1st edo : done')\n",
    "# fX_sol_EE_fA_mod_nm_sin = Euler_Explicit(fA_mod_nm,fX0_sinuses,tspan)\n",
    "# print('2nd edo : done')\n",
    "# fX_sol_EE_fA_mod_lf_sin = Euler_Explicit(fA_mod_lf,fX0_sinuses,tspan)\n",
    "# print('3rd edo : done')\n",
    "\n",
    "# X_sol_EE_A_sin = Euler_Explicit(A,X0_sinuses,tspan)\n",
    "# print('1st edo : done')\n",
    "# X_sol_EE_A_mod_nm_sin = Euler_Explicit(A_mod_nm,X0_sinuses,tspan)\n",
    "# print('2nd edo : done')\n",
    "# X_sol_EE_A_mod_lf_sin = Euler_Explicit(A_mod_lf,X0_sinuses,tspan)\n",
    "# print('3rd edo : done')"
   ]
  },
  {
   "cell_type": "code",
   "execution_count": 36,
   "metadata": {},
   "outputs": [],
   "source": [
    "# # ------------------------------\n",
    "# # Time integration with fX0_cosinuses\n",
    "# # ------------------------------\n",
    "\n",
    "# fX_sol_EE_fA_cos = Euler_Explicit(fA,fX0_cosinuses,tspan)\n",
    "# print('1st edo : done')\n",
    "# fX_sol_EE_fA_mod_nm_cos = Euler_Explicit(fA_mod_nm,fX0_cosinuses,tspan)\n",
    "# print('2nd edo : done')\n",
    "# fX_sol_EE_fA_mod_lf_cos = Euler_Explicit(fA_mod_lf,fX0_cosinuses,tspan)\n",
    "# print('3rd edo : done')"
   ]
  },
  {
   "cell_type": "code",
   "execution_count": 37,
   "metadata": {},
   "outputs": [
    {
     "name": "stdout",
     "output_type": "stream",
     "text": [
      "1st edo : done\n",
      "2nd edo : done\n",
      "3rd edo : done\n",
      "1st edo : done\n",
      "2nd edo : done\n",
      "3rd edo : done\n"
     ]
    }
   ],
   "source": [
    "# ------------------------------\n",
    "# Time integration with fX0_mixes\n",
    "# ------------------------------\n",
    "\n",
    "fX_sol_EE_fA_mix = Euler_Explicit(fA,fX0_mixes,tspan)\n",
    "print('1st edo : done')\n",
    "fX_sol_EE_fA_mod_nm_mix = Euler_Explicit(fA_mod_nm,fX0_mixes,tspan)\n",
    "print('2nd edo : done')\n",
    "fX_sol_EE_fA_mod_lf_mix = Euler_Explicit(fA_mod_lf,fX0_mixes,tspan)\n",
    "print('3rd edo : done')\n",
    "\n",
    "X_sol_EE_A_mix = Euler_Explicit(A,X0_mixes,tspan)\n",
    "print('1st edo : done')\n",
    "X_sol_EE_A_mod_nm_mix = Euler_Explicit(A_mod_nm,X0_mixes,tspan)\n",
    "print('2nd edo : done')\n",
    "X_sol_EE_A_mod_lf_mix = Euler_Explicit(A_mod_lf,X0_mixes,tspan)\n",
    "print('3rd edo : done')"
   ]
  },
  {
   "cell_type": "code",
   "execution_count": 38,
   "metadata": {},
   "outputs": [
    {
     "ename": "ValueError",
     "evalue": "zero-size array to reduction operation maximum which has no identity",
     "output_type": "error",
     "traceback": [
      "\u001b[0;31m---------------------------------------------------------------------------\u001b[0m",
      "\u001b[0;31mValueError\u001b[0m                                Traceback (most recent call last)",
      "Cell \u001b[0;32mIn[38], line 17\u001b[0m\n\u001b[1;32m     11\u001b[0m eigval_A_mod_lf, eigvect_A_mod_lf \u001b[38;5;241m=\u001b[39m np\u001b[38;5;241m.\u001b[39mlinalg\u001b[38;5;241m.\u001b[39meig(fA_mod_lf)\n\u001b[1;32m     13\u001b[0m \u001b[38;5;66;03m# ------------------------------\u001b[39;00m\n\u001b[1;32m     14\u001b[0m \u001b[38;5;66;03m# Convergence factor computations\u001b[39;00m\n\u001b[1;32m     15\u001b[0m \u001b[38;5;66;03m# ------------------------------\u001b[39;00m\n\u001b[0;32m---> 17\u001b[0m conv_fact_fA \u001b[38;5;241m=\u001b[39m np\u001b[38;5;241m.\u001b[39mmax(np\u001b[38;5;241m.\u001b[39mreal(eigval_fA)[np\u001b[38;5;241m.\u001b[39mreal(eigval_fA) \u001b[38;5;241m<\u001b[39m \u001b[38;5;241m-\u001b[39m\u001b[38;5;241m1e-10\u001b[39m])\n\u001b[1;32m     18\u001b[0m conv_fact_fA_mod_nm \u001b[38;5;241m=\u001b[39m np\u001b[38;5;241m.\u001b[39mmax(np\u001b[38;5;241m.\u001b[39mreal(eigval_fA_mod_nm)[np\u001b[38;5;241m.\u001b[39mreal(eigval_fA_mod_nm) \u001b[38;5;241m<\u001b[39m \u001b[38;5;241m-\u001b[39m\u001b[38;5;241m1e-10\u001b[39m])\n\u001b[1;32m     19\u001b[0m conv_fact_fA_mod_lf \u001b[38;5;241m=\u001b[39m np\u001b[38;5;241m.\u001b[39mmax(np\u001b[38;5;241m.\u001b[39mreal(eigval_fA_mod_lf)[np\u001b[38;5;241m.\u001b[39mreal(eigval_fA_mod_lf) \u001b[38;5;241m<\u001b[39m \u001b[38;5;241m-\u001b[39m\u001b[38;5;241m1e-10\u001b[39m])\n",
      "File \u001b[0;32m~/anaconda3/lib/python3.11/site-packages/numpy/core/fromnumeric.py:2810\u001b[0m, in \u001b[0;36mmax\u001b[0;34m(a, axis, out, keepdims, initial, where)\u001b[0m\n\u001b[1;32m   2692\u001b[0m \u001b[38;5;129m@array_function_dispatch\u001b[39m(_max_dispatcher)\n\u001b[1;32m   2693\u001b[0m \u001b[38;5;129m@set_module\u001b[39m(\u001b[38;5;124m'\u001b[39m\u001b[38;5;124mnumpy\u001b[39m\u001b[38;5;124m'\u001b[39m)\n\u001b[1;32m   2694\u001b[0m \u001b[38;5;28;01mdef\u001b[39;00m \u001b[38;5;21mmax\u001b[39m(a, axis\u001b[38;5;241m=\u001b[39m\u001b[38;5;28;01mNone\u001b[39;00m, out\u001b[38;5;241m=\u001b[39m\u001b[38;5;28;01mNone\u001b[39;00m, keepdims\u001b[38;5;241m=\u001b[39mnp\u001b[38;5;241m.\u001b[39m_NoValue, initial\u001b[38;5;241m=\u001b[39mnp\u001b[38;5;241m.\u001b[39m_NoValue,\n\u001b[1;32m   2695\u001b[0m          where\u001b[38;5;241m=\u001b[39mnp\u001b[38;5;241m.\u001b[39m_NoValue):\n\u001b[1;32m   2696\u001b[0m \u001b[38;5;250m    \u001b[39m\u001b[38;5;124;03m\"\"\"\u001b[39;00m\n\u001b[1;32m   2697\u001b[0m \u001b[38;5;124;03m    Return the maximum of an array or maximum along an axis.\u001b[39;00m\n\u001b[1;32m   2698\u001b[0m \n\u001b[0;32m   (...)\u001b[0m\n\u001b[1;32m   2808\u001b[0m \u001b[38;5;124;03m    5\u001b[39;00m\n\u001b[1;32m   2809\u001b[0m \u001b[38;5;124;03m    \"\"\"\u001b[39;00m\n\u001b[0;32m-> 2810\u001b[0m     \u001b[38;5;28;01mreturn\u001b[39;00m _wrapreduction(a, np\u001b[38;5;241m.\u001b[39mmaximum, \u001b[38;5;124m'\u001b[39m\u001b[38;5;124mmax\u001b[39m\u001b[38;5;124m'\u001b[39m, axis, \u001b[38;5;28;01mNone\u001b[39;00m, out,\n\u001b[1;32m   2811\u001b[0m                           keepdims\u001b[38;5;241m=\u001b[39mkeepdims, initial\u001b[38;5;241m=\u001b[39minitial, where\u001b[38;5;241m=\u001b[39mwhere)\n",
      "File \u001b[0;32m~/anaconda3/lib/python3.11/site-packages/numpy/core/fromnumeric.py:88\u001b[0m, in \u001b[0;36m_wrapreduction\u001b[0;34m(obj, ufunc, method, axis, dtype, out, **kwargs)\u001b[0m\n\u001b[1;32m     85\u001b[0m         \u001b[38;5;28;01melse\u001b[39;00m:\n\u001b[1;32m     86\u001b[0m             \u001b[38;5;28;01mreturn\u001b[39;00m reduction(axis\u001b[38;5;241m=\u001b[39maxis, out\u001b[38;5;241m=\u001b[39mout, \u001b[38;5;241m*\u001b[39m\u001b[38;5;241m*\u001b[39mpasskwargs)\n\u001b[0;32m---> 88\u001b[0m \u001b[38;5;28;01mreturn\u001b[39;00m ufunc\u001b[38;5;241m.\u001b[39mreduce(obj, axis, dtype, out, \u001b[38;5;241m*\u001b[39m\u001b[38;5;241m*\u001b[39mpasskwargs)\n",
      "\u001b[0;31mValueError\u001b[0m: zero-size array to reduction operation maximum which has no identity"
     ]
    }
   ],
   "source": [
    "# ------------------------------\n",
    "# Eigenvalues computations\n",
    "# ------------------------------\n",
    "\n",
    "eigval_fA, eigvect_fA = np.linalg.eig(fA)\n",
    "eigval_fA_mod_nm, eigvect_fA_mod_nm = np.linalg.eig(fA_mod_nm)\n",
    "eigval_fA_mod_lf, eigvect_fA_mod_lf = np.linalg.eig(fA_mod_lf)\n",
    "\n",
    "eigval_A, eigvect_A = np.linalg.eig(fA)\n",
    "eigval_A_mod_nm, eigvect_A_mod_nm = np.linalg.eig(fA_mod_nm)\n",
    "eigval_A_mod_lf, eigvect_A_mod_lf = np.linalg.eig(fA_mod_lf)\n",
    "\n",
    "# ------------------------------\n",
    "# Convergence factor computations\n",
    "# ------------------------------\n",
    "\n",
    "conv_fact_fA = np.max(np.real(eigval_fA)[np.real(eigval_fA) < -1e-10])\n",
    "conv_fact_fA_mod_nm = np.max(np.real(eigval_fA_mod_nm)[np.real(eigval_fA_mod_nm) < -1e-10])\n",
    "conv_fact_fA_mod_lf = np.max(np.real(eigval_fA_mod_lf)[np.real(eigval_fA_mod_lf) < -1e-10])\n",
    "\n",
    "conv_fact_A = np.max(np.real(eigval_A)[np.real(eigval_A) < -1e-10])\n",
    "conv_fact_A_mod_nm = np.max(np.real(eigval_A_mod_nm)[np.real(eigval_A_mod_nm) < -1e-10])\n",
    "conv_fact_A_mod_lf = np.max(np.real(eigval_A_mod_lf)[np.real(eigval_A_mod_lf) < -1e-10])"
   ]
  },
  {
   "cell_type": "code",
   "execution_count": 47,
   "metadata": {},
   "outputs": [
    {
     "data": {
      "text/plain": [
       "<matplotlib.image.AxesImage at 0x15f275d10>"
      ]
     },
     "execution_count": 47,
     "metadata": {},
     "output_type": "execute_result"
    },
    {
     "data": {
      "image/png": "[encoded data removed]",
      "text/plain": [
       "<Figure size 640x480 with 1 Axes>"
      ]
     },
     "metadata": {},
     "output_type": "display_data"
    }
   ],
   "source": [
    "plt.spy(A)"
   ]
  },
  {
   "cell_type": "code",
   "execution_count": 39,
   "metadata": {},
   "outputs": [
    {
     "data": {
      "text/plain": [
       "[<matplotlib.lines.Line2D at 0x15ee2ad10>]"
      ]
     },
     "execution_count": 39,
     "metadata": {},
     "output_type": "execute_result"
    },
    {
     "data": {
      "image/png": "[encoded data removed]",
      "text/plain": [
       "<Figure size 640x480 with 1 Axes>"
      ]
     },
     "metadata": {},
     "output_type": "display_data"
    }
   ],
   "source": [
    "plt.plot(np.real(eigval_fA_mod_lf),np.imag(eigval_fA_mod_lf),'s')\n",
    "plt.plot(np.real(eigval_A_mod_lf),np.imag(eigval_A_mod_lf),'s')\n",
    "plt.plot(np.real(eigval_fA_mod_nm),np.imag(eigval_fA_mod_nm),'x')\n",
    "plt.plot(np.real(eigval_A_mod_nm),np.imag(eigval_A_mod_nm),'x')\n",
    "#plt.plot(conv_fact_fA_mod_nm,0,'x')\n",
    "#plt.plot(conv_fact_fA_mod_lf,0,'x')\n",
    "#plt.plot(conv_fact_fA,0,'x')"
   ]
  },
  {
   "cell_type": "markdown",
   "metadata": {},
   "source": [
    "### final graphs"
   ]
  },
  {
   "cell_type": "code",
   "execution_count": 41,
   "metadata": {},
   "outputs": [
    {
     "data": {
      "image/png": "[encoded data removed]",
      "text/plain": [
       "<Figure size 640x480 with 1 Axes>"
      ]
     },
     "metadata": {},
     "output_type": "display_data"
    }
   ],
   "source": [
    "steps = tspan.shape[0]//30\n",
    "plt.semilogy(tspan[::steps],np.linalg.norm(fX_sol_EE_fA_mix[0:,::steps],2,axis=0),'-s',label=r\"solution w\\ proj\")\n",
    "plt.semilogy(tspan[::steps],np.linalg.norm(fX_sol_EE_fA_mod_nm_mix[0:,::steps],2,axis=0),'-d',label=r\"solution w/ proj $\\Pi_{\\perp 0}$\")\n",
    "plt.semilogy(tspan[::steps],np.linalg.norm(fX_sol_EE_fA_mod_lf_mix[0:,::steps],2,axis=0),'-o',label=r\"solution w/ proj $\\Pi_{\\perp 0}\\cdot\\Pi_{LF}$\")\n",
    "#plt.semilogy(tspan[::steps],np.exp(conv_fact_fA_mod_lf*tspan[::steps]),'-',label=r\"theoritical convergence rate\")\n",
    "plt.semilogy(tspan[::steps],10*np.exp(conv_fact_fA*tspan[::steps]),'-',label=r\"rate given by $\\exp(t\\cdot\\max(\\mathcal{R}e(\\sigma(A-\\widetilde{B}'))))$\")\n",
    "#plt.ylim([1e-20,1e1])\n",
    "#plt.title(r'convergence, condition initiale : cosinus + sin')\n",
    "plt.grid()\n",
    "plt.legend(loc='center left', bbox_to_anchor=(1.1, 0.5))\n",
    "plt.xlabel(r'time $t$')\n",
    "plt.ylabel(r'L2 norm of solution')\n",
    "#plt.savefig(\"figures_png/lww_obs_conv_ini_sinus&cosinus.png\")\n",
    "#tikzplotlib.save(\"figures_tex/lww_obs_conv_ini_sinus&cosinus.tex\")\n",
    "plt.show()"
   ]
  },
  {
   "cell_type": "code",
   "execution_count": 42,
   "metadata": {},
   "outputs": [
    {
     "data": {
      "text/plain": [
       "[<matplotlib.lines.Line2D at 0x15efda710>]"
      ]
     },
     "execution_count": 42,
     "metadata": {},
     "output_type": "execute_result"
    },
    {
     "data": {
      "image/png": "[encoded data removed]",
      "text/plain": [
       "<Figure size 640x480 with 1 Axes>"
      ]
     },
     "metadata": {},
     "output_type": "display_data"
    }
   ],
   "source": [
    "plt.plot(tspan[::steps],np.linalg.norm(fX_sol_EE_fA_mix[0:,::steps],2,axis=0),'-s',label=r\"solution w\\ proj\")"
   ]
  },
  {
   "cell_type": "code",
   "execution_count": 21,
   "metadata": {},
   "outputs": [
    {
     "data": {
      "image/png": "[encoded data removed]",
      "text/plain": [
       "<Figure size 640x480 with 1 Axes>"
      ]
     },
     "metadata": {},
     "output_type": "display_data"
    }
   ],
   "source": [
    "steps = tspan.shape[0]//30\n",
    "plt.semilogy(tspan[::steps],np.linalg.norm(X_sol_EE_A_mix[0:,::steps],2,axis=0),'-s',label=r\"solution w\\ proj\")\n",
    "plt.semilogy(tspan[::steps],np.linalg.norm(X_sol_EE_A_mod_nm_mix[0:,::steps],2,axis=0),'-d',label=r\"solution w/ proj $\\Pi_{\\perp 0}$\")\n",
    "plt.semilogy(tspan[::steps],np.linalg.norm(X_sol_EE_A_mod_lf_mix[0:,::steps],2,axis=0),'-o',label=r\"solution w/ proj $\\Pi_{\\perp 0}\\cdot\\Pi_{LF}$\")\n",
    "#plt.semilogy(tspan[::steps],np.exp(conv_fact_fA_mod_lf*tspan[::steps]),'-',label=r\"theoritical convergence rate\")\n",
    "plt.semilogy(tspan[::steps],10*np.exp(conv_fact_fA*tspan[::steps]),'-',label=r\"rate given by $\\exp(t\\cdot\\max(\\mathcal{R}e(\\sigma(A-\\widetilde{B}'))))$\")\n",
    "plt.ylim([1e-20,1e1])\n",
    "#plt.title(r'convergence, condition initiale : cosinus + sin')\n",
    "plt.grid()\n",
    "plt.legend(loc='center left', bbox_to_anchor=(1.1, 0.5))\n",
    "plt.xlabel(r'time $t$')\n",
    "plt.ylabel(r'L2 norm of solution')\n",
    "plt.show()"
   ]
  },
  {
   "cell_type": "code",
   "execution_count": 28,
   "metadata": {},
   "outputs": [
    {
     "data": {
      "image/png": "[encoded data removed]",
      "text/plain": [
       "<Figure size 640x480 with 1 Axes>"
      ]
     },
     "metadata": {},
     "output_type": "display_data"
    }
   ],
   "source": [
    "steps = tspan.shape[0]//30\n",
    "plt.semilogy(tspan[::steps],np.linalg.norm(np.kron(np.eye(2),Pi_lf) @ fX_sol_EE_fA_mix[0:,::steps],2,axis=0),'-s',label=r\"solution w\\ proj\")\n",
    "plt.semilogy(tspan[::steps],np.linalg.norm(np.kron(np.eye(2),Pi_lf) @ fX_sol_EE_fA_mod_nm_mix[0:,::steps],2,axis=0),'-d',label=r\"solution w/ proj $\\Pi_{\\perp 0}$\")\n",
    "plt.semilogy(tspan[::steps],np.linalg.norm(np.kron(np.eye(2),Pi_lf) @ fX_sol_EE_fA_mod_lf_mix[0:,::steps],2,axis=0),'-o',label=r\"solution w/ proj $\\Pi_{\\perp 0}\\cdot\\Pi_{LF}$\")\n",
    "plt.semilogy(tspan[::steps],10*np.exp(conv_fact_fA*tspan[::steps]),'-',label=r\"theoritical convergence rate\")\n",
    "plt.ylim([1e-20,1e1])\n",
    "#plt.title(r'convergence, condition initiale : cosinus + sin')\n",
    "plt.grid()\n",
    "#plt.legend(loc='center left', bbox_to_anchor=(1.05, 0.5))\n",
    "plt.xlabel(r'time $t$')\n",
    "plt.ylabel(r'L2 norm of solution')\n",
    "plt.savefig('figures_png/lww_obs_conv_lf_ini_sinus&cosinus.png')\n",
    "tikzplotlib.save(\"figures_tex/lww_obs_conv_lf_ini_sinus&cosinus.tex\")\n",
    "plt.show()"
   ]
  },
  {
   "cell_type": "code",
   "execution_count": null,
   "metadata": {},
   "outputs": [],
   "source": [
    "steps = tspan.shape[0]//30\n",
    "plt.semilogy(tspan[::steps],np.linalg.norm(np.kron(np.eye(2),iDFT @ Pi_lf @ DFT) @ X_sol_EE_A_mix[0:,::steps],2,axis=0),'-s',label=r\"solution w\\ proj\")\n",
    "plt.semilogy(tspan[::steps],np.linalg.norm(np.kron(np.eye(2),iDFT @ Pi_lf @ DFT) @ X_sol_EE_A_mod_nm_mix[0:,::steps],2,axis=0),'-d',label=r\"solution w/ proj $\\Pi_{\\perp 0}$\")\n",
    "plt.semilogy(tspan[::steps],np.linalg.norm(np.kron(np.eye(2),iDFT @ Pi_lf @ DFT) @ X_sol_EE_A_mod_lf_mix[0:,::steps],2,axis=0),'-o',label=r\"solution w/ proj $\\Pi_{\\perp 0}\\cdot\\Pi_{LF}$\")\n",
    "plt.semilogy(tspan[::steps],10*np.exp(conv_fact_fA*tspan[::steps]),'-',label=r\"theoritical convergence rate\")\n",
    "plt.ylim([1e-20,1e1])\n",
    "#plt.title(r'convergence, condition initiale : cosinus + sin')\n",
    "plt.grid()\n",
    "#plt.legend(loc='center left', bbox_to_anchor=(1.05, 0.5))\n",
    "plt.xlabel(r'time $t$')\n",
    "plt.ylabel(r'L2 norm of solution')\n",
    "plt.show()"
   ]
  },
  {
   "cell_type": "code",
   "execution_count": 29,
   "metadata": {},
   "outputs": [
    {
     "data": {
      "image/png": "[encoded data removed]",
      "text/plain": [
       "<Figure size 640x480 with 1 Axes>"
      ]
     },
     "metadata": {},
     "output_type": "display_data"
    }
   ],
   "source": [
    "steps = tspan.shape[0]//30\n",
    "plt.semilogy(tspan[::steps],np.linalg.norm(np.kron(np.eye(2),Pi_hf) @ fX_sol_EE_fA_mix[0:,::steps],2,axis=0),'-s',label=r\"solution w\\ proj\")\n",
    "plt.semilogy(tspan[::steps],np.linalg.norm(np.kron(np.eye(2),Pi_hf) @ fX_sol_EE_fA_mod_nm_mix[0:,::steps],2,axis=0),'-d',label=r\"solution w/ proj $\\Pi_{\\perp 0}$\")\n",
    "plt.semilogy(tspan[::steps],np.linalg.norm(np.kron(np.eye(2),Pi_hf) @ fX_sol_EE_fA_mod_lf_mix[0:,::steps],2,axis=0),'-o',label=r\"solution w/ proj $\\Pi_{\\perp 0}\\cdot\\Pi_{LF}$\")\n",
    "plt.semilogy(tspan[::steps],10*np.exp(conv_fact_fA*tspan[::steps]),'-',label=r\"theoritical convergence rate\")\n",
    "plt.ylim([1e-20,1e1])\n",
    "#plt.title(r'convergence, condition initiale : cosinus + sin')\n",
    "plt.grid()\n",
    "#plt.legend(loc='center left', bbox_to_anchor=(1.05, 0.5))\n",
    "plt.xlabel(r'time $t$')\n",
    "plt.ylabel(r'L2 norm of solution')\n",
    "plt.savefig('figures_png/lww_obs_conv_hf_ini_sinus&cosinus.png')\n",
    "tikzplotlib.save(\"figures_tex/lww_obs_conv_hf_ini_sinus&cosinus.tex\")\n",
    "plt.show()"
   ]
  },
  {
   "cell_type": "code",
   "execution_count": null,
   "metadata": {},
   "outputs": [],
   "source": [
    "steps = tspan.shape[0]//30\n",
    "plt.semilogy(tspan[::steps],np.linalg.norm(np.kron(np.eye(2),iDFT @ Pi_hf @ DFT) @ X_sol_EE_A_mix[0:,::steps],2,axis=0),'-s',label=r\"solution w\\ proj\")\n",
    "plt.semilogy(tspan[::steps],np.linalg.norm(np.kron(np.eye(2),iDFT @ Pi_hf @ DFT) @ X_sol_EE_A_mod_nm_mix[0:,::steps],2,axis=0),'-d',label=r\"solution w/ proj $\\Pi_{\\perp 0}$\")\n",
    "plt.semilogy(tspan[::steps],np.linalg.norm(np.kron(np.eye(2),iDFT @ Pi_hf @ DFT) @ X_sol_EE_A_mod_lf_mix[0:,::steps],2,axis=0),'-o',label=r\"solution w/ proj $\\Pi_{\\perp 0}\\cdot\\Pi_{LF}$\")\n",
    "plt.semilogy(tspan[::steps],10*np.exp(conv_fact_fA*tspan[::steps]),'-',label=r\"theoritical convergence rate\")\n",
    "plt.ylim([1e-20,1e1])\n",
    "#plt.title(r'convergence, condition initiale : cosinus + sin')\n",
    "plt.grid()\n",
    "#plt.legend(loc='center left', bbox_to_anchor=(1.05, 0.5))\n",
    "plt.xlabel(r'time $t$')\n",
    "plt.ylabel(r'L2 norm of solution')\n",
    "plt.show()"
   ]
  },
  {
   "cell_type": "markdown",
   "metadata": {},
   "source": [
    "### other graphs "
   ]
  },
  {
   "cell_type": "code",
   "execution_count": null,
   "metadata": {},
   "outputs": [
    {
     "data": {
      "image/png": "[encoded data removed]",
      "text/plain": [
       "<Figure size 640x480 with 1 Axes>"
      ]
     },
     "metadata": {},
     "output_type": "display_data"
    }
   ],
   "source": [
    "steps = tspan.shape[0]//30\n",
    "plt.semilogy(tspan[::steps],np.linalg.norm(fX_sol_EE_fA_sin[0:,::steps],2,axis=0),'-s',label=r\"solution w\\ proj\")\n",
    "plt.semilogy(tspan[::steps],np.linalg.norm(fX_sol_EE_fA_mod_nm_sin[0:,::steps],2,axis=0),'-x',label=r\"solution w/ proj $\\Pi_{\\perp 0}$\")\n",
    "plt.semilogy(tspan[::steps],np.linalg.norm(fX_sol_EE_fA_mod_lf_sin[0:,::steps],2,axis=0),'-o',label=r\"solution w/ proj $\\Pi_{\\perp 0}\\cdot\\Pi_{LF}$\")\n",
    "plt.ylim([1e-20,1e1])\n",
    "plt.title(r'convergence, condition initiale : sinus')\n",
    "plt.grid()\n",
    "plt.legend()\n",
    "plt.xlabel(r'time $T$')\n",
    "plt.ylabel(r'L2 norm of solution')\n",
    "plt.savefig('lww_obs_conv_ini_sinus.png')\n",
    "plt.show()\n"
   ]
  },
  {
   "cell_type": "code",
   "execution_count": null,
   "metadata": {},
   "outputs": [
    {
     "data": {
      "image/png": "[encoded data removed]",
      "text/plain": [
       "<Figure size 640x480 with 1 Axes>"
      ]
     },
     "metadata": {},
     "output_type": "display_data"
    }
   ],
   "source": [
    "steps = tspan.shape[0]//30\n",
    "plt.semilogy(tspan[::steps],np.linalg.norm(fX_sol_EE_fA_cos[0:,::steps],2,axis=0),'-s',label=r\"solution w\\ proj\")\n",
    "plt.semilogy(tspan[::steps],np.linalg.norm(fX_sol_EE_fA_mod_nm_cos[0:,::steps],2,axis=0),'-x',label=r\"solution w/ proj $\\Pi_{\\perp 0}$\")\n",
    "plt.semilogy(tspan[::steps],np.linalg.norm(fX_sol_EE_fA_mod_lf_cos[0:,::steps],2,axis=0),'-o',label=r\"solution w/ proj $\\Pi_{\\perp 0}\\cdot\\Pi_{LF}$\")\n",
    "plt.ylim([1e-20,1e1])\n",
    "plt.title(r'convergence, condition initiale : cosinus')\n",
    "plt.grid()\n",
    "plt.legend()\n",
    "plt.xlabel(r'time $T$')\n",
    "plt.ylabel(r'L2 norm of solution fX_sol')\n",
    "plt.savefig('lww_obs_conv_ini_cosinus.png')\n",
    "plt.show()"
   ]
  },
  {
   "cell_type": "code",
   "execution_count": null,
   "metadata": {},
   "outputs": [
    {
     "data": {
      "image/png": "[encoded data removed]",
      "text/plain": [
       "<Figure size 1500x500 with 2 Axes>"
      ]
     },
     "metadata": {},
     "output_type": "display_data"
    }
   ],
   "source": [
    "steps = tspan.shape[0]//30\n",
    "plt.figure(figsize=(15, 5))\n",
    "plt.subplot(1, 2, 1)\n",
    "plt.semilogy(tspan[::steps],np.linalg.norm(fX_sol_EE_fA_sin[0:,::steps],2,axis=0),'-s',label=r\"solution w\\ proj\")\n",
    "plt.semilogy(tspan[::steps],np.linalg.norm(fX_sol_EE_fA_mod_nm_sin[0:,::steps],2,axis=0),'-x',label=r\"solution w/ proj $\\Pi_{\\perp 0}$\")\n",
    "plt.semilogy(tspan[::steps],np.linalg.norm(fX_sol_EE_fA_mod_lf_sin[0:,::steps],2,axis=0),'-o',label=r\"solution w/ proj $\\Pi_{\\perp 0}\\cdot\\Pi_{LF}$\")\n",
    "plt.ylim([1e-20,1e1])\n",
    "plt.title(r'convergence, condition initiale : sinus')\n",
    "plt.grid()\n",
    "plt.legend()\n",
    "plt.xlabel(r'time $T$')\n",
    "plt.ylabel(r'L2 norm of solution')\n",
    "plt.subplot(1, 2, 2)\n",
    "plt.semilogy(tspan[::steps],np.linalg.norm(fX_sol_EE_fA_cos[0:,::steps],2,axis=0),'-s',label=r\"solution w\\ proj\")\n",
    "plt.semilogy(tspan[::steps],np.linalg.norm(fX_sol_EE_fA_mod_nm_cos[0:,::steps],2,axis=0),'-x',label=r\"solution w/ proj $\\Pi_{\\perp 0}$\")\n",
    "plt.semilogy(tspan[::steps],np.linalg.norm(fX_sol_EE_fA_mod_lf_cos[0:,::steps],2,axis=0),'-o',label=r\"solution w/ proj $\\Pi_{\\perp 0}\\cdot\\Pi_{LF}$\")\n",
    "plt.ylim([1e-20,1e1])\n",
    "plt.title(r'convergence, condition initiale : cosinus')\n",
    "plt.grid()\n",
    "plt.legend()\n",
    "plt.xlabel(r'time $T$')\n",
    "plt.ylabel(r'L2 norm of solution')\n",
    "plt.savefig(\"lww_obs_conv_ini_sinus_ini_cosinus.png\")\n",
    "tikzplotlib.save(\"lww_obs_conv_ini_sinus_ini_cosinus.tex\")\n",
    "plt.show()"
   ]
  },
  {
   "cell_type": "code",
   "execution_count": 20,
   "metadata": {},
   "outputs": [
    {
     "data": {
      "image/png": "[encoded data removed]",
      "text/plain": [
       "<Figure size 1500x500 with 2 Axes>"
      ]
     },
     "metadata": {},
     "output_type": "display_data"
    }
   ],
   "source": [
    "steps = tspan.shape[0]//30\n",
    "plt.figure(figsize=(15, 5))\n",
    "plt.subplot(1, 2, 1)\n",
    "plt.semilogy(tspan[::steps],np.linalg.norm(np.kron(np.eye(2),Pi_lf) @ fX_sol_EE_fA_cos[0:,::steps],2,axis=0),'-s',label=r\"solution w\\ proj\")\n",
    "plt.semilogy(tspan[::steps],np.linalg.norm(np.kron(np.eye(2),Pi_lf) @ fX_sol_EE_fA_mod_nm_cos[0:,::steps],2,axis=0),'-x',label=r\"solution w/ proj $\\Pi_{\\perp 0}$\")\n",
    "plt.semilogy(tspan[::steps],np.linalg.norm(np.kron(np.eye(2),Pi_lf) @ fX_sol_EE_fA_mod_lf_cos[0:,::steps],2,axis=0),'-o',label=r\"solution w/ proj $\\Pi_{\\perp 0}\\cdot\\Pi_{LF}$\")\n",
    "plt.ylim([1e-20,1e1])\n",
    "plt.title(r'convergence des basse frequences, condition initiale : cosinus')\n",
    "plt.grid()\n",
    "plt.legend()\n",
    "plt.xlabel(r'time $T$')\n",
    "plt.ylabel(r'L2 norm of solution')\n",
    "plt.subplot(1, 2, 2)\n",
    "plt.semilogy(tspan[::steps],np.linalg.norm(np.kron(np.eye(2),Pi_hf) @ fX_sol_EE_fA_cos[0:,::steps],2,axis=0),'-s',label=r\"solution w\\ proj\")\n",
    "plt.semilogy(tspan[::steps],np.linalg.norm(np.kron(np.eye(2),Pi_hf) @ fX_sol_EE_fA_mod_nm_cos[0:,::steps],2,axis=0),'-x',label=r\"solution w/ proj $\\Pi_{\\perp 0}$\")\n",
    "plt.semilogy(tspan[::steps],np.linalg.norm(np.kron(np.eye(2),Pi_hf) @ fX_sol_EE_fA_mod_lf_cos[0:,::steps],2,axis=0),'-o',label=r\"solution w/ proj $\\Pi_{\\perp 0}\\cdot\\Pi_{LF}$\")\n",
    "plt.ylim([1e-20,1e1])\n",
    "plt.title(r'convergence des hautes frequences, condition initiale : cosinus')\n",
    "plt.grid()\n",
    "plt.legend()\n",
    "plt.xlabel(r'time $T$')\n",
    "plt.ylabel(r'L2 norm of solution')\n",
    "# plt.subplot(1, 3, 3)\n",
    "# plt.semilogy(tspan[::steps],np.linalg.norm(np.kron(np.eye(2),Pi_m) @ fX_sol_EE_fA_cos[0:,::steps],2,axis=0),'-s',label=r\"solution w\\ proj\")\n",
    "# plt.semilogy(tspan[::steps],np.linalg.norm(np.kron(np.eye(2),Pi_m) @ fX_sol_EE_fA_mod_nm_cos[0:,::steps],2,axis=0),'-x',label=r\"solution w/ proj $\\Pi_{\\perp 0}$\")\n",
    "# plt.semilogy(tspan[::steps],np.linalg.norm(np.kron(np.eye(2),Pi_m) @ fX_sol_EE_fA_mod_lf_cos[0:,::steps],2,axis=0),'-o',label=r\"solution w/ proj $\\Pi_{\\perp 0}\\cdot\\Pi_{LF}$\")\n",
    "# plt.ylim([1e-3,1e1])\n",
    "# plt.title(r'convergence mode 0, condition initiale : cosinus + sinus')\n",
    "# plt.grid()\n",
    "# plt.legend()\n",
    "# plt.xlabel(r'time $T$')\n",
    "# plt.ylabel(r'L2 norm of solution')\n",
    "plt.savefig('lww_obs_conv_lf_hf_ini_cosinus.png')\n",
    "tikzplotlib.save(\"lww_obs_conv_lf_hf_ini_cosinus.tex\")\n",
    "plt.show()"
   ]
  },
  {
   "cell_type": "code",
   "execution_count": 41,
   "metadata": {},
   "outputs": [
    {
     "data": {
      "image/png": "[encoded data removed]",
      "text/plain": [
       "<Figure size 640x480 with 1 Axes>"
      ]
     },
     "metadata": {},
     "output_type": "display_data"
    }
   ],
   "source": [
    "steps = tspan.shape[0]//30\n",
    "plt.semilogy(tspan[::steps],np.linalg.norm(fX_sol_EE_fA_mix[0:,::steps],2,axis=0),'-s',label=r\"solution w\\ proj\")\n",
    "plt.semilogy(tspan[::steps],np.linalg.norm(fX_sol_EE_fA_mod_nm_mix[0:,::steps],2,axis=0),'-d',label=r\"solution w/ proj $\\Pi_{\\perp 0}$\")\n",
    "plt.semilogy(tspan[::steps],np.linalg.norm(fX_sol_EE_fA_mod_lf_mix[0:,::steps],2,axis=0),'-o',label=r\"solution w/ proj $\\Pi_{\\perp 0}\\cdot\\Pi_{LF}$\")\n",
    "plt.ylim([1e-20,1e1])\n",
    "#plt.title(r'convergence, condition initiale : cosinus + sin')\n",
    "plt.grid()\n",
    "plt.legend(loc='center left', bbox_to_anchor=(1.1, 0.5))\n",
    "plt.xlabel(r'time $T$')\n",
    "plt.ylabel(r'L2 norm of solution')\n",
    "plt.savefig('lww_obs_conv_ini_sinus&cosinus.png')\n",
    "tikzplotlib.save(\"lww_obs_conv_ini_sinus&cosinus.tex\")\n",
    "plt.show()"
   ]
  },
  {
   "cell_type": "code",
   "execution_count": 39,
   "metadata": {},
   "outputs": [
    {
     "data": {
      "image/png": "[encoded data removed]",
      "text/plain": [
       "<Figure size 640x480 with 1 Axes>"
      ]
     },
     "metadata": {},
     "output_type": "display_data"
    }
   ],
   "source": [
    "steps = tspan.shape[0]//30\n",
    "plt.semilogy(tspan[::steps],np.linalg.norm(np.kron(np.eye(2),Pi_lf) @ fX_sol_EE_fA_mix[0:,::steps],2,axis=0),'-s',label=r\"solution w\\ proj\")\n",
    "plt.semilogy(tspan[::steps],np.linalg.norm(np.kron(np.eye(2),Pi_lf) @ fX_sol_EE_fA_mod_nm_mix[0:,::steps],2,axis=0),'-d',label=r\"solution w/ proj $\\Pi_{\\perp 0}$\")\n",
    "plt.semilogy(tspan[::steps],np.linalg.norm(np.kron(np.eye(2),Pi_lf) @ fX_sol_EE_fA_mod_lf_mix[0:,::steps],2,axis=0),'-o',label=r\"solution w/ proj $\\Pi_{\\perp 0}\\cdot\\Pi_{LF}$\")\n",
    "plt.ylim([1e-20,1e1])\n",
    "#plt.title(r'convergence, condition initiale : cosinus + sin')\n",
    "plt.grid()\n",
    "#plt.legend(loc='center left', bbox_to_anchor=(1.05, 0.5))\n",
    "plt.xlabel(r'time $T$')\n",
    "plt.ylabel(r'L2 norm of solution')\n",
    "plt.savefig('lww_obs_conv_lf_ini_sinus&cosinus.png')\n",
    "tikzplotlib.save(\"lww_obs_conv_lf_ini_sinus&cosinus.tex\")\n",
    "plt.show()"
   ]
  },
  {
   "cell_type": "code",
   "execution_count": 40,
   "metadata": {},
   "outputs": [
    {
     "data": {
      "image/png": "[encoded data removed]",
      "text/plain": [
       "<Figure size 640x480 with 1 Axes>"
      ]
     },
     "metadata": {},
     "output_type": "display_data"
    }
   ],
   "source": [
    "steps = tspan.shape[0]//30\n",
    "plt.semilogy(tspan[::steps],np.linalg.norm(np.kron(np.eye(2),Pi_hf) @ fX_sol_EE_fA_mix[0:,::steps],2,axis=0),'-s',label=r\"solution w\\ proj\")\n",
    "plt.semilogy(tspan[::steps],np.linalg.norm(np.kron(np.eye(2),Pi_hf) @ fX_sol_EE_fA_mod_nm_mix[0:,::steps],2,axis=0),'-d',label=r\"solution w/ proj $\\Pi_{\\perp 0}$\")\n",
    "plt.semilogy(tspan[::steps],np.linalg.norm(np.kron(np.eye(2),Pi_hf) @ fX_sol_EE_fA_mod_lf_mix[0:,::steps],2,axis=0),'-o',label=r\"solution w/ proj $\\Pi_{\\perp 0}\\cdot\\Pi_{LF}$\")\n",
    "plt.ylim([1e-20,1e1])\n",
    "#plt.title(r'convergence, condition initiale : cosinus + sin')\n",
    "plt.grid()\n",
    "#plt.legend(loc='center left', bbox_to_anchor=(1.05, 0.5))\n",
    "plt.xlabel(r'time $T$')\n",
    "plt.ylabel(r'L2 norm of solution')\n",
    "plt.savefig('lww_obs_conv_hf_ini_sinus&cosinus.png')\n",
    "tikzplotlib.save(\"lww_obs_conv_hf_ini_sinus&cosinus.tex\")\n",
    "plt.show()"
   ]
  },
  {
   "cell_type": "code",
   "execution_count": 30,
   "metadata": {},
   "outputs": [
    {
     "data": {
      "image/png": "[encoded data removed]",
      "text/plain": [
       "<Figure size 1500x500 with 2 Axes>"
      ]
     },
     "metadata": {},
     "output_type": "display_data"
    }
   ],
   "source": [
    "steps = tspan.shape[0]//30\n",
    "\n",
    "gs = gridspec.GridSpec(1, 2)\n",
    "fig = plt.figure(figsize=(15,5))\n",
    "\n",
    "ax1 = fig.add_subplot(gs[0, 0]) # row 0, col 0\n",
    "ax1.semilogy(tspan[::steps],np.linalg.norm(np.kron(np.eye(2),Pi_lf) @ fX_sol_EE_fA_mix[0:,::steps],2,axis=0),'-s',label=r\"solution w\\ proj\")\n",
    "ax1.semilogy(tspan[::steps],np.linalg.norm(np.kron(np.eye(2),Pi_lf) @ fX_sol_EE_fA_mod_nm_mix[0:,::steps],2,axis=0),'-x',label=r\"solution w/ proj $\\Pi_{\\perp 0}$\")\n",
    "ax1.semilogy(tspan[::steps],np.linalg.norm(np.kron(np.eye(2),Pi_lf) @ fX_sol_EE_fA_mod_lf_mix[0:,::steps],2,axis=0),'-o',label=r\"solution w/ proj $\\Pi_{\\perp 0}\\cdot\\Pi_{LF}$\")\n",
    "ax1.set_ylim([1e-20,1e1])\n",
    "#ax1.set_title(r'convergence des basse frequences, condition initiale : cosinus + sinus')\n",
    "ax1.grid()\n",
    "#ax1.legend()\n",
    "ax1.set_xlabel(r'time $T$')\n",
    "ax1.set_ylabel(r'L2 norm of solution')\n",
    "\n",
    "ax2 = fig.add_subplot(gs[0, 1]) # row 0, col 0\n",
    "ax2.semilogy(tspan[::steps],np.linalg.norm(np.kron(np.eye(2),Pi_hf) @ fX_sol_EE_fA_mix[0:,::steps],2,axis=0),'-s',label=r\"solution w\\ proj\")\n",
    "ax2.semilogy(tspan[::steps],np.linalg.norm(np.kron(np.eye(2),Pi_hf) @ fX_sol_EE_fA_mod_nm_mix[0:,::steps],2,axis=0),'-x',label=r\"solution w/ proj $\\Pi_{\\perp 0}$\")\n",
    "ax2.semilogy(tspan[::steps],np.linalg.norm(np.kron(np.eye(2),Pi_hf) @ fX_sol_EE_fA_mod_lf_mix[0:,::steps],2,axis=0),'-o',label=r\"solution w/ proj $\\Pi_{\\perp 0}\\cdot\\Pi_{LF}$\")\n",
    "ax2.set_ylim([1e-20,1e1])\n",
    "#ax2.set_title(r'convergence des hautes frequences, condition initiale : cosinus + sinus')\n",
    "ax2.grid()\n",
    "#ax2.legend()\n",
    "ax2.set_xlabel(r'time $T$')\n",
    "ax2.set_ylabel(r'L2 norm of solution')\n",
    "\n",
    "tikzplotlib.save(\"lww_obs_conv_lf_hf_ini_sinus&cosinus.tex\")\n"
   ]
  },
  {
   "cell_type": "markdown",
   "metadata": {},
   "source": [
    "### Code"
   ]
  },
  {
   "cell_type": "code",
   "execution_count": 31,
   "metadata": {},
   "outputs": [
    {
     "data": {
      "image/png": "[encoded data removed]",
      "text/plain": [
       "<Figure size 640x480 with 1 Axes>"
      ]
     },
     "metadata": {},
     "output_type": "display_data"
    }
   ],
   "source": [
    "steps = tspan.shape[0]//30\n",
    "plt.semilogy(tspan[::steps],np.linalg.norm(fX_sol_EE_fA_mix[0:,::steps],2,axis=0),'-s',label=r\"solution error equation\")\n",
    "#plt.semilogy(tspan[::steps],np.linalg.norm(fX_sol_EE_fA_mod_nm_mix[0:,::steps],2,axis=0),'-d',label=r\"solution w/ proj $\\Pi_{\\perp 0}$\")\n",
    "#plt.semilogy(tspan[::steps],np.linalg.norm(fX_sol_EE_fA_mod_lf_mix[0:,::steps],2,axis=0),'-o',label=r\"solution w/ proj $\\Pi_{\\perp 0}\\cdot\\Pi_{LF}$\")\n",
    "#plt.semilogy(tspan[::steps],np.exp(conv_fact_fA_mod_lf*tspan[::steps]),'-',label=r\"theoritical convergence rate\")\n",
    "#plt.semilogy(tspan[::steps],10*np.exp(conv_fact_fA*tspan[::steps]),'-',label=r\"rate given by $\\exp(t\\cdot\\max(\\mathcal{R}e(\\sigma(A-\\widetilde{B}'))))$\")\n",
    "plt.ylim([1e-20,1e1])\n",
    "#plt.title(r'convergence, condition initiale : cosinus + sin')\n",
    "plt.grid()\n",
    "plt.legend(loc='center left', bbox_to_anchor=(1.05, 0.5))\n",
    "plt.xlabel(r'time $t$')\n",
    "plt.ylabel(r'L2 norm of solution')\n",
    "plt.savefig(\"figures_png/prez_lww_obs_conv_ini_sinus&cosinus_basic.png\")\n",
    "#tikzplotlib.save(\"figures_tex/lww_obs_conv_ini_sinus&cosinus.tex\")\n",
    "plt.show()"
   ]
  },
  {
   "cell_type": "code",
   "execution_count": 30,
   "metadata": {},
   "outputs": [
    {
     "data": {
      "image/png": "[encoded data removed]",
      "text/plain": [
       "<Figure size 640x480 with 1 Axes>"
      ]
     },
     "metadata": {},
     "output_type": "display_data"
    }
   ],
   "source": [
    "steps = tspan.shape[0]//30\n",
    "plt.semilogy(tspan[::steps],np.linalg.norm(fX_sol_EE_fA_mix[0:,::steps],2,axis=0),'-s',label=r\"solution error equation\")\n",
    "plt.semilogy(tspan[::steps],np.linalg.norm(fX_sol_EE_fA_mod_nm_mix[0:,::steps],2,axis=0),'-d',label=r\"solution w/ proj $\\Pi_{\\perp 0}$\")\n",
    "#plt.semilogy(tspan[::steps],np.linalg.norm(fX_sol_EE_fA_mod_lf_mix[0:,::steps],2,axis=0),'-o',label=r\"solution w/ proj $\\Pi_{\\perp 0}\\cdot\\Pi_{LF}$\")\n",
    "#plt.semilogy(tspan[::steps],np.exp(conv_fact_fA_mod_lf*tspan[::steps]),'-',label=r\"theoritical convergence rate\")\n",
    "#plt.semilogy(tspan[::steps],10*np.exp(conv_fact_fA*tspan[::steps]),'-',label=r\"rate given by $\\exp(t\\cdot\\max(\\mathcal{R}e(\\sigma(A-\\widetilde{B}'))))$\")\n",
    "plt.ylim([1e-20,1e1])\n",
    "#plt.title(r'convergence, condition initiale : cosinus + sin')\n",
    "plt.grid()\n",
    "plt.legend(loc='center left', bbox_to_anchor=(1.05, 0.5))\n",
    "plt.xlabel(r'time $t$')\n",
    "plt.ylabel(r'L2 norm of solution')\n",
    "plt.savefig(\"figures_png/prez_lww_obs_conv_ini_sinus&cosinus_no_mean.png\")\n",
    "#tikzplotlib.save(\"figures_tex/lww_obs_conv_ini_sinus&cosinus.tex\")\n",
    "plt.show()"
   ]
  },
  {
   "cell_type": "code",
   "execution_count": 33,
   "metadata": {},
   "outputs": [
    {
     "data": {
      "image/png": "[encoded data removed]",
      "text/plain": [
       "<Figure size 640x480 with 1 Axes>"
      ]
     },
     "metadata": {},
     "output_type": "display_data"
    }
   ],
   "source": [
    "steps = tspan.shape[0]//30\n",
    "plt.semilogy(tspan[::steps],np.linalg.norm(fX_sol_EE_fA_mix[0:,::steps],2,axis=0),'-s',label=r\"solution error equation\")\n",
    "plt.semilogy(tspan[::steps],np.linalg.norm(fX_sol_EE_fA_mod_nm_mix[0:,::steps],2,axis=0),'-d',label=r\"solution w/ proj $\\Pi_{\\perp 0}$\")\n",
    "plt.semilogy(tspan[::steps],np.linalg.norm(fX_sol_EE_fA_mod_lf_mix[0:,::steps],2,axis=0),'-o',label=r\"solution w/ proj $\\Pi_{\\perp 0}\\cdot\\Pi_{LF}$\")\n",
    "#plt.semilogy(tspan[::steps],np.exp(conv_fact_fA_mod_lf*tspan[::steps]),'-',label=r\"theoritical convergence rate\")\n",
    "plt.semilogy(tspan[::steps],10*np.exp(conv_fact_fA*tspan[::steps]),'-',label=r\"rate given by $\\exp(t\\cdot\\max(\\mathcal{R}e(\\sigma(M))))$\")\n",
    "plt.ylim([1e-20,1e1])\n",
    "#plt.title(r'convergence, condition initiale : cosinus + sin')\n",
    "plt.grid()\n",
    "plt.legend(loc='center left', bbox_to_anchor=(1.05, 0.5))\n",
    "plt.xlabel(r'time $t$')\n",
    "plt.ylabel(r'L2 norm of solution')\n",
    "plt.savefig(\"figures_png/prez_lww_obs_conv_ini_sinus&cosinus_no_mean_no_hf.png\")\n",
    "#tikzplotlib.save(\"figures_tex/lww_obs_conv_ini_sinus&cosinus.tex\")\n",
    "plt.show()"
   ]
  },
  {
   "cell_type": "markdown",
   "metadata": {},
   "source": [
    "## Valeurs propres et convergences"
   ]
  },
  {
   "cell_type": "code",
   "execution_count": 70,
   "metadata": {},
   "outputs": [],
   "source": [
    "Nff = 2"
   ]
  },
  {
   "cell_type": "code",
   "execution_count": 79,
   "metadata": {},
   "outputs": [],
   "source": [
    "ffC = -((a * np.exp((-1j * np.pi) * (frequences.reshape(-1, 1) - frequences))) / np.pi) * np.sinc(a * (frequences.reshape(-1, 1) - frequences) / np.pi)"
   ]
  },
  {
   "cell_type": "code",
   "execution_count": 83,
   "metadata": {},
   "outputs": [
    {
     "data": {
      "text/plain": [
       "2.145794731967043e-14"
      ]
     },
     "execution_count": 83,
     "metadata": {},
     "output_type": "execute_result"
    }
   ],
   "source": [
    "np.linalg.norm(np.imag(ffC))"
   ]
  },
  {
   "cell_type": "code",
   "execution_count": 84,
   "metadata": {},
   "outputs": [
    {
     "data": {
      "text/plain": [
       "(-1-1.2246467991473532e-16j)"
      ]
     },
     "execution_count": 84,
     "metadata": {},
     "output_type": "execute_result"
    }
   ],
   "source": [
    "fffC = -((a * np.exp((-1j * np.pi) * (frequences.reshape(-1, 1) - frequences))) / np.pi) * np.sinc(a * (frequences.reshape(-1, 1) - frequences) / np.pi)"
   ]
  },
  {
   "cell_type": "code",
   "execution_count": 119,
   "metadata": {},
   "outputs": [
    {
     "name": "stdout",
     "output_type": "stream",
     "text": [
      "3.608756581090733e-16\n",
      "0.0\n"
     ]
    }
   ],
   "source": [
    "eigenval_fC, _ = np.linalg.eig(fC)\n",
    "eigenval_Pi_lf_fC, _ = np.linalg.eig(Pi_lf @ fC)\n",
    "print(np.linalg.norm(np.imag(eigenval_fC)))\n",
    "print(np.linalg.norm(np.imag(eigenval_Pi_lf_fC)))"
   ]
  },
  {
   "cell_type": "code",
   "execution_count": 121,
   "metadata": {},
   "outputs": [
    {
     "data": {
      "text/plain": [
       "array([5.69775306e-01, 5.44731541e-02, 9.71721323e-01, 2.28138028e-01,\n",
       "       8.60355808e-01, 1.21803648e-03, 9.09575239e-03, 9.99486417e-01,\n",
       "       9.95782511e-01, 1.39688712e-05, 1.39309779e-04, 9.99995237e-01,\n",
       "       9.99946796e-01, 1.24459920e-06, 9.93855968e-08, 9.99999629e-01,\n",
       "       9.99999975e-01, 1.00000000e+00, 9.99999999e-01, 1.00000000e+00,\n",
       "       1.00000000e+00, 1.00000000e+00, 1.00000000e+00, 1.00000000e+00,\n",
       "       1.00000000e+00, 1.00000000e+00, 1.00000000e+00, 7.15718592e-09,\n",
       "       4.67033171e-10, 2.77179096e-11, 1.50064872e-12, 7.41991965e-14,\n",
       "       3.39075154e-15, 4.10203269e-16, 3.32562869e-16, 1.73008590e-16,\n",
       "       1.14638243e-16, 1.14638243e-16, 1.07194623e-17, 1.00000000e+00,\n",
       "       1.00000000e+00, 2.58852926e-16, 3.24643844e-16, 2.15018365e-16,\n",
       "       2.15018365e-16, 2.13325351e-16, 2.13325351e-16, 1.16456442e-16,\n",
       "       1.16456442e-16, 1.90813187e-16, 1.64691190e-16, 1.64691190e-16,\n",
       "       1.40799118e-16, 1.40799118e-16, 1.21824513e-16, 1.04902251e-16,\n",
       "       1.21892455e-16, 1.21892455e-16, 2.41083137e-17, 2.41083137e-17,\n",
       "       6.36824963e-17, 6.36824963e-17, 3.90777515e-17, 7.44874766e-17,\n",
       "       1.58347540e-17])"
      ]
     },
     "execution_count": 121,
     "metadata": {},
     "output_type": "execute_result"
    }
   ],
   "source": [
    "np.real(eigenval_fC)"
   ]
  },
  {
   "cell_type": "code",
   "execution_count": 135,
   "metadata": {},
   "outputs": [
    {
     "data": {
      "text/plain": [
       "array([-0.66137059, -0.54891111, -0.00321392, -0.05974393,  0.        ,\n",
       "        0.        ,  0.        ,  0.        ,  0.        ,  0.        ,\n",
       "        0.        ,  0.        ,  0.        ,  0.        ,  0.        ,\n",
       "        0.        ,  0.        ,  0.        ,  0.        ,  0.        ,\n",
       "        0.        ,  0.        ,  0.        ,  0.        ,  0.        ,\n",
       "        0.        ,  0.        ,  0.        ,  0.        ,  0.        ,\n",
       "        0.        ,  0.        ,  0.        ,  0.        ,  0.        ,\n",
       "        0.        ,  0.        ,  0.        ,  0.        ,  0.        ,\n",
       "        0.        ,  0.        ,  0.        ,  0.        ,  0.        ,\n",
       "        0.        ,  0.        ,  0.        ,  0.        ,  0.        ,\n",
       "        0.        ,  0.        ,  0.        ,  0.        ,  0.        ,\n",
       "        0.        ,  0.        ,  0.        ,  0.        ,  0.        ,\n",
       "        0.        ,  0.        ,  0.        ,  0.        ,  0.        ])"
      ]
     },
     "execution_count": 135,
     "metadata": {},
     "output_type": "execute_result"
    }
   ],
   "source": [
    "np.real(eigenval_Pi_lf_fC)"
   ]
  },
  {
   "cell_type": "code",
   "execution_count": 124,
   "metadata": {},
   "outputs": [
    {
     "data": {
      "text/plain": [
       "[<matplotlib.lines.Line2D at 0x164485050>]"
      ]
     },
     "execution_count": 124,
     "metadata": {},
     "output_type": "execute_result"
    },
    {
     "data": {
      "image/png": "[encoded data removed]",
      "text/plain": [
       "<Figure size 640x480 with 1 Axes>"
      ]
     },
     "metadata": {},
     "output_type": "display_data"
    }
   ],
   "source": [
    "plt.plot(np.real(eigenval_fC),np.imag(eigenval_fC),'o')\n",
    "plt.plot(np.real(eigenval_Pi_lf_fC),np.imag(eigenval_Pi_lf_fC),'x')"
   ]
  },
  {
   "cell_type": "code",
   "execution_count": 141,
   "metadata": {},
   "outputs": [],
   "source": [
    "frequences_lf = np.array([0,1,2,-2,-1])\n",
    "ffC = np.real(-((a * np.exp((-1j * np.pi) * (frequences_lf.reshape(-1, 1) - frequences_lf))) / np.pi) * np.sinc(a * (frequences_lf.reshape(-1, 1) - frequences_lf) / np.pi))\n",
    "frequences_lf_nm = np.array([1,2,-2,-1])\n",
    "fffC = np.real(-((a * np.exp((-1j * np.pi) * (frequences_lf_nm.reshape(-1, 1) - frequences_lf_nm))) / np.pi) * np.sinc(a * (frequences_lf_nm.reshape(-1, 1) - frequences_lf_nm) / np.pi))"
   ]
  },
  {
   "cell_type": "code",
   "execution_count": 142,
   "metadata": {},
   "outputs": [],
   "source": [
    "PiPi_nm = np.diag(np.concatenate((np.zeros(1),np.ones(5-1))))\n",
    "eigenval_ffC,_ = np.linalg.eig(PiPi_nm @ ffC)\n",
    "eigenval_fffC,_ = np.linalg.eig(fffC)"
   ]
  },
  {
   "cell_type": "code",
   "execution_count": 143,
   "metadata": {},
   "outputs": [
    {
     "data": {
      "text/plain": [
       "array([0., 0., 0., 0.])"
      ]
     },
     "execution_count": 143,
     "metadata": {},
     "output_type": "execute_result"
    }
   ],
   "source": [
    "eigenval_ffC[0:4] - np.real(eigenval_Pi_lf_fC)[0:4]"
   ]
  },
  {
   "cell_type": "code",
   "execution_count": 146,
   "metadata": {},
   "outputs": [
    {
     "data": {
      "text/plain": [
       "array([ 4.44089210e-16,  2.22044605e-16, -4.72712147e-17, -6.93889390e-18])"
      ]
     },
     "execution_count": 146,
     "metadata": {},
     "output_type": "execute_result"
    }
   ],
   "source": [
    "np.real(eigenval_Pi_lf_fC)[0:4] - eigenval_fffC"
   ]
  },
  {
   "cell_type": "code",
   "execution_count": 57,
   "metadata": {},
   "outputs": [
    {
     "data": {
      "text/plain": [
       "array([0.78817831])"
      ]
     },
     "execution_count": 57,
     "metadata": {},
     "output_type": "execute_result"
    }
   ],
   "source": [
    "np.random.rand(1)"
   ]
  },
  {
   "cell_type": "code",
   "execution_count": null,
   "metadata": {},
   "outputs": [],
   "source": []
  }
 ],
 "metadata": {
  "kernelspec": {
   "display_name": "base",
   "language": "python",
   "name": "python3"
  },
  "language_info": {
   "codemirror_mode": {
    "name": "ipython",
    "version": 3
   },
   "file_extension": ".py",
   "mimetype": "text/x-python",
   "name": "python",
   "nbconvert_exporter": "python",
   "pygments_lexer": "ipython3",
   "version": "3.11.0"
  },
  "orig_nbformat": 4
 },
 "nbformat": 4,
 "nbformat_minor": 2
}
